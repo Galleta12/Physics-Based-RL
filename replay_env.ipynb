{
 "cells": [
  {
   "cell_type": "code",
   "execution_count": 1,
   "metadata": {},
   "outputs": [],
   "source": [
    "from datetime import datetime\n",
    "import functools\n",
    "from IPython.display import HTML\n",
    "import jax\n",
    "from jax import numpy as jp\n",
    "import numpy as np\n",
    "from typing import Any, Dict, Sequence, Tuple, Union\n",
    "from brax import base\n",
    "from brax import envs\n",
    "from brax import math\n",
    "from brax.base import Base, Motion, Transform\n",
    "from brax.envs.base import Env, PipelineEnv, State\n",
    "from brax.mjx.base import State as MjxState\n",
    "from brax.training.agents.apg import train as apg\n",
    "from brax.training.agents.apg import networks as apg_networks\n",
    "from brax.io import html, mjcf, model\n",
    "from etils import epath\n",
    "from flax import struct\n",
    "from matplotlib import pyplot as plt\n",
    "import mediapy as media\n",
    "from ml_collections import config_dict\n",
    "import mujoco\n",
    "from mujoco import mjx\n",
    "from jax import vmap\n",
    "import jax.random\n",
    "from jax import lax"
   ]
  },
  {
   "cell_type": "code",
   "execution_count": 2,
   "metadata": {},
   "outputs": [],
   "source": [
    "from utils.SimpleConverter import SimpleConverter\n",
    "from agent_mimic_env.agent_template import HumanoidTemplate\n",
    "from agent_mimic_env.agent_eval_template import HumanoidEvalTemplate\n",
    "from agent_mimic_env.agent_test_apg import HumanoidAPGTest\n",
    "from utils.util_data import *\n",
    "from copy import deepcopy"
   ]
  },
  {
   "cell_type": "code",
   "execution_count": 3,
   "metadata": {},
   "outputs": [],
   "source": [
    "import agent_mimic_env\n",
    "from agent_mimic_env import register_mimic_env\n"
   ]
  },
  {
   "cell_type": "code",
   "execution_count": 4,
   "metadata": {},
   "outputs": [
    {
     "name": "stdout",
     "output_type": "stream",
     "text": [
      "Setting environment variable to use GPU rendering:\n",
      "env: MUJOCO_GL=egl\n"
     ]
    }
   ],
   "source": [
    "\n",
    "import distutils.util\n",
    "import os\n",
    "xla_flags = os.environ.get('XLA_FLAGS', '')\n",
    "xla_flags += ' --xla_gpu_triton_gemm_any=True'\n",
    "os.environ['XLA_FLAGS'] = xla_flags\n",
    "print('Setting environment variable to use GPU rendering:')\n",
    "%env MUJOCO_GL=egl"
   ]
  },
  {
   "cell_type": "code",
   "execution_count": 5,
   "metadata": {},
   "outputs": [],
   "source": [
    "import os\n",
    "os.environ[\"XLA_PYTHON_CLIENT_MEM_FRACTION\"] = \"0.8\" # 0.9 causes too much lag. \n",
    "from datetime import datetime\n",
    "import functools\n",
    "\n",
    "# Math\n",
    "import jax.numpy as jp\n",
    "import numpy as np\n",
    "import jax\n",
    "from jax import config # Analytical gradients work much better with double precision.\n",
    "config.update(\"jax_debug_nans\", True)\n",
    "config.update(\"jax_enable_x64\", True)\n",
    "config.update('jax_default_matmul_precision', jax.lax.Precision.HIGH)\n",
    "from brax import math\n",
    "\n",
    "# Sim\n",
    "import mujoco\n",
    "import mujoco.mjx as mjx\n",
    "\n",
    "# Brax\n",
    "from brax import envs\n",
    "from brax.base import Motion, Transform\n",
    "from brax.io import mjcf\n",
    "from brax.envs.base import PipelineEnv, State\n",
    "from brax.mjx.pipeline import _reformat_contact\n",
    "from brax.training.acme import running_statistics\n",
    "from brax.io import model\n",
    "\n",
    "# Algorithms\n",
    "# from brax.training.agents.apg import train as apg\n",
    "# from brax.training.agents.apg import networks as apg_networks\n",
    "from brax.training.agents.ppo import train as ppo\n",
    "\n",
    "# Supporting\n",
    "from etils import epath\n",
    "import mediapy as media\n",
    "import matplotlib.pyplot as plt\n",
    "from ml_collections import config_dict\n",
    "from typing import Any, Dict"
   ]
  },
  {
   "cell_type": "code",
   "execution_count": 6,
   "metadata": {},
   "outputs": [
    {
     "name": "stdout",
     "output_type": "stream",
     "text": [
      "gpu\n"
     ]
    }
   ],
   "source": [
    "from jax.lib import xla_bridge\n",
    "print(xla_bridge.get_backend().platform)"
   ]
  },
  {
   "cell_type": "code",
   "execution_count": 7,
   "metadata": {},
   "outputs": [],
   "source": [
    "import yaml\n",
    "from box import Box\n",
    "# Path to your YAML file\n",
    "yaml_file_path = 'config_params/punch2.yaml'\n",
    "# Load the YAML file\n",
    "with open(yaml_file_path, 'r') as file:\n",
    "    args = Box(yaml.safe_load(file))"
   ]
  },
  {
   "cell_type": "code",
   "execution_count": 8,
   "metadata": {},
   "outputs": [
    {
     "name": "stdout",
     "output_type": "stream",
     "text": [
      "{'num_envs': 256, 'num_eval_envs': 32, 'lr': 0.0003, 'max_it': 1000, 'max_grad_norm': 0.4, 'seed': 0, 'system_config': 'humanoid', 'demo_replay_mode': 'threshold', 'threshold': 0.4, 'normalize_observations': True, 'cycle_len': 130, 'ep_len': 65, 'ep_len_eval': 54, 'use_lr_scheduler': True, 'reward_scaling': 0.02, 'rot_weight': 0.5, 'vel_weight': 0.01, 'ang_weight': 0.01, 'deep_mimic_reward_weights': {'w_p': 0.3, 'w_v': 0.1, 'w_e': 0.5, 'w_c': 0.1}, 'deep_mimic_weights_factors': {'w_pose': 2, 'w_angular': 0.005, 'w_efector': 5, 'w_com': 100}, 'model': 'models/final_humanoid2.xml', 'ref': 'motions/humanoid3d_punch_duplicated.txt'}\n"
     ]
    }
   ],
   "source": [
    "print(args)"
   ]
  },
  {
   "cell_type": "code",
   "execution_count": 9,
   "metadata": {},
   "outputs": [
    {
     "data": {
      "text/plain": [
       "0.3"
      ]
     },
     "execution_count": 9,
     "metadata": {},
     "output_type": "execute_result"
    }
   ],
   "source": [
    "args.deep_mimic_reward_weights.w_p"
   ]
  },
  {
   "cell_type": "code",
   "execution_count": 10,
   "metadata": {},
   "outputs": [],
   "source": [
    "from agent_mimic_env.pds_controllers_agents import feedback_pd_controller, stable_pd_controller_action\n"
   ]
  },
  {
   "cell_type": "code",
   "execution_count": 11,
   "metadata": {},
   "outputs": [
    {
     "name": "stdout",
     "output_type": "stream",
     "text": [
      "this is the model:  models/final_humanoid2.xml\n",
      "this is the model:  models/final_humanoid2.xml\n",
      "this is the model:  models/final_humanoid2.xml\n",
      "this is the model:  models/final_humanoid2.xml\n"
     ]
    }
   ],
   "source": [
    "env_replay,env_eval,env,env_apg=register_mimic_env(args)\n",
    "\n",
    "\n",
    "\n",
    "#for the replay\n",
    "jit_reset_replay = jax.jit(env_replay.reset)\n",
    "jit_step_replay= jax.jit(env_replay.step)\n",
    "\n",
    "\n"
   ]
  },
  {
   "cell_type": "code",
   "execution_count": 12,
   "metadata": {},
   "outputs": [
    {
     "data": {
      "text/plain": [
       "Option(timestep=0.002, impratio=Array(100., dtype=float64, weak_type=True), tolerance=Array(1.e-08, dtype=float64, weak_type=True), ls_tolerance=Array(0.01, dtype=float64, weak_type=True), gravity=Array([ 0.  ,  0.  , -9.81], dtype=float64), wind=Array([0., 0., 0.], dtype=float64), density=Array(0., dtype=float64, weak_type=True), viscosity=Array(0., dtype=float64, weak_type=True), has_fluid_params=False, integrator=<IntegratorType.EULER: 0>, cone=<ConeType.PYRAMIDAL: 0>, jacobian=<JacobianType.AUTO: 2>, solver=<SolverType.NEWTON: 2>, iterations=1, ls_iterations=4, disableflags=<DisableBit.EULERDAMP: 16384>)"
      ]
     },
     "execution_count": 12,
     "metadata": {},
     "output_type": "execute_result"
    }
   ],
   "source": [
    "env_replay.sys.opt"
   ]
  },
  {
   "cell_type": "code",
   "execution_count": 13,
   "metadata": {},
   "outputs": [
    {
     "name": "stdout",
     "output_type": "stream",
     "text": [
      "0.002\n",
      "0.02\n"
     ]
    }
   ],
   "source": [
    "print(env_replay.sys.opt.timestep)\n",
    "print(env_replay.dt)"
   ]
  },
  {
   "cell_type": "code",
   "execution_count": 14,
   "metadata": {},
   "outputs": [
    {
     "name": "stdout",
     "output_type": "stream",
     "text": [
      "65\n",
      "130\n",
      "0.5\n",
      "0.01\n",
      "0.01\n",
      "0.02\n",
      "0.02\n"
     ]
    }
   ],
   "source": [
    "\n",
    "print(env_replay.rollout_lenght)\n",
    "print(env_replay.cycle_len)\n",
    "print(env_replay.rot_weight)\n",
    "print(env_replay.vel_weight)\n",
    "print(env_replay.ang_weight)\n",
    "print(env_replay.reward_scaling)\n",
    "print(env_replay.dt)\n"
   ]
  },
  {
   "cell_type": "code",
   "execution_count": 15,
   "metadata": {},
   "outputs": [],
   "source": [
    "# initialize the state\n",
    "\n",
    "#for the replay\n",
    "state = jit_reset_replay(jax.random.PRNGKey(2))\n",
    "rollout = [state.pipeline_state]\n",
    "\n",
    "\n",
    "\n",
    "# grab a 500 steps\n",
    "n_steps = 500"
   ]
  },
  {
   "cell_type": "code",
   "execution_count": 16,
   "metadata": {},
   "outputs": [
    {
     "name": "stdout",
     "output_type": "stream",
     "text": [
      "{'fall': Array(0., dtype=float64), 'min_reference_tracking': Array(0., dtype=float64, weak_type=True), 'pose_error': Array(0., dtype=float64), 'reference_angular': Array(0., dtype=float64, weak_type=True), 'reference_position': Array(0., dtype=float64, weak_type=True), 'reference_rotation': Array(0., dtype=float64, weak_type=True), 'reference_velocity': Array(0., dtype=float64, weak_type=True), 'step_index': Array(60., dtype=float64)}\n",
      "{'default_pos': Array([ 1.18543717,  1.27664797,  0.790196  ,  0.97201826, -0.01898119,\n",
      "        0.04365162,  0.23003207, -0.09011222,  0.31782795, -0.04773092,\n",
      "        0.26030649, -0.12344302, -0.44215609, -0.37697787,  0.02596283,\n",
      "       -0.18623492,  2.13618706,  0.73544372,  0.36881986, -0.80315166,\n",
      "        1.98275626,  0.03526071, -0.59545573, -0.01541848, -1.10715834,\n",
      "       -0.05758162, -0.31225456, -0.07258391,  0.39222261, -0.63284242,\n",
      "        0.19183088, -1.16367734,  0.15139849,  0.08802346,  0.13914152],      dtype=float64), 'kinematic_ref': Array([ 1.18543717,  1.27664797,  0.790196  ,  0.97201826, -0.01898119,\n",
      "        0.04365162,  0.23003207, -0.09011222,  0.31782795, -0.04773092,\n",
      "        0.26030649, -0.12344302, -0.44215609, -0.37697787,  0.02596283,\n",
      "       -0.18623492,  2.13618706,  0.73544372,  0.36881986, -0.80315166,\n",
      "        1.98275626,  0.03526071, -0.59545573, -0.01541848, -1.10715834,\n",
      "       -0.05758162, -0.31225456, -0.07258391,  0.39222261, -0.63284242,\n",
      "        0.19183088, -1.16367734,  0.15139849,  0.08802346,  0.13914152],      dtype=float64), 'last_action': Array([0., 0., 0., 0., 0., 0., 0., 0., 0., 0., 0., 0., 0., 0., 0., 0., 0.,\n",
      "       0., 0., 0., 0., 0., 0., 0., 0., 0., 0., 0.], dtype=float64), 'reward_tuple': {'min_reference_tracking': Array(0., dtype=float64, weak_type=True), 'reference_angular': Array(0., dtype=float64, weak_type=True), 'reference_position': Array(0., dtype=float64, weak_type=True), 'reference_rotation': Array(0., dtype=float64, weak_type=True), 'reference_velocity': Array(0., dtype=float64, weak_type=True)}, 'rng': Array([0, 2], dtype=uint32), 'steps': Array(0., dtype=float64, weak_type=True)}\n"
     ]
    }
   ],
   "source": [
    "print(state.metrics)\n",
    "print(state.info)"
   ]
  },
  {
   "cell_type": "code",
   "execution_count": 17,
   "metadata": {},
   "outputs": [
    {
     "name": "stdout",
     "output_type": "stream",
     "text": [
      "Is rewards -1.200448430666863e-33\n",
      "Is rewards -1.9230522531977358e-33\n",
      "Is rewards -0.0\n",
      "Is rewards -0.0\n",
      "Is rewards -0.0\n",
      "Is rewards -0.0\n",
      "Is rewards -0.0\n",
      "Is rewards -0.0\n",
      "Is rewards -0.0\n",
      "Is rewards -0.0\n",
      "Is rewards -0.0\n",
      "Is rewards -0.0\n",
      "Is rewards -0.0\n",
      "Is rewards -0.0\n",
      "Is rewards -0.0\n",
      "Is rewards -0.0\n",
      "Is rewards -0.0\n",
      "Is rewards -0.0\n",
      "Is rewards -0.0\n",
      "Is rewards -0.0\n",
      "Is rewards -0.0\n",
      "Is rewards -0.0\n",
      "Is rewards -0.0\n",
      "Is rewards -2.941966508796446e-33\n",
      "Is rewards -0.0\n",
      "Is rewards -7.112499377298309e-33\n",
      "Is rewards -0.0\n",
      "Is rewards -0.0\n",
      "Is rewards -0.0\n",
      "Is rewards -0.0\n",
      "Is rewards -0.0\n",
      "Is rewards -0.0\n",
      "Is rewards -0.0\n",
      "Is rewards -0.0\n",
      "Is rewards -0.0\n",
      "Is rewards -0.0\n",
      "Is rewards -0.0\n",
      "Is rewards -0.0\n",
      "Is rewards -0.0\n",
      "Is rewards -0.0\n",
      "Is rewards -0.0\n",
      "Is rewards -0.0\n",
      "Is rewards -3.154504961518123e-33\n",
      "Is rewards -0.0\n",
      "Is rewards -0.0\n",
      "Is rewards -0.0\n",
      "Is rewards -0.0\n",
      "Is rewards -0.0\n",
      "Is rewards -0.0\n",
      "Is rewards -3.410656583942575e-33\n",
      "Is rewards -0.0\n",
      "Is rewards -0.0\n",
      "Is rewards -0.0\n",
      "Is rewards -0.0\n",
      "Is rewards -0.0\n",
      "Is rewards -0.0\n",
      "Is rewards -0.0\n",
      "Is rewards -0.0\n",
      "Is rewards -0.0\n",
      "Is rewards -0.0\n",
      "Is rewards -2.677320126170789e-33\n",
      "Is rewards -0.0\n",
      "Is rewards -0.0\n",
      "Is rewards -2.453870675567526e-33\n"
     ]
    }
   ],
   "source": [
    "for i in range(env_replay.rollout_lenght-1):\n",
    "    \n",
    "    #print(i)\n",
    " \n",
    "    ctrl = -0.1 * jp.ones(env_replay.sys.nu)\n",
    "   \n",
    "  \n",
    "         \n",
    "    state = jit_step_replay(state, ctrl)\n",
    "  \n",
    "    \n",
    "    #print(state.pipeline_state.geom_xpos)\n",
    "    #if state.done:\n",
    "     #   print(time)\n",
    "      #  break\n",
    "    #print(\"Is done\", state.done)\n",
    "    print(\"Is rewards\", state.reward)\n",
    "    #print('is step', state.metrics['step_index'])\n",
    "    #print(\"reward tuple\", state.info['reward_tuple'])\n",
    "    #print(\"Is \", state.metrics['pose_error'])\n",
    "    #print(\"Is \", state.metrics['reference_angular'])\n",
    "    #print(\"Is \", state.metrics['min_reference_tracking'])\n",
    "    \n",
    "    rollout.append(state.pipeline_state)"
   ]
  },
  {
   "cell_type": "code",
   "execution_count": 18,
   "metadata": {},
   "outputs": [],
   "source": [
    "from some_math.quaternion_diff import *"
   ]
  },
  {
   "cell_type": "code",
   "execution_count": 19,
   "metadata": {},
   "outputs": [
    {
     "data": {
      "text/html": [
       "<!DOCTYPE html>\n",
       "<html>\n",
       "\n",
       "  <head>\n",
       "    <title>Brax visualizer</title>\n",
       "    <link rel=\"shortcut icon\" type=\"image/x-icon\" href=\"/favicon.ico\">\n",
       "  </head>\n",
       "\n",
       "  <style>\n",
       "    body {\n",
       "      margin: 0;\n",
       "      padding: 0;\n",
       "    }\n",
       "\n",
       "    #brax-viewer {\n",
       "      height: 480px;\n",
       "      margin: 0;\n",
       "      padding: 0;\n",
       "    }\n",
       "  </style>\n",
       "  <script async src=\"https://unpkg.com/es-module-shims@1.6.3/dist/es-module-shims.js\"></script>\n",
       "\n",
       "  <script type=\"importmap\">\n",
       "    {\n",
       "      \"imports\": {\n",
       "        \"three\": \"https://unpkg.com/three@0.150.1/build/three.module.js\",\n",
       "        \"three/addons/\": \"https://unpkg.com/three@0.150.1/examples/jsm/\",\n",
       "        \"lilgui\": \"https://cdn.jsdelivr.net/npm/lil-gui@0.18.0/+esm\",\n",
       "        \"viewer\": \"https://cdn.jsdelivr.net/gh/google/brax@v0.10.5/brax/visualizer/js/viewer.js\"\n",
       "      }\n",
       "    }\n",
       "  </script>\n",
       "\n",
       "  <script src=\"https://unpkg.com/pako@2.1.0/dist/pako.min.js\"></script>\n",
       "\n",
       "  <script type=\"application/javascript\">\n",
       "  var system = \"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\";\n",
       "  // decode base64 (convert ascii to binary)\n",
       "  system = atob(system);\n",
       "  // convert binary string to character-number array\n",
       "  system = system.split('').map(function(x){return x.charCodeAt(0);});\n",
       "  // decompress\n",
       "  system = pako.inflate(system);\n",
       "  // convert gunzipped byteArray back to ascii string\n",
       "  system = new TextDecoder(\"utf-8\").decode(system);\n",
       "  // and load json\n",
       "  system = JSON.parse(system);\n",
       "  </script>\n",
       "\n",
       "  <body>\n",
       "\n",
       "    <div id=\"brax-viewer\"></div>\n",
       "\n",
       "    <script type=\"module\">\n",
       "      import {Viewer} from 'viewer';\n",
       "      const domElement = document.getElementById(\"brax-viewer\");\n",
       "      var viewer = new Viewer(domElement, system);\n",
       "    </script>\n",
       "\n",
       "  </body>\n",
       "\n",
       "</html>"
      ],
      "text/plain": [
       "<IPython.core.display.HTML object>"
      ]
     },
     "execution_count": 19,
     "metadata": {},
     "output_type": "execute_result"
    }
   ],
   "source": [
    "HTML(html.render(env_replay.sys.tree_replace({'opt.timestep': env_replay.dt}), rollout))\n",
    "\n"
   ]
  },
  {
   "cell_type": "code",
   "execution_count": 20,
   "metadata": {},
   "outputs": [
    {
     "name": "stdout",
     "output_type": "stream",
     "text": [
      "-0.0075\n"
     ]
    }
   ],
   "source": [
    "xd=-2.5 * 3e-3\n",
    "print(xd)"
   ]
  },
  {
   "cell_type": "code",
   "execution_count": null,
   "metadata": {},
   "outputs": [],
   "source": []
  }
 ],
 "metadata": {
  "kernelspec": {
   "display_name": "Python 3 (ipykernel)",
   "language": "python",
   "name": "python3"
  },
  "language_info": {
   "codemirror_mode": {
    "name": "ipython",
    "version": 3
   },
   "file_extension": ".py",
   "mimetype": "text/x-python",
   "name": "python",
   "nbconvert_exporter": "python",
   "pygments_lexer": "ipython3",
   "version": "3.1.undefined"
  }
 },
 "nbformat": 4,
 "nbformat_minor": 4
}
