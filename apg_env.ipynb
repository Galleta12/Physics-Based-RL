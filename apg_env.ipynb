{
 "cells": [
  {
   "cell_type": "code",
   "execution_count": 1,
   "metadata": {},
   "outputs": [],
   "source": [
    "from datetime import datetime\n",
    "import functools\n",
    "from IPython.display import HTML\n",
    "import jax\n",
    "from jax import numpy as jp\n",
    "import numpy as np\n",
    "from typing import Any, Dict, Sequence, Tuple, Union\n",
    "from brax import base\n",
    "from brax import envs\n",
    "from brax import math\n",
    "from brax.base import Base, Motion, Transform\n",
    "from brax.envs.base import Env, PipelineEnv, State\n",
    "from brax.mjx.base import State as MjxState\n",
    "from brax.training.agents.apg import train as apg\n",
    "from brax.training.agents.apg import networks as apg_networks\n",
    "from brax.io import html, mjcf, model\n",
    "from etils import epath\n",
    "from flax import struct\n",
    "from matplotlib import pyplot as plt\n",
    "import mediapy as media\n",
    "from ml_collections import config_dict\n",
    "import mujoco\n",
    "from mujoco import mjx\n",
    "from jax import vmap\n",
    "import jax.random\n",
    "from jax import lax"
   ]
  },
  {
   "cell_type": "code",
   "execution_count": 2,
   "metadata": {},
   "outputs": [],
   "source": [
    "from utils.SimpleConverter import SimpleConverter\n",
    "from agent_mimic_env.agent_template import HumanoidTemplate\n",
    "from agent_mimic_env.agent_eval_template import HumanoidEvalTemplate\n",
    "from agent_mimic_env.agent_test_apg import HumanoidAPGTest\n",
    "from utils.util_data import *\n",
    "from copy import deepcopy"
   ]
  },
  {
   "cell_type": "code",
   "execution_count": 3,
   "metadata": {},
   "outputs": [],
   "source": [
    "import agent_mimic_env\n",
    "from agent_mimic_env import register_mimic_env\n"
   ]
  },
  {
   "cell_type": "code",
   "execution_count": 4,
   "metadata": {},
   "outputs": [
    {
     "name": "stdout",
     "output_type": "stream",
     "text": [
      "Setting environment variable to use GPU rendering:\n",
      "env: MUJOCO_GL=egl\n"
     ]
    }
   ],
   "source": [
    "\n",
    "import distutils.util\n",
    "import os\n",
    "xla_flags = os.environ.get('XLA_FLAGS', '')\n",
    "xla_flags += ' --xla_gpu_triton_gemm_any=True'\n",
    "os.environ['XLA_FLAGS'] = xla_flags\n",
    "print('Setting environment variable to use GPU rendering:')\n",
    "%env MUJOCO_GL=egl"
   ]
  },
  {
   "cell_type": "code",
   "execution_count": 5,
   "metadata": {},
   "outputs": [],
   "source": [
    "import os\n",
    "os.environ[\"XLA_PYTHON_CLIENT_MEM_FRACTION\"] = \"0.8\" # 0.9 causes too much lag. \n",
    "from datetime import datetime\n",
    "import functools\n",
    "\n",
    "# Math\n",
    "import jax.numpy as jp\n",
    "import numpy as np\n",
    "import jax\n",
    "from jax import config # Analytical gradients work much better with double precision.\n",
    "config.update(\"jax_debug_nans\", True)\n",
    "config.update(\"jax_enable_x64\", True)\n",
    "config.update('jax_default_matmul_precision', jax.lax.Precision.HIGH)\n",
    "from brax import math\n",
    "\n",
    "# Sim\n",
    "import mujoco\n",
    "import mujoco.mjx as mjx\n",
    "\n",
    "# Brax\n",
    "from brax import envs\n",
    "from brax.base import Motion, Transform\n",
    "from brax.io import mjcf\n",
    "from brax.envs.base import PipelineEnv, State\n",
    "from brax.mjx.pipeline import _reformat_contact\n",
    "from brax.training.acme import running_statistics\n",
    "from brax.io import model\n",
    "\n",
    "# Algorithms\n",
    "# from brax.training.agents.apg import train as apg\n",
    "# from brax.training.agents.apg import networks as apg_networks\n",
    "from brax.training.agents.ppo import train as ppo\n",
    "\n",
    "# Supporting\n",
    "from etils import epath\n",
    "import mediapy as media\n",
    "import matplotlib.pyplot as plt\n",
    "from ml_collections import config_dict\n",
    "from typing import Any, Dict"
   ]
  },
  {
   "cell_type": "code",
   "execution_count": 6,
   "metadata": {},
   "outputs": [
    {
     "name": "stdout",
     "output_type": "stream",
     "text": [
      "gpu\n"
     ]
    }
   ],
   "source": [
    "from jax.lib import xla_bridge\n",
    "print(xla_bridge.get_backend().platform)"
   ]
  },
  {
   "cell_type": "code",
   "execution_count": 7,
   "metadata": {},
   "outputs": [],
   "source": [
    "import yaml\n",
    "from box import Box\n",
    "# Path to your YAML file\n",
    "yaml_file_path = 'config_params/punch2.yaml'\n",
    "# Load the YAML file\n",
    "with open(yaml_file_path, 'r') as file:\n",
    "    args = Box(yaml.safe_load(file))"
   ]
  },
  {
   "cell_type": "code",
   "execution_count": 8,
   "metadata": {},
   "outputs": [
    {
     "name": "stdout",
     "output_type": "stream",
     "text": [
      "{'num_envs': 256, 'num_eval_envs': 32, 'lr': 0.0003, 'max_it': 1000, 'max_grad_norm': 0.4, 'seed': 0, 'system_config': 'humanoid', 'demo_replay_mode': 'threshold', 'threshold': 0.4, 'normalize_observations': True, 'cycle_len': 130, 'ep_len': 65, 'ep_len_eval': 54, 'use_lr_scheduler': True, 'reward_scaling': 0.02, 'rot_weight': 0.5, 'vel_weight': 0.01, 'ang_weight': 0.01, 'deep_mimic_reward_weights': {'w_p': 0.3, 'w_v': 0.1, 'w_e': 0.5, 'w_c': 0.1}, 'deep_mimic_weights_factors': {'w_pose': 2, 'w_angular': 0.005, 'w_efector': 5, 'w_com': 100}, 'model': 'models/final_humanoid2.xml', 'ref': 'motions/humanoid3d_punch_duplicated.txt'}\n"
     ]
    }
   ],
   "source": [
    "print(args)"
   ]
  },
  {
   "cell_type": "code",
   "execution_count": 9,
   "metadata": {},
   "outputs": [
    {
     "data": {
      "text/plain": [
       "0.3"
      ]
     },
     "execution_count": 9,
     "metadata": {},
     "output_type": "execute_result"
    }
   ],
   "source": [
    "args.deep_mimic_reward_weights.w_p"
   ]
  },
  {
   "cell_type": "code",
   "execution_count": 10,
   "metadata": {},
   "outputs": [],
   "source": [
    "from agent_mimic_env.pds_controllers_agents import feedback_pd_controller, stable_pd_controller_action\n"
   ]
  },
  {
   "cell_type": "code",
   "execution_count": 11,
   "metadata": {},
   "outputs": [],
   "source": [
    "def generate_env_apg_train(trajectory,model_path,env_name_apg,args):\n",
    "    \n",
    "    #model_path = 'anybotics_anymal_c/scene_mjx.xml'\n",
    "    #model_path = 'models/humanoidMjx.xml'\n",
    "    model_path = 'models/other_humanoid2.xml'\n",
    "    #model_path = args.model\n",
    "    \n",
    "    env_kwargs = dict(referece_data=trajectory,model_path=model_path,args=args) \n",
    "    \n",
    "    env = envs.get_environment(env_name_apg,**env_kwargs)\n",
    "    return env\n",
    "    "
   ]
  },
  {
   "cell_type": "code",
   "execution_count": 12,
   "metadata": {},
   "outputs": [],
   "source": [
    "trajectory = SimpleConverter(args.ref)\n",
    "trajectory.load_mocap()\n",
    "    #model_path = 'models/final_humanoid.xml'\n",
    "model_path = args.model\n",
    "envs.register_environment('humanoidApgTest',HumanoidAPGTest)\n",
    "env_name_apg = 'humanoidApgTest'\n",
    "\n",
    "env_apg = generate_env_apg_train(trajectory,model_path,env_name_apg,args)\n",
    "\n",
    "env_apg.set_pd_callback(stable_pd_controller_action)\n",
    "\n",
    "jit_reset = jax.jit(env_apg .reset)\n",
    "jit_step = jax.jit(env_apg .step)\n"
   ]
  },
  {
   "cell_type": "code",
   "execution_count": 13,
   "metadata": {},
   "outputs": [
    {
     "data": {
      "text/plain": [
       "Option(timestep=0.002, impratio=Array(100., dtype=float64, weak_type=True), tolerance=Array(1.e-08, dtype=float64, weak_type=True), ls_tolerance=Array(0.01, dtype=float64, weak_type=True), gravity=Array([ 0.  ,  0.  , -9.81], dtype=float64), wind=Array([0., 0., 0.], dtype=float64), density=Array(0., dtype=float64, weak_type=True), viscosity=Array(0., dtype=float64, weak_type=True), has_fluid_params=False, integrator=<IntegratorType.EULER: 0>, cone=<ConeType.PYRAMIDAL: 0>, jacobian=<JacobianType.AUTO: 2>, solver=<SolverType.NEWTON: 2>, iterations=1, ls_iterations=4, disableflags=<DisableBit.EULERDAMP: 16384>)"
      ]
     },
     "execution_count": 13,
     "metadata": {},
     "output_type": "execute_result"
    }
   ],
   "source": [
    "env_apg.sys.opt"
   ]
  },
  {
   "cell_type": "code",
   "execution_count": 14,
   "metadata": {},
   "outputs": [
    {
     "name": "stdout",
     "output_type": "stream",
     "text": [
      "0.002\n",
      "0.02\n"
     ]
    }
   ],
   "source": [
    "print(env_apg.sys.opt.timestep)\n",
    "print(env_apg.dt)"
   ]
  },
  {
   "cell_type": "code",
   "execution_count": 15,
   "metadata": {},
   "outputs": [
    {
     "name": "stdout",
     "output_type": "stream",
     "text": [
      "65\n",
      "130\n",
      "0.5\n",
      "0.01\n",
      "0.01\n",
      "0.02\n",
      "0.02\n"
     ]
    }
   ],
   "source": [
    "\n",
    "print(env_apg.rollout_lenght)\n",
    "print(env_apg.cycle_len)\n",
    "print(env_apg.rot_weight)\n",
    "print(env_apg.vel_weight)\n",
    "print(env_apg.ang_weight)\n",
    "print(env_apg.reward_scaling)\n",
    "print(env_apg.dt)\n"
   ]
  },
  {
   "cell_type": "code",
   "execution_count": 16,
   "metadata": {},
   "outputs": [],
   "source": [
    "# initialize the state\n",
    "\n",
    "#for the replay\n",
    "state = jit_reset(jax.random.PRNGKey(2))\n",
    "rollout = [state.pipeline_state]\n",
    "\n",
    "\n",
    "\n",
    "# grab a 500 steps\n",
    "n_steps = 500"
   ]
  },
  {
   "cell_type": "code",
   "execution_count": 17,
   "metadata": {},
   "outputs": [
    {
     "name": "stdout",
     "output_type": "stream",
     "text": [
      "{'fall': Array(0., dtype=float64), 'pose_error': Array(0., dtype=float64), 'reference_angular': Array(0., dtype=float64, weak_type=True), 'reference_position': Array(0., dtype=float64, weak_type=True), 'reference_rotation': Array(0., dtype=float64, weak_type=True), 'reference_velocity': Array(0., dtype=float64, weak_type=True), 'step_index': Array(60., dtype=float64)}\n",
      "{'default_pos': Array([ 1.18543717,  1.27664797,  0.790196  ,  0.97201826, -0.01898119,\n",
      "        0.04365162,  0.23003207, -0.09011222,  0.31782795, -0.04773092,\n",
      "        0.26030649, -0.12344302, -0.44215609, -0.37697787,  0.02596283,\n",
      "       -0.18623492,  2.13618706,  0.73544372,  0.36881986, -0.80315166,\n",
      "        1.98275626,  0.03526071, -0.59545573, -0.01541848, -1.10715834,\n",
      "       -0.05758162, -0.31225456, -0.07258391,  0.39222261, -0.63284242,\n",
      "        0.19183088, -1.16367734,  0.15139849,  0.08802346,  0.13914152],      dtype=float64), 'kinematic_ref': Array([ 1.18543717,  1.27664797,  0.790196  ,  0.97201826, -0.01898119,\n",
      "        0.04365162,  0.23003207, -0.09011222,  0.31782795, -0.04773092,\n",
      "        0.26030649, -0.12344302, -0.44215609, -0.37697787,  0.02596283,\n",
      "       -0.18623492,  2.13618706,  0.73544372,  0.36881986, -0.80315166,\n",
      "        1.98275626,  0.03526071, -0.59545573, -0.01541848, -1.10715834,\n",
      "       -0.05758162, -0.31225456, -0.07258391,  0.39222261, -0.63284242,\n",
      "        0.19183088, -1.16367734,  0.15139849,  0.08802346,  0.13914152],      dtype=float64), 'last_action': Array([0., 0., 0., 0., 0., 0., 0., 0., 0., 0., 0., 0., 0., 0., 0., 0., 0.,\n",
      "       0., 0., 0., 0., 0., 0., 0., 0., 0., 0., 0.], dtype=float64), 'reward_tuple': {'reference_angular': Array(0., dtype=float64, weak_type=True), 'reference_position': Array(0., dtype=float64, weak_type=True), 'reference_rotation': Array(0., dtype=float64, weak_type=True), 'reference_velocity': Array(0., dtype=float64, weak_type=True)}, 'rng': Array([0, 2], dtype=uint32), 'steps': Array(0., dtype=float64, weak_type=True)}\n"
     ]
    }
   ],
   "source": [
    "print(state.metrics)\n",
    "print(state.info)"
   ]
  },
  {
   "cell_type": "code",
   "execution_count": 18,
   "metadata": {},
   "outputs": [
    {
     "name": "stdout",
     "output_type": "stream",
     "text": [
      "Is rewards -1.3479094790857306e-33\n",
      "Is rewards -1.6956384453644907e-33\n",
      "Is rewards -0.0\n",
      "Is rewards -0.0\n",
      "Is rewards -0.0\n",
      "Is rewards -0.0\n",
      "Is rewards -0.0\n",
      "Is rewards -0.0\n",
      "Is rewards -0.0\n",
      "Is rewards -0.0\n",
      "Is rewards -0.0\n",
      "Is rewards -0.0\n",
      "Is rewards -0.0\n",
      "Is rewards -0.0\n",
      "Is rewards -0.0\n",
      "Is rewards -0.0\n",
      "Is rewards -0.0\n",
      "Is rewards -0.0\n",
      "Is rewards -0.0\n",
      "Is rewards -0.0\n",
      "Is rewards -0.0\n",
      "Is rewards -0.0\n",
      "Is rewards -0.0\n",
      "Is rewards -2.83134775947142e-33\n",
      "Is rewards -0.0\n",
      "Is rewards -7.044508124323149e-33\n",
      "Is rewards -0.0\n",
      "Is rewards -0.0\n",
      "Is rewards -0.0\n",
      "Is rewards -0.0\n",
      "Is rewards -0.0\n",
      "Is rewards -0.0\n",
      "Is rewards -0.0\n",
      "Is rewards -0.0\n",
      "Is rewards -0.0\n",
      "Is rewards -0.0\n",
      "Is rewards -0.0\n",
      "Is rewards -0.0\n",
      "Is rewards -0.0\n",
      "Is rewards -0.0\n",
      "Is rewards -0.0\n",
      "Is rewards -0.0\n",
      "Is rewards -3.168593879803602e-33\n",
      "Is rewards -0.0\n",
      "Is rewards -0.0\n",
      "Is rewards -0.0\n",
      "Is rewards -0.0\n",
      "Is rewards -0.0\n",
      "Is rewards -0.0\n",
      "Is rewards -3.3685142737902365e-33\n",
      "Is rewards -0.0\n",
      "Is rewards -0.0\n",
      "Is rewards -0.0\n",
      "Is rewards -0.0\n",
      "Is rewards -0.0\n",
      "Is rewards -0.0\n",
      "Is rewards -0.0\n",
      "Is rewards -0.0\n",
      "Is rewards -0.0\n",
      "Is rewards -0.0\n",
      "Is rewards -2.5094439396695343e-33\n",
      "Is rewards -0.0\n",
      "Is rewards -0.0\n",
      "Is rewards -2.4271669161463104e-33\n"
     ]
    }
   ],
   "source": [
    "for i in range(env_apg .rollout_lenght-1):\n",
    "    \n",
    "    #print(i)\n",
    " \n",
    "    ctrl = -0.1 * jp.ones(env_apg .sys.nu)\n",
    "   \n",
    "  \n",
    "         \n",
    "    state = jit_step(state, ctrl)\n",
    "  \n",
    "    \n",
    "    #print(state.pipeline_state.geom_xpos)\n",
    "    #if state.done:\n",
    "     #   print(time)\n",
    "      #  break\n",
    "    #print(\"Is done\", state.done)\n",
    "    print(\"Is rewards\", state.reward)\n",
    "    #print('is step', state.metrics['step_index'])\n",
    "    #print(\"reward tuple\", state.info['reward_tuple'])\n",
    "    #print(\"Is \", state.metrics['pose_error'])\n",
    "    #print(\"Is \", state.metrics['reference_angular'])\n",
    "    #print(\"Is \", state.metrics['min_reference_tracking'])\n",
    "    \n",
    "    rollout.append(state.pipeline_state)"
   ]
  },
  {
   "cell_type": "code",
   "execution_count": 19,
   "metadata": {},
   "outputs": [],
   "source": [
    "from some_math.quaternion_diff import *"
   ]
  },
  {
   "cell_type": "code",
   "execution_count": 20,
   "metadata": {},
   "outputs": [
    {
     "data": {
      "text/html": [
       "<!DOCTYPE html>\n",
       "<html>\n",
       "\n",
       "  <head>\n",
       "    <title>Brax visualizer</title>\n",
       "    <link rel=\"shortcut icon\" type=\"image/x-icon\" href=\"/favicon.ico\">\n",
       "  </head>\n",
       "\n",
       "  <style>\n",
       "    body {\n",
       "      margin: 0;\n",
       "      padding: 0;\n",
       "    }\n",
       "\n",
       "    #brax-viewer {\n",
       "      height: 480px;\n",
       "      margin: 0;\n",
       "      padding: 0;\n",
       "    }\n",
       "  </style>\n",
       "  <script async src=\"https://unpkg.com/es-module-shims@1.6.3/dist/es-module-shims.js\"></script>\n",
       "\n",
       "  <script type=\"importmap\">\n",
       "    {\n",
       "      \"imports\": {\n",
       "        \"three\": \"https://unpkg.com/three@0.150.1/build/three.module.js\",\n",
       "        \"three/addons/\": \"https://unpkg.com/three@0.150.1/examples/jsm/\",\n",
       "        \"lilgui\": \"https://cdn.jsdelivr.net/npm/lil-gui@0.18.0/+esm\",\n",
       "        \"viewer\": \"https://cdn.jsdelivr.net/gh/google/brax@v0.10.5/brax/visualizer/js/viewer.js\"\n",
       "      }\n",
       "    }\n",
       "  </script>\n",
       "\n",
       "  <script src=\"https://unpkg.com/pako@2.1.0/dist/pako.min.js\"></script>\n",
       "\n",
       "  <script type=\"application/javascript\">\n",
       "  var system = \"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\";\n",
       "  // decode base64 (convert ascii to binary)\n",
       "  system = atob(system);\n",
       "  // convert binary string to character-number array\n",
       "  system = system.split('').map(function(x){return x.charCodeAt(0);});\n",
       "  // decompress\n",
       "  system = pako.inflate(system);\n",
       "  // convert gunzipped byteArray back to ascii string\n",
       "  system = new TextDecoder(\"utf-8\").decode(system);\n",
       "  // and load json\n",
       "  system = JSON.parse(system);\n",
       "  </script>\n",
       "\n",
       "  <body>\n",
       "\n",
       "    <div id=\"brax-viewer\"></div>\n",
       "\n",
       "    <script type=\"module\">\n",
       "      import {Viewer} from 'viewer';\n",
       "      const domElement = document.getElementById(\"brax-viewer\");\n",
       "      var viewer = new Viewer(domElement, system);\n",
       "    </script>\n",
       "\n",
       "  </body>\n",
       "\n",
       "</html>"
      ],
      "text/plain": [
       "<IPython.core.display.HTML object>"
      ]
     },
     "execution_count": 20,
     "metadata": {},
     "output_type": "execute_result"
    }
   ],
   "source": [
    "HTML(html.render(env_apg.sys.tree_replace({'opt.timestep': env_apg.dt}), rollout))\n",
    "\n"
   ]
  },
  {
   "cell_type": "code",
   "execution_count": 21,
   "metadata": {},
   "outputs": [
    {
     "name": "stdout",
     "output_type": "stream",
     "text": [
      "-0.0075\n"
     ]
    }
   ],
   "source": [
    "xd=-2.5 * 3e-3\n",
    "print(xd)"
   ]
  },
  {
   "cell_type": "code",
   "execution_count": null,
   "metadata": {},
   "outputs": [],
   "source": []
  }
 ],
 "metadata": {
  "kernelspec": {
   "display_name": "Python 3 (ipykernel)",
   "language": "python",
   "name": "python3"
  },
  "language_info": {
   "codemirror_mode": {
    "name": "ipython",
    "version": 3
   },
   "file_extension": ".py",
   "mimetype": "text/x-python",
   "name": "python",
   "nbconvert_exporter": "python",
   "pygments_lexer": "ipython3",
   "version": "3.1.undefined"
  }
 },
 "nbformat": 4,
 "nbformat_minor": 4
}
