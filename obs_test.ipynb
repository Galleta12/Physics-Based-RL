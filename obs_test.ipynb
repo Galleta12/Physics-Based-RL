{
 "cells": [
  {
   "cell_type": "code",
   "execution_count": 1,
   "metadata": {},
   "outputs": [],
   "source": [
    "from datetime import datetime\n",
    "import functools\n",
    "from IPython.display import HTML\n",
    "import jax\n",
    "from jax import numpy as jp\n",
    "import numpy as np\n",
    "from typing import Any, Dict, Sequence, Tuple, Union\n",
    "from brax import base\n",
    "from brax import envs\n",
    "from brax import math\n",
    "from brax.base import Base, Motion, Transform\n",
    "from brax.envs.base import Env, PipelineEnv, State\n",
    "from brax.mjx.base import State as MjxState\n",
    "from brax.training.agents.apg import train as apg\n",
    "from brax.training.agents.apg import networks as apg_networks\n",
    "from brax.io import html, mjcf, model\n",
    "from etils import epath\n",
    "from flax import struct\n",
    "from matplotlib import pyplot as plt\n",
    "import mediapy as media\n",
    "from ml_collections import config_dict\n",
    "import mujoco\n",
    "from mujoco import mjx\n",
    "from jax import vmap\n",
    "import jax.random\n",
    "from jax import lax"
   ]
  },
  {
   "cell_type": "code",
   "execution_count": 2,
   "metadata": {},
   "outputs": [],
   "source": [
    "from utils.SimpleConverter import SimpleConverter\n",
    "from agent_mimic_env.agent_template import HumanoidTemplate\n",
    "from agent_mimic_env.agent_eval_template import HumanoidEvalTemplate\n",
    "from agent_mimic_env.agent_test_apg import HumanoidAPGTest\n",
    "from utils.util_data import *\n",
    "from copy import deepcopy"
   ]
  },
  {
   "cell_type": "code",
   "execution_count": 3,
   "metadata": {},
   "outputs": [],
   "source": [
    "import agent_mimic_env\n",
    "from agent_mimic_env import register_mimic_env\n"
   ]
  },
  {
   "cell_type": "code",
   "execution_count": 4,
   "metadata": {},
   "outputs": [
    {
     "name": "stdout",
     "output_type": "stream",
     "text": [
      "Setting environment variable to use GPU rendering:\n",
      "env: MUJOCO_GL=egl\n"
     ]
    }
   ],
   "source": [
    "\n",
    "import distutils.util\n",
    "import os\n",
    "xla_flags = os.environ.get('XLA_FLAGS', '')\n",
    "xla_flags += ' --xla_gpu_triton_gemm_any=True'\n",
    "os.environ['XLA_FLAGS'] = xla_flags\n",
    "print('Setting environment variable to use GPU rendering:')\n",
    "%env MUJOCO_GL=egl"
   ]
  },
  {
   "cell_type": "code",
   "execution_count": 5,
   "metadata": {},
   "outputs": [],
   "source": [
    "import os\n",
    "os.environ[\"XLA_PYTHON_CLIENT_MEM_FRACTION\"] = \"0.8\" # 0.9 causes too much lag. \n",
    "from datetime import datetime\n",
    "import functools\n",
    "\n",
    "# Math\n",
    "import jax.numpy as jp\n",
    "import numpy as np\n",
    "import jax\n",
    "from jax import config # Analytical gradients work much better with double precision.\n",
    "config.update(\"jax_debug_nans\", True)\n",
    "config.update(\"jax_enable_x64\", True)\n",
    "config.update('jax_default_matmul_precision', jax.lax.Precision.HIGH)\n",
    "from brax import math\n",
    "\n",
    "# Sim\n",
    "import mujoco\n",
    "import mujoco.mjx as mjx\n",
    "\n",
    "# Brax\n",
    "from brax import envs\n",
    "from brax.base import Motion, Transform\n",
    "from brax.io import mjcf\n",
    "from brax.envs.base import PipelineEnv, State\n",
    "from brax.mjx.pipeline import _reformat_contact\n",
    "from brax.training.acme import running_statistics\n",
    "from brax.io import model\n",
    "\n",
    "# Algorithms\n",
    "# from brax.training.agents.apg import train as apg\n",
    "# from brax.training.agents.apg import networks as apg_networks\n",
    "from brax.training.agents.ppo import train as ppo\n",
    "\n",
    "# Supporting\n",
    "from etils import epath\n",
    "import mediapy as media\n",
    "import matplotlib.pyplot as plt\n",
    "from ml_collections import config_dict\n",
    "from typing import Any, Dict"
   ]
  },
  {
   "cell_type": "code",
   "execution_count": 6,
   "metadata": {},
   "outputs": [
    {
     "name": "stdout",
     "output_type": "stream",
     "text": [
      "gpu\n"
     ]
    }
   ],
   "source": [
    "from jax.lib import xla_bridge\n",
    "print(xla_bridge.get_backend().platform)"
   ]
  },
  {
   "cell_type": "code",
   "execution_count": 7,
   "metadata": {},
   "outputs": [],
   "source": [
    "import yaml\n",
    "from box import Box\n",
    "# Path to your YAML file\n",
    "yaml_file_path = 'config_params/punch.yaml'\n",
    "# Load the YAML file\n",
    "with open(yaml_file_path, 'r') as file:\n",
    "    args = Box(yaml.safe_load(file))"
   ]
  },
  {
   "cell_type": "code",
   "execution_count": 8,
   "metadata": {},
   "outputs": [
    {
     "name": "stdout",
     "output_type": "stream",
     "text": [
      "{'num_envs': 256, 'num_eval_envs': 32, 'lr': 0.0003, 'max_it': 1000, 'max_grad_norm': 0.4, 'seed': 0, 'system_config': 'humanoid', 'demo_replay_mode': 'threshold', 'threshold': 0.4, 'normalize_observations': True, 'cycle_len': 130, 'ep_len': 65, 'ep_len_eval': 54, 'use_lr_scheduler': True, 'reward_scaling': 0.02, 'rot_weight': 0.5, 'vel_weight': 0.01, 'ang_weight': 0.01, 'deep_mimic_reward_weights': {'w_p': 0.3, 'w_v': 0.1, 'w_e': 0.5, 'w_c': 0.1}, 'deep_mimic_weights_factors': {'w_pose': 2, 'w_angular': 0.005, 'w_efector': 5, 'w_com': 100}, 'model': 'models/final_humanoid.xml', 'ref': 'motions/humanoid3d_punch_duplicated.txt'}\n"
     ]
    }
   ],
   "source": [
    "print(args)"
   ]
  },
  {
   "cell_type": "code",
   "execution_count": 9,
   "metadata": {},
   "outputs": [
    {
     "data": {
      "text/plain": [
       "0.3"
      ]
     },
     "execution_count": 9,
     "metadata": {},
     "output_type": "execute_result"
    }
   ],
   "source": [
    "args.deep_mimic_reward_weights.w_p"
   ]
  },
  {
   "cell_type": "code",
   "execution_count": 10,
   "metadata": {},
   "outputs": [],
   "source": [
    "from agent_mimic_env.pds_controllers_agents import feedback_pd_controller, stable_pd_controller_action\n"
   ]
  },
  {
   "cell_type": "code",
   "execution_count": 11,
   "metadata": {},
   "outputs": [],
   "source": [
    "env_replay,env_eval,env,env_apg=register_mimic_env(args)\n",
    "\n",
    "\n",
    "\n",
    "\n",
    "# #for the eval\n",
    "jit_reset_eval = jax.jit(env_eval.reset)\n",
    "jit_step_custom_eval = jax.jit(env_eval.step_custom)\n",
    "env_eval.set_pd_callback(stable_pd_controller_action)\n",
    "\n",
    "\n"
   ]
  },
  {
   "cell_type": "code",
   "execution_count": 12,
   "metadata": {},
   "outputs": [
    {
     "data": {
      "text/plain": [
       "Option(timestep=0.002, impratio=Array(100., dtype=float64, weak_type=True), tolerance=Array(1.e-08, dtype=float64, weak_type=True), ls_tolerance=Array(0.01, dtype=float64, weak_type=True), gravity=Array([ 0.  ,  0.  , -9.81], dtype=float64), wind=Array([0., 0., 0.], dtype=float64), density=Array(0., dtype=float64, weak_type=True), viscosity=Array(0., dtype=float64, weak_type=True), has_fluid_params=False, integrator=<IntegratorType.EULER: 0>, cone=<ConeType.PYRAMIDAL: 0>, jacobian=<JacobianType.AUTO: 2>, solver=<SolverType.NEWTON: 2>, iterations=1, ls_iterations=4, disableflags=<DisableBit.EULERDAMP: 16384>)"
      ]
     },
     "execution_count": 12,
     "metadata": {},
     "output_type": "execute_result"
    }
   ],
   "source": [
    "env_eval.sys.opt"
   ]
  },
  {
   "cell_type": "code",
   "execution_count": 13,
   "metadata": {},
   "outputs": [
    {
     "name": "stdout",
     "output_type": "stream",
     "text": [
      "0.002\n",
      "0.02\n"
     ]
    }
   ],
   "source": [
    "print(env_eval.sys.opt.timestep)\n",
    "print(env_eval.dt)"
   ]
  },
  {
   "cell_type": "code",
   "execution_count": 14,
   "metadata": {},
   "outputs": [
    {
     "name": "stdout",
     "output_type": "stream",
     "text": [
      "65\n",
      "130\n",
      "0.5\n",
      "0.01\n",
      "0.01\n",
      "0.02\n",
      "0.02\n"
     ]
    }
   ],
   "source": [
    "print(env_eval.rollout_lenght)\n",
    "print(env_eval.cycle_len)\n",
    "print(env_eval.rot_weight)\n",
    "print(env_eval.vel_weight)\n",
    "print(env_eval.ang_weight)\n",
    "print(env_eval.reward_scaling)\n",
    "print(env_eval.dt)\n",
    "# print(env_eval.sys.dt)\n"
   ]
  },
  {
   "cell_type": "code",
   "execution_count": 15,
   "metadata": {},
   "outputs": [],
   "source": [
    "# initialize the state\n",
    "\n",
    "#for the replay\n",
    "# state = jit_reset_replay(jax.random.PRNGKey(0))\n",
    "# rollout = [state.pipeline_state]\n",
    "\n",
    "#for the eval\n",
    "state = jit_reset_eval(jax.random.PRNGKey(0))\n",
    "rollout = [state.pipeline_state]\n",
    "#for env\n",
    "# state = jit_reset(jax.random.PRNGKey(0))\n",
    "# rollout = [state.pipeline_state]\n",
    "\n",
    "#for apg test\n",
    "# state = jit_reset_apg(jax.random.PRNGKey(0))\n",
    "# rollout = [state.pipeline_state]\n",
    "\n",
    "# grab a 500 steps\n",
    "n_steps = 500"
   ]
  },
  {
   "cell_type": "code",
   "execution_count": 16,
   "metadata": {},
   "outputs": [
    {
     "name": "stdout",
     "output_type": "stream",
     "text": [
      "{'fall': Array(0., dtype=float64), 'min_reference_tracking': Array(0., dtype=float64, weak_type=True), 'pose_error': Array(0., dtype=float64), 'reference_angular': Array(0., dtype=float64, weak_type=True), 'reference_position': Array(0., dtype=float64, weak_type=True), 'reference_rotation': Array(0., dtype=float64, weak_type=True), 'reference_velocity': Array(0., dtype=float64, weak_type=True), 'step_index': Array(48., dtype=float64)}\n",
      "{'default_pos': Array([ 1.00952578,  0.96560349,  0.763598  ,  0.69266161,  0.00396145,\n",
      "        0.0290793 ,  0.72066538,  0.0344528 ,  0.38038578, -0.03930848,\n",
      "        0.25575706, -0.27285779, -1.17071799, -1.60473499,  0.07730953,\n",
      "       -1.0934958 ,  0.82069482,  0.59607216,  0.09617058, -0.84933419,\n",
      "        1.92958378, -0.723898  , -0.63271327, -1.08916748, -1.27049323,\n",
      "       -0.16462933, -0.02070159, -0.17030865,  0.37251784,  0.20128708,\n",
      "        0.66214301, -0.50385212, -0.0529365 , -0.12219402, -0.05907235],      dtype=float64), 'kinematic_ref': Array([ 1.00952578,  0.96560349,  0.763598  ,  0.69266161,  0.00396145,\n",
      "        0.0290793 ,  0.72066538,  0.0344528 ,  0.38038578, -0.03930848,\n",
      "        0.25575706, -0.27285779, -1.17071799, -1.60473499,  0.07730953,\n",
      "       -1.0934958 ,  0.82069482,  0.59607216,  0.09617058, -0.84933419,\n",
      "        1.92958378, -0.723898  , -0.63271327, -1.08916748, -1.27049323,\n",
      "       -0.16462933, -0.02070159, -0.17030865,  0.37251784,  0.20128708,\n",
      "        0.66214301, -0.50385212, -0.0529365 , -0.12219402, -0.05907235],      dtype=float64), 'last_action': Array([0., 0., 0., 0., 0., 0., 0., 0., 0., 0., 0., 0., 0., 0., 0., 0., 0.,\n",
      "       0., 0., 0., 0., 0., 0., 0., 0., 0., 0., 0.], dtype=float64), 'reward_tuple': {'min_reference_tracking': Array(0., dtype=float64, weak_type=True), 'reference_angular': Array(0., dtype=float64, weak_type=True), 'reference_position': Array(0., dtype=float64, weak_type=True), 'reference_rotation': Array(0., dtype=float64, weak_type=True), 'reference_velocity': Array(0., dtype=float64, weak_type=True)}, 'rng': Array([0, 0], dtype=uint32), 'steps': Array(0., dtype=float64, weak_type=True)}\n"
     ]
    }
   ],
   "source": [
    "print(state.metrics)\n",
    "print(state.info)"
   ]
  },
  {
   "cell_type": "code",
   "execution_count": 17,
   "metadata": {},
   "outputs": [
    {
     "data": {
      "text/plain": [
       "0.0"
      ]
     },
     "execution_count": 17,
     "metadata": {},
     "output_type": "execute_result"
    }
   ],
   "source": [
    "id = 9\n",
    "\n",
    "id =(195 % 195) /195\n",
    "id\n",
    "# cy = (66%65)\n",
    "# cy"
   ]
  },
  {
   "cell_type": "code",
   "execution_count": 18,
   "metadata": {},
   "outputs": [
    {
     "name": "stdout",
     "output_type": "stream",
     "text": [
      "Is rewards -0.004667226793952933\n",
      "Is rewards -0.007139026974603351\n",
      "Is rewards -0.010862601996117102\n",
      "Is rewards -0.018280714260659713\n",
      "Is rewards -0.02327371213429831\n",
      "Is rewards -0.03367913397381057\n",
      "Is rewards -0.027897784006008536\n",
      "Is rewards -0.027601226650832693\n",
      "Is rewards -0.028945197387786923\n",
      "Is rewards -0.030839949453252337\n",
      "Is rewards -0.034474945439321114\n",
      "Is rewards -0.03814130115001462\n",
      "Is rewards -0.0424929151592616\n",
      "Is rewards -0.04787226323898677\n",
      "Is rewards -0.046876699003118805\n",
      "Is rewards -0.050969622300051184\n",
      "Is rewards -0.19760659083792892\n",
      "Is rewards -0.05088738993834536\n",
      "Is rewards -0.05432989072841864\n",
      "Is rewards -0.05740656595852785\n",
      "Is rewards -0.06044491399722023\n",
      "Is rewards -0.06247744215960634\n",
      "Is rewards -0.06445911598212348\n",
      "Is rewards -0.06613885681282093\n",
      "Is rewards -0.06918422718370655\n",
      "Is rewards -0.07181801776474422\n",
      "Is rewards -0.07573485842160547\n",
      "Is rewards -0.07939094039976365\n",
      "Is rewards -0.08223394383131552\n",
      "Is rewards -0.08774112526230227\n",
      "Is rewards -0.09070037295793584\n",
      "Is rewards -0.09605826366020559\n",
      "Is rewards -0.10069347746818919\n",
      "Is rewards -0.1009524217044202\n",
      "Is rewards -0.09391148146362734\n",
      "Is rewards -0.09723880698308753\n",
      "Is rewards -0.09737955417770204\n",
      "Is rewards -0.10077227728067728\n",
      "Is rewards -0.11168783478343798\n",
      "Is rewards -0.12695196580145848\n",
      "Is rewards -0.13672818435304862\n",
      "Is rewards -0.14340399018606742\n",
      "Is rewards -0.10343660083186608\n",
      "Is rewards -0.10000399216100277\n",
      "Is rewards -0.09869288813877324\n",
      "Is rewards -0.10741536483730486\n",
      "Is rewards -0.10427959174442337\n",
      "Is rewards -0.10428387463782463\n",
      "Is rewards -0.10950046545022449\n",
      "Is rewards -0.1135585153253248\n",
      "Is rewards -0.11223251403868584\n",
      "Is rewards -0.10917737533011218\n",
      "Is rewards -0.10646347595654412\n",
      "Is rewards -0.10411808290236778\n",
      "Is rewards -0.10187444048392685\n",
      "Is rewards -0.10093372594047095\n",
      "Is rewards -0.10160413356445297\n",
      "Is rewards -0.1011714798777995\n",
      "Is rewards -0.10200572730245558\n",
      "Is rewards -0.09955844765911648\n",
      "Is rewards -0.09898279844288338\n",
      "Is rewards -0.10267485850526098\n",
      "Is rewards -0.10348957973211015\n",
      "Is rewards -0.10744911650504278\n"
     ]
    }
   ],
   "source": [
    "for i in range(env_eval.rollout_lenght-1):\n",
    "    \n",
    "    #print(i)\n",
    "    ctrl = -0.1 * jp.ones(env_eval.sys.nu)\n",
    "   \n",
    "    #print('time: ',state.pipeline_state.time)    \n",
    "         \n",
    "    #state = jit_step_replay(state, ctrl)\n",
    "    state = jit_step_custom_eval(state, ctrl)\n",
    "    #print(state.pipeline_state.geom_xpos)\n",
    "    #if state.done:\n",
    "     #   print(time)\n",
    "      #  break\n",
    "    #print(\"Is done\", state.done)\n",
    "    print(\"Is rewards\", state.reward)\n",
    "    #print('is step', state.metrics['step_index'])\n",
    "    #print(\"reward tuple\", state.info['reward_tuple'])\n",
    "    # print(\"Is \", state.metrics['pose_error'])\n",
    "    \n",
    "    rollout.append(state.pipeline_state)"
   ]
  },
  {
   "cell_type": "code",
   "execution_count": 19,
   "metadata": {},
   "outputs": [],
   "source": [
    "from some_math.quaternion_diff import *"
   ]
  },
  {
   "cell_type": "code",
   "execution_count": 20,
   "metadata": {},
   "outputs": [
    {
     "name": "stdout",
     "output_type": "stream",
     "text": [
      "[[0.         0.         0.        ]\n",
      " [0.82599287 1.95442066 0.43775664]\n",
      " [0.69498117 2.19987885 0.45605995]\n",
      " [0.56788583 2.43856968 0.4178242 ]\n",
      " [0.71980936 2.39297306 0.1629824 ]\n",
      " [0.63571681 2.42567686 0.04088801]\n",
      " [0.49741341 2.41232124 0.04114386]\n",
      " [0.64708885 2.19664787 0.72701359]\n",
      " [0.7167798  2.05270223 0.72832616]\n",
      " [0.71577239 1.96351928 0.62178202]\n",
      " [0.81016245 1.76782492 0.20169191]\n",
      " [0.86040319 1.46352531 0.08986073]\n",
      " [0.9629177  1.2520773  0.09772377]\n",
      " [0.84622745 1.67166404 0.5745805 ]\n",
      " [1.00289712 1.3290136  0.67122301]\n",
      " [1.12151837 1.13864945 0.71942454]]\n"
     ]
    }
   ],
   "source": [
    "#6 right writs 9 left writs 12 right ankle, 15 left ankle\n",
    "\n",
    "print(state.pipeline_state.geom_xpos)\n",
    "# env_eval.named.data.geom_xpos['green_sphere', 'z']\n",
    "# env_eval.named.data.qpos['swing']\n",
    "\n",
    "#index 16"
   ]
  },
  {
   "cell_type": "code",
   "execution_count": 21,
   "metadata": {},
   "outputs": [
    {
     "data": {
      "text/html": [
       "<!DOCTYPE html>\n",
       "<html>\n",
       "\n",
       "  <head>\n",
       "    <title>Brax visualizer</title>\n",
       "    <link rel=\"shortcut icon\" type=\"image/x-icon\" href=\"/favicon.ico\">\n",
       "  </head>\n",
       "\n",
       "  <style>\n",
       "    body {\n",
       "      margin: 0;\n",
       "      padding: 0;\n",
       "    }\n",
       "\n",
       "    #brax-viewer {\n",
       "      height: 480px;\n",
       "      margin: 0;\n",
       "      padding: 0;\n",
       "    }\n",
       "  </style>\n",
       "  <script async src=\"https://unpkg.com/es-module-shims@1.6.3/dist/es-module-shims.js\"></script>\n",
       "\n",
       "  <script type=\"importmap\">\n",
       "    {\n",
       "      \"imports\": {\n",
       "        \"three\": \"https://unpkg.com/three@0.150.1/build/three.module.js\",\n",
       "        \"three/addons/\": \"https://unpkg.com/three@0.150.1/examples/jsm/\",\n",
       "        \"lilgui\": \"https://cdn.jsdelivr.net/npm/lil-gui@0.18.0/+esm\",\n",
       "        \"viewer\": \"https://cdn.jsdelivr.net/gh/google/brax@v0.10.4/brax/visualizer/js/viewer.js\"\n",
       "      }\n",
       "    }\n",
       "  </script>\n",
       "\n",
       "  <script src=\"https://unpkg.com/pako@2.1.0/dist/pako.min.js\"></script>\n",
       "\n",
       "  <script type=\"application/javascript\">\n",
       "  var system = \"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\";\n",
       "  // decode base64 (convert ascii to binary)\n",
       "  system = atob(system);\n",
       "  // convert binary string to character-number array\n",
       "  system = system.split('').map(function(x){return x.charCodeAt(0);});\n",
       "  // decompress\n",
       "  system = pako.inflate(system);\n",
       "  // convert gunzipped byteArray back to ascii string\n",
       "  system = new TextDecoder(\"utf-8\").decode(system);\n",
       "  // and load json\n",
       "  system = JSON.parse(system);\n",
       "  </script>\n",
       "\n",
       "  <body>\n",
       "\n",
       "    <div id=\"brax-viewer\"></div>\n",
       "\n",
       "    <script type=\"module\">\n",
       "      import {Viewer} from 'viewer';\n",
       "      const domElement = document.getElementById(\"brax-viewer\");\n",
       "      var viewer = new Viewer(domElement, system);\n",
       "    </script>\n",
       "\n",
       "  </body>\n",
       "\n",
       "</html>"
      ],
      "text/plain": [
       "<IPython.core.display.HTML object>"
      ]
     },
     "execution_count": 21,
     "metadata": {},
     "output_type": "execute_result"
    }
   ],
   "source": [
    "\n",
    "HTML(html.render(env_eval.sys.tree_replace({'opt.timestep': env_eval.dt}), rollout))\n"
   ]
  },
  {
   "cell_type": "code",
   "execution_count": null,
   "metadata": {},
   "outputs": [],
   "source": []
  }
 ],
 "metadata": {
  "kernelspec": {
   "display_name": "Python 3 (ipykernel)",
   "language": "python",
   "name": "python3"
  },
  "language_info": {
   "codemirror_mode": {
    "name": "ipython",
    "version": 3
   },
   "file_extension": ".py",
   "mimetype": "text/x-python",
   "name": "python",
   "nbconvert_exporter": "python",
   "pygments_lexer": "ipython3",
   "version": "3.11.9"
  }
 },
 "nbformat": 4,
 "nbformat_minor": 4
}
