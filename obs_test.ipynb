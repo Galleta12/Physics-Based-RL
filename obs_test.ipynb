{
 "cells": [
  {
   "cell_type": "code",
   "execution_count": 1,
   "metadata": {},
   "outputs": [],
   "source": [
    "from datetime import datetime\n",
    "import functools\n",
    "from IPython.display import HTML\n",
    "import jax\n",
    "from jax import numpy as jp\n",
    "import numpy as np\n",
    "from typing import Any, Dict, Sequence, Tuple, Union\n",
    "from brax import base\n",
    "from brax import envs\n",
    "from brax import math\n",
    "from brax.base import Base, Motion, Transform\n",
    "from brax.envs.base import Env, PipelineEnv, State\n",
    "from brax.mjx.base import State as MjxState\n",
    "from brax.training.agents.apg import train as apg\n",
    "from brax.training.agents.apg import networks as apg_networks\n",
    "from brax.io import html, mjcf, model\n",
    "from etils import epath\n",
    "from flax import struct\n",
    "from matplotlib import pyplot as plt\n",
    "import mediapy as media\n",
    "from ml_collections import config_dict\n",
    "import mujoco\n",
    "from mujoco import mjx\n",
    "from jax import vmap\n",
    "import jax.random\n",
    "from jax import lax"
   ]
  },
  {
   "cell_type": "code",
   "execution_count": 2,
   "metadata": {},
   "outputs": [],
   "source": [
    "from utils.SimpleConverter import SimpleConverter\n",
    "from agent_mimic_env.agent_template import HumanoidTemplate\n",
    "from agent_mimic_env.agent_eval_template import HumanoidEvalTemplate\n",
    "from agent_mimic_env.agent_test_apg import HumanoidAPGTest\n",
    "from utils.util_data import *\n",
    "from copy import deepcopy"
   ]
  },
  {
   "cell_type": "code",
   "execution_count": 3,
   "metadata": {},
   "outputs": [],
   "source": [
    "import agent_mimic_env\n",
    "from agent_mimic_env import register_mimic_env\n"
   ]
  },
  {
   "cell_type": "code",
   "execution_count": 4,
   "metadata": {},
   "outputs": [
    {
     "name": "stdout",
     "output_type": "stream",
     "text": [
      "Setting environment variable to use GPU rendering:\n",
      "env: MUJOCO_GL=egl\n"
     ]
    }
   ],
   "source": [
    "\n",
    "import distutils.util\n",
    "import os\n",
    "xla_flags = os.environ.get('XLA_FLAGS', '')\n",
    "xla_flags += ' --xla_gpu_triton_gemm_any=True'\n",
    "os.environ['XLA_FLAGS'] = xla_flags\n",
    "print('Setting environment variable to use GPU rendering:')\n",
    "%env MUJOCO_GL=egl"
   ]
  },
  {
   "cell_type": "code",
   "execution_count": 5,
   "metadata": {},
   "outputs": [
    {
     "name": "stdout",
     "output_type": "stream",
     "text": [
      "gpu\n"
     ]
    }
   ],
   "source": [
    "from jax.lib import xla_bridge\n",
    "print(xla_bridge.get_backend().platform)"
   ]
  },
  {
   "cell_type": "code",
   "execution_count": 6,
   "metadata": {},
   "outputs": [],
   "source": [
    "import yaml\n",
    "from box import Box\n",
    "# Path to your YAML file\n",
    "yaml_file_path = 'config_params/punch.yaml'\n",
    "# Load the YAML file\n",
    "with open(yaml_file_path, 'r') as file:\n",
    "    args = Box(yaml.safe_load(file))"
   ]
  },
  {
   "cell_type": "code",
   "execution_count": 7,
   "metadata": {},
   "outputs": [
    {
     "name": "stdout",
     "output_type": "stream",
     "text": [
      "{'num_envs': 256, 'num_eval_envs': 32, 'lr': 0.0003, 'max_it': 1000, 'max_grad_norm': 0.4, 'seed': 0, 'system_config': 'humanoid', 'demo_replay_mode': 'threshold', 'threshold': 0.4, 'normalize_observations': True, 'cycle_len': 0, 'ep_len': 30, 'ep_len_eval': 54, 'use_lr_scheduler': True, 'reward_scaling': 0.02, 'rot_weight': 0.5, 'vel_weight': 0.01, 'ang_weight': 0.01, 'reward_weights': {'w_p': 0.6, 'w_v': 0.1, 'w_e': 0.2, 'w_c': 0.1}, 'ref': 'motions/humanoid3d_punch.txt'}\n"
     ]
    }
   ],
   "source": [
    "print(args)"
   ]
  },
  {
   "cell_type": "code",
   "execution_count": 8,
   "metadata": {},
   "outputs": [
    {
     "data": {
      "text/plain": [
       "0.6"
      ]
     },
     "execution_count": 8,
     "metadata": {},
     "output_type": "execute_result"
    }
   ],
   "source": [
    "args.reward_weights.w_p"
   ]
  },
  {
   "cell_type": "code",
   "execution_count": 9,
   "metadata": {},
   "outputs": [],
   "source": [
    "from agent_mimic_env.pds_controllers_agents import feedback_pd_controller, stable_pd_controller_action\n"
   ]
  },
  {
   "cell_type": "code",
   "execution_count": 10,
   "metadata": {},
   "outputs": [],
   "source": [
    "env_replay,env_eval,env,env_apg=register_mimic_env(args)\n",
    "\n",
    "\n",
    "#for the env\n",
    "jit_reset = jax.jit(env.reset)\n",
    "#jit_step = jax.jit(env.step)\n",
    "jit_step_custom_env = jax.jit(env.step_custom)\n",
    "env.set_pd_callback(stable_pd_controller_action)\n",
    "\n",
    "\n",
    "# #for the eval\n",
    "jit_reset_eval = jax.jit(env_eval.reset)\n",
    "jit_step_custom_eval = jax.jit(env_eval.step_custom)\n",
    "env_eval.set_pd_callback(stable_pd_controller_action)\n",
    "\n",
    "#for the replay\n",
    "jit_reset_replay = jax.jit(env_replay.reset)\n",
    "jit_step_replay= jax.jit(env_replay.step)\n",
    "\n",
    "#for apg\n",
    "jit_reset_apg = jax.jit(env_apg.reset)\n",
    "jit_step_custom_apg= jax.jit(env_apg.step_custom)\n",
    "env_apg.set_pd_callback(stable_pd_controller_action)\n",
    "\n",
    "\n",
    "\n"
   ]
  },
  {
   "cell_type": "code",
   "execution_count": 11,
   "metadata": {},
   "outputs": [
    {
     "name": "stdout",
     "output_type": "stream",
     "text": [
      "0.002\n",
      "0.016\n"
     ]
    }
   ],
   "source": [
    "print(env_eval.sys.opt.timestep)\n",
    "print(env_eval.dt)"
   ]
  },
  {
   "cell_type": "code",
   "execution_count": 12,
   "metadata": {},
   "outputs": [
    {
     "name": "stdout",
     "output_type": "stream",
     "text": [
      "65\n",
      "65\n",
      "0.5\n",
      "0.01\n",
      "0.01\n",
      "0.02\n",
      "0.016\n",
      "65\n",
      "65\n",
      "0.5\n",
      "0.01\n",
      "0.01\n",
      "0.02\n",
      "0.016\n",
      "0.016\n",
      "0.4\n"
     ]
    }
   ],
   "source": [
    "print(env_eval.rollout_lenght)\n",
    "print(env_eval.cycle_len)\n",
    "print(env_eval.rot_weight)\n",
    "print(env_eval.vel_weight)\n",
    "print(env_eval.ang_weight)\n",
    "print(env_eval.reward_scaling)\n",
    "print(env_eval.dt)\n",
    "# print(env_eval.sys.dt)\n",
    "\n",
    "print(env.rollout_lenght)\n",
    "print(env.cycle_len)\n",
    "print(env.rot_weight)\n",
    "print(env.vel_weight)\n",
    "print(env.ang_weight)\n",
    "print(env.reward_scaling)\n",
    "print(env.dt)\n",
    "print(env.dt)\n",
    "print(env.err_threshold)"
   ]
  },
  {
   "cell_type": "code",
   "execution_count": 13,
   "metadata": {},
   "outputs": [],
   "source": [
    "# initialize the state\n",
    "\n",
    "#for the replay\n",
    "# state = jit_reset_replay(jax.random.PRNGKey(0))\n",
    "# rollout = [state.pipeline_state]\n",
    "\n",
    "#for the eval\n",
    "# state = jit_reset_eval(jax.random.PRNGKey(0))\n",
    "# rollout = [state.pipeline_state]\n",
    "#for env\n",
    "# state = jit_reset(jax.random.PRNGKey(0))\n",
    "# rollout = [state.pipeline_state]\n",
    "\n",
    "#for apg test\n",
    "state = jit_reset_apg(jax.random.PRNGKey(0))\n",
    "rollout = [state.pipeline_state]\n",
    "\n",
    "# grab a 500 steps\n",
    "n_steps = 500"
   ]
  },
  {
   "cell_type": "code",
   "execution_count": 14,
   "metadata": {},
   "outputs": [
    {
     "name": "stdout",
     "output_type": "stream",
     "text": [
      "{'reference_angular': Array(0., dtype=float32, weak_type=True), 'reference_position': Array(0., dtype=float32, weak_type=True), 'reference_rotation': Array(0., dtype=float32, weak_type=True), 'reference_velocity': Array(0., dtype=float32, weak_type=True)}\n",
      "{'kinematic_ref': Array([ 0.0000000e+00,  0.0000000e+00,  7.5521302e-01, -9.9875391e-01,\n",
      "       -1.5632922e-02, -4.7388997e-02,  7.4175280e-04, -4.2744510e-02,\n",
      "        3.4576020e-01, -3.6806550e-02, -8.7780811e-02, -4.4509736e-01,\n",
      "        5.8729285e-01, -6.2009311e-01,  5.0161451e-01,  7.9552609e-01,\n",
      "        1.7608342e+00,  7.1741235e-01, -4.3385601e-01, -9.7488210e-02,\n",
      "        9.9051863e-01, -2.9624522e-01, -4.9943644e-01, -5.5784565e-01,\n",
      "       -1.2331117e+00, -2.8910020e-01, -2.7541557e-01, -3.7002066e-01,\n",
      "        4.1313863e-01, -8.0841905e-01,  5.2728492e-01, -9.7332996e-01,\n",
      "        1.5179858e-03,  1.8073888e-02,  1.4902889e-03], dtype=float32), 'pose_error': Array(0., dtype=float32, weak_type=True), 'reward_tuple': {'reference_angular': Array(0., dtype=float32, weak_type=True), 'reference_position': Array(0., dtype=float32, weak_type=True), 'reference_rotation': Array(0., dtype=float32, weak_type=True), 'reference_velocity': Array(0., dtype=float32, weak_type=True)}, 'rng': Array([0, 0], dtype=uint32), 'step_index': Array(0., dtype=float32, weak_type=True), 'steps': Array(0., dtype=float32, weak_type=True)}\n"
     ]
    }
   ],
   "source": [
    "print(state.metrics)\n",
    "print(state.info)"
   ]
  },
  {
   "cell_type": "code",
   "execution_count": 15,
   "metadata": {},
   "outputs": [
    {
     "name": "stdout",
     "output_type": "stream",
     "text": [
      "time:  0.0\n",
      "is step 1.0\n",
      "time:  0.016\n",
      "is step 2.0\n",
      "time:  0.032\n",
      "is step 3.0\n",
      "time:  0.048000004\n",
      "is step 4.0\n",
      "time:  0.064\n",
      "is step 5.0\n",
      "time:  0.079999976\n",
      "is step 6.0\n",
      "time:  0.09599995\n",
      "is step 7.0\n",
      "time:  0.11199992\n",
      "is step 8.0\n",
      "time:  0.1279999\n",
      "is step 9.0\n",
      "time:  0.14399993\n",
      "is step 10.0\n",
      "time:  0.15999997\n",
      "is step 11.0\n",
      "time:  0.176\n",
      "is step 12.0\n",
      "time:  0.19200003\n",
      "is step 13.0\n",
      "time:  0.20800006\n",
      "is step 14.0\n",
      "time:  0.2240001\n",
      "is step 15.0\n",
      "time:  0.24000013\n",
      "is step 16.0\n",
      "time:  0.25600016\n",
      "is step 17.0\n",
      "time:  0.2720002\n",
      "is step 18.0\n",
      "time:  0.28800023\n",
      "is step 19.0\n",
      "time:  0.30400026\n",
      "is step 20.0\n",
      "time:  0.3200003\n",
      "is step 21.0\n",
      "time:  0.33600032\n",
      "is step 22.0\n",
      "time:  0.35200036\n",
      "is step 23.0\n",
      "time:  0.3680004\n",
      "is step 24.0\n",
      "time:  0.38400042\n",
      "is step 25.0\n",
      "time:  0.40000045\n",
      "is step 26.0\n",
      "time:  0.4160005\n",
      "is step 27.0\n",
      "time:  0.43200052\n",
      "is step 28.0\n",
      "time:  0.44800055\n",
      "is step 29.0\n",
      "time:  0.46400058\n",
      "is step 30.0\n",
      "time:  0.48000062\n",
      "is step 31.0\n",
      "time:  0.49600065\n",
      "is step 32.0\n",
      "time:  0.5120005\n",
      "is step 33.0\n",
      "time:  0.5280003\n",
      "is step 34.0\n",
      "time:  0.5440001\n",
      "is step 35.0\n",
      "time:  0.5599999\n",
      "is step 36.0\n",
      "time:  0.5759997\n",
      "is step 37.0\n",
      "time:  0.5919995\n",
      "is step 38.0\n",
      "time:  0.60799927\n",
      "is step 39.0\n",
      "time:  0.62399906\n",
      "is step 40.0\n",
      "time:  0.63999885\n",
      "is step 41.0\n",
      "time:  0.65599865\n",
      "is step 42.0\n",
      "time:  0.67199844\n",
      "is step 43.0\n",
      "time:  0.68799824\n",
      "is step 44.0\n",
      "time:  0.703998\n",
      "is step 45.0\n",
      "time:  0.7199978\n",
      "is step 46.0\n",
      "time:  0.7359976\n",
      "is step 47.0\n",
      "time:  0.7519974\n",
      "is step 48.0\n",
      "time:  0.7679972\n",
      "is step 49.0\n",
      "time:  0.783997\n",
      "is step 50.0\n",
      "time:  0.7999968\n",
      "is step 51.0\n",
      "time:  0.8159966\n",
      "is step 52.0\n",
      "time:  0.8319964\n",
      "is step 53.0\n",
      "time:  0.8479962\n",
      "is step 54.0\n",
      "time:  0.86399597\n",
      "is step 55.0\n",
      "time:  0.87999576\n",
      "is step 56.0\n",
      "time:  0.89599556\n",
      "is step 57.0\n",
      "time:  0.91199535\n",
      "is step 58.0\n",
      "time:  0.92799515\n",
      "is step 59.0\n",
      "time:  0.94399494\n",
      "is step 60.0\n",
      "time:  0.95999473\n",
      "is step 61.0\n",
      "time:  0.9759945\n",
      "is step 62.0\n",
      "time:  0.9919943\n",
      "is step 63.0\n",
      "time:  1.0079942\n",
      "is step 64.0\n"
     ]
    }
   ],
   "source": [
    "for i in range(env_apg.rollout_lenght-1):\n",
    "    \n",
    "    #print(i)\n",
    "    #ctrl = -0.1 * jp.ones(env_eval.sys.nu)\n",
    "    #ctrl = -0.1 * jp.ones(env.sys.nu)\n",
    "    #ctrl = -0.1 * jp.ones(env_replay.sys.nu)\n",
    "    ctrl = -0.1 * jp.ones(env_apg.sys.nu)\n",
    "    #time\n",
    "    #time = state.pipeline_state.time\n",
    "    \n",
    "    print('time: ',state.pipeline_state.time)    \n",
    "         \n",
    "    #state = jit_step_replay(state, ctrl)\n",
    "    #state = jit_step_custom_eval(state, ctrl)\n",
    "    #state = jit_step(state, ctrl)\n",
    "    #state = jit_step_custom_env(state,ctrl)\n",
    "    state = jit_step_custom_apg(state,ctrl)\n",
    "    \n",
    "    #print(state.pipeline_state.geom_xpos)\n",
    "    #if state.done:\n",
    "     #   print(time)\n",
    "      #  break\n",
    "    #print(\"Is done\", state.done)\n",
    "    # print(\"Is rewards\", state.reward)\n",
    "    print('is step', state.info['step_index'])\n",
    "    #print(\"reward tuple\", state.info['reward_tuple'])\n",
    "    # print(\"Is \", state.metrics['pose_error'])\n",
    "    \n",
    "    rollout.append(state.pipeline_state)"
   ]
  },
  {
   "cell_type": "code",
   "execution_count": 16,
   "metadata": {},
   "outputs": [],
   "source": [
    "from some_math.quaternion_diff import *"
   ]
  },
  {
   "cell_type": "code",
   "execution_count": 17,
   "metadata": {},
   "outputs": [
    {
     "name": "stdout",
     "output_type": "stream",
     "text": [
      "[[ 0.          0.          0.        ]\n",
      " [ 0.17457122 -0.04440825  0.72948873]\n",
      " [ 0.05302095 -0.0968165   0.9798447 ]\n",
      " [-0.04608192 -0.17313755  1.2264762 ]\n",
      " [ 0.02906167 -0.35319     0.94155866]\n",
      " [ 0.13455467 -0.4777181   0.76139414]\n",
      " [ 0.22441347 -0.5568892   0.6909413 ]\n",
      " [-0.02213942  0.16763127  1.0179135 ]\n",
      " [ 0.05875943  0.19120699  0.9022077 ]\n",
      " [ 0.16650769  0.10724488  0.8767724 ]\n",
      " [ 0.41481942 -0.0881189   0.5763192 ]\n",
      " [ 0.6173413  -0.01388184  0.30129325]\n",
      " [ 0.67606306  0.03621648  0.08926342]\n",
      " [ 0.3571118   0.15534595  0.5905572 ]\n",
      " [ 0.47069862  0.2965108   0.3024173 ]\n",
      " [ 0.45456767  0.35851815  0.06761813]]\n"
     ]
    }
   ],
   "source": [
    "#6 right writs 9 left writs 12 right ankle, 15 left ankle\n",
    "\n",
    "print(state.pipeline_state.geom_xpos)\n",
    "\n",
    "\n",
    "#index 16"
   ]
  },
  {
   "cell_type": "code",
   "execution_count": 19,
   "metadata": {},
   "outputs": [
    {
     "data": {
      "text/html": [
       "<!DOCTYPE html>\n",
       "<html>\n",
       "\n",
       "  <head>\n",
       "    <title>Brax visualizer</title>\n",
       "    <link rel=\"shortcut icon\" type=\"image/x-icon\" href=\"/favicon.ico\">\n",
       "  </head>\n",
       "\n",
       "  <style>\n",
       "    body {\n",
       "      margin: 0;\n",
       "      padding: 0;\n",
       "    }\n",
       "\n",
       "    #brax-viewer {\n",
       "      height: 480px;\n",
       "      margin: 0;\n",
       "      padding: 0;\n",
       "    }\n",
       "  </style>\n",
       "  <script async src=\"https://unpkg.com/es-module-shims@1.6.3/dist/es-module-shims.js\"></script>\n",
       "\n",
       "  <script type=\"importmap\">\n",
       "    {\n",
       "      \"imports\": {\n",
       "        \"three\": \"https://unpkg.com/three@0.150.1/build/three.module.js\",\n",
       "        \"three/addons/\": \"https://unpkg.com/three@0.150.1/examples/jsm/\",\n",
       "        \"lilgui\": \"https://cdn.jsdelivr.net/npm/lil-gui@0.18.0/+esm\",\n",
       "        \"viewer\": \"https://cdn.jsdelivr.net/gh/google/brax@v0.10.4/brax/visualizer/js/viewer.js\"\n",
       "      }\n",
       "    }\n",
       "  </script>\n",
       "\n",
       "  <script src=\"https://unpkg.com/pako@2.1.0/dist/pako.min.js\"></script>\n",
       "\n",
       "  <script type=\"application/javascript\">\n",
       "  var system = \"eJzcncnObclxnV+FqDGL2Nlnamg/gA1oSBACJZVFgk0RZAmSLejdHd+KiNznFlkgPaEsqWHx3vr/c3aT0a1YseLfvvr2d9999Tc/+revvvvlb775w3ff/M7+8PzkKfPHP/rqtz//zTf2x6/+x+++++W3v/3q3+2vfv3L3/7q7/j7P9i/+OlXv//22+++sr/+h1/Y7/JffvvNP/yKf/7+l//0i+/+7g+/+Paff/2P3/z+/Ztvfv333/4Lf/z1N//ry3+vv7j/2n/6F7/83fuHX/32m2/eP/38t7/69Tf39+IH9d/z5/QH/7GffdzM3/5vu8vf8AP/9M23v/mD7v1fvv39r/+RG/q3+2P/89c//61/DHf8y3/8V/vLr4v9+Xff6tbtGf34R/kffP7vv+U5/rR8/v37L//p73/uv7Uf/U8ppz6nHn5iH/3PmmXs0mvR333/x4p/0B9++X+4vJ8OffqI76j+0089+6mt1v6zf/dL8mt67+pvf/eLb37//dt6fuCu1vc+9f/hLqff0t7POs/SHQ3+o31xW/vMP7ox+6jjP9TGmnXteT6+RLflh+3P39cPvC37cn/erSy7unP+SvdVHv/l0592Rhvj+/cl2/nzt1V/4LZW99t6ih2lteZf7baqf3F5xmlPa9+/re+5gi9u8L///Hd/+Odff/8O25+6w6/tq3qcyHHm02cff60T2Yf/0Nq7tNO6Pv9PHtPPW3Zn9hfcb/+h+/0POql2Ps8fv9K59BTq3NV+9Slxvz/+0Z85rz90d3Xs0+209v3sOfr+D725j5f3ZWT6C17f+M9+XD9C719wu/O/9Gn9obv7//W0vonSX/Dq1g/dXISm1nvr2y7yr3V3o58vg5Yi2fjCbPr+o9tVivcX3O/+wfv9fr7017rf+OJlJjr2E7c7/igl/OJuPYf94nb/27f/+r1bPV/c6p/0ALr1p1b/d3acn3nmX+1V7+3fO5q90uLv9E9eZo1Exn7evqrt/eGk/sJzXv5kSvuf6qC/pcxfcr9/MtX9T3TQP2q1P3POS/0vfdCpsf/w3c+/+8YL03/Vf8bt/vSLfH+NUUuzu7T3+ozB7f1Ud20He4xiVz7bs0f1h/Gsdixw2ZdbFCt+/I6Fxb1Ot8NRVvXfL3aJrdg9zKeOXveOX+92gOYeZZ82Z+uFG7enMPe07yl29UPpjco3+3r7kVVOaa2t5cmB/aDd+Bitjml3O/gAe0OzzOdwSOy/Nj7gaxVKj/2fnd3G9w59QKutzXr6tFtrpZ+uK3jsYldpc1l2VWfPe3hatzf0zDnOeNb28ugU+wrLTIr9k6uy7y/Dalz7iTItVStxAzwj+zK7O3uu3Y8p3/3Yb267+9pLj+dX7Rct3eHiz9hx+ZjbKKOTedQx+lrNH+Luu49e7APW7n35S7Rf3bV3OxPPzncw57FqbthbmbPUeABl83f2ALq9S/tD1XVxP23bpdqvNH8F+qrR7CMW3z3OWnEIxhyt26nc5djTmrqCZz92RWfVyt2tlefoT93ED93D2sOuw2paHE3zD7Acc9uZWHs1c7ZdV1uL/YCdD7s0OzR+B93ORTH/Z19gX/bEI6iPHeJlL9Iu3s7mHv7rw97n6K3ZNYzqaV7n/JsD3avXtn7Gr/vl96c3OxbVHG61/xxxkB898bWebiffzs/xW5g819lLLbXPlrbU6jHHbS+pLHNiaQv2zneZi+d+2up+FEqva9qJtWc49rjGtDDEMqo9xn7yGnrb04JPxRXMMZcbU8cQV+eK57y21DBoezDT3ljZaUv12WXYo7WT+Aw/y3YCup0hM1D7/vphSmZezZ7vY59cw5Ts8a7RzPS6nTC3xcKrrZbdmslht9eU9KDsVs0ke4StZWFsbTsfmxvpbkp2yjB9e4ScuPj1TtZqJrPt8T3h95pdYAftOvb35wlTMhvejYs9XFIeQrsq+2FLgu2wjWUeKSxptI0beJpZ9DzD32G3Q2lOz7yWfXzegLmGygswb9xOPAC77m6Ox4zLTH/F0W72uxXDsBvhuq8pmb3YVZnXswe0w52ZKW17oB1/UMwlzTAOO//VrtOODK/nwyHYgdu4e7tye6Ejf94O2JRrNb89u9+GPVI7AZ1AYafvtSZ7PQ933PGhbg9mm5i5uVV7aM3NyY6MXdg8vHG7zWtPVC/VnIo9OXMD/vt2+syjbLu1Y4chLMoev51lu4xhtrbLh0nZd5ijXpX3ZAc+j3PhQFoQs3s2Z7x3vI6NhZivbNucQgYHc3W8SXN4FnvOuOHJjMMcklmk3X173Lg5FBZqphm8+ZB2jWqTzix733ajJ07EY8+ES2h21/Y5D84Fo+Kei4X/ZZb6lNeqFMvMvXdeSByKYZFhYQL2nFd1o7LHa7ZvbxUPM65V2VXaddn9HqUWYVb2wO2ImgOwO1wzIpTi7cGG7ONvlH16aeYVjr1Xczi6Xbseu6JqMcvC13LMlxBkjs0sauBg5zUrbqhY3H6Iq2FVy56ePZZhFmNf6U/QApOVjnYx5h1q3j+I3bKnbG7cciR+KMxqmqWZHfCCd21xHi06zlbNVwyV9DIqO6FmUA/eyV7wzAc4cEz2u3YeLSbpsrg9MxGzKfuNOq9VmbFbyLYoNA8PJq1qYlnYJB48Qs7Z5Ag8BwuSz7lWZe7VTsJZpfNs7ZP8xxsnuNhRbTx2JW/mmc17mtlxts4816jscZO+PITFsAmzdhxI4xeaP9uu2FRx8RZj67pGNeyc4QEsftjhD6PE2Sxs2z56HE/17ELHNsuwB44R9teoLMZbFmfHzsydA3gyTlkK0kvp1P3PtCtxq+Kiir0Mzto9TvaRi0Nq1m2H3LzaTKuye+kKjwNbKX4mpn0CeaMlNHO9oWpz1GUZOID4BLsdu3hFsVbsIjxWUEFZlCjLvPZIH2VmZTmBxR9zfvZKyBHd12I8doe4VXNqOtb2dM1jVXtSZa1rVXgsC/b2bwmj7VrV0PmzkNP125Y52KEyTzgIz3GoMTS7HXv99lIIjm5SJJGWDFr4XOZlPVTVagmQ3eYhN7q/b4/fDBAHaVfgmY1lfXaay2NHvFr8av747NTYK8HT2e9koLZgZKmmXbr9F7uwvTJQ2Ulfdi8PMcQ/YZGU2v3ZeVQiewPVIT2y82U/Pp5M+oadMrskO2ckKW5SnazQihOLs5bjX5uyz7czb2GYssNuPW3K/L1Zg7lHe4B+BiwUmwlzEeYD7G/fpK+Z57dvW5wYK19uoCI02vu3kGtOZ/tRtANo7v08HibcJOxTicN2bqlowiI657fZo7FD3o5b1OANV6ozM+r6GpS5tml1sUV8RXsZlNmTXS8WSUxxg6rn6bhncrb2aVDmO/Ggj+X4jTPtBdhTGq6pYDV6mTXuoW5CZydnWZl2cCpreEg8V7vmhMux+HrwA334ebATZ2HdvJR5ouuhzTQePK6lxLypNEg7IebvNqFrKj7qQJqtk/xU0o8b58wvW6KPU7AnV24RUC31tku2VMI8xxPWRDYyQTUsTTqvPVkRYA7SciV7Vb2dtKfKKSVNssy4eJQqvMhB7OTApkXZSbfsh+ht3mUvt6hmx8MuzBweDsFvwE7tJKgDeFuET4vaqiio7OzSWoQp+1Z7+eaYSA1rZH+HQ/qYTQySiDyNnQzI8iY71zqaYVMWOO0XOkfHznG8SErojUu0Z/zMa1N2SctSegvU9nDSI9kxtGdtro5Cc283qkHJaLdrjw33co2qqtw3m+e9zxJGNbi2jsVhJX4m7eXZH7hBbuiMG20tzalk4dz5fCKqTdyt2ZW9pLm8ylyWctkV2BujSh/XpsighNzbdYVNuK+x+pscKoKUXaW9HbvGrvTk2lQnterUXTMsUkkttQm2UiN7tZhrjteimz0ssqvXpDo2Zk/aEtht58SBG0JvJYPAKuzox3vomLa53UHIuvFpWA5vifrkwqx0TYOqOEaLTmaHa5w98jDwAro5IfuG9cYn0If9mMe208Bhnj+xsG9Z2cKXWdKzv/n6cVzBnpWZ3sL3rnHLOTNVOzNWSnDyWstiirKFqEndMMpIi7KrpHAc5lKvQXUcDrmbvcin+lmwt2qGYqfUjh3Rd0aIWtS4eAEzqyxG7KUdy3A7Vt39sSs+WvFnN6YInrUc9fDmbbSZj8CeYLHSEwTiEKl0brvqOrsmq6qUChZ8IJHAPELDGecxHPhfDjjFxdmRaNj7mFSHlsHbtcdLtPsfeEtzNDWzRjNQy8O6AiJ55+uQyEXtIJJKOjDSeKfmsy2LNdfmabdsqSmdsTNfOH5xCuQMSYbNe5pnHmFL+Dm7Nw6H/fgNsxZFOziW2bp5mx0Yhh0OCxnc3QIz8buw7IuDfyxy2atNYwJcOTzVaofupDmR7ZkHtaStqMYze7JzSiGHmRWrqq452cuX/ZFSuumRjDUS4ceiVGlhTocvwqHa/5lXfM1pmKkO4goQR7amrLiyZ2aW2cyPzTCyRRQmL7I4dW4xZ+Zk5wcYjb6Q3eaPfzR+UkHVNmWiudI9zBQcnATwwI8vgu+TCbxFZ+o4OzHmRO34+SWYp2tH2MYDGm2v1a3JAjoRjvTVEt48y489KqLLIqL2nsfBLoQ3ysteI+KTGczY9g4sXjwf2ESjKjAnPo8KkjCnZfmZvRhKHHM9UUTZc7DHwot68z2LFZ0K2J5mJCpF1S3QjBUFVq7MKOLMjWxQRouk+wYne7G8cOq15cm//XcQnIfKxPImZ92YX9ygVRR8ZiXXmuwPwn9wmzNKQHMEHGKSbjuQ64lEiaeE79ic2LwASzrsEuypWHg1g8sitJD5WKFBih7H214Tp24QCPa5+bJdZgPysQBnD3dlJWxHGQDAroSEy+EVDHM00DxLZsdFOu0uCE1km3xQntxjeZ05SDu+FBZxD2ZXVvXb5Ra8QBoTP2bnyh72c0GFWfS8MVALhR6bCAiWnx/iu93WuKgEZrT5jE0x7cbkeO7soBp9hYXjns2k7PbswK5Pa5IVWD1hL2LUHeneASjZRBx7no+b+SJHUQJFZjQuJGGOjWaBkKJdekQ3S4bMiVdqLfugNCarJCwxtZslBY83WUHG7aamOVsMLRJOKxu43YenZKG2hC1xsJaZCTXiNSW71Y5Ts0O9R5bThbBph2nZLcztgETDqfL/5gJqeQEJO22cZF70zuqtKQOjvjYfYl7kQub2YQR4UpIbXvlLsKuHXLCFNXWKnG7mSb1Z3JrsJNt5t0+wnyz3Fux3zFwtR5qknVE+9T6500YGa9luPMNt2Q4Rzz6lj/ckWrBUHDxk7idig+USBRQMbNWKl8jZ+7aUw2zBDvKtXy2Xm5XX0qlhekYnS3TNU9ixsZo3LwswsgpftxNdLmxvPvWQZmHC47nmBChj+bV5Nbx7WIglSoA6JJG1rnsTeET7rk1FYSYQaSH4PGhNo8JucROUXxYNLURbcZT2wOmiTrfTaV8X9nQAUKhhBzbioPnGpT7EbXvlNSF3eotWoBxqaPynm1PlfC6gWf77SpAEF7mp03hyrzlZZl9ACi1RtT8M/3E7xHbldqDtcjGG8Ak47UM5agV/BliOeyHKr6qj0sOeBu/AzuYiopsjCXuyB0Dnw0o1e5RpT/ZVZtW8CbLOkukmBfOx129WQVmT9mSvfuMKLY+6id4E9zNDt1c+oxa39wWIZYfDntNWOSIgwiKN5QP25k/gzrKniSGBfVDvx1lovK091UKygxnmRPuGZkOxt3ddgoVEcOsurzY9mJNoWb7M4bD7sGgW5mR/a6frsRe88k2aza1FJWGFAE0Yz6o6wI1FUTNI0Dh/gtwU4KQ5g/PmesvOHOWd1RKgfwGv0T8yZ2QRbVLTtLcENpujNm/PTfbsvkhUmiC50fIRWmwtlOJWmZaRcIQZUSclstdb3uhk3vQhGoJolNmuORGs7OTTcHL7qCCclkIcPvlFVOwrGv0YpbvLjf9R4mw5h2UnfN+KTM8uEt9pedqT6XLljQLw2F2dx0+RZQt4YiIAbCVHOAlOh5rJSvp7/8c+n+BOIOBhhCnZX1fSJisdi1sBGKi9ZHpznfDzgZfTM7EyYdI7aAF8PIQ/bozkkpZPyxTBHAYBlveVpkQ5i4uqZF+PQ7pkEALvLIKAEM4Aes3AOw+86ofTkugTWV4MhtAjyVEHrAIH2vdP4MvAIMwCSdnpgV2g/FA625m31KeNKJjMoqbgX3sD5qijYCq8UWqITjX7AuUk34Nin/wz7Ugdaot2k4xrux11QEEchH3ZNSNzh0TLScm0AyUn6SCds1yN+iJSPFq9lBx13BYk7QiKMvtN8D7Pxix4WN5JTWvxt44aMcnurlEVWiTPclGlfz+0qjZJcWA4i1SLm8SwzkxY1nyuvUJLyMxzXviBwsCe0aJjuUd2wulImu8EXwO7diOioDE7qrj+Nl4jAqPDiGmtJKJXuH27PrO8QSiIMGMVGhnTWBSPeRNWivHrdlAsYEb4sI9V/3Wogbizcjdjnfb1fF/6YupdkFZzOpUE0o0ItJp7o092ptsQqSLuCix7XCsCtLTCZtHAsMeuF2gxyv5rAyyODF9WZI+o0d0e5Jn1WpHZKfi62Tp1TfSsi2XIdqn2D5Alc4uBAVH+dG98XUKEhRd6/4pFVEz5Afphe+M0gXp2S2B7bFKxewzMhuwJ2VeQbFjWFKWSHWCzDnvkdk0Unm5DascevqW+wWgLMLMswR5bL4FB2ZGgHcKLAGy4hQopFdGM0PwakT1c3gQIt6XBYUT0HuyFqpemjiJW9ODJcb1fJHd07TmyZgvmIoq/BoUeM1kq/xHRqIKv2Ol6Ou84Sz1Lf+ziqdboOLknphOozqx9EU46whEF66rfy4vsIhX/LZlXJZKG1DmAYNaDpm++Q964mRikmNtvwuaOHXv74K1E1BPkSSFdKG3t3WW/iXqG8QnOWL+GtOg2WfqsjGPfWskKPVAA0qURAQ1LqrxyUjA7onkT5hftyVhiMjh9CaQDiZNgVsL0STCSCr4I1rCcOk3JPMOwMwsIvKNZZC/wqFYEcc5mEwSiCkmFBPo6EwtR2FCDZRCVpaWAdNE2tU6tl6EhD63Oh33MhyVxUIuwXBrJHr0AxGkxWvYAnuH4DQjeBEDD050LO9DQAvwwO+9Axf4Bg/pP1ab5o5btfDvoFo3sZWF8CQhXUg/7Pvts3o1fL9Xj4d1AgrFrcDYDZTcvza4LU722dMAl7EJp0mehNHna3d46jeJ+Mq96VLFCnOhzXlsCpG4UrHbGR/So1NxdNN8s9GzPLO3L7ecG9lTASS4MCUuAEsEMdHhTji6zFdLAGVMldWB4Ps5D/9JecZqSEP4NajlKd+ZCo2GIGzkg08+OOsmOjyVe8KXGhS3AF+0hDW+SWRYSB9kuACoRPBXlFtFnopELArpfHNBqwUZK1WlqEjCzz9QBmcwmRcxwOMQOFu9liUAyx5vaWdgikbSQQYU4M7WzH5yU9Pi7EYn/EaPG6hS8e63z3gdQPd1+gvyIPtMBmusEFrDMYBcROgv8RTPMi4mbq6aBBIJuP+npmcMhCwaBue8ywprsr9S/fEQmSGuCi9TpIC5wtOhtEDpJTnFYxTlLD2QbSgdSXjs149qTRT87oPBj6I6M5T8OTQv/STJmVhF9pjGVDNqNmB/KZ0ClaqZkuYA9nuGZBIw8uwDLK+gxzBGBqdLvI+V9SBXTnOxuLWWyZ16EovjvW/ZFK2nSiHxaj37tEv0f/KWuDzycZHhT7+0VgckyLaKgXbp9fgk4vNJUeIDqAKtf/A4mkV1WEc0jTInQBrOWgxFFEvCdPVA1zertNha1n5p4DNBBeqI/9pEXxIuwxEVZkQSdYT3vSd60q2D2tB0cUx9vENJtpyMhPAA1KGofQc2O0xRIbnmfXoofYvteqCQVh8K/8Le36HTjJWkL9mvKMCRrc1Q/ChxzyTTrLLWbFWKAZ3d2Ji1SY3m82MtgOCBPuJROhRJvwJJjwIYt9mMHuQ5QDocH0NPVHs27sBBiodHelFWUdfgPF9qfuPWpYjdgSCo5S69Ipyjx/QOaKkjLIS3W4IL0DizTW7xWuxJIeCsMyUwKeliFp5Wwi51K8+fUd5Y69OwREn/ND9gJMhfkKdsRaQu2Bp1gS9GvGUFmgBix8EplBje28oFwruCSZljqYLiAhdRraUVU3laQyUs7QY33XZmWgEUB5hede06wpSdqLCZd1V7L9O7FIBmPIstKoKKibNMoLcHQ283zOJhu9xTbCwRTrRTVfQRUQMlo7xWaw6JJF21S2rT2qBa5b3nBBnvgm6djHg1GmBuSOcUOJgn8E1Yk1pClWuYN7LRctIQmgBmm1er2KKJSteqOioNYYG8lvt4ijIUz+6Mlc+XyDgYMHioXCAVej5JPNFrCdgUQqJabUSfxsVSRerdekqQZSoGxoQqgpB1xT9QHIMEl+koWGqErWu40Xt7FEIVvQ+PTXYQZQRWxxBT/bI8lya5wfWm84Is/gAaYOiCI42Qbgc5mF4uun8yPdQo7GawlvcBx9wxBz7MI8+Bgyyqei0IOJBMvMJnNHQcdyhyWve9C53b0k1YEqU0AAGyVqJMwC8pHiLTF3RNwlAWtSTVrJyOzAqhnFtHsBZt/TZIl8A/Z9KQwrFG4melP6NJ2Vu2IvlZkkYRjvNTlq3G3lWLQ3gyFqbndeAm0PWhSV5F30orMRVX4UvB5nugIVyHrZjOy0epM1w3HyLsGjSuIU2gOuMNgeOwYl/BZlV4IJK0GN2IFadxi5lxCJOkmpBXZ+QGTBm6GxumnwPwoEdKcQFUSk8GgiqBtJ2Z8JCVH7GDzBXxM83Nkp68w84ElmUPTFUCKn8KkiTq3yIFG3wSegv8GwxKWv9WkW73uVQNssJf9wLDk1t5+joVh2LsUaTOiuUWwuiHp0KcWA0M10pwiBNhZnUm0xdnDQN3EPUt/kmbqLSO4fxTlwR9SDkyptCis0o6amKPAswwtpB2RCQFAwxt9wozAaAYdBKLuRzQyV0PtWyCGlZ52ZK6G/As2pr2wIASBhuNf6QNc4v1DHLZgBmvebs2fIccUtMhqJCUqEVLtOKgJvD74Go3PJCrb75iNO2QHKY0em9LrEnADzVvRTkWjOTcaTVJzcnCLPtG6onjED1hdSzh0YhgkI40AQa2wXPbDkA5Esk72vuDeeFYGvLWpWmg7jBmkcfM3JKak0Vb2xzMYJK/msnEwVCb++3RG7Bxb7CRjcqID1HiAOLtc8ORsTApcniR6xOoW39/IvMhMmGwMkoEddREdwYTrLTEe3vaBvmv3MZL0YvmH2RY8LpKtSKtEHACwiV6UdxUnjQyq0KEJF5kR7hFksWjMwM2oKJsAc8JFXrik4iHARDrMB+9hdJy4vXGiab3DHw/Iw1J7+OZ0rXPndkYhZ/obbCB4loTbIZp0HBL43qQN2Ee5Rboo+aTrRVhsViYwJ+xpbLx5D7RomBcBm/EXcKEO2irwldoSMSenqAqMHvtR0FS/Jiug7CVRt1tYbPfp0SeH+uaklGtEZOAEKoC84IRuuVuraSxQ06XMWzi0erEVKr0Aawr8NNUm4A/RQ7Jzu0kQB+XnvDa0+EX6j9RW7sbIMslGwUv4X9nQNFvd9OpAfC5F5QgCJpeAoefppHlPmoqW85jBPAEjE7KneXwmbDozE2lBOJFKpgFuDR87LADCNZ2TwqN4Ipo+4vRabkn6k6m5vVZLiugQQiXafhUWtS0IW2INDRAE15EG2leFfICrzurOjtmmpoJlYTWHm7xFGHoc8AKoqUvakJ2ewWd80b+BhAXAOMiLguljz8GuS410dWF97oGhPni05pLjKTq/uR8VmBiyjtzXyggA1GFX01L1gwxntsHEor93vbn6rXTGH1rWJ7oX9PosBzAHJRQhzIjXihu1pOSjNmF0g1iLg4u+p13UENdp4af17UUcNIB/YT6ZDYj2Z5Yt7kcCdh1gTDCF6GcjeP6Vfp4Fr/bynIg5FaRky2iD24AF2XmHMoenjgAJpMYbgHPypsSkPpb40g1ZdeX3gyeDGDr7+Zbn2CxXakEuw6mFyA5QojK6Lr9We6r0jmnR0ll22IAhKeZZqA3Wnf0RYdc8u30Z8xn+BO19wJziiZp5OsBBnacZLjUnW74AJTeE52eSvDX/entDD3YF8tS8ncFLOppQouhvrxlBHWASopOVtowDmzmaQd+4Q4P0G9h6IJA9V88TRC/6iIFWGJiakZLhtDBh8xrApG5C5gEtQ7Jw/DGBBTBhrpoSueY32XmG/6s7ppMYCZ34LeaMD5NKd8JhE6lIzhs1VyR0FsMhD1BWLGg3foLJjioBzs7dm9Bx+Du9DOb3TzQ/RJck6MJfDdB5QQ8+tDk0fnKROqZPLE1R8Z/9PxJRwHS7FfOSMWNBoxYPQrF0CYeC66Fz8qirVzCwo3hwULQLFICwIeZXhJOVRCqZwaAI6mAwY7Q0IQuYjCXYdXL5pWcisRlNtEM8z/1+s2fyUd4q/OmEF5haqhAYoPR7fIR+AneLtBCn+YKdkODMEpnCO8mpGOIUwyZCzyAwb0tqCEZm4WKw5V0oECz1+KHw+ylukH1J1GiiZSyyeOFDPQAFtyyid27Fk70sFf0RjKAzWXpnSbQ5KLeiDifGrOrgNlq9MJ3Z5ib625krJcANkhpRXQD1S+ZzjY6tuSjLSPcLek8KQ0IXcS4iF51G2Poi8gXrFOQSShvjotxzGpElckfEbxysw4SK4Pj2iheMWolue2emgez6jm1ZuIE4fSiJCGWePNO+fjS7VKb3lrGiQeJN/6bAXr1hAAx70HVfajnwWgVXW3wAZGwj4lAlsE5QZyLSbSAKiwQbGUxDnzCijk8Ds9oWqGp1wNkehuVMcBbBfe4AYGXmV1UR42retZgQ/DqhbPmsgy6gqkQZsNPnrUrkGjV9R7asl9VFn2ZU9FHTM/K5QpnNQDMMznz+W30JC6bwG5Nl13UExecnfMRoTIfJYbfo01qZjwL9wj6ji93r7WHTCVF1P+m71wA9HvUZQdSe8VrR5IU1qLfjeVpWZqpW37Q0zAhOklpU1KMXX3BG9CaejUnf1w1JQ048dXEGvTAivTmQpS03XpnTN++r0U1mdjEKIwoBWIyMUcYUGPzVBb5xNJ5z2VGAYeRw8FpwhwmGQGZlgs0ORA06w1GaNmnWmdt8J2qZGqexbHUcXaQwJUsHiGB2gzRcnngTFs2gnVKJnuzGc5JFPYEfGC2Kh4IfQvDhKdc0JRBUQNyHo3jjEYBmpWSYhMD4fXvwi14lLGKmGcOWKG6XuhDtvCmVxfGK06XwjHjC/BZQmyWKWx4tJ4TANjS3uS59eYGQ0lmt1PIxGi/gy14LcySgPE4osBTYkkKLhxV25qV/Q0kFJwMpmW171wJYkKHqxlGuThNk0EVAevls3Xh7v6MiMQFt9cYL1FS7UruJ9jyXs0re2SDU3HmSpR4oBKSi0V0/x7AwmJyetOqy/9fFy2c8D0edX8/YNu0ZBkOpUaOwRCUBIpmPTjvgPajOFNEohJ+XQd9UrVW0bJ4kvcKIVGprRiAQy08n/a/lUQXiVJ4itWvpmG7I2R6S7FOZMRdDjITYb0LOgDOHm7l5XWci0sqWB3TU/RkpJkeYMvoEY7XSRJ3MUtAWyjcIKr4E/EzQpwBDeKCQZa1QYPrM/xLcsGK2lpu0D/q3+lMNjjUsrGjD0gAm6V2qqat7E8BgwC5zUHD7z7Wj7bDaHMp6/QPQJLIHAqHWbsehOmgP9tVW5FLeZEytEF8gWj1iiLnjohNGI3cyznhGAN6Wpg6aCg+9xJfuai+VaXOEFFqy69TF4PkjpHDnGEiLrNAdIPsXsAX7A+vi0AKKhB3J1ugIckKdnqcklmnOpfmbOxnF2Bp5ADyYsqP7t4i/By4YI7tRnU3NAEVueK4dASkOcC063GFHjD0yIkJ5l3ZknwgfSwfwEjrMtTXoWDiBnKlXrxhO8LmlqSs4gHdAl80DWJmjaCpvoWXFZFjR5I2es5N63Io4k6R0VdPjF2OgnsdqaTu2hBjsQsmAoNODhXuqRAeG8ETsrP2eoCkkihzMLN/hAGCd61tL33ECH3EO6Quf0i/EUGjDFfpLLWtTSA+w/sGR7Yq9Z1SRtSHkfA5EmethRLlpXJ+qN+ylkexxCWUmNZDsj4iG2IBZxRuMNFSKKTMWH8ddJGrGwLu442lBjOY5O/S5909Ob5neZI45+VNk7KDgg5MZ08vifnbxTWmGZ2oOWXyq3sENRiib4Ds0eB9YQSfRBUb5cabc6+VB4EK3GH8gQ+FIC1MUGkekL5iUIPwtSRWdyn3TOur7pbbq8IQxbKi4D4S/20eUJ6h30HomVbgoJYxbUBt4pk8QqCwqiJltSSDTdRGJhso3sKtxY/FQlgdKRrs7lAeK2v9kKVB4fLCQ8hez2nCb9q1NRXPk7NmLKGKSfK0uDIMOgyb8ZqakhRVpxqiRcV+JFOo0GqEgxnC7ory03+ZKabgxSxcdYboNBfUbIvhFaBgZhMM+Zh44XQOJwLLvqwo/LRDsIe0ZeE3rvQsAQU5wEWfRoU6p++DaSQFhv0YooiVubnWLtRH3cJDqOI9yNvPSDtUtRcGDmMIoTs0DxiW+S7nmucONWBztTUROUP5wM6I/Zq9lSb115bCshosBGVDx2a8ZEaE3BAg6GqFIyigmnF11NaunhWZIoIxgiIzi1utIDs8VAJmCP5T3MIVHLG4QSnfPFM6MwOD3Zv9QG+LSJi17DQv45crkKvj8g/sPSxod0GCp93mn1o84XR2fuHs6U151J9+mS9SiyF+aXFHkO5cPRAsI4hIhDzphv4bEnAQaCFQ5Hgw6IC0yGkykpx3Brpn01qSm4PlvJUVrClKMioQd9S6muNnduZdvt0R7A/L2jCZnJ3+HN/wwfNZnmhGtJGRusLlMJ+0elxBYRmKiLkGSiBzXAsORqlJk5JSQeBLLnJJDsxC6IIQ3kMOkEm0fYyOWISXlNkQqC4Vk0yCq5T4++0VeficFrytrIypcKUSgJgHnI8C3IwIBNHOYYPkEIbub19+UtVHiW8DwXvFUHzsKow4bG4dab4EOMQX5hAb3IWaBCZZgZow8MV7hHSPGiDX1sFAkuQzdiV0/dIHINTMUqf8j7i5tIz/VC1ELXM6RoMlrQ/ZntFksRsJUz5+mF4oTU9wKTwZzDjOyM7TXm9DCcLBrt5hqNxc2hMOBLAOkkHIo8LA6mSrAT7+jfJXJafq+TNNG3KTrd5S+IVuSCANyNRv8ed1YXERqUcfAnH4qeYCOLWXzdholkOJiXdwXoLgdppuNNFpaheAkZCfYC2TkdAwnI5zHh5eoaik3GOmBTHvd6CHnND+qIWyvioY4NQw/FKVzYUMN6Jq21x3f4g6Rr2JOtDpVQskcjDPiwBRXIcmpvFWmRWuOGWh+g4SeLkQvUdSowc+DfqAdMWIbTnBB6ikIIZxrRogDCXUCck4PApAH05mBBIu/I9vBTHLha2CsvOxUGJsbjExzndFjpUqFHwwj1ozPp+OosUAb+RxyoH6tiFRCfHLEJVJeEELdEnbWIqXhfWOgjxqVL5+O5LljlnW7uhrtCntggMLe029hSCgjDDXpH0rCmxKgZwBUCT4cNRDw45DAAnw2/0tzHx1gAUdm1fEXhqSGYGceNHHJpVlpYgaPwruxC9/60GSijqsv4E3qT/bBqKU3n/EuixwQVRz7pKiLzLyhPem8vO4UiqCU1MQ1DECHljFOgOZTlkWNB4L60nPbdkgHmQNBbkcSAFEVMaLAtATkAY0BSdLHTHLQ3iPO3zNQ4aZpdIpvixF5JmdwZWR0ZneObwCRiUaBd7hMLu6fhAiWljjC/gqVkOhw7uKBDNmnQ4fSR2SvGdmdLv4a2mFYEWTZRQ9mKFkMK3oYmjJTQKzgWpFKJ8lY7qths5UYvKBolBRLQi3F0YkoKdRY49dF/Ey9DNJQ8LjCCNxyrTZoRWBhleS3XaU0+g1MR5IMUYp7uwR0BA5aI6sPEhDcf94c18UsfH4CEx3mdojw9uMOVTJgKEEdRHPGimkPQc1wgClCrtCCVF2aBlXI4B3sllrHI+MoWdbhqp4Tbf91JygpduEUPmCQM8fgNbC2JRUVuOFD9WSm15kAKoyhvumcpfUiHYDoBESGdNxq+oQ5s+9Kk7nRV19Q8vY9QTxkiLkwrGcPE6J6BW75YAMe0hgyXQQWnpqFjdOgC2wpGPxBSAeBP+L3nBpcNmwI9RCsYtwBRtBcisgqKbqWhEh8JQ4W5pkdn0TIwFQ3bg3Kf9yBJCUUch+mANvJcGTHE+WBtfT2/SRT8m7vNI57CobmMlAigMfhPoumJwR72M5PjVkLKiNmO6mVGa5MO3qUDh54FgQmN6Qmas2inu0BEUqSSLqDyCWca0iWMqjjZ1Y2c07hYYAJv7aRtthBEVNPB1+14GukaB5KBIhLYKhQQlcSW7eEMpDZw224KakzsdRem/UyEAg3lMfbKxk3pcn0PrJyJaYPnasiZQAaryCgN6IDaiIuxtPx7A8r5lGB7WTTqG2YTLBJ0StKhQUGHdQKeyhEIqWeGp95JPj0lKjs1KGmhzMALm7PxZIOMsBGvulusKD/wx9RFbE3EH2cwVApPEW1R16Ijj+NAZkf+YucQBerBGbFlnJivgEmJ8g/zeSzawFZQ7kMNX2w02kV4XcnOnwjGPYHupXCBX6k3EhEn4AO34bBFwgfwQn6N8/Rjk6GImZPRSFgOjjxhaF6b2DIia+BhS7ND5GE9rkDH4M8eaC/wpSL66/Eq2dKQaS3kSwY8g2Y7TzL2lqM8B6fPGvyT9l9B32HGU3kGD5zhVF1mD5TMzvr4tytOvvjjhBzzuEwiaH1jCDy03+CjSGgqoyc29vkp6LQ35xWQ5fYUUcBauQAMoIG6hcxux8aVqirV5UfIlSkBWmgA50WBEtmzlhIv4dMXVbqRFlIXJA5pE5xCztVcO0ITIUHFiQy5qirOuVIgAZXu0GX4tkciOdvtwSMsqeAiH6S3AY6SmG+4tnpAzZSbFNZYb/CDF3oHpJfNP+9LEImA6kKIKWo6450Piip0Cu4g5OwJPT8mC6IGVVxU4/YwwJC3ITouYJiECEgMr82JPHUhpJRQTLNz7CisyVUjWvNhFTrUHBvw45B3j98msGkFq40IP1HIq+QkCE9BchInQ1LlSTh1ThkjG5wJmrXAHWO4nuPneBLChE2JBEiZphfpRl41kUaURhdokPCDVFl4AUXd+Sw8uz60ZTYz01G7T0xdlzA0dCQndl4ZawLySgh6G8giJmVKwcH2lB5rMBxKd1Xp+NgDRrcSIlKoX4gtJNwdN8gZP/JvEQNvmFnqJl0/rRRg8tKw5RLQZfsQ83hkfaOPAvOPiZbzCwK4rKQ89rJVFyTJrDSPnicTKjjxGFIzie18CrzzFBe0fLyVJ75USsbj14q3al8+1VIYtmSIQo0GEILqkgbNe3x+CeguqO4grz5fM2HYT2IfFCThvdWQVosqDGhUkEzA1fAqXdkmMiGLzYC24xWOvyxyOXA78R2pFmzMpcTbX5BCunrffrMYh1pkzxiM+tEDhIu0AamPp1RM6RJNX3K2IL0R58IXhnyPUx1rR422KHtoNoKtSBgBWZCGmoDzKLnAQTPgrOxGLnjvsMALJeBgRqOKQwIgo9IEm+nC0UQEX8YG03ZiENi1HgrdlpnInPogqHHC2ixX7EqXI8VAxPAp45UGB3CW1Am6Dm8baEJpQbxMeed2wUhh64rkmq79B/QE7AeqWckOmZW1akdpOd4SWxHggRMaOI3HRuizamkGam0eYENjvtAleEK+Gm+GI0ODmgQbRBipZff1BMZPlyFzMuS6Dvo9ZUvONJk0LBoWUGkJI1DeRtZrQIjM5KILRUN5DTRNwsbgtIJdMFUgMY6FMQZemLWCZdzfBIX3EBwlbfV0gKWSOcIlEP0SRnERaCjWKL4D93iwmQ0hBQw5tnPTeMQmoJDSpckOvYFXiXCOhQ0+O1AtiZlFjoN9oCz0wWRgnmP7Vxg2UuBJwJZEE2uUiKIMgrYoQ3QTTjXiOyvACQOCmVe0UFygtNG45DyZQfivGmmApirAJ8fRmTHYDJN+9AxDUI6NHR0x0GWas2ytINsLwnjtZeJiiwkwzAizMXMK4sBuma9yw2lNKNhYQwJlLywAOl4VROD1mSYEdCcZGrd6bgZqSaC7UnOdAW0C5RxuAFoCj+pJN+wXvwZpPCoR0QwOTwacWJuVQsNmYldBodCpquCw0K46p97DKjeDvwUukKXjzzU18ZsrFoK7jB8cNT8oT3AUgkKEuwQCeii4/hqOEC23bC1n1lCcqORsGAIlvrNk4ZEsuEVFvSN2+zFwyKQyUSUuyyqPCBiGnNwATIbpyI8SElrwjYMie7CkgxG6SH6B+LPmCFjEacGS93+5YJrxzT7uZOqdOUh+9KCRG4yReBLVQMR34ykSQzt8KC3ZOAhJdZLI3NlIBByei3OA9P7phgCcbNXmTA3ZZGkGewuUql40KwvfP1At11WYyETrcqOGq3TG4G7uzqmw3vuaUlDzPWqedQdQ8sc/YakbgVMS/FvRuIt7TtMGqAa++Zz3HJB9gwVtZiQKlSvi8qW60smnSYXMT0Q8xvRUd+C2I38X18Zzqa2TcxQS4yaCB0UCLHmEl/9RxJdDXFaTG8R+5lQogGMGCkylGFIlFcMJn6wXxBSPoIij5CrVD9EKPEQk8DIIqNijKUgVoaIbjZ9H66oC2XS9oBoFNnn2VUS1kgjsiw5d2LpSvIMIPLNvM2Cx+0l0RJ4jh4Ok98lZm3ZINAAreg33XSWk2pXg0RLyCzCqQBBgtI8ntB+LKRLqBnBL70mxHoExwZZbuHVCIOIS12ygVNOaKswCrlJGldevDhCPDZ56hoFEQJnvHg4rTMZA32IFddJWe1lvTs17Dgwbcwx6TuHiwq0yELpic+MRBOdy0csc3/kN6OjEY0GB6OwXjtRc3LeaRfWWpL3A4dEMgevjklH/PSgHURvOtSdGeJvyIAUrf8ISESjXsQ4CpeLKTBWBv0XaMezgSIcEmmfTrp4kpGG1AXygmAIn6CCJq37kDJXkE7E6mTCnpZtufUQYp7VdZGujAidYjF2kZqSlK1OBQomlD7ayJDmgzrmAMP4MJ+O1fnI3uo54DhRgxiqx8n+wnywqNE1nVev+dAZF8maFmTwSBnyZh7XMmSGRWqKr069jtElbZFnkGQcjopET0LwHcAZRT9xR0M6lWBtFoYWKintzWehE3JEKADCVdAL0xKEjXBf8lAZ9mM0zP45PqII9E8onHvU4LHCXkaeC+oNgIUbb8ECEO2mhkg+P6x3JAeGyqng7hMRlbeSjNlbrAlqwbjZEDFeC2IIVSPGUOSDe0eZRSPhSPv5ePexS25Kk5+87ttfgVRL+U0DCHWa6PaijMVGGjYVUdy6AVWQljIli3quCu9ETQTSJ1jSiiFVl6HjFNohmiNroqk50qP588u5QCW1KoF7fNCWUo9NpgxP1ER3ZUS5kEZUoovraM8FBLe5PR+EcC/RqDFcwySiELziweghIf9lc2ukrH8QMGVCbP6hgwoaFjIyXR0DgiFEp3yJ7LooCPpisyilRjpIKdKGBFuWk2tZTwIiVSk03qmc4rENHywWm1uRFMBDSubpO0EFYb4apXkXC03QFKkeT3UDHFeCb3H47fo8qbmqaS2BcvfLH5HRKB3QE4yCiNEXCChMLZfmsBroRNcsLPnkhwmhh2Y+AZK/076BipjwZeYRtlpNISJmXFDho+rP88PGFxHfhtyTQ9tS1WF7QSWBLZHILa0aGqLB3DwK4U/OkEQdA1WG8KR9D7MSneLtASoSMItEnP0DUG1mWQcsry05OO9UF016AOWu4DCDcTBX9KhPmby9qgIc9R/mDePZd+aLVV9BYZ3RN8XFwwz0mYHnduoZ6BdTWloMIa9ISSVtqaW9F5HEPQIjCpaR/SEat8C/EBGf2F+ExASIODmqpHU8jaOYYyE0BvPSxpR/kwRp00jPZhZcArBRxOmiwFA968sxKgj+a0DMixIBdNyfE1ncAX7cvkyoZEkHr4dZEIY67iOAvjHpIeAKQtewSOEdR0CGESRuiiiJSB3aZW8WR1LJs6EhGGvhgJOZKFfYLzUaRGq58mDKJ6xFcgixpMB/Llf8BkoRFCZWFEU1BD8VsIX/vV1OZQnmkthR8PTo0tJq8eExbXlyEyKGQdVGhelSP2FlgL4hOwk47QYEeKllH8km9SxOw4NF66Ly6aGVCyMWinuoUhCkzNfQ4FaLKDpTZ6jc5KCUi8qh78DmlMb8VBgQ47yIL945Q7F9HmlIL3ZXJVWJjQzaawKjBjW3pMxNXSJR6VlRnsGChSm91JROTKyjOtgQtZ1ka3dEfYgwCQJHuz5QbQGXRPf5KZu8UFokXYZJMWJAm8YxXS0ib0udBVoVcCtdJeCGIDtVjDJIvSE0w6ggNZmXu6eiFEJMqkM1h9x/29yQJhkqOei6BiAA1NeWA/E1SXPa00AtAfmAwa60IfzcAFkF4txhAgw/aPlPl1qQ34L2XcDgxZ1dmgJNZqb8yZ7jR+lLdBAfiuUTQsjwfabU0CSjV64JqRpEVRa/G98/JSBMcgmrMccgSDlm4y9H+cT2l1BMmu6XrkJnDwGVreAcwDYxhG5XPy+0CRoALZddUolrm6MrIm2oBy/uRtGMvaSg0Mm5nRF94ibmMq/hsDbzLpr6Zs5qpMzD0EgqjXoEhS4sPlAbkly0nayIQWxzQv4JHv9OmoJOJOQoxmTShDQy38UarNnarEskKhQqqYViKI8NBOAd6MzXa0QN1Qz4Z5XkMAsh5E/tPnd0rPj9oeK4oxwvq0hcGcoIpHQpJF0lvEHdrYmEEVNixITFmG+RusnlG6IrAKhHPRSzZ0XEGREG0dGtWUbQe0CDhWwucQSpiaqPRAPfzYewyvxhYY5hBCKHoKa6izSq0nhcYOsSQtx4piRwGJ6i3xsUTuoPqE+IWdjreo0HKAztMq609yzjUX7pnCHNnoX12C9TdtLLfsliYJ10N4NAEhmY+tBU/S2l9Y7048DCUKG89s/YF41UpMuelsRErebyEZIn58KHd2Bd5T8PvzfBaJdxPGtq3aBT9DBKKMHSYPkgzAUNQ1O8bwZM/+RoWZq8/ddabckQDaKVxGTvSjGd20E+N2r813o6IzQopglUd0z7oN2mmlFCoTGWLrUu3tjbl6fMcUAZXaPYRNLhIqErs8ExWqwzXOrh0mDFiPPhQYuhvESCZEYRVBDRh5jAZE9qTXVl6qojwJXDeGCSaR3h3uLQB+8dMFcVT2Pnpz6VbAC9NzZHMQed1AAgWnQBNJmfiqyMz80lDeo+syuk6SmgBoTLLohjB2fLocDEi64i2ndcmj0SmNIzy7gB5woqNVB32g+qZKw4QWwmVPKmtrtKmR84we1Hyy+HVkqcOxQ+RLIaKSkYpw8F5oXFaM7EH+pCxEFMIhb2zVsBgXhBntUAQS+pMI6mIWIMCMgHWxSfQ0OTruA71Y22Bcosk140aIbbz2hqNwOEZQ13hISTaO/+NlWKZDIRG6bZEVsqROQX3Rz1wegs0vWExQyFy17XHX2QrggMaloQPXU4Ab0ro7eLKdFoywhcIAZMywGuMjYaJlWjJxppCQtalB80jV34VFewBERoqdq7UhJczmfCWB8RLDk4UNvujKmI3HrBjgxkndAL7qn/yESQJDiZmAOUjgBUNEhMW/SJXacoRT8ac0Ko+I7wETaoaiHjWWITJsSOIShbj1tcCDUBc8LkZgYu20Ki7DH8XPQByXgvAjFgVR5WI+q1SDsS4RimYa+OKHG7azVWkyZLZHHHGz0grMoW3IimiyNQh8NuzTqQxgkTi+4hPOFzbZECdixSvxsRiSJwpQhnKcyNY4RaBRG/1BgYpKnbFVn39qRKgoNQHLezMN6RYliC8FhQNI1R2gMYyvwvLYIYRNiPq3yDe9Q3gSMGdHJ7gssaV41FqAhD9xzbcGMdTQh2XaKw9jGUzE4E8E9tvo0YhqoryyQoRYPdA/t5UPJQRF2KF5vYJhSr0XN4pkhEQmkwqVpGIA2UOeb4cnuAx7WxDDA57EeqFjTqPGd3BdSiXIuJemCAmwAX9AZo/AjVvPZDmxssfz3ZlqV5CwUccPTy4yB4snhACwtrbIqgo8j2BQ5wGcFzfVx+FWkxEk1+X5gvBWDR/CYl3woom11cEH0rfZawIChR+/scQzhnbPQie+xpQfSWQMeBr9tI/VMJFdRUDw8DWhpChgu/RyqTwLwm/JmvWaHuROaFEOj8oOlK9Vii/uA1EvPIEDYZ2q9s9ZvVQxhcB+04I1agxJBIov22eOw0NkM/HKY7wP1RxjiynYXOhy+oPJcdx4gnxGpUpp8MN6NLdQ4YETEitx6wO5QCmHC6BThaCFWlOVIZJWo1lBkXcPnIGZytBManqKx8vn0gslHtpqHnnbkaEJmQZFIaNGPdeOC3TsigqOWn8Szv1hJ+t+8u9oYoMqCFfZkscXXrkfgd+0C1kymtR0L/0BWaxAAjhi4+ERm9Z98h8C69GYgc/aqCoJyPlBi7PEdLfSimIKFCoqGyYtyBU9q1AGW9C5kLs3RdE8gMlcW4AJkY8JnqpKeuWC0hLXzkdLXcO+6/0ZMC4GK0wSXOXKfm0caHNmJ0FpF4Er+tnRu5M8munAMMbRROcWzX6FoQg1aQldQ1RDDZlPHQAShfEEz5UgoD0DVm56OdCdAEakV7aLRYLma2sJREcAjuzA3oG1remyZ2iSRYej+EvwD+dV0IJCIm2EPvKGwIUJPdWC8T0FUt6FtqISiez90iWk12PllNAwH8QonI3TJ9idHF/CpjfwyRH3qvWQSBYT8a7WGJQQagrRka9A6LJi4dyD4aFNXYC9P5bkRDK3kKN8cwVp6CynjNc+Wd3YwgN9J2Y5XJTMsgWRwS+GWRxDUjcLK2Jc6yU4iHygppnNKUTgQ7RDgeVIwKJn3nPVgWKatjmGKHGDkaKSAktANXCGTxkseR9hP7Dm47BhUq+nq91ZKCFFqtCHvBtXACiEMgiGqB2ZRbCjB627Svhpwu1yIi97xRRzqgpGEHpMZVyxzRpnsf4VFyxdrms3PZq7bHaBkfKZ2bAqtLJ4NqLBq5S4yB8CvjKUz8B8cKsO9IQ4UoXiMPPEgAtQQs0pKoFzTjX7XY11OORhXEonGAg6BHQdpVrPGFlXn9cjCaZmLCO+1I29pIRe0EzHF3KPOwmOxA6y1TWRhsECRhWJyawqeU3qhhVsbYHIu1iAT0ywoG5IQSzoMejfweoHaQfJlbQyAYTuwVL2QiGYUI6Gv0I97V7uylRU2CZb0jDE5QYJGS6W5BkiVNQTQUXkOmYQQvvCP70k+SWZvWRDA7yCxxTK8K3qAbCkBzO7JIomrtIuOAu0ckggwPzwDusL8SZFvgh6/tM6nXgujmcQCZGi5PpHwLpT42WJNgj9hs0X3YgWZDfYn+oELmnodmq/qO9TLAwPQT96oxdIcgpkBz7TBN83m0xwzokq1jMyu5SiNhS3n94ggiaWsQq72rVc+RHh3vZN7tcQOkmyH02ICs009AFxAKSNlvGQRQPbXwXMsgw3yKSEAs+gHI1O8v8E5tpSqvdjaIC+gibDZNMPcIRMg/Mh7I8Ys4SsWLghSObF/z0Qdq3UWCFjDRIIGA5E6pM7n5sAZBDQOAnA+dRwTzWbnFJq2WfIBHixtoJ54YzKfDfsT6QgEwCykUSTVGGPPEKdAHJwhpdzglngZq8SD4EiO2o1wsQoUY24AkcRL2QyLFUEUK5Tg+AFCstiX7aC8nwPXfq9b01lh0x6luyNmhfEZaEwZ06I+yvZSmfIRBSDeaVIGBsU60U1HgwACWODQrLAgBEA1CkU9cDwq9EP7Ch/Q2PUTJaJ+QhlLTB24sP/flnANj/JTHXev/dqgoTE1/T63ZW+sKlE1khiCcXG0sTgmsKJQ1Us+HxJTlo8SrGR1tCFxQl5gyHf2DT7NV7Ym0WBMMQapqkwauVVO8nt1QhS+iLZwGRKdoXs+eiZwGjCsKyagPhpoP0sxsLRW9urxDBlVqy2wQe567yxXNFDMslnHt0KeTUJakuSVMEtdfnA3AbE5nh0pgcUd9fo77qg5kFK307alYfC2I7I5qCyWcEtRAGtFrCFsAzPV+KA0MLa89VLLv/D/dHR7CVh6UJsSyTvL746qiYUMMLIB7f2FDUInXS/YJG2IvlBBmMg7Hskmird6C+XK1ybTcVYJZ4x0zwq6nlBpiT6MbEFrkcDyZ6X/ljFoVllxKQM+OObDz2lIC9cqCE4cAxVbrm8QzzAehaLQtyNGja6/FAwQgUICRYmPadQzXb3/Qe2lAsTfzYGUjeRNL/F72GCGyFsAAtluZecSPzDttp/xtS1sa6nMs2mRMEEAZlc4SOMDi5UPCKuKY5gFitBS2H4X2E7sJETYBnUFaj1ZjVkLMvaNnxeqyfe1vKsZDnTopVVHZ1HGoUlmLlNRS6XVE2/ilxGhzg8a6+j0+mjt/ND7HSIgnYFBzp69weGftID9xeOg9MMyb61sPU8tEp+LzuoWsbGtNH/NPd/sEO7jRfRBXIJTh7KHTjTws5GHpiEcgdgmxckuK5/UKFTO0gwot5n56iCfQB3m0q4LT5p2AIa0pjGK88or0ACED0SIoJx0Icplw+0sPLRq3Hvh0jN6AdKcDGyIWT23SrKVkAGG5GVxutPEeJ4pNTWzS7WCPR9oP4fxICBFfNXIvFAvA9MCAT0c0SEGP4E59KQeGU1xUC+itPu5AGJGHeIS4r1bZJpgtjh+KRz1T8KZ9SHA9EMqNzc1al0AHEbJE7HBhN9Jwi3rUzb1AHIkmSMF7qW2rv6i4OHOz+EELBeWLHquY04RgGUAVQq1gB4Hq0Q4d6Y6jBZ5lkLh6E9in3mFLlLdI+Oj69FyYKZ0zCNvwBZFsiBikKpxtDDBObjeNLUngldQ3NbSWWToPHQdJ1ZNZEJ1kC41wkN9uFOLNYkJsNcwyCtF0qpTzRGKXva9aPIswEIy/d0qiSe59aKtUC04PdgrDtF6aUMHdUR1O2J+MDF44WorGFZY905RuRL6wRhh9iWZu0RY67bpCBeWicRu5HLC4xkDIEy6Th4kDh+oQWCYqyEgD4oTKXYeEpSMdUkP+OFhpMEPhhsK+IufRG6S5WTQXQcclrYAnT/+S+rD01JSTqvuSZEqItNEzHer6PEKI49fZVaI9NHAuS6o7ar8Gi08LZDk9lEeic8wfaH/shUOhevKJlIuxCk8N3+67XQab67yKeLQaCVkQ+qVpQzxVO0D2InCYSSyFzIp2Xr+TD11KEzVFLl7Zfk1HaBcjYTZnAukzMCI3yFtC4rQJoLHEsEpd5VrRLhog7RT/Nbpy+DU0n1hN/9w4RGsASjPS5Jfgz2YiNHWgJu1gVqPBQ5/5EBv6CD4ChLImVg308gvogdnACZfuTPARiOtoSGvZQVDiYDNoeBWt6mvC8DE348MQGhKPotyHlwsTG+Z4JHJMQWjQDw3BTMMRvjADBARP4QCSHaJPkaSZk+Ia+2gR1CcV7u+qVKjP2rfNF/bg1SCKxGAnpMRO6eo2hOYUW8Xqhyoko7NSu2e6J+RLGAsd2smzJDjoFsSU0gDOYgQ3WWFoOyi0ba+uw4JcFhK6fJXkjFsQ08Iap9/11vGw6stFk3Px8SClKpKT2DFvMDUqDXzKOvf0geq3sO2q+cZd//VNJ1Rr5RiV9NQWRp2VdQwv8WDejWaMDsJ0PBQqQV4AI+9qf7/ccj6MGfhHg0mp/OBKJCerzjAgdI7wuKD3GdoR7kSkgQWlV/5Fq+CGwEh1ufLrmTIdTFk9o6WWgnheDUIXxKDXfmj/De3rhikQk61KG+FqdFhksWgWBw4S4itlL6I/RZ2sTrMP4RK8msska69bQLJ6x7SO4eFkPwlxRQrRpj3zoQuuWSxYplQoOxM55q4RJkCjLUkB6uSxrFbi4AlF0SMjk9mP4KNI5LTpnAojFxApZwQapPDTLqkgJeDW2DNzxMOtYUJIM2kdG/BBmgBECekRHjirOdtJi22o9xPidWFDU/sVh5j/H5qGR6P4zcWdg4VCwcpQDomOowmkN8xODW1wz7Z80coElILFTkwbQqcQ1WYUuHuYEDPZXdN9866NQH27I69Gmv3kwgxIqWwHY5wqNoRayg+oT46ulWhpgU0tFTDBU6/CMMNQ6NgN1Yd6IoDRmkWjr39uLsqqCGB+YVc7z/Bp0n2Dg9pHbDoGnIExyvbkfbXqRTVGJ4Y254lJOwK60MmPSUFaPZS4mUxfMIYkWsvoEMoLITvLNtneiH7LCzDzUEDPldC9iRwQqRxJY4F9jOXZYZpSa3E/HCaE/u7SroL9yhGiqcXbGtqQFbQGJtW3cH/LB1fAcXREUKBADuHVoaN+hq0xIXfMVNbvGvZHZDAUqIpUgZmeRBWlXFIVAgTSvABnzXUD0Dlov8Nea9GUhf4LoaoGLeKi4T6eJRrkSFopjXSUlem+upqiFmWykICZ1hhWdtgYaTTqoQFGltMNVSxd6SjDTo087qiMO0PF2JvHgSM+2id/Ajdixa4ardW3rM4IQ0uqXPJlGUWrlAE1BzC0OSTF5OySOJsSa/f8mMKoM4QmWfYcN0UnaxBAQHieFFceFJNsWYn5U1SCuEK6W5y1/F2+FPqi4MhgdrP5DE3gLTXNeCTgckjRaQjjYzaC5A3NBhTVQ/KjMy8Omg0Y+uSyCkHrIARaFZ32szQourVz1Q9fE8eIEgcWWkrz0dJkMRDqHPNTRO5jz1hKo8jLdSmcAIm7/dhfMK2MFANbsNJ+LH+vwE1A7iOUHTSLh+4QkpEjt3dNSZwSHeiv3Dpkqg/FP1CXCiCP8g/gDSLWmdkUpOp/3Ke9pBhoFkKdGJjOru7RqhFNIk2XMJMFoeqGjg2cpzQg+kW0eyths6daAkM4UNV61bImNyAsZQc+9U632VlmQAjMp0VblnqTXjXiCqSsjiUUbZuFesGE0zWgA/RI0tLF4vGcH+T4gQL4qJvtYAKym2A57COs77IJaIzEKdx77kuBkckhMPe1gtaJdJ+9DsSjPpjdalZB6kXYbdwddJVts01TezBJglgqeXPkeu3vSvJip9Y+oz7FnNi5WRw8cW2fs/CiX4fMQKZIH57J6Pj1og4dGrfNt27KhBBHkN6krxvTQ+Eo0ZF/YJvdLYZi+UI4XCKieTHPBkB6huArTIMEmKWty0giI+mfJjRR5kHFkWI4dnFCktequsHcwQiZWGJtBTuDs343PBNOSbThG/csw0SBpOyMvb7y6lw7CSIctvphQrCk0ent2uMaJsBYCjGV/exBSoIYLBOcUHtvBNLAURf4R0MkIpj2HJBFthNbDCngn0u1KJ/zrehZX5F+h/OKFpczCs/oQ5gQyByLdaXPeef1oYE11p0hV5Kbo3CeHHXUeEDUvaPKKRfdl9mnyyuCEMtsO9z8UwKPQ5SemQd4RNujINw/3BqUnee8LR02ogNIsdqbJC2UGMFZmbFWRyW6WrTY+UAAlPlmcajAQuVCSN+ibkxUcty25rWR9QtMjmfHxhG4ADWjEMNWTXqePLCA5La305G5YdPYjiBEfsbwLCvfXiugCJOc/KwtwYQjfatDl3cW74loBokNzhXeaP46vklCY1C304iYH2DvE3rVT+zHrCh6d5LrwwTz9WMAoVOL2uEehhF1JSyQdahg3IZO0+VE7yFtiFqJ6VC8S0ynxVpWMOU7mtDFTKTFyfVebhJHHGLzptGdUv7MPRPp29R+1eRbdy1oFtmt3ZYq0R75BokmtRROQiEVTWvmrkPPjOXbJCxdGXMaEE0bci45iJBsgczAiQbBf3rGoKWOORgBo9JpQBMcV3MjEpmZUUY1ySPpNkL7DV1NcPtQYr2DFYiYMswlaaFcbK2dT+D8bD1/ktuDwq23aMrlpjIxhJqNpoaAdt2AUErotEhwFyEmjFg5OBozsTEf52kcyb1mnKZW/XrOwgkD0gQ50ZoPgSFaoNRcPSU/YLAES9O7FT5iDFOC+5ajbZw7hnypuGew0C85qUr7YUtiV6yh1DKFqISyIzbpAyOM28PUifbPSfthty0D+gsAvd+WDs+A8mCsGFGbItrT+euQzOPXAYfR9OxqHgWfYeMmmWXgU3PfAgxkFAoA8xJKZNYK3AQWX6ppm+3QYcHPMWHptk9SJ8o/2vLZ0IUrK2kTxs1cXw4Fb3ApLl6NTxkPAYp8sakDfIU2UNlcko6X9rF/e5VmgthmM5e9Ew8ociZiiGeN13oQrzhsvD2SPY8ahokjuv1slo3RBpGqRaCCavpO6WMrTX0dxhTdgDSmX2mxQVaJfhBy+EwraIPrnW6lEQ4fAR7/2akv1CQgz6aXtqOGYNETVNGrkQFL80CzYRQCxaCgFYNfH+d2IucdA9agZcy5S6L4Csp3nVnm5LfrQ3ytORKB2QJXUOPSB0wmnYjh797Cr53DCWi2xGwtMc5uJRAQD3p47GwJ2TgpPqHTQAy7VRSPnuuXUEnMQkPsgwpThdGVGA159BUdcuatQavG+KU/SXJz0ngYgCA0HuYDZlrPIMncSDm9x5/ITWbeio9wyXjw0lpHzfStI9lwsZh1Y0HLTiCQmIUuFXjzk6MNSDkgjEVlPSEtO64CCoK8dK3vxjGV4FvSK8xOJgdVPSAkxGAIrvDe4HxDa0Ta1VuyRwmHns5VXTGFQfB5JJqOkbdYjEKNw0puuPF3z9MaYt7x+lD/CvsBsFtasL5Tj1QsKHh/Lnf6rjAG6qTpTzO65bIxsRFo/LLD6YTUDhgEGoSAjlBdbj9TowFL80jBK3dRJJq5TGTOGu+fvv1AX01qgmk/SIeSucDjzbUUmiHTYoYitXW3H54z1J3nQ7fyYfgNJenG4YIAEA4QL4X4OMK+TwvtUL6BkVkU8S6lAFK1VMCPVOc9AVL3rVPFNHE+vYpCg6zBeSypOuiqNCzM5hpIkEssxgDxo/ltMZcNDS47B3uJP5AB7XUjEHgziqzCUp5gZ0PfWSpx6RjX3NLEHP1G5gTYMI1IAAbTrKW33I0CPgqMh/AJ+1gyhVsApkUQeBILIW3AOgfmPyd3DNGzwy589tGzIKC9IqNgO1a8hKXL9pGklmUY7FdfVza1HFjPRNwh7YdUbE80HihNJ5GWQlISzH2jubzEL+5hREMiPRkUw4g6qmmIQ8GbbWFE7HagxSrCktPd6VmzbByEYrxy9HQ6ULjrOK1gZ9O0hmfb2TAT+458V5syKH15mlAlKYd/iG3MkzgAkYGN5xTCMd4N46Ah0ANA8/YzWUTJAArlXIqWQYpkEQpGV0J6FjoG7BLeMuyNNAFVZkPrj9Hg9xhIIxwOK/nVGTOQOO0PYuyFDO1OF1CnS/UeFY0eM8piicJB7OhM9xAArowr+FqwHJFnAw84/PYNrdWdMLOaSNttWpphw7Ri2wg7e+4CayHZTDgJcPAlVwrtiK4sRkR7O7nQAeAe5JI3Wz8+wBvdrI8MxWbtEsYJZvdVj/Bop/qW1msftwSaPCqIO6gSZA4ncJRCENOqQa/mElkhA/nCwnQmcfAiERlFU7S1RLPVBLDffpmVFCpaNtIpfJKgzlw27RFkZnM9166OD4FEdqdbw15jAn8HlJ/2A5ULlz+9zeYnmN4IhGl0gQLH0p487V2hZkhOT/clZkXE5Ei46OJXCcNBOu4pIOYmgGrKeQVGtP9JdEGxGyOFFPxKoJ+z5MSbCIYYufi3bxASSRgQj91fNRcLTWmMdBqN2K3fQT0SMy5sETpXdvTRjhYV8eTmbgCSBgB0YvAn7JLhPpa1cLFoHacFaCMFlaK6ZWHDGmNW85AEZ+7oqEI/heZ/2Pl0l7Az2SpuJxI0OaNMtQZkRha2To88SjMHbEerUCyvFdNFGWqp1SfQOGjiyDSyBgodrChjFPU1eosOdxoB6Axp6JAkZNRBRBNEQJmxdF1nBULRsqBgt6vT4sapASS2tweOMHFBjLMzJTDWHVSF3AoozmTTNSIagPSfJD0e57j6Rle0L3doTWk1JK+XvC8HFCYMRjCjYQdxJB7dNa6yNCWS3FLtrWOG69H+zjQhBnfghkvvLkkRYnDAa/K7d5QZXJ6RSzpQd78Urm1IsX9rrjXxbAh/ErAFzPer14pbiOSA3VkJkViwx5SWdD4oJnSBLAbrEQIMppcGq30Vib3eGReEAQtlt3DlMCM1QUiGhFCm8AfbVTW5TJr9GhGKu8u7DyfzMChhvBgUbVx+fAkoAkJxuvANQhx1CNjjlDj+rHfB+GFCb5dOtTeGtiN8LfhGVze3u7wxC5ugRcQuDYB8AeRNU+It7Qd8v9IkbFegodJ2Ya6BhNNxZ+Ug8GeZI4GhOVdKXZErd0+LrvAoiRxejMDP43EDAg0lC+Vz3Hqm9jAjnooCX+aRTNcj9oTUU20xxoH+O3CLS1zMkHwERJQnfuq7epiSh68d0lnYT27wAV9nmyL379dPZ4fhZbhwbzcNeBFCLqQawOIIQbTIcEvg9qfV6wRjbSXyFYllI6EPHNNzk5zyYPqYj+hG3GyYDwNS9LcoSsL8FuphEoqV1nuQqlhvDjpKQYJYsPMsCspxTD5SlPSsxKoWV0AskRZZFO6MRBwxnfTvw4IIVBviPIBYGJDdDksPJusEcsKRzQg0SGkqxdiaimPwaYgq70KeJbDpUHP3O4OBvIqm7ylxQ/NDu22mnPonkA1VDNSwuSRz2A+9VwBumoqhX7ZYzAgQFTyviyPYs8CtVU2K+fkn0uF22InTI4NGM62wPyD6KzcHQ9/K6j14UdVH1B4Jr2l7OAt/e+BwW/u8OdhQ0fP8Dm2CRaKWbZmxm077IUkAiygMuUpla1WXlhSVN4JZkiflXE3/x+7wjqIXul6IegQrj0eqdV4Qri8jCWp3l6I4Da0nJFI2+CQFLbSQEOmRZgUYE123qzzONQOCMgoSGslSzAcqPp+CqbRw2HuCZeZYTJMUMxRKILLUPe5Q1OglbYkcz8iB2CeGzItUW9N4tpJ3HsLdqEUDwQINqxXFaVhhPWS/XVrdM8vQJWgBpsajHoO/fjCYKTRs5yp4EjLWd36xXhLbAWcTacRXn+vhoQaK0JxdR4nTgywCTCCXqc6nB8oohoZWOz8xlUW1wxmE/uAQOPDXZgvsYPvB3VOMjB3WiKMGYdOXszKGJX0fwvUgb3AQoM7SiNqv9dDyO1JF09yrJ2C8CelhwFLM60d9EW/MPP2VapXe+VnD1atjMK9ICOqBJKZdhrkcEhH31r7QygTSJy8nOxw6yTkZhuAck1UMSvd+klfqmqiQI+ctY0A3cYNUs1psFqysAwevKSuhEZYpGKB51y6/C2bAgX+0EqdQXe8wIWT7CogW6i4+p2rVD16I6ogOwrViaLzQQdBFZfYmXgW8rHkk47J2KtBrezrUvOc25aXFMKWsg4W7FdGcnRq9mb5eBiOSqojyGBxPmhGTZaSE0NQzBmg5FgAziFyU15B0mLutEpJcN4VDNQo9gy2mSqokoNJXtMJixMgairr0M1hRlJuKIwYhTvpQIAYWVemADfqAli8uL89ZBQKLXiPB5S5n5OeQZOIUVUYF/dDSNzkCJxhGchiE8nGRjzonxH+fZUC0MalA2dPnUn30SCH7MRG+W+DZIAbMh+DeqN3SkpgYhCxLyyuFrmi504xzg39SgISpZhJNJCReXmllmTzb1I+YbLFQq+rM0yY82vuSaAhbZKrm4vergY4KCwN+K1z2ow09D00vEhd6SC0xOWlSF2YBYDzcXAalM2ANSHuxaxjUzWfaWL7eQvmWM0QzkhVMqPKlKQEIgSusjKZfS7VPxDqmXPoOU2R7G21GRwuuIYnaRUtR25Y8mWd2TYWAtiNvl7ticIUGjKJcrW80ZCYE3IvM38OppHdhVmhX192FAimQRWWWGL5LzdR+hu5DWhIVMc50hlpa7nEootaRuSeeqM2QVaL43mkOYuAjUXIEyBDDCkT7kYoS+PmrODjhSnKsZ5NfDrUrOCiQDSBzBudcvBkwcQiO9WIJlKFsSO2SC8+V8Yzdgp9NRa+AE8iDKA+OSMTXikjPOCwMP2Ttrglr9ihrO0g680l3q7nTSrEUpMyKqinN1Tp6TrxTP1l6WbIh8bqHBqQ51RmNkPCHlsygRwi9AXyBZtAFgVnrmSW0wK39DYhVfBRCjN0+uSZqRCkCj1ubOPZJrhu9HW0x1JKoe3iQYu4SwgLTeBJORXdeUossmTmO6B2GYdAbBGZ7F2IhWIFAEt5oZ0/zqQEvQZe03O0Jagz76XOaqX2AyppQZrUhCZ2mar920mWnUmfiugQvYImvzughc+8XkEDXh04KkzFPxiJxFxAhsWPijV3UDaBqIsqLes0NRUNzEtK+2SMLUgifj8aaSEGuaA/X4KtTs6DgtthNQDPNsRPVw7TVIHMwlhz69xKux22hWJNGhOI0MR52wsnFdEdS1pxVhuriHYorS2+4tasZSzEEOZIJzzvgAPyEZg8wAQ12r4aGFIMkcj2vYAMzYr6N6Z3noaOPKFVxkSlPR6rmQI/2jz/AVLcWqnREybRozer3jzaObE3otJPzGUOSj0NLivLZMUbGBhs2x+4dBALplm8ps6Ae7Qkds408ooa6+d2EVH1hhHoqgjgcCgI4R/i/gn/E6Jo3vVGUr7i714pgVZEjQMWq0QNFbexwMBidRyTK3Zg4xWQZvrkszUjbxRkzf5D+S4498jEsxmTTWjQlED/gnCFjw9O+2RT8K1C1qoWcmdVX8dtAuzlHXhQtQeA0Jm8+5hzpzb+RiK/TbtyKANwxI/ZX7Jw2oq1BE5fZ+tvfZRppqw4bTyjHMW4/l9BbdnLENhQmdRG/Q9b3RRUIi3RV1ZFM3aSm9mJn6poVRiGdCkVOy0X7XVZNocTsmuDVlL3EsLWvD+G8Fq0FgSoAfVCtV3JsJQlvR4zdo5BdIxahpEWjSBK284R8qdM2mcBeLVsrFEC04y1GnXJSgHyrVHikjlDcwU+pS4I1M6WfA8OW8DB8aukYwHYOuVAhV+2/Y+YxNs3h0SBXIq+0b1Uk1vk6dJXmiIQQKVcwKaYv6p20FXDsM4k57s4iJid0AwzHPAVj6/SVpjdHPZtbuP8PlDK+HnXhprVbZnLBz+TQaOIZwxmJbFPMsaEIOSt4Rq8VSXIV5iRRZmc21mifUZtZ6K3nhAAzoLBWJZAC3IFVFoiRr1d4vjmqA6xCloWjJNQ5LttVwjGdNl5ghTpM6xtopOyR6ZxGgzWTxHvLhd+UVJ0m0pXMCDNi5+sjyjys6xCSb4xrMxfkvlOfoAFNO5iE8TchRLTNPpexIRiYYUiw5TU5i2ZWdDhpcyubQJn4AvRos0wpu6FMtkqqYKJvIGYu1UygG643ytKh9gkP8rKwTo2DJL7EWWWYpWh40vEZ8DHU/mjOX+GNClWKyQqaUTkwtNUlacKyZ3hU4uq7rzC7QwoD2jSH5HqYIR2ApgE0NiV6SsfxYoMhaz9eM4SQDsmKmcPgSj+KkJAXto8i63SiD0ajQQt86m0QsSjvUFWJVqtfZ88dY6PSKTxPinetpjno9qF/ST3KBiTX9HRsSzuZ2ILCzq2kuDFxwel5EInZV7+asS5GltlqCOlZv+8y52xYX/MJkifTYFrMji0Rk14z8sXB2hpw1NpwdJIxAwQhKMxjjEnnZmoRO2DHFT5gn5C2cDEqE3PTD6sEKKHgWN4OH6NVAjH9Jdykrggj4hnSQs6sbvqODcYZIBJ7n5VV2D7QKGHE146YpiN+0z7IuTMUtys5ASlfrFPB30NOx0KvkDahD9gJxVwwvOgR0abD79InZWDY74HO0IbvzprvDKnOcQA7poP8XClwiV1YtqR7djuW0MH0rkvJVqMzfYnHqF9TTXkdQVKEuBvC2Un3gYJPp1GklysHzxFC8A6aQUr5knHTeEPKj/1jnhmxHYOCd6MUnqm1ws7S6kZa3sEXgj7WNR7Boh53DkMSVFXCo/NqmQP5QCCFJdN6mMKS1gXA69E8mmdL2pjGsac8eicHeQNFPVVNlcYH0OpgFwB3FisiEQA8qgPIVsOUzttNRM7Tea1wwLSlDmgxVvRJ7AxH96HewW5aGveatt8uO16HNrSQY4nw7nb0zJi4XVAKPrimtPK12K6qfZHz94gOqlrVaLs/flahsF6W+ePstGq5OEGraag1teCHmPa9QY9GzcM9uTa6+qYoFOXzBCHyQWpvjvbstCItHWB7DFLlYqEVCQQWLTmDzVMv3xlW2+LM0EUpTtD6WqGdip2F6sST6PaIha86RE3JNCS2O3ZkT5HBDhkBqTOimsrk0o6sGYHSJu01Rt9uYkckK0PZhOtgR4YPpsmiaxSNit+F5BDRM6q0sq4lujqParGVJDH88NICJvYb5I6zAVrvjG14hjcg8RwZ4KR1kLRryCIojsCP3pFeo1rIkZGIcktTnKJXINeOxEmmdtjX1DpnlTXuIIYcKmM6tALSktg8MCSki+qzGwLB65E80xYB3OFLC+hN2DHQWtJeECZB9G7QBOvR8JhwhSB6HoJtaOoCRLkUSs8vp8Os2Q90+UM3FFqR9vIslUKxrYnIyFoHbRTIvJh3wzQ8k/Kz51ooVB6Qi4AkePzto0HVj+piWu7zNSQAn6rNmhPYM4obRoU12E7BcnZQpiqOFNW1jSp5WtLUAmVxUUYr6cmoV1HZx8qrmzjMRZx899Vvr5gUxVlVG+CRyciVDq3EJKhRFAbYXP3yDzXHhyE9rtMu/TTl+G5I2t9Hy+xy99GVB9p9ukRMx7uqj8yeQSyyqx7zExwStLgYSwpNQQBh82bshqEBc+e4Hy3hoaYEzK4xwwgZxBw62Cb9ugiJUyLiViiA/N6YivSnkhmWfI+YIoK5+MLA/hjBRRkyAIH7QLsY0yAnpbJn8UHYETMFY2r9S/MxNs+TkPrXuGZJM4JDTeuhbWce6TWyQsVSBxaBntC0QbOtU3bRUbiKSBB8dpV8WRuPQ9b0GikNUTBknUfUGPxA1cniEaQV0cRvYt7WElx/QiQkE5gfEOLcoT9aGvPAneVdhyGh9cq0BV2IXSOk0AeSRpD0mnXxNGUfVTyTKjHsiEaKfSwc6OGACKC15AEpDHIslplYdXOyZfiaEbQJ7RHnKCROJuZoZ9w9N3xNxqeQRtroed1opNW8qG+yfzDDGWKgeMWiKz5+/FiYAfZoeeUVZmccita2xLhKGDHHoJFFSOquVsfIFgRjuMT2aJ24f36CFBtD7azgtoz5m6+DtCCK0tAivKKViL7aRJvJXZn8uUYMQ4zCnDy6sKIg2aeEtQ25Jnb+0v9ib/YQzPTB3wa00b5MCZO2JMDTbWACcgvvz1BIoVO0B3pfA4KCA5eHYaw2YxsP7TkRJ1nxtLfnNFrQQ+sDyO0ylzTRAEEBRQeA2BwB0XS+mv8lVpZaJGSPCJNB4nyGCTBwBiuUofWVyb2WCTKiOCldYpSaER8G4dkmx5ruTArZ5MMIAFBnCHcgvwo109cul5C83U2dcpp05aJ9NCYYAaOvbecshmhQhS6aBoYC4ygHhx/QGJRo1mtDXdL7gbeHDdEDQ3NmhZ4Wx5nZeiTO3o3TnUQSobLpm7x7thrwNtCKUeuMtY20pYZLfMJJ+RlW9NXvv/3uq78xY+JVHg1yiAdBBzP7NkOEw6J1bSeHjHmQhEU6Ry32vCImD1+timnP9HcCaSoF7DT0j+4DRCWk4CiWoDIlQL2bpA21rT4o7fLYpPG4IIF8+bloDtFSMt9Ot8CffBETgglCKdamShR7R+FzWbZEbyeaSugXVzSjoR9cSvXaou8ih/XkznMNBGlp9NTqbj9oWlgoFH9pR4CPUADRsCd27at8xOUyWk5LBJwk7xipFHJkjTIeb91D79buzQLZPQY7aIJL1X1MjWLlh1ZBwgiNrZVb6uj10eWfmrjbV6pRhHaYoVqB9arsMAYDXx22bFo2GyG1RmE+PskvQhUzu+j8aCdQdDOlq4sW/SONCS/q7MlWmU5Hpb+mx5Hmu9qGjdUx4W/AuEieWCAyIx+jYhcu5q3THnV/wRNO9kb397mWzxV3uWFKi0NF8kKyNdQ2YfcB1GE2J4g6fJW0qA57/NrHx3K4V8wdB6lCG7+O1sDCzPdXYwkW+hRg5lop5GYIWxyW0dFM0/1UpGNYuUvfZGbCwAoHElmc0XaqHXxg8ZzBXnvyCahTWVgw9H7fiwUO0QoywP8ne0bKZB51CstIyc3H83k69yKe5+x+1ywZr3XOe7mMBaILOyjFn4yxjOWxg56xpX634lFPMF6IJICXD/rgReTU4lLg+OhVh8PRYjOWaDx5zcWXutAYftDySKxlQ4NCzY9jk98IzAOdVXA4owWvyyGjIRVUi31G/4FsBYonDilNWDLg4C9Hwxy53wF9iSEtE+hX1+NAUQdUX5LKD48DRAZNZ0tR4d4He78Q7ia+RZVJe4A0fjF1cK9WffgjlXhNHgWuslVf+T+C2C0qBFJZ7MPNnaxSszrqt4qj8fob17xB+aTFu9MKCqkDT+26jOk+3xULSQIS3EqPg0ls0BJ6luu6nCOJsCN6zUiXw4JwOUiGdC8DkAEKiaVTLY5gFdP8Y00JxJh51QHRpphKkrpg8ORwsiuFdjoiEqHqINFp+mt4uuiwa8cvNE9txXwdDoQzhPwYH68nExyeqtbC0DNxLzAgediV0fN4Aq9v0pJgeyoY8bjO8VCWEfnIqGNmgaz/sG6Imxtr5jQ3i3ugq0Dl97oSu6Ttx+o6up/3YpnZRS8jxrz8HNCMbxIIxJ3Gu0E+nnzsEcHfXbmmkXFBwkBvkQNbXkuRFBRD6aSQCAIYIPPABmJ3OWhwsVSObl7+JOgzo0B8xIihA5mYjneBKXTb3JLU2kIt0ANLfMbOEOsJUIuYI0y6aOEtqCj99vN6HAqPI8S/1Vy3xQ2h1Q8uxum99WpD4bRJ8WVn+QVfidF+wqfl6J8OZ7KwiD6jK736GWU+CZ1p4vLJYAmsSveX3tFz+egMqS2VziSYZ73uhuXomnvssez7ARUlfDwAg95CkrtBmBZojZGVyCw5WnDNYMeg+zg//M2jKRS4TrE/cGhUTansXnefCBnzZjuKlCxLCBti+IyFQ9V9Wr3+RjpjE0PYuX4JzgW3RY4xc4xrFEnXIP/PcM1OWwdmgRSBQ9vv8SWVfT60pGXAmC4aqUyQ9nAB6KJNMWuHNy8cOSDf1p45Mr3x+hvy+Eecjbww+LdIHQ2SyJ5i9tR0TEAObaAKUSPgFohI2gYM7nX9DYKDAOK0s/LwQH2DtUNjCvE59zdAW0fL4krqxVmIgtTBWCCSIf11OFVr7BgLfFIWib2icwr2PbF+poqnNbXzl8PjnljEK+HkwAQ31QXSoiKEywdnKGtVekMsxGFKIWof5sBokiOOZCVwjOSS8NEdPUwXnI8QQQLN1ssnJi0hFE3RgLWYIKgfSI6iUMyY3HMl32CWEGMA1OZ7aB/RPJbSgzZy6yvMpsMMJlhLjMkzutlRfjNDnTl9KVSLNN2uy0JvfR1DhTdaJfcfFGUOBXuA8SNg7iN7a+RM1eda4RX6JyPyD7jKqBRrSt76hLFGPB5vPhORw+zFhuaeeKxcjohtVdl97ZHxM1Q+WapApOgrJ2Qjyakix/OPlZ/9NGmWQOyDwDEzySGDggOMLMW5QZQqmG5Qe8TTfZ2OyGLQK5EOdU+irIlGCSzhnGlGz+/R0OMjoMt/lLUocwBcMcBeX59DIwaijpXzoXE8tC5Ty3SXqKTpdNjUxoZ7SRongAHjqmnEp93lDayAF5LdNX8YOQ7mD/tOSzcjBRzABKIOASfXXPhqZ1dICcXbfg8wcVIStmu+itZwrR67uiEUJDwOi16elgNGkeIQ8NXaZGD4TXtRNYGZubWMJqs6NR1Ij2lS5suhvzQpkgYb4DyXQIOvagifl9M/PQ7iLqHrH2cHIp50degPn9jR3ES06lJWn9Mjil0i+5WOmmKghK/Lob9P352pmKvCYUGRiUWyprgu7pH2Tg7whsthKyPTVEqW3xyHiSRSp6WVOOlymF3hqY1TQvOIphwEE2bM2skOLW1GWjeTxutNGkgtWD/CxPyZCZNrdEQCJc+ICVLpSwIisbqKoO0uB/42OnjMeX04HIVakcJbJo6Pz1ADAe8aM4ga/GSwVipZK9Uy0PucLKCx/zmvuxliLrAaYmUmw7HUjpDChYySLUiGCBlzoZFVcsMbYCPFAUpO8Hhed8M6PqYAIbhkrQZqDJuMzoRPDX8dfBV2+YHIlR6NFnZYwASA2K96+tPdUMnQL+q93rSMvQCHMVa2Ez/P7V8fWq/61n43Kz3a36Ql7trE+T4Pup4UGTStYkgBSAVJhaMNx0++OvJYBJyQloj1iFx8KdpVxLKd92kMaW4yTcVOa/c2EpejcwJWkT6djl7TarEtxfH4suPwLW2sCcX69TfawCIWYx25c1e0KapsJtlW+BsUhYFfzA5WSQwHLcFF4VVkQ+9ZA0mC/9Je9z9Fv1sgQYi+RI7DzBaNMJaIp7/xzyNDoQ697gb9BwaQ3LllhvNIGkTO9YalR3Rdykpq8HdSE6wKERtGZtd5UZyG+zjiauRYJHPF1JpAyS32nyNP0SQHx/q4gDAY0GRYbTGrcvMm2Je4+M2WlR49bEZMoWtXBPtdSQhol14OiwgPKzvC28Bok3QyxLh5vU1fWR6gaJIV1VNeuYFwmIxqMyBARKS8jEoNCA0VCjZfxfIwvS92rg31P3foYRRJTy7NhRCDEwd4SN0kVUdHKpQAkGNB5LI/2qr2HoOi/Z9HjJOEcZi+gnwPA3nGfiOItHDZpROfnVawRFpwyOmsN5qRf6BFVCwxqjezJ5ktLIyFIplip+y4ku6RSJ3PztpHy4LRqKB3dT+3o8XBekxeZ6I4dKTUrwT/uP18WtZCco50fOLgPhLflMIoWmn70+No8pAVna3V11bRzWxq1d86EJIcomkcYR2BRHECDjMXwSzoR8YHM3VSPoGcB278MJYG5ZkWdLw6NgDQDqfJ0SMTIq/EfFbx3s+Hw1EDFjZLSYb7RrGZBiFLLcfdLQCzpi61qRFoC48jbnTR1ilWnlyPg8cUN0ST9n7UaJehiDzp/ZVwONUpdfso1Q1znzx1tHfIJF+8sKpyRpuiravvBJqnyEat7ZwLNCweuTHmzvtMj4OrQoBAlJkXIKNIlEQEGrqBDDapNUxtqVrrgmwUEkCc1QUHvUxAIRnEc7h/+khxCE5atW4lfMRi+Cys8yFJTjUSOMOI/wEQaxxT1lLY+1pdHre+aYO2ejLQV5XjuM+pvoyEfDtk9LXJAiDqgXV7wuEAuIEuUyjeB6vzp9kF7CKPogpdlQmch6gJobUt6aA/GiYPZIgFAhQGXaSD+74gC3hK9dQTuw4p/+EKMnVco01XtfBiaQiMdVHucn1HIn0KjdS+WDQR5hGXtNzcgDUciN9RKh5vUxCKJVYVyi8Zn6jIpko1IMi3ggDdJKajd5KACPRUzR46xTYwmKKGvwjUUNgzzdr4kCpW7e4fOSkIJ8Ll2ELuOkOaGPIX1BcA28RaJKPVtL6TtaY58INEBu92MVfw6W8GK28h3deLyzAIhko2k049UTLpoCwhemxpyuXf5GraGoujQ4l89dfjUMWhOENvNXCcJuksMvECO3tmSUVDHD83Gd6MhIg6X+u5wSbWW2IOIXhwMUh0wulUdCmZgyH7vTWVcjJpy8Ozup0qNLE4nbFTLX0O1C+Sbek8R3hzJXpqbQTeE8lhcIcJFAboc3kS79qphkBs5yO6SQtFy+dHTtNTSbPcdsJKbjHBwBeJG9J2SweJEyA4w13K+bavBeQc2rUTUfoW2QiTNkjdofWHJGm8IqJKo67VohInph106cxdwH5miOK6HDEWpA83Trx6nt8WN4KJseqDe138fjAkdOOjpKhao96gp9C4+MBxluahYbOsnly/h58HkK8lFOLtUTEfrh08vcWgMJzz8yGBM16vA9CGyMAcJY4S9BnIe4vfrumLEVNYjAR+rCzWAm023MPoAQ9/vQ6oJ1vwOiL07nXMq/CYRWmYkU0U7UcgRoSCgHsdlEzJAhCw/wDPlTkRtAt5UVytPhPQFupsaB0gNAkuW1kn+IrRgaENhv/Rphn31KKGAMTkg549zZJpJggxRfOmT1IqHqlMo1IP3JSvl5UKpB2oF370Ahd8auAdYJfsV2kGheSJdRBXXkV9e3grLA2pWU48mpId7K2iy/ul42HMn32H9XzgT7TMWGtOS6Cm3yE4Evlpyz/J3C8ayePwomw3XtyfUvDoN2aSDXgcR5nHYlnBkxLLoo3hGCCmzXQ7dJt5sRuC8RcN8sY+EikCOvRKpIDvSvQhX543Y5vaHoFWCRzjdDvS5YFRjGZYu24HFcdHQqk92jrStaJbiUjTTHYueRrw6Lhlo+cZ0O5X1xhH/2h/oMzFy6f0jyMkKiJZMYVqZDoV0HBvYUqRvUPAQ7g4uhdve1worpaw9aBMM8OIUDlsN/g/76u05yfIb9LbdAeHK5TmADSXWt88h+GfTfMQ/lAcVW2nZRQPUmOsAhVJQ4P8tDpjN1JjhH9rvE2TXq/TgVBTtVskfQ5r1yHeAF83z32qdoo0Be0FcVZ/2UVdpG3Bg/3wOWTCRbig65jI57CErmponR3aWVohowrZRLPmLuVSpbXAbpiFxe2bnj94jKk+0smJMJorpGCsBRxnprUCeDCKU5Fk8ExPHFEi0lBy/yZQ4BJd2uAuOiKf0yngigrKtUKl7YjKhyQvTiqjFFpsqGpCUG/r7VYhhkA9ooK6p43RikPnTUt6MnagNSXsGFp/yZoN5oZyH3jp5y1SmFwkgBLF1vU45IXKJJqSyUx0kC5A1A2PHfAZUwX2eUUinXQav3A5lNZgOk/PXIfFpJo7hpTqqofyOawc5PjCOpz15joAfuxbBMtHXOyj1qRMQbVmPiUbKIi/gJ4islT7BVlISiD6sQqDJUF6fEzM00DqgzGD+oZOqZhJeQk5Bf9hlEh4iWwPYiz61YjBilDB1t6EbD3rodF/G3M+b4V10Bmj0SU3526nUTK0bDpFicXaIASC/m9797ZrybZch/VXjPO+gbxf/Opf8JshCIQuAGGJNEQ9GDD478rWR4yRWXW4lyXItAlDsiCfXbVqrjlzZsaI6NEvZEp91WdnhLmxx9F/fu+4bQ/Zxbl6bqPu7Ee2thsuW61R+IOQVYDb70H/cOZszHLxh9/9aPAGfm0w726Q33In7mTO9egjrvSQdmoPart6xiNaPqHesOn7bXeEDMoMji3OyC7RG5Kl4Vk2dau11Zr0NQTi6ShQB+CWZnAHzp1v6VEPnCtLrb1MO1H/8NGix22lBzhHH+Jo6/uljVCTW5P/8b5VZAJZSQcv2ruvycnDrkR5m17qSDD1pPYzTi/d96a6hv9uUHr7SHtfc2vzo64cYoiK327zcQ04RAK0hSJeeWWF0VcT/O1FaX93+lLMrR6P/eiHguOJrxIvgKUsMWTjHYmfIrcba6tceQqIPQLidxBKpIoIiW0fncCVd8QHXevcASTmKBqDUqrXiEXBqDWI8PGlYZw0YS0S/PnhkaBD/J5519K5f4g1RH9alevoRFM+Ic/7kJTd0r2+IDLsDhVleysJg6BTlyrtce98W3gDbcKaxPhe/yY4FgRV8Mr8ec9XcMtf6CuWMs/F4TJAsNFM//9owjNscrlcqEplZsF8zabadn8/jnfCCk4P2DFslxXsHHhCbADTwfHmrugmUqKnEWfvuUEwSpNnz9VvjClrcUU+flSt6iS2NzYRzqa1qs6VXEiD73P49X3YFfuS5wlEwHhPT1IJuRTwpL4yECAK77niJHRU1dmSwcYaZ+vtTrLOSJZa/tNbczBAqOLhm0uvOcbcZf16001x2TC5+OpZMXSdN/0i2rxf2q+Aphyt3mJuO8eE5V9JetEe7YUiEwaa7MO0roKThXxoxfv6QZEtmTWuMOH25eI4atA1EWdBsMnAjL84xtvUALslcGzqdjK534rD7mEW4cL9qKM6vuzNXbtnVT9gZA5PzDvW/S5l4YbmIggMseU95OcmN7aSu/Yaryj9QjNvGcOj4ITKNYdZ0yZM6Lk99dTdWvp79UQh4uxML3rBkQnpekJJix+iUN2xyknqSi2GuZZpoIBndzfzykPWhNBxwKjyOCWsThI2FOjYukvvkndKuxVTqg5MYYDIjePV9z5hyPqKMYbe1dFpX44fxbaXk9RLThS8fBJpcQpIsy0m7eRFx8v/15JzB2bfKk6rNS9LhPPgGKztrR+YkEdLuTsJtcc4R/lCPM+IBA8bpE/Z0V+F1b9uZQgzBQtREZ/fHd/GjjvFfASysYSr0MoOlw940YT0dr0QGgYE6x9fzdKcWZqhYZYuvrZ63tYYKcehE8Gpsw+VSE8oX7/nIR2LmyTLn10z0M64Kcu3i0ki1LMogTroxMixcy+SkWbbjjlC3vPFdbbIm8J667ojoYO7IQK0jkjQak5CjfZ48Xkcq+rIHWzum+Ke36oTFsmZxJq301E1llhaDUaUszXErxigrlVxriCrkM9lPHJkHaR3c7yc+1H4jBZ7ws55TG1tlsK6TU69UL5lrxCOsBmT8gtGmd+qA/bdG1u0lldPnza3xBO2hl2pD8JjyuZrrU15jkMa6ttycnCwE7J4NXkaL7kqOmTxIghsu/bqd6n1Iiug4dxKJ4Z6HlcOvkjPfTuua+aMGfaIXlDqTH2HWvq8wNwfY6R+UWhor2dlLiQhkIwBMXx/B1dwrwNbUvh8j/kKWQG54UbhL0wHiZHd0XMPdcrdMsWCLU86y9XzLQ6yWfTS5QDpoSEOYzCEg3vePXD56V5Xnk0s+46eeYHwhZ+Hoj687fKARc90x+Pw7v4DeeSuRNDhTPfkkDhHPbcmh9Tp3Ds0oIHGDtH4/kJAvtvUhLM9lQoTu+luelqmb2O6ouRghHWISF87oA3wxYbz5alJ8zgxrgCqBN7Q4IHp7EAXE0+i7DsviZmR58E5tJacIk9K9JFbXGxeUCczLziNGWvpTaYjQ0mcFCp+l0MlpntcbE/qmI7ORlNDm3q/mBxhHeXS1oQM7WbzlLDctxSbrlpMb8ks22ElSYftQNGRg8vMtL249xQGzLGWerB93j3baBERB4pcqVdt/+x3KPp6LT7JlZwJ28ju+yP0HESig958mwaodCYH5Cm6c1YY7RrskdgDyxKTU0Cyem0pmFzEUXE2GzQewBTJI5gYOQ1V7Sizl3iJsZwxTDqfujfjiZmmXuVwGhWH/DV8j/gmt4rzfPxs8NjtnSXktl4RgF7Aeam7Ny6cWqrYsPS3eoke3JJUeR1nh3Rai4J8i3Xa2xyMCSoehlZNJMOZd7W8ULi36YMio9/cwhyOkvNxk4vNA4HlcoyLQlG3paGZ14Jjnje+r7GnX6hf3reKVR+x6NypMRNfz9sXK+PiLiSeCiwxg0pRdwmJv/+t5t78ykZZODySkpSQ9pcy7b6yEpMLTiWzd81ErIRJqz9vIdpb3Yt9AoOyd9W4p4MtL516/Odg3axeQGGFNSEjTtEb7oke7zuVDaYlvCNCnU+5saTCkSgXlAa4WLTdIeS7Q7pFC6mrY/1g/7NW/dg9WkBaT+l5jC8Og9L0z4pguuuHLc+QhQ/LuqPmbDv8hTvf3CI6zupuVswUinnmqPtnqOLobEUV4/dWayySLTnZEJe4b4p81Gwns31bOnyMXxfRUYib7zyxWnajldN3l48E5jyMnJa/yi66KwVG0hP2LqLgzWWjgDM3f45L/EmPD4/2vvZCX4N1oM5t3QV4SdyURRjtR41J8Xqd+JXG7+QtNfAuD6Ghse/qddIGUK3U2jncZlN0YlZtBYxwRZuTz5fc9YE1hI+56GPK1LENVHje0cBlhG+lZk1IWDD/yghFLCNMTzLtNE6cNbehBEdUl9aJMryx0NgFkG9nFRqdjqjTCNG3sjZKzPSkd/a8jd7G9JtQXSasPZ4DBzSE7vuz9lujDMsKy/qlEoUdPXpuGMQ1v/thN4WGT1TaUrVmBkKxJknwR3fxPoOHOEhjmNnQ40BKjlKsq/dJSJKWjgcw3Rmp8I+wD9ITVJrIlv6OuqPFoXdTIgs37dDzC8WCvaRYAjw5mkfnOEqPCf8CnCEErA43zH7jJmfWwcOntdBMwoi3F+8nZnKBoPsjwhUStwZpfXqtTqmZgxgiUJgAOkttidcQkwdf5Jd2jLevd7s6ZCGzQfiX1dbJlLWb3BMT3MHXYs7Rbmbfut0JTPS5cNdbaTCtbUAVmE7g8RhJPN2Sc/8qPKBWUvSmBH8UgHMZpdDR5TR9pFWXz1xOctUw4eUHHeHyMJ+l48Kvv0AUtqN75264weUSWApNx+dUh5J5NKKmbW2NbfsO/8BT6u6Gd1wEf9W/ZjSJl2YMt673qAQKcgc54pFWtWZqBOOPaSGzEmOPREQLiKqLstWoyKw6sUjGJEUDSp/74RjDmAwmd1JkKxM4M/rZoiwIdGtDTux8dsexcQWMpliesxuzF5un0nHM5g5x1PXekr9+xwAEjbVWVXFbl1zJ2/YtjDZN3pcOrtpFGsHziP/qWkEA/BXo3fYEeG4D0uIuiw96rR9Ku3BKSNdV/l9VbeTL+vrPvZxrqtoAIyS3BImqq42lY/kwHFnzba32pxqBqw0cuQkIMLHgjSh9fZRgBTumCc2i1VuOqyH4U6+fn/e6hfKtPVvXgRdPuc7OsLm028kY5bV2f0YY6g+KjhkQTJ82+g+7ZOcm366tO6OwirEKOMK1r/fqFnRj+gILj12OpAyidcUq853RtxCZYaPz4C3HGIRoFDg5jdgM5+8aWgviUo/GPuMeCbyBRX1LDSoy36xr7v5g7TsL3qTYDOO5ePLDDJ+itUy91pC34Z/CDJdXCXbFAQsBvj1NKTU0tT6KNnvp9sK4GHR3wk72tfvJRBp+x7KW3Hy8LskYeOZN2DbTJ4F04zQ2lbJZPyIc0PY9Zn59nIS28VmZU0nHXmaOHsMEuxR0O2MTEIhrq59nsqyIOdmCHm3Jl644A3Wvybq+kon4tjUnFB1E5ZptvdScLWO3CW3aGU7ADOxYahytO2KJ8kd4IY3Xqxw/OAKec9uN12rcGo2603hCQFO1xlSDSunMrgVu84an2xFkML0yToJXQTBwv4IDQ+rwcG8Jj2lyRRaxS2Ks99gIFB3HpkR6obe2zp/KSJ+sv5vKT5RuACdWpAFXrArd4B4jkzuL2aP6Pfx+tZmR+jQWlUDLJHTQ8vWN5BlvcGfL2l3IbU+2+AryNu7EIbcUdzLGD/NXjLCvraeBWA7gjus9GPspxf355f5hazIlArsUmOquJyqu8S+u7Z1yd8oJ2WuNtXeIxdQfBYZBts5G3rfq7vcscAobax9uWqnhthDJ1u4pvU7JiIJYUcLgO8CEGDfHYW/v9/GS5iK7/49k0R7PGJANVpfGYjMRJD2XFSmvB0yYgwz9ixq7Xx0jozMl9El86ncdDiC+Eq6IwFHVIw8nhlR4HiM4CN1aJ7XJJTo7ACNolF+0ywn7H7UmVtje8SBpR+kyR/GyZ2HcU+6TfsPJelWo+yOyYIvF6OtyB77FBo6DwvI2jtbUjs3dEDXX/OC9xhUZteTs3AA27ElW4Kj7gjVLMjOjub7L5GZuntt0CYChYvhtuqoteD0b0auXmmR34D6MDJbcu8Ka7hTWoycQKD5zEm05je8l4ERNsDtM79c3XXvsIBUL3jgfjwoW8RZ3d1JSeusqHUS7RPRdQkkIO0PNfYoRbkMycUyfozBOO7ynB5Qp5iwMsmPqghljltZBO80Vpjm/PB0sRygvYiNRhcau7nnIz7y7973GKtmfTZWkEvGA8dXC+zmOWv8AqzSEavLPs1IXgUqxWfEv3tvLAn7JCovmYR8IsV2OXhYjsMMHl6EdDkU0vc+9BbNzRkSOecyHuYCzvd/jPryTGclkx9KyB4nZ9O5+Gey3APILuLZmq7cc08Bb8TFszrjUbMP0l5eKW/ki+ygV+xrbYFsSnN6zq1asZ9nTUc/cA7ELN+H5jEiRxzRkGDjsnNW2sZGKC0lyxx1Q3Tbh4jK5J+kdfPLWWrEQFtgqXk8fP3XgJqKQ56rSkMrILg9btcr6U7hAyDHSu35taQ4O5dsarVdx7PSv1ndcDdllVqExRfOrIXS7OwEQUTj5vKKNpVWOOrMFJF2BGvc0GD0wQl3ezpP77HMvJUhMD8h3q7F6vgSYpu0F48YXf3dsB8aXpVlrKJg5kldWNvWHSco5thgb7T3rBIynt/wNEWWaCvkksZ3vYVPIBAoKNW1VppTwLYO+cKFj7eeDdUYE5dn/vl+bJtziOq9cD+6Gj7dyht9k8tbzxN7mFh893c3LLHXmTIbSFlPb6SXyON0cGy35veYEhuX3sBAsZFynZfF9cyS5i8B4rQnISIjV+craL1uFzXDDYq7brk7xSXZaZhBqvhS75Q6KtNN+rWd3zm2HzW38efuZI85+JLhdei3nBYWSKUQzgbFrwYZjezQftVBH3TwZhp8tWXIUGQ/MkuzPeRm29/FAEFqEcdy1rAweaXQldJS5zrokUNAzxuT4038axp775YgKv4an7LVyZ0aaUnVmisMxjrMGqA1PhAu6rgA+4wCTFyAK9yLavPqenssfR4HdnNTu4jUUbAaMK6l3dzhKjMcaa6Lzeum/1uDb/dFE5fwK1HfHUKqb4GT14ay8E+bSk+Pt+cV2TKS39/Ru+MBC2KpkyOUzaLezZnmbneQgIB65XlEYHQUrbYAcqWt49k9T9ktLs04NqF3qNoj3zMHG0T1/boOfatiQWMzDf+7XjJ/AGq48WO9TaJSjeAjU7jCFhjNzAtxQgY517rQTXrFQkcjSeg+FdMWZbw9x5YMocGSaI8jDl10r7uw5ts2XV4CykcOJZmWOMmF2g6zlaOzXePVVormrbDxkpQdQq5QQ9D4xlnKe94ZzuJ4k03tWQMvcVVGJvkuMHzn1/Gpn2IxEXkXHUZ94bf466NhqcYmP6CbcAIzQOmfBTgy8Be19up+XanOI3SI7ZUddYoZ0KSBQAMpx9h0UHczM5Ihyq0K1obpSQmxN1oEMnwJ69yhqQhStYhMnJMtjgdntGUwoCwnh4XMVuc8jiMh6bRk5Xpgx4kZqmLI2tQUITYSJgEM4f3iYUbdAtTyEGyXmOqIYr6P3rTZwUugwunKPzJLwcyUo+NxDmqmDNrZtV7cUbm81nfWRDPDlZU3OQRJRxZdebPh34DoL2pl7vvCOV0kY1wDYtoHy1OJ775xM7rfWqJb8uB3L1SUcMS/wmvQybS+QTBgq1kiIuh8nMp+TeImn5rt0sWXkVWODUD6LcySsU/LuGPF2ItsWZad1ErpTrzVBIfVqO37QSwuyrPZtsRmeCzPVcFjGxLilqwCZoghOQILsMUd4ujTCNCVPYfkVpllS38kYitXS0tD1sIpKEe8kLaUD5z0D3OutznW0iMHYdbyIlZtSyCeJ4FJjGbTbMn8Larb2dR5MGylhihnr1js2JHgTpp7ZvDTqzArm3afIyMotjqfObenwTbXkxE/ts1aqba10ePVt5ew6lP3a8DCTjaTlzTgHtNBXadX3epzt2QgdYs22zf1FDVNb4h1/sYtjrWhcy23VPq0t7MzDYmvU0nbOgu9lpUGb+oAejxz647Jy/BD6bPf2pF7UMqGxJuJ37a307zJofeyrQ4OsyB2K9+iiWFIub5lJCCcjevHtVep4ZTstkn++tjrVApMJUTCXah5Jtp7LdSVc+7M6Bc7fhSm12elExM9i7jyX8Zio2pyq1ihJUmdwTySxy2sth1vfVv45qivWQ+ER4XyfU3R2rmx9XUTZyb1BYahsEKdJtN72x/fx0b+G70PBMVdkcyrSGim05KW7Q2226Qc/cvdehZg+l2JjQh3H7wF9sU9mZ9zyA+5eE7WN9jdPW9hThBlkiS0iEry6Gu+IxFdEkNS3d8jjC4ATeHbjBS5TUMrbQXvdZ2fpx1Hac+4JLhGW4+kWYPNcc43pKDNZ4k49dKSd4SSNe2RSkSL39kBQWjhX29GSiFNpInrCPHfY/KJawFFiAih8du7bUX5xy3w2l7LaSKHHHfAGwo6OwKG2nbYTQM+KH0idQQxxGPvoJSvAO+cibQ6WozKPTcwdxJGQpDOYk7vIf8BTguwxyozx3M406dnVuCBVzrFIhOe2PzwSNG/52dGcPLtG01gQ47e+hTzxDUyToKo1YyRhgxFo0tQKOEms3DPFonhvPT431OvEoh7nSIj7o1lBdRju+TLqA88RFN1xUJ8rWIZ0S4KdQx/Jtr9sPIQJMVFaXpDmTrwEz5r16tM8tDf2LKP+TFGaxEYxetCK1Y7V/vOQJ63o+YCj0DzFC1CEwt6SPv4IqSPqHmoiZLSUYAvxavyDHjWYyVZekt/6izkpm/YTfBD/47NsZGJhgU2CbVZtzhFVMk4nn65aSdkV7LECe3qk94kQCu6EAzYMx5eFXMXXkDTanqw+h0Bn+8x6tXx0zr7AcA59LE/5rlzQSKhkexw4fsi7Xug91uLWxfJc/4dXPFfek6Tx85vYPGrN6RjNrPcqHXGHbPMsQZZaignC3QUInwlgq7t2tabmg+wE2KeP5BOgcnTb0lZtnkMoxkt8b/oxuMyNDzufUwkbUmzO5r2c/noYnFx3c1dOK3kspQg67itTPc/XnuUwU5JGo4UY1CdLKx8r1Lkbt3yKzen7hv8tY2+DKHzmReLKvHeI9swgT1nH4KDj/bHTE9cUVce4xbhMLyjFmcXW3smTdNkCdp4rWnEc/ihS92VYr95gap66lmjzu+G11XMzN9r2Us1LkoWMZM8NW5YUaNYWZdhn6zFYS3MysfbGRR3cFxcWj5XP59G3wQxdmHJM4f3XmkkTmqw0XOBzqEqD2mRvCiR52R9HYG3g59ajCDF0OErY96MzrLUkdT6KUklV2UexYYW52ZuI3HjbGv6fRzrRZe7Dk040wVwO7OKQHlExIWoTfxVRJLEK6KYHptpQJOIjQnASrjaIXqwaDGZnCRVTbFidrrRGoLu7ltLJrxUnA2W+3tMhDDZJ3nNRY6OKh70kAvKYKvTYVUHzA0/1lKkj4nI402Tx8KHVZKvre1i6+m6RjcxRj5bw6KkM23NJxT4faTo6+pzu94wSHYz0smVFBq16pqU8SNj5Ed5lHTb1AKnZ2s12lHX01bp2AUEYsu7dp9wuL3zNhSdY//Ouu8ZZGI7naEnPVnY5awIFEThaQuQfEZUmL1zSwPZOuqQJSDie6KmHfVD2xXbNBqQTO0JATPY0dlLdx0grCZK1OHmK8cdlm9ydaOje705ZS9yLOWRKgEzdx5eeiP3zjQNUVxvyrqdbkx33KTSgkcuJFdlcdR/80WbWnHHnyR9y/2dH4cu0DugmqLCb2eol5PX9rTNbOBNum3KsnJKj4pleRZxMnSecUEnAAaJZ9zC3T5vCh6Ejuz7CM4QyWXdImmWKszuKBYjfgiXvItQc2ewS/kTQ0011oFv6+BWtfCBLUcEume5F3FW8hELAXijapX2gXqAfsHk8//vXeZ5hwgCu5ncffYUGFVeQ0Kzrqp2BEbIqLxv/2c1vkbuOpa34A1OveSAmr2+dER+fNvQa1qFOBQ0J/XVToWXDEZ9SM7PVVX0s3BVLtRB1hpXhHlP0lvDWbXKXrAHEtVhytqIIhhB1yWj56Y1KvB6HkiMz0vOdv84FVpnARTyL8il25CW7kGXsWmsn2RKByPcekBFv+2QCLiJb17fIIAPee9KvOwWjGUVoNVqK7B8JdsUWXcAG91likz2GiILt4l/1YU/gEbODdAzttWngG7uE2X8MX3SUdkvWstGr/Xz8z8y0AtXGKo+yBGdXWvnSHxkGlgeNHISnFvyIE1hDxxdWQEDxxGuEkpH3djP7YnNhB1pOYTNBZh7EGlTr63Mm7TFutZLuS0r+SWscR8/XdUXnFA0toc/cawzXviPUkm3qb8xDJoiM2fRCXVx4WIt4dYntHD5FZvPMCS67p+MYigQJomoJ58qpmvAt/pakrKL1usA8aivevhzO708zQ8GraDCZKPl2IlbcoHyhR5GJbd7ymjlmhM1g71Ax7L0avmRKOG9JcMpc2/bu+eGQpe6lIhwOriDYmoytO+EWeKW1lDJyvc4ryOP3FFo0N4l2M0bejBQbP69qYVnJoNv6lu7X6nSJzOmwBxj9ER8TnerVEK/CAA+ecSgskIujWCkW0skqFw7RseWd0znvyiQuvn1MfJz7rrbvJtJcXI58UExFYAOJBcDBxSry0BpN+gHXBxbyvb5IfVUc79xdQ4IPrsu3QlGaN7szyJv9uFjwcjrFNE32GgXQy0s5GAPoopgVFE2LYGUKo5zIo8gyc6qJ1tC2YumJ81yNdju+pHmN70pncJLUxsSzntvlCmYTOcFeqNW2R2lo3RpJQLssqgvbjDAUX2sJ1m5OuKe3HsYl0mxESfMiT0h6r7tTyxfxFgpewj3izZYkkndk4rM8q1Csszp5FdMe0mBV0kxuYgq0xAEcBe24+754z54YKBqLjJddGOtJZyLZcHsLtKr4HeC/qd/xa+LdHB60AWWXyVXt4DKMHPSJdCCbtMIFYK0F0ByJrFP57IGHbzAD1DVxsT2jwbm7W1ffDqnzywxuIeQn0tU9hEkx/Za+JMMDWlTPMpv/GP60pKVqnNaWK67XR5T+tDKWEeBSaGarMkbchIPLA+pu0LKMBDmuweS7gIUnwJpdp8CAt6m9kotGDOhbrnXTPpEOuKuupUx+hWzLatqzhum0+pNi8pDYqIecXxyFHYtiwOyjfeBZcJ9K2zITqn+1Dubjyv1iPrsoH64xIyhxpxm3GC0aR9LnF2rW+/NAxXXENGEvK9vY5E15KK5jcJj37E4T3zKvrzeDETmZnZuoon42aXt9XbF4qLng+Ye4KhI+uUa2noGXeUh+MSkYL+vJg/OdofbWx9JqpdVGsmpEDRpb+oBqy4v95tFlCqEz/wDWh7MxeWqE1a0hhjRD4qLuH44RxF4Uh911VTW42MkiKmILT28jY6JRwZhH9jNJeK9UkjiVlZg16aZW0O6go2lsrHmRao8IvuZXC0p/r8JMMXPt+1QIpRNVK7iva89bWKObi7fu1E46rcUaCPmIIvLzbrfEzYqknLpkAoOiLejRwys8NbtjQOm1vdG+a0Jl46hCJvWWGcweaTgHE+kqM/FV2ZObsQyVdZpEjUBtTf4IYYsLwtEEK28nAynZ4qabx6DGASKBK56y8z73pZASZepdA6sevZnGrp8jcp1/TXdJwIb5lK6ra64RW7Hzr/i0nt0/ltH7nKcUUNxtjjFZ4gZ7ANx/62bkw55xJqjTgR3t83j4dHNPtZmS0+iiPSfM2ocKUkkLxgQrX6+A6ArDCm2MQH2paS7U9cUQDkQrQvZC+3EG2T+6QR6Nx5w8z2SpjWYRSXuxIFv2HoDs1MFEAzCvWz8HIlwBl3xSMmBxePWWMPu7fj3vqOqmuEWcfb8f8aO1W3YNBaLu8ViPX9eJatnuh6yQmOjuYphHoVlDGw2rat87piexYk+4fXv8GlVFyCxsF8+tPWh2GWTPC67sgLxyrhg8qcW652N2ETp+G2yZVik0MomWkNrOltGVR+Ti8mXHCFZ5FTkzERWXB+uZYnwnaJ5vJAuTfao4RxfqKWeZJIo7jN4hNd7+FTXh3Yqwwg9TxtauN/HTGiVsuN916mrgN3FNe3xvewZ1jiUP4Ll8bOpRby+s0Q9m70TbYnT6dS7iAkXfciyhI1QYkAWHXye0+pXIe8YAUJScW39V6DM/dyeLfX0jBthnXFjvvtdrGIM4kWgYfRGj/0yhWmInJc27HSzb2eKbUdemoSW2VgtYC3i+upGKcngNS/qxv9kRcnH9pUxNfcS9PAp77CqX9uVMNCgxhNHbQROrhJEXYLI7oJ6T+lNrFHINd8hyQ5sNVT4SZiDdr6L9drP8c/zkKBrxV7Q/U7Jok2g53jPbX1OgX1tsbiTVO3TaiA7G428bmEM+kYhdOWquRTm02hOF/i6zXK/tNWcM7HNlrH9ugYWPUC/H/A10Csbg7r5ClWC/IzhOY/8+wXe2GjHXrWqzxuvg4rC+XZ1PxCn1ALihG3cTbD6q/BD3osQPxEN0il2z61n4vTle9bmTQDq19TwyHXNXk8Z0D2nlRMXlrHLWv89whm2bAcLBUuuxjk9UH2h224sDAmyRdvm8MUHX7fCT5rM53lsiWa83cYI3QvL86PRCXP2VlXcMdxtukaU0ZMY0cHXTc6wSDIqmLX532wHzGbUw6G9nQw7ZkEVF3ha+gyZD82E2LBxp1/eFH3mE8/tSPUAOR9Ji785fxfIh6jpj8l7RNlsLDUd9zIVtFwWlTjvBCnR7vQcieeXMxFCrVnkJnbjpTXD2elYvbFxww5Ixqo/atrKAXn72Ly0F6KJY369mJW6oE4cBA8lU4LSD/wIuxvimg0wJRTUtzhDuj8O1Jsa4fSYksooNB3McVX1RjxXgq2hpx5r66uUSj3ZP9hdx1MfkGzidMWObKtPtogPHhq1fVyNwPLdIuyHDfWkQmrVv5chj/mXsUXjKR/GYD1nSASPhWXKF/NPHJxANzRlPmrWvas+wgyH0UuPeihBKJttaHL3akLsPhFMuZQRSpSbgHWOokIF7pNcG5MwAwz9gNCBZLslPmnIMduT6gpUm0vFa69eRXYS97X/0B3Ju5K1kvRHLjWvMR33eEqa2XE0CyK3GyLxl0h3gmhUkX+ozBt1DPg/LQEVl5jSN0sjAhB+1TnXvGZG2AlJZouU+Cj9BrEkwjdvsGHZ8h2ONujz954sF44pQ4d3Zc1RvE7cth/K1H0elREAnZQExKiwTTOeZmZ3xrMVdvwihz8SICiG3E+71ilHD0dk2Jm9SoxlcNeejWpfEhsy37VYaNRw334IQurfXjpDXp7zEM44W5Qul999S68+w9tsDzBXwbjEL83R9rLES1rSBmfdRbOY4YUPps0mpYjPHCPTpkfGs1/5QZmN++E7mdyyBJBBYAHRHsTnizh6XspvNQD/B2eyj4gIjz71vyEStrfEJm7ePPVbTAsud2taeTgCYQrfnW84RrbobVSn4UsMm+oYo8i5ORHZBH+KelguYl+TkdtGYxGHiRuZSAwjiFwMkBBjbtm6uNAUKgyHN7/nACCr8ktx0bUu4xgeKCeJ8VDwvKicwcg38MV893khWEyH7FfDgW262aNS8raNrth2aRBsaCnqmHtJ0Y//seMd3D5ZJjlgsnoC/x+sS9rSjnjQmf/PeYSC2JlPLzRVO0dEacVmsiGi7r245OcfBOi6KOut3ocXLU4h3rPp7MyaYMpaRMy5p7b3XgGtOYY/0SLHHU4S3T0k7HTfamuQo9+lUPAo99QyPzdnWIw/gLYsUDFG779CHhS6uhinnNjYPh/bFNQNE7HOxAa0cQahq490eVp+Wy42Uov3qdzQaT3P6wYR6bzGHCcpmrny122YtpXaF7RzdoMFkFuxyBFU3XwwLGI30NE7Ko6UcQsu1+PXliKmew9A/kztS7xV18lBA5oo+wiWwqEzs5oeesmarvccztwRPdgpoE3ws+ESVPsDqRaYPLOTq+EMMCdBCbSA/Y9QV8DgWUIUKsyhAdxH6AIyoHeHTcG2uVADudvnx126xZO6K96u6M+pcET2fA5eIZfmZgHS26p3ewq8kDofpUovHQgiuNh1Gyu1dOKB8Z2K+34zrts/En0c27cYhV0xLD8DfWP2REVt6Bzu41vuzfXKKGBpPi8322U7RAPKVhHJ2O8ctUSesNbNrr9eNPD5JKoxKX9XmlrLMNvOcuwmuOJTnkIhZYimW6L1FBvwa1oUPeNpX88D8FRlOqNVSRpc1v8yxcAmdcU7abnVNpoQtdGbfez/R44i42jV5hl8Adysbr2Zu+ZYEi83kDYpvrfsZiHKsSbRYzs51jrXKFdNyXdzoQe7ARczQOY108g3XwSucNYuls94z/y+bCl9Vj3GwqVrjhbzXyfyWG6w3bM699/bo9YlX3CpGsUYLttyY3EbZXsXE3xlkj+evr4+hCtI2Ru6UgMm54yYhUUcPXL/rYP85v8SXKjeKlAncgugTOqmpjhg1hPpOE2bwfDJuIRdrJf6c8kyuKWTlK4QgmrVOSa36O1Vt+S3HkbP7vbbU5k2vr+63MYoSUJdotmgIGQjVjC3Qk5HReKNYoEwyQ1JtbfmKxQpHsENvF5o7B4rzlQDiGvfwa05SGQHOy1trWDMdnGw/sifJKPpgq9bjHjoESwSZEs38uBUF2wXxBtGZjNNG5aF7vxTyrhnQJtjN6aC6RxHxF2iAsTfhbl6U/DuaocvGa8x7dCU5gZqrcsFAdgL8QSFdZ1v05KCZchU+QRFreJ/PB+5OVuMSMMCwxk2kanFpxO8YFCaCv67zQzU18Vpj4nDXncJiMYtkfjif8RxJD3BOyFh7zOdj6W0BNmvdAFOMsqcEtRpsauDLAowaEyti+8ork05iQxkMpBea+DElihBUcfbxzI3KX+tclxEJAby1LNp/dYAyDbPS2w57q17BANbMOJFW9WwdQNmTkQnIvTpKQORLj3bFqvTVwFn1iGbaEPuGKVhElKjGZ/Ln2u1MVsWE1CR4tR1Q4Omswc74tn1iiLADvJAaepXN+Oo/IzrhJ9ll2JGCs0a4Y5FdVjj8a7bkM4ex3r86xKHGStyOQVCNZYZMPGEOrad5GhUaEPa40/r6YKHrn0k+/QTXy0zTpxhmB/rvAyGAsiudepiW0p7NN0JhkwzYh1CGsynii3SMN0pwtoUFf22dCIcJFU8ii/xpLrDmiMrNnmJqoH9iV1AILruA5ZMhALBOACL7orOa8S0Ljbh0N114trZTTBLBbTUKnGuT65CNbdcn7kDAR7JDEb56nUn0ph0+KnKnjeAunNSVyWgqEIib7orCXxX9Xe4loXmPkL47s7B+34JiuII9ZD0OI5iwbo5567E4S0ukXtKJD0bNGUa2ktHWTbllY2G95zdNS3e1l9od3u52dJM1t8MRKwOb0GP++IFdRMJgvqUaDTPxcuRDa+W67Wa8obPQddv3kgBhvIP3fhY6IJWNTZ8Zv28yObFR6IceeNXpZSfXDRq7k0D2hWLe00R+hQhxE6GR4WXaF3xPR3rkKiiXay100racCSGEI3ecxSjHpEAYwIdLYZkhwZE//tw9Lowgt4ZP130Nc09SxgkMdiTXae3VR1R4aG0cuN9+hr9NSs/6rsWftuoyJGFTLHU7mwCp2RmAD3qAuxbtg5Xd86nHHZauJYP7XR72ZJv8DK+sRXu46yp6ZQfqLz1WbuKqkwQ5vfTgwOFPP/3mYXm63VVgmFwQXCUFq/1zmDPLXImgy2tSZPxec18dn+j3SVY5n0VqgSpHUXLbAbi2y30Ww3sJHV4vNlOoloedB4O2AaH8GrwEXpd6NIfFOfiY4sgj8AhA0ZYDB9ZwmOdiBNuUamFBC4KtllCXlz+gE9HiqHPdfkG+3eaJ8ASVglkkyQmhOqeuyzITBGfLgPBiakuMgZfsb7YhiLnYAsdBXA5Ib+TNOzfaRoshbMXA17EF/QQofgKNj2wyzyyFuzIpFlMbHx+ofN8U25Q9wwmxy10ZV1mtPL0kyv72RsDEJGcPM+k4pq4BxVHVN6G17CW5MEWsJ1r+snTqTfLIuFG7Uta0o00Ko+dKr3cW2E8LcMfISOJ13zQpJixh2GjuR7frQVBU/P0jp/+4v85oIbzAsSxlQnGC1rYj0r9qctCWrIHZOK7Hy2CaEiljDt7RQ74qBO2a9eRUHmcpCNsefrr9U09+8GxtNu22M8sbrUceFjYs96PX19OCcE9zPnwq4/AisHpNDGQvVUvC5FVGOR7d+hQgsPIqECDwcWuWnQSHscE6RjAHB1DKNzv7raAAmBooJD6sSzl3mHJPpEhD7P7pEUQEWYcg1bWigAuJEkxqds19p0wLTpF3yr8clvp6stjwGbJ79drZ7oaDuoRFnEdqTXaXIojTnses1SntSPzv11Fp5hhxy3b6SKhWLsksM5gG9iYYQIa5GAi5Q23Jz7lDxpYVW7dzspBjgLW86daUhyy8jK7QvfqoUxJQOBTlhswrHLhTZyyIOJe0vJbg955cNOblQyjx0NkznXPFe8ezyiOr1WqESO1QlJt7S0M8Cg5OSAkrAO/ovF/0XjHgiMfKsW6t567EirqTYjD3gFZY+oReiI23V7jMHFcKfc6ezIKPp5SjAXNE7PLaZxwkeyM6vGB7TUfS9cE+mgXnlACK+IJI0wZ294uwxQiCGZpJa+lFXFNpubKuSVdv304CCQjh1uPu0LE6l2yb0+P+NjTHnCpliLvKRWdJfEJc5qO36bWGIReUuxGuaqS8mmnGHMO89yTD2uNx4luqQvN83RbgSwLm2nlBsWN3sAcTWDsmluhcaStoF79w9/wk4w377u6+6RFCIpuTuzT3CkavtYfNMfe++qZNRb+X7jR9XD2JL22r7Hg7kWC2l+YdPG1Jf+olZY7DCGviuNr28oNPTT5ycTZ5U6ZM58z9tDv9bhAMFVLjxY61EwVtguZk2CUnpDxZQmWYTAexMBqPBLuY0ZS0p4ccyeIO07o8T71bGzsieWbTXauowmgKbWhH+dqjqomBEUZBkzr7AFfbZ6xl0mYfQA+zFB2438xi4POVPb3KO5o/vyeB5S2nsB/dZ8LUxJsvW49kM+E65FASz20t/9DZ7uy0YLRTHthMkokjKeFsVN/YFCYJdZsxo6lAj9xdiuDd5RpabfmGotSldr/uudbww/u2fQPJa9oyOTNtbtd6CVyO+dNL4nxE18all+HKuxeJAWwUGPPaoT9urGrkFJ/UDoKalPC5m9y84yiHDAv+r29BxAM41iSUtd3FHw3Iu4CAKwvlbhRCJscxZU4MWykb7iMqA7nUX0ePFmCCZJB45d4jgTnultC5V05N9rZHYmTXEIrbY0tNBsLL/b69UR7Pi/G3U5/muVSd7BtzLlkFz0PyuzT3iLXyUKvtiNqMWiQH6Lsfw3Ic2vhWZLLYDuxgdi3sYeOJZRhyD3SwNkFD1oZ2KBYGX3wG1e1KUFZFASS8kkPSgb9wXl2etxN75+aiD+tj0/MsJ3Iar29+jwYZGTPS8WUc6V0SQvxt5S93fl57Bh8vW95REjq7rZ8iqoOECVhWvBq9K2uyg4V1gUQTKRkTM5fz3noeAN0cNFMYOnPwBoBuydAp4+7p097uyGir7reW+naUZl+dU86RtjCJGTTghF1niRaOxNlAosSZ9u+NFcT5i3e/5ylgK9IGnsrSqswWYJmXld6mqswVf/wZ32t6tfy2pBkPjnfdxNjD6uC5LSWh12MSbwU5k6xZe3cuZ5AZxA4sHp5iYYrpD78FdcYYiEsH05KGIMBF7TPvT/I5YYt+VmpGQJPR3DMvQ1rifHdUjbna7vN5Ko7yvHPlkiiLuCLrtSHlpA3RblkAjxsrhE1KvpvPat1XAGADaqCCqZNIEtY0MenrQbURVflQkfVy+Hpfl0wJL3NJDkIVGlRMmp4kW+xdD52vq+29LaTaSXOhFkigub23IYeOHYmoC9Sjq6PLMGsEmzyPd+Urg0/RL2h1pjo/tlhKJo7peaBf51U5HUfIA1Y17fzwZsO6g/GP8GqJGmtcX6Y8odV30J+z2jpa2NI4Fiz5z8RBdwVsvBj3SBGpmDq4Mmn9RREhAMZBq/de4QOIfYov0rfWeOpZ62hfuqfnpYV3lgqbrpZGlg7iMc/Afe88/Dx6hHLcej/xlhnmeD3waVx7vCXsP68Sb4peubHm2cPxC5x6Zj34/eT6awnwCRJNRZgAzPr/LlPMa8odUKW3YdG9R/jHoqgCSXCqki+wN9uNfokTlXNDYUdkJssG62uWcJWlRrL6HAciUc5ExBXSL85wiZL1uS797t2Y3vMN55p5V6HJQYqCA5pvdQZPBNXFKNzvsOWOu8Icx1vU8XdyomyPdfDYt4UBSMrbaP/9mtq8onHuLa073RS1/RaLPW4evX4dMZ8vi/e1AC5HTcgSVjGlQ0hWFs20Vx+VkxmghEMl4IUQKDAYdIocK4NUiyJ4qi1SbTKTygjIxGHpTqqghg09SvP4TrcAbV6blsLDPh913vLQagCdtK5fcjSJCfnJlhH4LAP3uEKYNa6/p1d8jUly6d8HeqDl2KIRfL7/QgquRDuGR3R2d+FkO2a7CuYadyrDC4Eom186NG/nkr7hrPyeMo5mjKpIhid/9irDxtBXgrY1v1VGih5klEfrVmlZ6x3UTyzHtR5diJCSHlJMYjwK9XFfE4xtTMa3t8rw7BHF19HaME+Oxo/FW7in4Xln/kKVCXujxlRViMRGuwwD+y62bbZHWWvjhr4axIxmuZWo6GwKYmwIS81RCWLugLuWJ/EFUcQlbfB1LnLtmWcZmigtI3Dvh6RJPS+TZerZl+XTlgQuojHlbtwNZNOOsjVygV5gtBtrOB6KUvGFQ3Q9OOgQFhbVGwPgCIYQcHIoBmKA8NQOkc9Tm2RgwnhIW4wP7pK1ULS4kPz6S/4Xs3uhONSB00BWTb9JQsoM3V6SrZpKkgC8Rh05ItzcnGRPQetGsdlQ8aaZjrerDcETr8sl65OR1dfzcwmVJs/uXOU9iAwASpUoKhj4gns3+s3wdtEGLoEQjXOd7cgE6GxLbmHIefuwDpJDAsirnXXJmhTevXPT+bhjSIQyZuEH1OYacJO9p2CDe6kQFxCMGHRT9tUhHABBpLPIQq986I6jBWUJzccIGsNDZ2bN08DR/0ZsTIlDpXIv348zi6DIW2wuxgvz1vxF69PQA/G0mMLif7oLAroa8/6FwmvtBw1VMjB8jurtdQSgJIxJBe+Jvs/lwizyc4keo/iKU/wpSMOuHgbvMNuOJmCFOr9lJhgI+s3z1HVpKjdIjWOMd2psbJb1NrdLd200Hk/xkPD9TuunyLBSSgc3dY9VfO3wd/n0dBCZYMvSm/YDRa1mMc8/dOqvwp3YYUePfUEVSvhGihfDc5hqpRLEUOAIKfeee+wnL3uMkngE6rZHjblj6oAWcncXc2kJzhcV82kWOkuXYHwKxRUbZfyp6mmVOMcMa+wZLu6VxihczPrKnCl7QqdJFhq1aIrp6hUHBB1+z99p2weSKfZYQ1K4RQ5MQhz7wXZs++e0dIK9OnjoFzz9wdEtifyhFMYDYjNJ4+5nucydWIBv0bV3URM/ZkYccyWFPL/oCiYbJ4tjmDzPQd+XTIM6pRerXjhIbjiE++u5FXMALMhPgBibB0qLKA67f3ZEredsSEY/G1IJiOrR3RGqUOthIZ8ObySOfILngc7XWxa2edELR9vYtPj5j/0/BSqb/ZC8i4nR7Arwm7aOMmKFWSVv8SY9iqXHykOPw4Xp4/glwHjROjXHrjbmWz/ZcTBT3YafWsTdWVMLoaldE7sszlD70uaN8brSU55WYotgemQE4cYlTAy8tnWqtNlMM3eqtiX2b9iIiEK50m87wx/JqIYb3elIPkKyhudEJLSvRvyyVgK41JWhO2tU3F3r/fXFf7fkhW9ZUdR51eIUWLDcOBsvPnVnTDXVdq27CRVfTZJ5vvF3ZppDa/66g2qXREDg4Gzd3kfgEIayfT9qZt2KgeE4opXpzqfS2GEmcTdhDW2tJAb5uRnNlHN3kKKC13vCpQwHHb8VqpYgVHDVp9I4LhI2clcEpbnxaGvOU1hAFXabB/0Um4UeD8MPo/k/X5Qbb8QEhG9KYjdd0uB36GEM29CUosg8F58zSkh2Xq49ZheTZQEsR/LL36esrPSRVGt5uxqC3mCphuxMSSihxluuOqJDMFpCSHy+u/HkMmM4W1IA6kJ7zO0c0t833582hxyJy0K39qcdboHpbMFaPs5npjzcGLFjDSr9ozkayRLAD56I4tolTC8BUGZM0RtzmgFKaz1E//Bu7Kklg17FGZ4UHUtPb38qj2Gn32/ZV6jg8kcnzBBA5YC6zoR+rxHi1j4uyURY8ckzLM6NyZml0BA8BKzjWCSIZXJzvR0HvuUsIfx5TovDMScxCdkWVWvtttl7cqeQ1ZkNlTsEICQGLmil98fcem7apOes6N/+RJzMKEY+CJvJroqhFSbNI/5cuie4O4TXNX7o/UHrWcXHwAjVYu7huAlGZYq5hb6X6xixn53rFN+dembtoQ24UyvE4+LGLE9gqyJeyYD2Ab6O6a0mSwx2t7hdn3P3nSAD4y8Sr8uXK2AvsoXuu5fbZ857i7qeadX3eiKCUHMvPm973bHIt/pM3DPQ42edfUW4xCpCBGV1y1ZVrjLF+rx3orwlAMN8j/+wxDuXpG2iB78cVVSia+p2K++aSveYxN/WmOf9bkFXsIATU1DfJBMmnEwu869eCH+e63R2id2ld0qEnneHhT5304jn/4h0il72KicDUXnxocCJOgfqpcPbw3KGhdQuBdkrFMyDAUJrSinEzoiJJXAWIyrlGV1dbPsgprFHnIIpxyO1lbijjQEWk7ZBbWKKbAwqEZfbPjJh72JqPs/tx4easNecTrE7YppPe02pmzLHO+w3t4hpyNFU6dtX/HLgNBrt4aTH+EN7AKO6726RtWlOdeXlQb7HK7slftYeiOs9MROMjpz7zRVhNrmSWlx35arYQgVITBeX6iKkgVJgHkHwQf11AnQhDIv2T6NBpXwmW7GXgRBP5NSgC/RoSkfixc6+okGX6l80E/7vkjr3srvICS4L673rNCYz5X7GVOMYxA3Dng6QAQx1xVrFxcfo3//o4VpckBFl2rpw0DnXdM0XJtLSaebucroKNkbrwE1UCknnCuLrbu7hZsC9j87wDB/8zLM+dw/5M6EoEVrptmp77WCGQe+xWHmJHDMDzaTPP7db9yyNNyf/HIKgelRFLmCemB7Xgfdq/hM8Bke75k9lYf819oElcE7G4pw0MMuO7mQitCL+zgDTOiNx2pO655x6nZfJqe945sm8LHejGKduPHSsTGpHesyNfczZgsKslxY9Y7EiX6y3VZwp6bo9oGdqeZlzzJOe91KuV+xeMhoz11mL+HUlWmfn64NG3ysLT+44f8Uds8kDcZ3WMK502cUy0V6I9HWXHHdPKZkD3dV76pUFNUFho1hfqpPGWAEzHNgoJa557qdYvKANHnfXFejHYx6BzHe9TSG+rogkWHnn1LC+4Q6pbJlmu4Eac6cY1/Dbbx+Aqfzz0GzT13/dxv6KMzyUqe6tmZwA/sat7agRz+ZHo3GvR4mYsqEKttaSJ8aztYWAASSaSlzpwEZXy+3CS7qhU0AxvyRGE70MbbKJfG37p3M9SeSkbcSCpDzTLFwllrnfz56eEyeKBqTQv7fPxLbVgyrRMzYT72ZCCodtUeWZhKeQ7QMLZkB8XzV5gE2/DJr2uXyOjQn06izsoLujEBAEMxntWtC6scFz0ohc4lZeoC0el0Rqdr6vQp80A/y2+WP9mfQsC47tqAsGmccNdt6sQzHNx1R4ccQ11RRn+cLpKNDdqC7oIJwJp7GFsJBZ24HDnLbDW9rZlnnQ5XF/tBObo20iCW/O2KO8ZAmAQ7AJAW+zUSC7FgbFcaOcHe2+SISZve4jYxfrPl1EDJBfwxlDOiFpZPpdXWXgIVHdkpdQHA6CHfYrkPi5h1qROs95S/gZL9hJuL9fcWC++nd+R3+pDbzikd1+mUeOFyS3k1KurHEWzFIvi5tBQjvioM/h+mx6xmzHEfq3XPUakp+2RsioqawbCsSn+jJwngHpRnFBntVAyj24S89sL/qUaOTP4gXyp5CKmCiCdfS0twEsOnxd0uuLI7hr1cgvw0Pj+d3MGRp0vNTlYx6J/8oNqVxGmsyb/ILTS+aUXl2OhHUbnJJb18oLxv+VqLCjhHgYFYk7oBVdr2rqUYWfqcNK8hNWxOw5ZrnNqKVGHplS0n+CRzQLcxLzZW0hJ/PSVxje/ZEIm+f9f0zN3Kf05ei6VV6ONXkTogH27qaHN42uToXXGy+OSLYJ4Hzp7u+rXk5Se8jnaS9FCsv6uPSET3C9nDybTV4l2q+2nrTP2PaoFvbkE7wTzE09dSR6vB/GQNQrujeGb5VAozc1xXODL+HUxul/hgrw3xmqGh70PK71uVe3AGPLjGCBObJ0/wCkjjtKY5rKpSflYYbuATIuKV5veXGbHFdiVoswfmWmJza+4tPfsZBmYABKuY8emOBa32n1eAJ8q8vhKix1yNRWWggXn1KCzuWsDpDXBFw1iWr9lAhXkKHUsYSU+eldkqMnyvdY+vt10niSfU1rZx4QmsRaZz9ev84A2NoChiTvyX3EgUNEe4/JtQClCbwSBXLW2ev25OCIEW/L1mAXkSHh7cemeRSXaBXZM1JRNJjIRtPattQAtYSiyhXdGwJPTbxrQjcD95nMRnXZTIASoeWKt25oZ/FoAxYKeP5syUKGTWxFEP4R0/1EiPGgxl58pWu6yjyeCPkdxxU/aVqDmHYymgk4oacWJuXLtiQu0N6DJukaVo/Wldb0VN/dMyNwzbIFd2GbUHMRXZYeEdmnFZeneQBV7+h057upxihFVcjKsbtiRq9/GCzqKXhec22ZmHHxPPeReQBQjGbeJPOOMDzmFfuM4a24XBExxJl1nXt1iU+3VF7jfq8CjBqvJKbMEhE+d6qVnWswd48DRJQzyYMSeYbtEcstmd00HdhgPYoNlW9OSNT2jrDyuuS58N5ar6MLgUVfWOxvzba2Tq2whp4CIxeh5zjaYuKmNYHFW15AUswAdFplpCXOioJzDYGoyouZZjkTpb0tQ0VAwyf+AR/xA+ghdMSNemqWry4i3a80rfBw+4KX57w+Vdr7PnVtWELupYmXO82nvCyCJfHjOG+8iicWIpw06uTDzMBUy1ygQPRtqBW3E1xzPS2f74x3/52VexsQowz0j1fm1McgEq8JzSMtsOm9B4J2tu0L4IBjwygxSChH3LG3fe0Lp+eLPBIdjYheRknKtpb1CDnuKmatqhsWuyF3NEV2AXOsUKF+LW+HBWlUebZ0bVtkuUv+XnmzrSeYNOo5+ghehiMUjWf8gKaWgNywnOfRwPjPwresD4+MWX5bQmmGjTXr4sURkWTbUWOUswUhBwTVNyU0LTRvc/RGVaXI0LiaPQ1znyXERGsGQ9pH8Bs1Jor0wxEx8tRBJsseR0WNSOtgALCAxa0vKeI+9dyUWxTaodm9/CJd/3THpbvIFeK21EGj3X62xjgYQao07+WOv4TotqUjm197AzxKODiP9bNsatYlajRHEePYOrgUHA8JSHKuALg5wVMShcJdfLV1t96T7xwP1E7W2OCZsAj2rgX4Ti3K2Xkakk8BBxyhd+zChfX9mzh5N3fb8mioGnOU1yw0t1ggtCXWYED4p7p27Tgy24XhzOp8PT8DEtjiSsc0L1XndisSX991FJ9nTaQk0c6UqKB6Ub0nW6VfrPDvZtXSc7Rq3tDTuwbA1aXPd1rFM1E+d5yp+3u1xjzhT7cR/K0xR0wVILGexasPF1uyE6NOqAbzipcmHQs32AIQMa+0ADIyuKF+9ERT1ieNU10ZGY1dHALtvnYTZ6p6rqDYMJQCvdYv6VDVdp5s74yQVXG8HLuQo9Ujr3GKwC3WimI6ZUhMUFY7LXQLij+26Tx4rYEVriTTWR5WhXnqDuLPeXV4MmmwcXXhElRMKWa2+FPZzc2jFvAaYrmLKe4Ry6/3sCsd2WyVRpIdIZyFN9Q51VHj0bz5EnZzxXdLv0eu/JRoNbv/cCQJnPr3ayS8h4RHUaTnaaiC/6n7W+G7FntvhdnymK/xeK1+k22vbeXWmTDxlCHfB85NBeiItBeiKkJifrEHYNCVLMdrWmrwWQp5mqlhtwYd7KzpELzAWnNtQkA3Ttms559COm6qPZTRzhRr9WVrJp80Q9vUQT0GzRg4SuO0F83/aKHG1xRF0/6BCjkyWcwJUa/AjWYPy58Te6sT58nQBOowUSjswxbEKK5h24eMP64MqtudbOHeACQV3saZ22O3quJpGN3F3XXG/GXWxL6JC9o/9HMouHgyN3r7/bziF654nNy3Hoc7xbFVX+5zdLcIaxTm+PZsnzxfHCXt+hWafxUX6UPl6TJ12GLn90z+aKd8dvDlSD/mhqQmeysLpg0xYWRUhcByz7J8xptYC52+cZXiCIfxP7Kv6FvioXH+ks2GELlHkop8UJVlB1tP0RLslR3DX/+o9MtEf48mkvCPQz7K0GuYIqTRClo+TydXiiCEwGH9PIWsevFnIE6CLfuDHsFsHXe8yRy9sEicE4wt5b7c5NTlMD9YcLbTHPFa6+gdH8VHXBKiBfcBm68DiXeJJHpvpNpbGw4VCirpmMSWUcZ+tyFYt9nypPOBnJzYrlHEHh81sDWkB/ZoksoqQnw+dD4anc6XPxoppuUEtSZD3WBJihLu8B91xWxtatyYXVerOcVm7WRMjg+SN5vczefGuuMjX+LxvaUx6GuXMXFxhAOSxal8q/HazbQ8T5k7cKtVJMtD9wAsodtrz8GJk301x1jghWDnvfavZ/cORryC0yLaTb2sTqlfhorEYhZLhkFs9vKbW+ILEyosjP0tX0o/C7hawgGTQ1Jat+y4El2JBtVOsDX+9ka5mJd8SgsnRYuuLJs6UslVR55ijIra96LBQpF5uorpPnttsXhDZgLMftROO/pUkG978SouHBkxaeY47FQ3McVm2TNnbFh7holjhcYSo3B5+6E7fX1YPj0cENMNuW5RHBwSdcOdOrQtHeBRe1sEzYijdFT7t7zQ2p9TiXHa2LXzxYoJOHVUmbomLJlk1lWfe5qiDmcmvSSiuteXBva0DCRzy/yZaX2oJYZ+Jvsi8wHs4W9QjK2jtXP4V2TXZ3PseJFd0/ceTWC/ZLhOjAS0l2n32tcOdF6M3GRONeZCxtxxBGaq7ygwoQdsMcu5G7vrYNtlBYzfN18FDYNRs9dH8WsaflsZOEfcWZahGsFzhNZQ4xNP5iLCZ8AZdxOgt2VvEpqWJO21xzv4QSyWIDKzgeWVAbsthbcJK+pehBABvqkSKJaR2z0zfzm59fp/m2yFhlp2JuNz5l4vuht9hb50K16/t0A6Qn2TwKxWYu47ak4IUmUP2S04DGh9l5f5RGWg7iFXn1Vh+NSikV2XhLW5s2m2LGfGpjO7o9BMc8ZD5T4V5rySg83hoT30dxzX9zhOkXUUUiJ9h89Lj1bpzQtpYxyczPOfTURYyCCEder6Ptk8d/CixLm0eqbGTNQSt4zJYRm8GRjhO8gK73DEwFmAIDOa6kq5ghoSuBsqFa3GLDocUvTr7hG3qzEs94nB45Wl7ZEZ6XZBG9U+7WtsN6cATJ3XEEkG8e7eD541Zs+nvv4K9WrUF9z+ON8je7T2DYhAuYfVM+99qSuYb4rXLnSxqxpQYyCgW4TQx0f2eETia6mgO2gVJjfnjl/h2W1HxZKUePNmYn37bLQJA+dMbBsxv3TItPR79MLnXjK6C66p+J1bBQQ5fONtdyWosk8GjjnUsSNReR8vIpZxwE0L4jrAAUBQx0hpakqO8sctqtDthYavDsS021egv2HqsvN2nJj7T6VZQfCcYUeG3FqdsN/k8J7dRw9kWbKxMqXpYV+FQI51FN4YQJ1VXKj8scZWGQ6tuMyxUl8yOXeeIF3rimUmpWl5jcnsbZ775/nHWvHqIJGcSQFIqDs6nhDQGMMJ8m1TETUBudged6LBXI6na7IpkHzKnd5BPLM+hXE2usJObZm49OfEmZdqXiQTyXSEYPdXdJRJ3hUXXFEkc4sit1OnLWx15bQoRP5uitKqK7e7JsG3KKaf5bFyHfrmUbMbBpLLDseHCXY0j+GLNntu6RkddcGf37OcvD/HIAyOuwEztHbvN9KglsG6oHdJKg+DiPjSnnWPXSo9Xdck4+LFX3G7oyqchq43UwlvV5jO0VEraU1JfbBRHOQUMgV9WzIO3k1UAq1j71DFEr+c1gp3Y1t6DNeUGs7z6KiI79ZfEOYw87J++4SO3XF92xkgTJ3wZFLWMsjOuvonuKK5jyiUHK3vz221EQ0uTfFnaWSrEYfWkiZrJSxFVt/gDsgtk/5kyXDvB2Z1WxeE4S1Rbvu3y2omjPf9vWcivUWTMrNDftofYmn7xpO51ccitjmTDWmUWx8HJikBT7XkgnSOCJLEdh5RxG3dDNoCSkPanNKKW4otcQ3+7jbKCmyJiOMq+8/wXQR07u1+bhAXlTTV6BluROsDyNSmoD9wzcGjY8urBY7EuOG5HpOQcmdiyEaj2xlpXNnwhmdWs/6edKEtU+/LeeIVcob7oAgOrotltowW0ojuxUckfLqJ6NLaG3XhswK4INBjGelmtxaxb9h6wE766fT6tsh7qSSSOk3zBVEtu9kpguuzWZ4Pg3ST2/NJbYAd0AWiSEgBVWzJ/mtDYaJJiYNsKUsMkKYKvHsnfeZFW3w3PDWeTrZ0uOZLGuYZr3WtoR6ZOW6Ke1nVt7qCa8wyX8F7hZiJH9uR4eL71hMNJ97QbADnjK1FN49bKMFMgnh6yBK4a4u/sPr20t7iTDyZoecR+27EmnPSCGqo4pJwM5nF6T3qcT1lVtxxul+ulwBM4xJDZUqa0qXQNk7Bbu/iZrXyQlXBmYnauYsbJcJKhQp09rUrMYRtG7OrgvTxdOIVrm+8SrSvkWYZekbPe3S9N5wqHPyWpPapLr5iPlvpxnp6LG0+4ADssjbmVIw/g1jNsUy8x0QigBs+9UwgH2j/otrRwKJvl1v3tS7ZCBZMVZ1XQmy2UCO3EUZP8szJPF/mm/hrVnyuj7Hi6D98JlglrrjecNEQwrtHj3+XnZnVrzhsLcnoectL5fpyNzuLqJsg+54C0KpLUkgxMXJ0tXM7hGy0UryQ3rhyyT7QSxCPjqVMX54GnmTCM14i+L3FTfMXIDUuNqNdqL2CjNZPXtGa/MnEbb7MFi+HXVUJjr2RkcUtLcdWsSwaYtdnV2Cgu4d14imY8Y7NwnqVO8uUdIo0h7jpZUfBidzofHykggQ884dgOBQGMTSd2LXbZHVquW2TFcTu3Otwtq5OzqDUlCKoWXogTzdzmbcUrNBcCzOb8B4r5rT0KdfIJ+ZqvMOUioTsztY7L+y+mWIqv3/Jynf49tseltu1jLlKHz5lgJ/2MkiUc4SfSVa4ldcuWfbWlDaAnjcwgabcU36UIiYVZo0pbtj9z8hcc6WXklwXY/pSI88YvVKk+NYOYODa0vnJydBc1cbK8WrRkSSrPgDhox6Cme/EqIxXZa+1AxJUnv6yZ/K+btUBite+sM2kd0j0ONZ3mznLZQ1MLoC1W/FhPFxhGakJnwJzRYAyI85sRzcBOXJI4t2ThzbXerk/OCxnOPZXhyDPBPyEds05+B1kPZri3gXytNf173w52apeFX97BS9AftgK6fKyqC5hLqVf/0gi+HLc0X8cI9OQ0I8Xg0o5z30uugOiE6ZfZ3HX3a5kjuSHNrCjwsRMXJW9eOPlzo8SNU4u2KAtmppJsZSeWNlPBfg31YjFiYFp2MAYNmPtrm2cqgmgK5AWc8Wo4S7YgcfHQSkEjSx8wghAX/iLLkYMi8EsCSgjbxvZIyyGFV+/ZsWb1WDSVxNX1s6IG76BxEy18G6k2TEy+FHP7y6eRuwE71BcbnvlsSytexPj2JlEaxY2v8ddpzBAvLTNVz30nMpRbvn6TVPFLlg3JshQVtFccnTSllVqbrQQA4DNQ4DIDXQd7plIu8iiUx+PGl+bY8IegcRetBvbUUhF0Ok30lKSgyRgesruRDQlmR0//+SZWK0l1ZHnktS89hJLIryT5s7I9UPXtQaoDca193Uuckhu9kT+5AVcIueew3HvHmqYB+7gRGue7xjD+W/CUsoitaqL9ZFv8IhvfN8YbTEgwBOazvGqgellRDDsO97y4jOKY2N/V4k4obJeUeWsFJv1sAUuskLfmpXPH81qKilosVq/7m91gR31MtCDAeiXYAjkhGhFdR3EDNlnn298BOcgtSXklPljCCXkZXjtFUpkaattTsj4es3FTXEY2PQzSDymrisNo0slQqB61xHGG+0PuvfV7WyRsp5mGXVBd1IMY5FJthPHUn5k2fxscISuP39h3SWZOMNZxH2fUbAZIk2tLUoQzLHO8fu4C632GMSslpx7fd3sthgBMQLD22nPp64Y/4CJzdVZJIIDtjmeTNXLy6UB+9Biv8ib2KQ9lBkeG52AF5OcrDsaV75THQ1iFLC8AopTtybBdN1b+nFnFHrnPJKWaehvHW8cUk6swufmLnKxWWo3jPakpjWAVbzYnk8+DkPeergbbKmWEUsOw5PSYT1bA/7TG6hjcEYa03ab4SoLCqGEf0rJKwdI+JTEPiT3roXNBpMpdrw5SuHvdHY6GBqO2u/FsQa1WpTe8lpfH1NY1bhR99TvPmQF50qWMUePilmT3mS/e9fNa2EpQ9fIvb4okZWRI8s21KK7aouWR++HIV37/DAE6e7vitVrPUYovY5AePXrj5c0lV00/VM5C8/VRmFJGvlrDDOqk+ixWUwKTr2seBocxkhnPq0L/9OrLdqGrvAOYUk0va9neZ+zoG7NMqTLGIXvaHpa0fwWF6FwgK5yKktb2JArvvBzJETtOlyBROacKt0B4jlaz+R9cYb9WHSzUo0II7YKbaI91kTxhuY+d5NnzVFco6f41HfCJcpS/E2t/N9sCKtjWrudvXhVFkeXiQ2dZ+nuuywiWVKf3PS2cr8EHxxWVGyPz2E+yKGArtLaayr37D1c54ucHVbVWpeW2ajLgcxXZFD8YI2d8twHuRbM4JyPM3HlPhKqyBWaPs6TaNQmeavwsyj23NEStH7HdO+jtOKTYSdB8FvTEWY4PDCUmpGDEA/mY4o1RxlaorbuTj38l2uchgevLW79+Ap7MUiIhAyxQpg79sLyUerpxDqizXvBKTd38pFlTK8tazxGPQdpYdrBEom8/uBskpxWXNwe8RfebbJah4WNaqukkLzHNjpFCglFY6+hWlFIbY3hlWIgPqTl7ET12GoL6wIRHM83QAbdXxUGN2wVh3wtaglpEcIMKltFRY6POdZbDXzZyMe83696E2wwx6hi7Y7XsczdGBFH678n0LWVp7ggMS5FiOgjzG7BjahEljFqVjJJQvk5r7uCcXyqBEZc4ld7deFHwuMEsWkdNgyIbfCj7esZwecL8z+6nUKU2BgBdDGQkABqCXlxPKK7xgXqLjJUIpbORP3zt7JQ0eW1R55qhO57YqmZjhZAYvzZ7Y6CU07daD+GnCd/CfqVd7vn064YT7yOhr+vI94GB2GiG2MhefE0JQ4ZRvEMSkMpWBqdfHxjaFXxSbP4aB8YXx0ZmyFzjcdBujAIbp4a7QOQG2yxdVi+IeeYZzr1yvKrVoJ0YgMkCgtv/mpiVz3qE/rpWeKCO3YRyZrZhgsci4HYvLZ0h9axCJabYqjFSLP9msZChsnyP2xlJY7/M9ty6533XmVLlhz3eBTUOSI/ybHH6ODsuVMxyWMp2zgdrQiIMIn20Z05lOG8bqGOGuejTgAt1OTxM/+urd1D1MavEGRB7NKup+EqXUQmzdG0yF7gYLTXYjQMV591mqP9v5rVhMIC1+g5bnvh5DZyNP7sK9+WTSaQOAuUlr2DfnKRck1iglgCzMx3bgB+51O5unFHILE4GjLTX5XxAbZnVPvdY6AkKFNwglptRZnCOjIM53KLWNLtr0pdivG4SS3iY5c/bWNbZIVm1cnOZW3SK8KYkE5c86PMWbaAEp4RZmzTx3nBZh7IBl3Me/KAIcBiAF773OFcaI7W1LJo7T3LFJ4bg6NIDkdZEQYaS57nF9QSjE4GNc48/tSysz9lyt8cdcBzIaqueHwzKZ28h751hUsm4HO9z+6cs1ASkZCx1OpN5hIbVXyF3fHe9aJP44p8LgMcmvVpWeBpkOX92LqLnlt6B+bvVy8AJJyMPbaw2EcUHsrFQZxrvP3INnad3BrbmKv7oBJM2/gcCcXpwg/szDijvaF1+ZiIWFI/trGI1R4b21Bd1qtM5dwwociJnupwrityYeF7DNuzpcPETvCB93HDsq04QuHajV5NTkRFbzxjC1Te8ywupog8Q2KqHUwMtM0IKA4Dacr2/LkxIlfoG8sAasjoW48WTbVvXLWsCbqTLT8Cx0DAHpKLt67G5uG5nghfXT5xJbDAHv2s6Fs2YnRMcyCtpcZDATgWwQ3O/ZSWFlRl+uuuJotzgjG2l68gN/fDKbrhsC2rEcEmWZAZ3fZrUod+zW640hs8rMgAZgZ8sjJwhN+28ELO2nMx/+GcCdHbGoV51BXGNqvo8a3FcacNIiCadcV7OsdWV3Zwt91nzsvKTItdHYp+KEfjYSVQw8xesgvtmyIpinZQa6Ld+0clSm5ZM/WVnjFJBzsLSn7TX7CydjvN7BCqseBrskS2v0wvey5JMJh60uy7uGiIWSnSPla7SdGLjb5zoh0tJi/wSwL9umiJcQQ3mM1R1rNPeWscsQSMjc/+YbeY0S/ZzCKjp0GwgBk6tpaYLVcglObDDI8QtfQ6REWaTAHBru8Ae89NVAArX0cvRK7CKwIn2P/Xqgt5ymmV/s2/Q3Clt7nO+CdvH6NRyk7WLNd9DUtRYnIjpOe8aJ5bQtepZIEFdxm7znuITlmmrOOLY4gh8p5X0VRW2wlTyeDUMoZaLfG3FLvYuOtVRYdz2VNa7gTWv8QZoZILGYfJu/R6F972lbZrKWEoPxluCNr4tTLc1iXXG2JBA/kq77HVXH1EyA77sQZBVleI6Q9qpNTJXsnv2+dyv+CLicgeud2bawgx2QKxUg5NdUpvUYKBwaxSKn9Sb7WihALT2pDI0oCZ7Bl54/IWGHSDhRMRYkeBGKwAobMoUQQzBRFLNSPzZ4NQUxEjdL+cNd62vUNRAkez+r6uvuLVpM/x0QkTrarMlXWfQeduBqt+MhkmFAtgp3cRx+zURkGgyX53AxDMQeMCcK1UZ+qqm8yxqwjVOtk/vZBh47P1ngcine5cy0x7f7Qb8xQDPlsLbcWgSzicP/P9dK6+cG36IFzfef2AI5uA02iWt9LVXEmlEwUm9rpHQ2KITVjiFU7b/pQHstE2bpxvkvBl3j6zA7qfS1OLFiyFUMgy8/QZ3JbcRZ2SjdZelsUDpOMAhX7tXfZkWsiqWN8gkTWT/to8FKu3XYLs7hhC5uYehckcNWOUFesbxslFzqQwzyWkyctu2Rwe0sK6l1ISjIK5OljWYttNvrCkzPMa2j9kZeCusopPPrybVR0bhCmNemE5Jt3kIsVRqREZ8HUZgKHsA97f5FQBvaHu4IiXM+MR2ewRN7ui+cojXpt13lX7IppC4tI0vveQAu34YKTAdwOL27zFamxLguRaTsxGhVPujm3e0fMklZgj47YW85WubQEHTJHH9aamc1w7AC57t4MFb2WsRfV6juI2xlklo7le6ExvuJTFtZYOSfNYSvSBywDeUj+WYsMdCj7A6rmPj1r3WJlq1IjLGGO+PBrUoe11mmrtLoREqONJg1rTkVvHlYtGrWG6PLtM8TDV8xM4pylEe9aG7UuvMNwSgCMem7O8LuH7q/VDM8vNn8EX4zbU9t9vOslT63ZEB6PrMJEG5GylBG1lFxeZ06TbuuRBDBa2FoPDKH/+zLHIL5BAB2I3QLYtZUK0HanHNRgY9taA1EO0Y9XKzs0iTnz9u86AQrn/8By7aGdKQJpF8rn36EmjHsgtEvCercrNf4pNj+N2+miMYrBvjIi2ssHi8Znf4j65d9/I5/6AJwfYsE/d+jEHZCMkBvSsvxSYac/Wdn+TujlqAu9Q0nSVrcCEMxRbNBLX+tGIlIR3Ben4YLr2mMY3g17dXh7exDy4Daa1VxieJYdBn+dUCRys7MgbDDyK62ta6npJ23CQvjuTBEcAnMFI7W5YW1RHvOz3EqWwezZ4i6xbX0oxC9I7vqVsArbqdw7GwM+bP2mYavl88DBrw6YHpxUY8NVSpoEvUMzIC/3+I17xjWzpyG1NKqQM+0IhpWSd2jC6alB4GmEP3C+rFH/V9lMPP+39Xlz3CKI8CdPW2arMiDCNbpPk1CFYblhMjYmIhpe3x9vlozLvNnbPl4dACj+wui3q8hwwOPuSu6ZGKAdhqr7wo1wK38hwdb7i4Cm3WFJBbJurfbEBdQDgABZOmrkCFSiBhusLvhjthk1wX48GonHuTneJ7ygVMFVbE1wtLfZW7P4ikX7jlE6rXQlU5332nSv9RShfaOl1m66mwJjGcCtp7adGe493IL7uG5+itXfx13A6OqArJAHPVK/boFPRD7gFjj2+0T1jL6pQlkn6kTeUJtu+q4XKllGClITAfnHvqW4C89u6P5WpM+nQBoz9ZYXzvtU5WlWavs6c159tCSZOLn2dY1QRW+SAeJU93DJZKGbBttb9VhbbffSo5xGcuyXClg/gNJB7UXC7o23+6/ippzLdsSe4sTg+orA8rUmdv7beG5Pntx4oa7I6I8U86kGVmLsrU3PgYK+nTr/buCyVeDhUqmgqy4yMEf3AWR7/UsETzxHzxepbWgocpvH+BlUBeADb/ATKuYFrvnxBZnHiF1s7sWOcL0i9yU2pcYsPlf4tQOAYt7QsdGlpNkpIZM0XBULCeFpZCbkRNcsZ204ireAAl8aRBeCe4ATeVe9+CfkQKbhfrFM3Vg6/psU+H71UYd4jU3NSes/XkCMRG3HOtqunXC5sKPLrr9q4hi+XdNs1QGErKlcQT/UYYjqswEMqYzAQoXFnLAjp8Pi3+7aBUc13xPlKfFpm96f8mij7zbHvqgjJtwgAPa6FSoghxkH80Wm25vULtoX4sxzVdCAEbEnwskp6UyekIyRksVZgKSw6ESvQs822heXFkhFC+Tzile7Na+CO+fs8v+HmlkdzGRrPpfahBBSJnLD6uVIqcV7YrcyFcdT2UwWSv7rrGe7XP86/zo9zXSgRhK0eg5u45E5zrwK7mUHqod15t3nndzUlwVij/PGlgwFk8piurgHIrkG4VrPMrzPM1nprsSfHUjuwZPdhpLON4of3LS6ENBpi8q3eX6AZWxfRIdUe1cSOyxfzHNrVjqdM8V3lofJc0ReHQ6MDecRUsE9RZ6xfz0SjrJUCF00B1IzFdE+9Dl0vMch7FgDvMg5aalDHJzv6XDSpT6aJZpDeqov93nOcn3ESbn0DIyjRKNZh0z3iBfXwHjqHyN6fcex6mpNPYECoF/LvqFSu/ajMQsuy4KX79Oo3j8zttNRbrMHar9fWclc5A1pVe0QIfsdMGw+lFRj59N6VyKpjesnlXpNF5lrrhWhz9ywMP2nq5DlrFIq0XaXkXhvfy4cFDw+ISCSrSZrf/Xb1iu+7Wt9wLwVm0NfITJYqmLiido6f2KCQtxwDzs5tvjuQkeQh4XNneZQ9LxSwGnsR+tMwWF0+9Rlvw9dzgTd3zR7dQXtJ4rNUHyaMe29aIHB5AQyLKg1TTN40gauJcjxYHuCsCjF49l5cWOS59RC4rmGclv7t+Wx2k+285Q2CMHBVIR2Pq683fgHF8Up1WWN6sIPHt3KBT89/kiuddL5943eHuOhxDRo9qAjuRyGak6G0tFB71gX2IGf2CH0VfSTp2LJgVK3nOqOFI9Ux5X9NXZ4aib9ri1tenngV8f1Hmdv3nilrO+8wvGI23FWykNc7dlBgg+s7E9kMsG/5WL3tEU8xxDjYfaxVXQAVqMbbNwOGoiqKNlDEtnw4ukSp5FfHvnbbwD1YkiLZOXth+Z7N/wLvqno9elc9gTti3z4HeHIDzCW2J30kchvBFT0hIyFnyTkpq3XqLSTtNa7Nxbr/A8jHH8GuVz54fe1RIaC3nS/jHx+EH6is+a3aoaeGhePK0OV4Wa9B8gULydNpRcgenrOcEeS6CxS22HLi3GH3FTPNCg5Xkfhz+qru4zN3z43fXnBanCXAEwDiuROF4JNHdEN4EK19SVk5YwCCpDbaF/dWzvs0kO07QX4y5q1HBbuFAYiKQ3a0lLvTlgAF8NzWGMHjgu4s5E8fYVm7ptYA/wwEGlhJlW0hnxzSm7EWhCW/HC+bRBIsLhpnsOgWkwMRopG6uBekFzp3rnF7gUOBI62eUDHvus+ScpBxMunTbxQXPZTv7lwzLdV7XYJJ0EUs3TVq3pMbzDLp5KLWmiKsDfynOsPeR9ZIe8TSRrtSFUZCDGJCvFa6NgXyrRnh1jDUu6yPb1197Hne6O2J0621QNEO/2g0j6DqFthTs8UNPjKnaJqDKvQuncZO6HQMEHvULoLJCEeo9gp3mc7W/jtURgeDJz6FAbAs0+giPQSsgsNQ/e6l9zj5gUK6m+LkETiCdK3kTt3FQxyW6Yataw8mXhLWjmBxy2fY3wLDYwZuszfqXwrMGpqy77+EkDkpmUW5DHa0R9mCxV3aMI02db8VRo1EwoZ5XmM0Wq/gyzG+uOtl2XLfV3mwtpFnzWowwGyiLvqr4mvINTtjil1t64HXE0X7MFpEazhCg4l9VKOCEOElcJ1/zjoWR2cCyCYiHmW9bMMRiZnSI7a2xYtDhZPV83v27iTELt0aTRL4fXy5n8K/znbLFmdK+JK3oDPdrwFwXM7aAPs8vsvaBrEoLkfkEL3AeN+Goz0+ET3O5jk2xVLtsdUrygvrCXIuEe7NgXmLrlIg0RkZff/sVxyR7c8r1MgjI2ERGWvhIFIqI7uiyFoSXlA2b4TUCE/EPShWo8IAMuZQsiFxddTbpFl/i7JayhATo1fiKUr1PFVLjLFnhEaRvT7xOEd4ru++uRUY/BK5mc/VKchNzya/SiTuVbxtxqN44QjWHOUG+ioNyWzryeo7Ixt6LEqLinLeEH5zxdqC/dzwNgogrSkg0jrmF3+eI66Y8lV1xCGSKzqKjUD56L1djmLNPw+JPh5JfcgGO8El7xoGs5QfGiZDdybcI9AJbO+6V3GwTkHTdwsmWbcKTFucxgQNN/5bYS4pPaw+jo4JuqvcnbYWfedhyEbPIexfBl8a8JlZMDvsz24ay0HQoFjgvcMC8tvakIZzvPROfM9QmWye6s5k19mbcyT0wm+6aEg9+AYyQbvJo01rQt5fz5SoxCPvhNAXXMAJ54DPBfCd3rK1YvdcU5NgtW4FGMT8ch0ZyM+XINCDJEpb0zCwNbmQpF0WrB/qh6iEuOBQhdRRpTVZQhi/K5cVSUlQvSyxpfnd6AiZ5GveqIfGzmhFGXao0/0UpLunt2fQ7d11iZbhfxXfvQc/a9iRYccVViCXj69N8oz6rrbgiwUksUbNvRX84qciBHLktLPBvSdQwpmIht8/+t0sZclbB/l0joqMS0H29CUSd1NzMo9Mve8RZcDzwnZnvi3xFRUz0ew0MvbO5iZlX7iLp2jPBWreHrYz943yZFkjipViR5X36pbmOLQkKPzqAKxYgrRJUlzXkkDuCsU0fbKug/DNTiJOOeFkvwwC4iBKl9gY1rt1o2JVdgfcHC+B/eG82zEYvb65t88fs5wM9jquOpcIXIAJQ4k90guAkwa2j1tRiotIXmXwsqV6XbvRWE/JXG7ZCmmdMwcFQX1Kz9RJdfeKayRQNfvLmo+S7DYNmdZ3PtKBcYckw+8RZA59d9Nzffe1ZADPB410b+vpECkuitUxx96I1PeTmBalU5Rwc500djUbNTF7xW6bOMeJQ1TrK8uK52yT2i2JXXydKBifOrCwtu5eW55is4WcK8C37zwYSuENeMibGAhX/rn3kpOt3n8WfUbBRMYdXe4nmSSRZVy3apFCQWm/hG2GeN1aDZGA4j2v9Jxjv4M/9dy0R/xe2xtYtvi9nK+Zd5wCpitMo7PgYp524XA7vecPuusolWFHxzd3EG+PwxFmlBN1CEs9mblpJaS32iauPj+oEX43RshUZjeo7Xp0lc4t5hky/5SCs1QMV6QBh2ChDoEfuR1EKelhX9eoO2lIQnmWvev3Ftm5iYDNurqt5KXQS/E+6YlK6orRGcOVlhT5cWG4k56lomyvPejOsSZOmFMZ9U5JadyySSAeqD0k5TXWC7xw+qjP2Vu5/1T+pSMwU0MloZ5vrKQPjt04pT8rZpvDNibdzp775ZUjVuH83ajwW9+fT0k/pMTs1HAmhAtZ75pk9+4+wLHWyMxpZfAHHIF8EVdLrZ5ND2IBizBPI6TqFnLxL4RD8W7phSfjBo9x9rHHZzHPyWjPsmu6eoLkfITxuFp/+i2dXse8Hs5PS9bNENUbCyIs2ufSfUoMK0E8a/yswfK/Eh2LqORKV/9CC2w0v/GYqyhLSL3jxkmwv33jHBLlrBG1Xu6wIz9baIP2bK9xX3S9wY1t3lIAJ0tvpSzLF9Y9o4PRxIUpq4seZvr24LnJyBhrRFrjXuoji4Jsn8IOLS7sU8tCem01GQdM0dBOe/MLWYAakaubzKfadmfwofTwHkqTbUhne8DoxXV+U/k0DUYgrOajL+H4v4dhN7iqWx7GOc/P0kNNgADk33jZy7uaZhzlWlnOFggFU/HkzTRHHXo3Ggb2lO/QBf83OtMScyBM0gFGh8kMzo/Lf0XcNROyI5PrVeLxPWw3/Mq46zaEWvo7LeVu0nsNz3wAloccDuchDuL80exT0KUq0sTnTytxT7WbmnSFBOa80AyR7+GFj4/JhVJar7rFTN1AMA0bAXVkYUjvPaFWtfJDa0dNAmHhWf+aMczJbbBE9fi1W7Zx+bZmO3SWbRPYdZ+i7VZdy4w6vOI07u6Ol0qg3jcj3v08BmChj9oyH1pVtnotOxZrDTunu4wkWYWIArXljc2ysEkoHPLiURc39rhbJhIWk2ef9kIygsSr2nvfUa1oqktyJTRko4jxmHPk8HwrZ49Jw2GwXi7KwwL6lqCUi7Y8Esie1desBLgucrP5MnnXDFex21lGmjzmN+FQSLNz5yqiTVknbMuQfmv8FL1IgVmxjm8OeraxlaOm7nVXswVqFcxaSYA2BGj3i4Z7X3rmg2E+snpaf1Kjzx4QFQM3OiKPDsiQnMKGQuOvanNGbhLv8KN6ktgPMeG65aG9FhIaSw8GI6MeYDSzK8SixaO5K/MBUqXGC+Q+iywuIRxkOjUP/HfzxW4wdDw+MdUo7U+bcAOw0KqPDhMhaVskb8OWIQlkZtM55PR3Xny6PDIuIGenwex4ouueNXwP/Z2T7ABCi0/pXjo8qjAbXDaJA5IRYya2/GqKz8LcmUXwJMKi2atWKt44N6wK1g5aW5LBgiK4uV7BDGD8s3fvo5yAF9wcrJcGajwnHuwItOkUKvMbNKoIv5nUffQnPHifmrEmc7ZDyTYU8eK6t+PsGv2Uiqcsigp4U+p3YL958iker2iQz6GW1qM3jVuWuy83FnSerdq9eL/eEe0ynm+/DJNwisZZzzvQZNt8CCENyd3R5CUAyuFrP8aVdXZCVv2uZRtZ7mwy9lPEjtP8lXpbrIWTkozaugoTluQBQZ/OLtHExnweMWPBFPl3CoKA0InVTMDF7W2XsPWhB0fzOMt4s8W4dM3k1NuMFvhl+98yI65eaSj6rZEkpTwTmVLzl7/7m//47/7yP/9Pf/lf/9Pf/N0//Pu//0//8S//+Pzpv/n7v/vPf/Nv/vPzF//XX/7t3/6D/5GiFCw2N/NNxn/3GBhy1mRBnR6OsbcGR4GeWcXEBrm+5lwjqjAnwzSabRI4vjtzcpY8NuO2QCx7+pCWOj9+HkNAabPBsUisH3ehtvi42gWe74/vSdBASNuaqjr3x/hrKjYUbkZy5146xPev50Q8NpeOu/Rgn78F1bgS9PhzTRrvX8PR9yXNJ1Ogcht+/3qLCFHXyzzj3H7/a3KqJG6JIVt++1vfiAUGwTYR+O+/OvmACYAQD7T+/toOfZS8O4qY8/e/5pGRrzg2Eb//64YkL0kPfO6236+pW8AJgFGz1/iav33+f7/+5BqLq2sJ7YOH4G9/nWNMD9LW+b99dTQFu9ARzqyVxP756yNCXC4IkVP+9uXQBnG/PesYvn/7DNbsvL+4BVWG36+fcYpd6BFjoHkvmtYUDk2WWEeCp67xL3jaErqmvX+Vehuu5rw0ds38fnRv7TpDI52qTkzhHbhdOcjtowiH5H3FKi3h58e1/X4X01XOOWSdDb993fix8dW2+SvD8M/fIqcTr1qIb79dJsioJT3Nxtlpxu/f5gi4cuTAM377ClIIrBbzeMy/fX9zSrU2cKFb/v3emG2Po+YDoy3b9fsDAKcWhENUfx6///WmtqwxHD6608L3DmcveVP10Y3XWuT791adW9LgyDp+f37WVu2Q0u3Tf3/wo9yNAH8NvfWvnj5ncvLGiQ6X3395/E7C8fLhypLhl8+2Be/E1jtLs/StHGkdjwwOc5eIfP76itE83zPCp9+ffWzinav6Fqn8X9U0dnuizoUW//7MWYawQieS0sP9/tpL4PyYsw/nre8jSYXG4MP9sF5//ZWfzfAkPrrb/Ps/x3IRQHU0n7ff/3UOVBs+xhTO3H+ybP2/9r8d1P/H3/9DTuH/rb1/xpqcSAxV9zpCArMtS6791dVBTHNQzZYEU4P32mur+ah9ezCsgkYToSXNho3M2nfWhy00wEGcxNO5tyGlvZF1ThTYmlOth9dIxkh0cEP4hldfrI2Mv/rR1o3G2mjBVXdUYDaXf3PsJdM8x/Kp3opQ3pnCkTKXRe/nvTxFHImj+cn0N4J0iUoHeenQSkt1RcCaY7e5jDfyvC9tBi3oPmzAJ/rt7Re0mJYlb64Zt6/n+za8JmWTlvFu+9b2Tk6INoMxTVjveGMgaii1aCiXhLwTvtUhPDNIqjfC59URi7LStQ5ToDlwatZc3ZO41XLtobvY0Hu91wSXypZzES6zj090R5I7N9O043sHjtuwv7DCYAXNMXD0wxd7+eI9dYmozlhLL0wddLX9+LKhlnLkz3atuxjv+LZHdrhTtzeYgjXjcyTAD0/ip1eOzBr7V2PXF5XUOpMlE37DsY52E8tkj6qJAUyxZ//slZ/z1u24Oxr2PvUm6n2bQ0wxevTR2UaSNJQtDd/T/YdXfm5nTZ8JnuHf+b6yraZbkonyuBqG9wM9kT0Dy5+fXhorHXPujvNxH1LmhJseab/PuegiaeFWOnrhRXYc2/nTS0cPtYen/TJZorZP6BH/mft9Zcgn4zIbciTRn15Zfqj16GG4W0Yod1qvnXcSY/dxPTSJwvUOIRzr9eOVbrmUEKuY9fUrDXVj/714n+8rRw8QA+g4Yc4/vjRxmB+7lp7b0V5afYPqu8324/0SoW1M4WyjamHwpy8dcxeIJxlgR4iSC7AL5stWt7/ynBThdqkOyOePV5po6G6Wcls/RxAgrjvbpTmhQOOl55iimNK3ny/H54/+7GeWxD0+RXkNZWHrXrNMLDy+2JIjyfL5Qd6WHXNd//xXL2nwOSQZ/5bioW7SNJ+yghg3r6OgYoJdVEeWfOf150+SPFoagVUrr8FKnQ6nYieA+QSnJ1+XJYrKwDt3//N6xRPPCX8kqGEp9/wp2oM4hDmv3/JPYK07Zot6339eYLU6a0zNszgpIaHJSuj3kbnh/VbFMOGhyGRlUvnTy4bsbFFgZ1HEY7LUhVIBjz/34YWYilLBZ4Wo5N/9Mf1ws1zaFqZUlF1l4QX/3JMUD4u5R4OiDOvw4UEIGL21CM42weCBXcXTUYRX6Yhzg7Zay2w5yFYhWYQCJd/3sYS0aCfaTcznMGB1Jvgw2/Bwiu/Zsjca0N5rMCvKI+QO5sln9fhxtOVdhyLQI04wAxZyWQTO5wp+3gXq7/PSBxStfFzsBJWBtQnQxy1hDKZWgQMucx1f8/pLv10d9YqatGaJBx8o8fkaaI1xxsn0/HjfxjbH55bxLK5yvY2wP+R6uK7D3zNB0PMVMAr19ofv2tPp3crL6iG+eIdHuxo4AOO71viakuVVMGH86WUFM9vI2yyXNIb7MFX7Hi+00Vim14ffJlvsx1fFupxjcTPWx1gKu4F/Z8e8nOMxahFgjASM6ecPDz26BGdAnRXv7Dyd1lKMtdAwtp5Bk2+YxTU3qKZa/ellGa9z+o24uAzqOKTiJokSPt7KRxbLNfBslNUfHnqf1bILaLWvlY7wXNgz3lh2oefoLE1ScmGxAIHMP70q0Y5zqjlftVc9mkGcbcggmbkP3J5n3B+JuX66tJxHGFE4ic/SMgUevfbICbvxSL4w/k4y9xgg7j8cKaHHC4hjyXDUhSXu1PMimu/raEbmFBCU9fjn/fSiU8xjqYAa8yYUDpnoG3m3gXV/G7NIHbZ4qBzFaP4nX3f2IGg7mN2ujbGwMHzb6KYReKa3SZ1jWGfBtCWZ889vgxigPsVOXHxoku11rzndJYXGgKrdtGIezKW2ePsPHWr8kjV7us1ynUbYC5XH7Ld0f5y87JWopiMeHEXc+bOXNbaBlkk1+7XN7LWTtGzjSWCbRUOyMHQikvrzGcA1UFZ7oHeXyoVPtylSXNTfDo91hatN4V/5bH/6lcUhdk246tLZPHZfTF8Wc+O4bRHTkG/YGdw/tXct51quzJXdbX/GtHUQ0hNr/33ZMIxV3JNRw893GBc9i0hfct+/xbpBkEBIKe/r8hZBn5EC9dSiH780p5Pv2QagjPA2kN59xED6eYLfy4sCN0W3eyZh86fXpbjcyLdtfPvrchlbRsDp+7qwrngNXFFP//QEz7jRVnma6F4XQG2H6mKMOj5PsAk9yUGSCH6uDChyxxyLiHEdpKIvsSDets+jhuS/lPvOz0/aZjdwJR9jX/q7pSZYz5w+8/tMsEqg7cBjoyD76WUhcNpq1Nil1xtN8exRVem97o32FCuw1Qy4nT/2hFpUOQ7P4b97H63TnLMPt5zBJRqz5WrlG8UJkKsUP3/2ssmAPKN8X8tu6k6cnU00z+H3Zflqr2824U+v2kxG6YM9ku1V2R/d8apiGfupuccZxvTeAaX/ninqf/zMf8/PPH/0l//wt3/3v//rv/23/2fDXP+Y/aX/14//t/7X9C//P6Z/5l9z/9f9x7+Y6/H/6//4p279f/b/nSfv9l/z0v7qv+U/pn+Z//v7Sb3f/6f/o1+D//v/+md8E//jP/4/fnL+1Yen878UM+cf//Ef/wtFBXvO\";\n",
       "  // decode base64 (convert ascii to binary)\n",
       "  system = atob(system);\n",
       "  // convert binary string to character-number array\n",
       "  system = system.split('').map(function(x){return x.charCodeAt(0);});\n",
       "  // decompress\n",
       "  system = pako.inflate(system);\n",
       "  // convert gunzipped byteArray back to ascii string\n",
       "  system = new TextDecoder(\"utf-8\").decode(system);\n",
       "  // and load json\n",
       "  system = JSON.parse(system);\n",
       "  </script>\n",
       "\n",
       "  <body>\n",
       "\n",
       "    <div id=\"brax-viewer\"></div>\n",
       "\n",
       "    <script type=\"module\">\n",
       "      import {Viewer} from 'viewer';\n",
       "      const domElement = document.getElementById(\"brax-viewer\");\n",
       "      var viewer = new Viewer(domElement, system);\n",
       "    </script>\n",
       "\n",
       "  </body>\n",
       "\n",
       "</html>"
      ],
      "text/plain": [
       "<IPython.core.display.HTML object>"
      ]
     },
     "execution_count": 19,
     "metadata": {},
     "output_type": "execute_result"
    }
   ],
   "source": [
    "#HTML(html.render(env_replay.sys.tree_replace({'opt.timestep': env_replay.dt}), rollout))\n",
    "#HTML(html.render(env_eval.sys.tree_replace({'opt.timestep': env_eval.dt}), rollout))\n",
    "#HTML(html.render(env.sys.tree_replace({'opt.timestep': env.dt}), rollout))\n",
    "HTML(html.render(env_apg.sys.tree_replace({'opt.timestep': env_apg.dt}), rollout))\n"
   ]
  },
  {
   "cell_type": "code",
   "execution_count": null,
   "metadata": {},
   "outputs": [],
   "source": []
  }
 ],
 "metadata": {
  "kernelspec": {
   "display_name": "Python 3 (ipykernel)",
   "language": "python",
   "name": "python3"
  },
  "language_info": {
   "codemirror_mode": {
    "name": "ipython",
    "version": 3
   },
   "file_extension": ".py",
   "mimetype": "text/x-python",
   "name": "python",
   "nbconvert_exporter": "python",
   "pygments_lexer": "ipython3",
   "version": "3.11.9"
  }
 },
 "nbformat": 4,
 "nbformat_minor": 4
}
