{
 "cells": [
  {
   "cell_type": "code",
   "execution_count": 1,
   "metadata": {},
   "outputs": [],
   "source": [
    "from datetime import datetime\n",
    "import functools\n",
    "from IPython.display import HTML\n",
    "import jax\n",
    "from jax import numpy as jp\n",
    "import numpy as np\n",
    "from typing import Any, Dict, Sequence, Tuple, Union\n",
    "from brax import base\n",
    "from brax import envs\n",
    "from brax import math\n",
    "from brax.base import Base, Motion, Transform\n",
    "from brax.envs.base import Env, PipelineEnv, State\n",
    "from brax.mjx.base import State as MjxState\n",
    "from brax.training.agents.apg import train as apg\n",
    "from brax.training.agents.apg import networks as apg_networks\n",
    "from brax.io import html, mjcf, model\n",
    "from etils import epath\n",
    "from flax import struct\n",
    "from matplotlib import pyplot as plt\n",
    "import mediapy as media\n",
    "from ml_collections import config_dict\n",
    "import mujoco\n",
    "from mujoco import mjx\n",
    "from jax import vmap\n",
    "import jax.random\n",
    "from jax import lax"
   ]
  },
  {
   "cell_type": "code",
   "execution_count": 2,
   "metadata": {},
   "outputs": [],
   "source": [
    "from utils.SimpleConverter import SimpleConverter\n",
    "from agent_mimic_env.agent_template import HumanoidTemplate\n",
    "from agent_mimic_env.agent_eval_template import HumanoidEvalTemplate\n",
    "from agent_mimic_env.agent_test_apg import HumanoidAPGTest\n",
    "from utils.util_data import *\n",
    "from copy import deepcopy"
   ]
  },
  {
   "cell_type": "code",
   "execution_count": 3,
   "metadata": {},
   "outputs": [],
   "source": [
    "import agent_mimic_env\n",
    "from agent_mimic_env import register_mimic_env\n"
   ]
  },
  {
   "cell_type": "code",
   "execution_count": 4,
   "metadata": {},
   "outputs": [
    {
     "name": "stdout",
     "output_type": "stream",
     "text": [
      "Setting environment variable to use GPU rendering:\n",
      "env: MUJOCO_GL=egl\n"
     ]
    }
   ],
   "source": [
    "\n",
    "import distutils.util\n",
    "import os\n",
    "xla_flags = os.environ.get('XLA_FLAGS', '')\n",
    "xla_flags += ' --xla_gpu_triton_gemm_any=True'\n",
    "os.environ['XLA_FLAGS'] = xla_flags\n",
    "print('Setting environment variable to use GPU rendering:')\n",
    "%env MUJOCO_GL=egl"
   ]
  },
  {
   "cell_type": "code",
   "execution_count": 5,
   "metadata": {},
   "outputs": [],
   "source": [
    "import os\n",
    "os.environ[\"XLA_PYTHON_CLIENT_MEM_FRACTION\"] = \"0.8\" # 0.9 causes too much lag. \n",
    "from datetime import datetime\n",
    "import functools\n",
    "\n",
    "# Math\n",
    "import jax.numpy as jp\n",
    "import numpy as np\n",
    "import jax\n",
    "from jax import config # Analytical gradients work much better with double precision.\n",
    "config.update(\"jax_debug_nans\", True)\n",
    "config.update(\"jax_enable_x64\", True)\n",
    "config.update('jax_default_matmul_precision', jax.lax.Precision.HIGH)\n",
    "from brax import math\n",
    "\n",
    "# Sim\n",
    "import mujoco\n",
    "import mujoco.mjx as mjx\n",
    "\n",
    "# Brax\n",
    "from brax import envs\n",
    "from brax.base import Motion, Transform\n",
    "from brax.io import mjcf\n",
    "from brax.envs.base import PipelineEnv, State\n",
    "from brax.mjx.pipeline import _reformat_contact\n",
    "from brax.training.acme import running_statistics\n",
    "from brax.io import model\n",
    "\n",
    "# Algorithms\n",
    "# from brax.training.agents.apg import train as apg\n",
    "# from brax.training.agents.apg import networks as apg_networks\n",
    "from brax.training.agents.ppo import train as ppo\n",
    "\n",
    "# Supporting\n",
    "from etils import epath\n",
    "import mediapy as media\n",
    "import matplotlib.pyplot as plt\n",
    "from ml_collections import config_dict\n",
    "from typing import Any, Dict"
   ]
  },
  {
   "cell_type": "code",
   "execution_count": 6,
   "metadata": {},
   "outputs": [
    {
     "name": "stdout",
     "output_type": "stream",
     "text": [
      "gpu\n"
     ]
    }
   ],
   "source": [
    "from jax.lib import xla_bridge\n",
    "print(xla_bridge.get_backend().platform)"
   ]
  },
  {
   "cell_type": "code",
   "execution_count": 7,
   "metadata": {},
   "outputs": [],
   "source": [
    "import yaml\n",
    "from box import Box\n",
    "# Path to your YAML file\n",
    "yaml_file_path = 'config_params/walk.yaml'\n",
    "# Load the YAML file\n",
    "with open(yaml_file_path, 'r') as file:\n",
    "    args = Box(yaml.safe_load(file))"
   ]
  },
  {
   "cell_type": "code",
   "execution_count": 8,
   "metadata": {},
   "outputs": [
    {
     "name": "stdout",
     "output_type": "stream",
     "text": [
      "{'num_envs': 256, 'num_eval_envs': 32, 'lr': 0.0003, 'max_it': 1000, 'max_grad_norm': 0.4, 'seed': 0, 'system_config': 'humanoid', 'demo_replay_mode': 'threshold', 'threshold': 0.4, 'normalize_observations': True, 'cycle_len': 195, 'ep_len': 39, 'ep_len_eval': 54, 'use_lr_scheduler': True, 'reward_scaling': 0.02, 'rot_weight': 0.5, 'vel_weight': 0.01, 'ang_weight': 0.01, 'deep_mimic_reward_weights': {'w_p': 0.3, 'w_v': 0.1, 'w_e': 0.5, 'w_c': 0.1}, 'deep_mimic_weights_factors': {'w_pose': 2, 'w_angular': 0.005, 'w_efector': 5, 'w_com': 100}, 'ref': 'motions/humanoid3d_walk_duplicated.txt'}\n"
     ]
    }
   ],
   "source": [
    "print(args)"
   ]
  },
  {
   "cell_type": "code",
   "execution_count": 9,
   "metadata": {},
   "outputs": [
    {
     "data": {
      "text/plain": [
       "0.3"
      ]
     },
     "execution_count": 9,
     "metadata": {},
     "output_type": "execute_result"
    }
   ],
   "source": [
    "args.deep_mimic_reward_weights.w_p"
   ]
  },
  {
   "cell_type": "code",
   "execution_count": 10,
   "metadata": {},
   "outputs": [],
   "source": [
    "from agent_mimic_env.pds_controllers_agents import feedback_pd_controller, stable_pd_controller_action\n"
   ]
  },
  {
   "cell_type": "code",
   "execution_count": 11,
   "metadata": {},
   "outputs": [
    {
     "name": "stdout",
     "output_type": "stream",
     "text": [
      "qpos init (195, 35)\n",
      "qvel init (195, 34)\n"
     ]
    }
   ],
   "source": [
    "env_replay,env_eval,env,env_apg=register_mimic_env(args)\n",
    "\n",
    "\n",
    "#for the env\n",
    "jit_reset = jax.jit(env.reset)\n",
    "#jit_step = jax.jit(env.step)\n",
    "jit_step_custom_env = jax.jit(env.step_custom)\n",
    "env.set_pd_callback(stable_pd_controller_action)\n",
    "\n",
    "\n",
    "# #for the eval\n",
    "jit_reset_eval = jax.jit(env_eval.reset)\n",
    "jit_step_custom_eval = jax.jit(env_eval.step_custom)\n",
    "env_eval.set_pd_callback(stable_pd_controller_action)\n",
    "\n",
    "#for the replay\n",
    "jit_reset_replay = jax.jit(env_replay.reset)\n",
    "jit_step_replay= jax.jit(env_replay.step)\n",
    "\n",
    "#for apg\n",
    "# jit_reset_apg = jax.jit(env_apg.reset)\n",
    "# jit_step_custom_apg= jax.jit(env_apg.step_custom)\n",
    "# env_apg.set_pd_callback(stable_pd_controller_action)\n",
    "\n",
    "\n",
    "\n"
   ]
  },
  {
   "cell_type": "code",
   "execution_count": 12,
   "metadata": {},
   "outputs": [
    {
     "name": "stdout",
     "output_type": "stream",
     "text": [
      "0.002\n",
      "0.016\n"
     ]
    }
   ],
   "source": [
    "print(env_eval.sys.opt.timestep)\n",
    "print(env_eval.dt)"
   ]
  },
  {
   "cell_type": "code",
   "execution_count": 13,
   "metadata": {},
   "outputs": [
    {
     "name": "stdout",
     "output_type": "stream",
     "text": [
      "39\n",
      "195\n",
      "0.5\n",
      "0.01\n",
      "0.01\n",
      "0.02\n",
      "0.016\n",
      "39\n",
      "195\n",
      "0.5\n",
      "0.01\n",
      "0.01\n",
      "0.02\n",
      "0.016\n",
      "0.016\n",
      "0.4\n"
     ]
    }
   ],
   "source": [
    "print(env_eval.rollout_lenght)\n",
    "print(env_eval.cycle_len)\n",
    "print(env_eval.rot_weight)\n",
    "print(env_eval.vel_weight)\n",
    "print(env_eval.ang_weight)\n",
    "print(env_eval.reward_scaling)\n",
    "print(env_eval.dt)\n",
    "# print(env_eval.sys.dt)\n",
    "\n",
    "print(env.rollout_lenght)\n",
    "print(env.cycle_len)\n",
    "print(env.rot_weight)\n",
    "print(env.vel_weight)\n",
    "print(env.ang_weight)\n",
    "print(env.reward_scaling)\n",
    "print(env.dt)\n",
    "print(env.dt)\n",
    "print(env.err_threshold)"
   ]
  },
  {
   "cell_type": "code",
   "execution_count": 27,
   "metadata": {},
   "outputs": [
    {
     "name": "stdout",
     "output_type": "stream",
     "text": [
      "phi0.046153846153846156\n"
     ]
    }
   ],
   "source": [
    "# initialize the state\n",
    "\n",
    "#for the replay\n",
    "state = jit_reset_replay(jax.random.PRNGKey(0))\n",
    "rollout = [state.pipeline_state]\n",
    "\n",
    "#for the eval\n",
    "# state = jit_reset_eval(jax.random.PRNGKey(0))\n",
    "# rollout = [state.pipeline_state]\n",
    "#for env\n",
    "# state = jit_reset(jax.random.PRNGKey(0))\n",
    "# rollout = [state.pipeline_state]\n",
    "\n",
    "#for apg test\n",
    "# state = jit_reset_apg(jax.random.PRNGKey(0))\n",
    "# rollout = [state.pipeline_state]\n",
    "\n",
    "# grab a 500 steps\n",
    "n_steps = 500"
   ]
  },
  {
   "cell_type": "code",
   "execution_count": 15,
   "metadata": {},
   "outputs": [
    {
     "name": "stdout",
     "output_type": "stream",
     "text": [
      "{'fall': Array(0., dtype=float64), 'pose_error': Array(0., dtype=float64), 'reference_angular': Array(0., dtype=float64, weak_type=True), 'reference_position': Array(0., dtype=float64, weak_type=True), 'reference_rotation': Array(0., dtype=float64, weak_type=True), 'reference_velocity': Array(0., dtype=float64, weak_type=True), 'step_index': Array(9, dtype=int64)}\n",
      "{'reward_tuple': {'reference_angular': Array(0., dtype=float64, weak_type=True), 'reference_position': Array(0., dtype=float64, weak_type=True), 'reference_rotation': Array(0., dtype=float64, weak_type=True), 'reference_velocity': Array(0., dtype=float64, weak_type=True)}, 'rng': Array([0, 0], dtype=uint32), 'steps': Array(0., dtype=float64, weak_type=True)}\n"
     ]
    }
   ],
   "source": [
    "print(state.metrics)\n",
    "print(state.info)"
   ]
  },
  {
   "cell_type": "code",
   "execution_count": 26,
   "metadata": {},
   "outputs": [
    {
     "data": {
      "text/plain": [
       "0.0"
      ]
     },
     "execution_count": 26,
     "metadata": {},
     "output_type": "execute_result"
    }
   ],
   "source": [
    "id = 9\n",
    "\n",
    "id =(195 % 195) /195\n",
    "id\n",
    "# cy = (66%65)\n",
    "# cy"
   ]
  },
  {
   "cell_type": "code",
   "execution_count": 28,
   "metadata": {},
   "outputs": [
    {
     "name": "stdout",
     "output_type": "stream",
     "text": [
      "phi0.05128205128205128\n",
      "is step 10\n",
      "phi0.05641025641025641\n",
      "is step 11\n",
      "phi0.06153846153846154\n",
      "is step 12\n",
      "phi0.06666666666666667\n",
      "is step 13\n",
      "phi0.07179487179487179\n",
      "is step 14\n",
      "phi0.07692307692307693\n",
      "is step 15\n",
      "phi0.08205128205128205\n",
      "is step 16\n",
      "phi0.08717948717948718\n",
      "is step 17\n",
      "phi0.09230769230769231\n",
      "is step 18\n",
      "phi0.09743589743589744\n",
      "is step 19\n",
      "phi0.10256410256410256\n",
      "is step 20\n",
      "phi0.1076923076923077\n",
      "is step 21\n",
      "phi0.11282051282051282\n",
      "is step 22\n",
      "phi0.11794871794871795\n",
      "is step 23\n",
      "phi0.12307692307692308\n",
      "is step 24\n",
      "phi0.1282051282051282\n",
      "is step 25\n",
      "phi0.13333333333333333\n",
      "is step 26\n",
      "phi0.13846153846153847\n",
      "is step 27\n",
      "phi0.14358974358974358\n",
      "is step 28\n",
      "phi0.14871794871794872\n",
      "is step 29\n",
      "phi0.15384615384615385\n",
      "is step 30\n",
      "phi0.15897435897435896\n",
      "is step 31\n",
      "phi0.1641025641025641\n",
      "is step 32\n",
      "phi0.16923076923076924\n",
      "is step 33\n",
      "phi0.17435897435897435\n",
      "is step 34\n",
      "phi0.1794871794871795\n",
      "is step 35\n",
      "phi0.18461538461538463\n",
      "is step 36\n",
      "phi0.18974358974358974\n",
      "is step 37\n",
      "phi0.19487179487179487\n",
      "is step 38\n",
      "phi0.2\n",
      "is step 39\n",
      "phi0.20512820512820512\n",
      "is step 40\n",
      "phi0.21025641025641026\n",
      "is step 41\n",
      "phi0.2153846153846154\n",
      "is step 42\n",
      "phi0.2205128205128205\n",
      "is step 43\n",
      "phi0.22564102564102564\n",
      "is step 44\n",
      "phi0.23076923076923078\n",
      "is step 45\n",
      "phi0.2358974358974359\n",
      "is step 46\n",
      "phi0.24102564102564103\n",
      "is step 47\n"
     ]
    }
   ],
   "source": [
    "for i in range(env_replay.rollout_lenght-1):\n",
    "    \n",
    "    #print(i)\n",
    "    #ctrl = -0.1 * jp.ones(env_eval.sys.nu)\n",
    "    #ctrl = -0.1 * jp.ones(env.sys.nu)\n",
    "    ctrl = -0.1 * jp.ones(env_replay.sys.nu)\n",
    "    #ctrl = -0.1 * jp.ones(env_apg.sys.nu)\n",
    "    #time\n",
    "    #time = state.pipeline_state.time\n",
    "    \n",
    "    #print('time: ',state.pipeline_state.time)    \n",
    "         \n",
    "    state = jit_step_replay(state, ctrl)\n",
    "    #state = jit_step_custom_eval(state, ctrl)\n",
    "    #state = jit_step(state, ctrl)\n",
    "    #state = jit_step_custom_env(state,ctrl)\n",
    "    #state = jit_step_custom_apg(state,ctrl)\n",
    "    \n",
    "    #print(state.pipeline_state.geom_xpos)\n",
    "    #if state.done:\n",
    "     #   print(time)\n",
    "      #  break\n",
    "    #print(\"Is done\", state.done)\n",
    "    # print(\"Is rewards\", state.reward)\n",
    "    print('is step', state.metrics['step_index'])\n",
    "    #print(\"reward tuple\", state.info['reward_tuple'])\n",
    "    # print(\"Is \", state.metrics['pose_error'])\n",
    "    \n",
    "    rollout.append(state.pipeline_state)"
   ]
  },
  {
   "cell_type": "code",
   "execution_count": 18,
   "metadata": {},
   "outputs": [],
   "source": [
    "from some_math.quaternion_diff import *"
   ]
  },
  {
   "cell_type": "code",
   "execution_count": 19,
   "metadata": {},
   "outputs": [
    {
     "name": "stdout",
     "output_type": "stream",
     "text": [
      "[[ 0.          0.          0.        ]\n",
      " [ 0.2814414  -0.0135399   0.94205101]\n",
      " [ 0.29937734 -0.00502623  1.22739954]\n",
      " [ 0.31645127 -0.00592138  1.50576898]\n",
      " [ 0.2711695  -0.21985116  1.21612742]\n",
      " [ 0.30791153 -0.26587147  0.97227938]\n",
      " [ 0.3521438  -0.2824185   0.84160432]\n",
      " [ 0.28066436  0.20851551  1.21588093]\n",
      " [ 0.29086567  0.2573155   0.96856244]\n",
      " [ 0.31671669  0.2806352   0.83404781]\n",
      " [ 0.29999011 -0.08805723  0.66862669]\n",
      " [ 0.28864182 -0.05446972  0.2628681 ]\n",
      " [ 0.29751747 -0.03559797  0.03551529]\n",
      " [ 0.35457313  0.08958659  0.67374239]\n",
      " [ 0.26744232  0.11211614  0.36537805]\n",
      " [ 0.09248359  0.11329693  0.19657547]]\n"
     ]
    }
   ],
   "source": [
    "#6 right writs 9 left writs 12 right ankle, 15 left ankle\n",
    "\n",
    "print(state.pipeline_state.geom_xpos)\n",
    "\n",
    "\n",
    "#index 16"
   ]
  },
  {
   "cell_type": "code",
   "execution_count": 20,
   "metadata": {},
   "outputs": [
    {
     "data": {
      "text/html": [
       "<!DOCTYPE html>\n",
       "<html>\n",
       "\n",
       "  <head>\n",
       "    <title>Brax visualizer</title>\n",
       "    <link rel=\"shortcut icon\" type=\"image/x-icon\" href=\"/favicon.ico\">\n",
       "  </head>\n",
       "\n",
       "  <style>\n",
       "    body {\n",
       "      margin: 0;\n",
       "      padding: 0;\n",
       "    }\n",
       "\n",
       "    #brax-viewer {\n",
       "      height: 480px;\n",
       "      margin: 0;\n",
       "      padding: 0;\n",
       "    }\n",
       "  </style>\n",
       "  <script async src=\"https://unpkg.com/es-module-shims@1.6.3/dist/es-module-shims.js\"></script>\n",
       "\n",
       "  <script type=\"importmap\">\n",
       "    {\n",
       "      \"imports\": {\n",
       "        \"three\": \"https://unpkg.com/three@0.150.1/build/three.module.js\",\n",
       "        \"three/addons/\": \"https://unpkg.com/three@0.150.1/examples/jsm/\",\n",
       "        \"lilgui\": \"https://cdn.jsdelivr.net/npm/lil-gui@0.18.0/+esm\",\n",
       "        \"viewer\": \"https://cdn.jsdelivr.net/gh/google/brax@v0.10.4/brax/visualizer/js/viewer.js\"\n",
       "      }\n",
       "    }\n",
       "  </script>\n",
       "\n",
       "  <script src=\"https://unpkg.com/pako@2.1.0/dist/pako.min.js\"></script>\n",
       "\n",
       "  <script type=\"application/javascript\">\n",
       "  var system = \"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\";\n",
       "  // decode base64 (convert ascii to binary)\n",
       "  system = atob(system);\n",
       "  // convert binary string to character-number array\n",
       "  system = system.split('').map(function(x){return x.charCodeAt(0);});\n",
       "  // decompress\n",
       "  system = pako.inflate(system);\n",
       "  // convert gunzipped byteArray back to ascii string\n",
       "  system = new TextDecoder(\"utf-8\").decode(system);\n",
       "  // and load json\n",
       "  system = JSON.parse(system);\n",
       "  </script>\n",
       "\n",
       "  <body>\n",
       "\n",
       "    <div id=\"brax-viewer\"></div>\n",
       "\n",
       "    <script type=\"module\">\n",
       "      import {Viewer} from 'viewer';\n",
       "      const domElement = document.getElementById(\"brax-viewer\");\n",
       "      var viewer = new Viewer(domElement, system);\n",
       "    </script>\n",
       "\n",
       "  </body>\n",
       "\n",
       "</html>"
      ],
      "text/plain": [
       "<IPython.core.display.HTML object>"
      ]
     },
     "execution_count": 20,
     "metadata": {},
     "output_type": "execute_result"
    }
   ],
   "source": [
    "HTML(html.render(env_replay.sys.tree_replace({'opt.timestep': env_replay.dt}), rollout))\n",
    "#HTML(html.render(env_eval.sys.tree_replace({'opt.timestep': env_eval.dt}), rollout))\n",
    "#HTML(html.render(env.sys.tree_replace({'opt.timestep': env.dt}), rollout))\n",
    "#HTML(html.render(env_apg.sys.tree_replace({'opt.timestep': env_apg.dt}), rollout))\n"
   ]
  },
  {
   "cell_type": "code",
   "execution_count": null,
   "metadata": {},
   "outputs": [],
   "source": []
  }
 ],
 "metadata": {
  "kernelspec": {
   "display_name": "Python 3 (ipykernel)",
   "language": "python",
   "name": "python3"
  },
  "language_info": {
   "codemirror_mode": {
    "name": "ipython",
    "version": 3
   },
   "file_extension": ".py",
   "mimetype": "text/x-python",
   "name": "python",
   "nbconvert_exporter": "python",
   "pygments_lexer": "ipython3",
   "version": "3.11.9"
  }
 },
 "nbformat": 4,
 "nbformat_minor": 4
}
