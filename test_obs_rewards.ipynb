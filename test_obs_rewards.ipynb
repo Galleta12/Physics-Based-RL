{
 "cells": [
  {
   "cell_type": "code",
   "execution_count": 1,
   "metadata": {},
   "outputs": [],
   "source": [
    "import agents_env\n",
    "from agents_env.agent_mimic_train import HumanoidEnvTrain\n",
    "from utils.SimpleConverter import SimpleConverter\n",
    "from utils.util_data import *\n",
    "from copy import deepcopy"
   ]
  },
  {
   "cell_type": "code",
   "execution_count": 2,
   "metadata": {},
   "outputs": [],
   "source": [
    "from datetime import datetime\n",
    "import functools\n",
    "from IPython.display import HTML\n",
    "import jax\n",
    "from jax import numpy as jp\n",
    "import numpy as np\n",
    "from typing import Any, Dict, Sequence, Tuple, Union\n",
    "from brax import base\n",
    "from brax import envs\n",
    "from brax import math\n",
    "from brax.base import Base, Motion, Transform\n",
    "from brax.envs.base import Env, PipelineEnv, State\n",
    "from brax.mjx.base import State as MjxState\n",
    "from brax.training.agents.ppo import train as ppo\n",
    "from brax.training.agents.ppo import networks as ppo_networks\n",
    "from brax.io import html, mjcf, model\n",
    "from etils import epath\n",
    "from flax import struct\n",
    "from matplotlib import pyplot as plt\n",
    "import mediapy as media\n",
    "from ml_collections import config_dict\n",
    "import mujoco\n",
    "from mujoco import mjx\n",
    "from jax import vmap\n",
    "import jax.random\n",
    "from jax import lax"
   ]
  },
  {
   "cell_type": "code",
   "execution_count": 3,
   "metadata": {},
   "outputs": [],
   "source": [
    "#this is just dummy data to initialize the agent\n",
    "trajectory = SimpleConverter('motions/humanoid3d_punch.txt')\n",
    "trajectory.load_mocap()\n",
    "model_path = 'models/final_humanoid.xml'\n",
    "\n",
    "data_mocap_matrix = jp.asarray(trajectory.data)\n",
    "data_pos_mocap = jp.asarray(trajectory.data_pos)\n",
    "data_vel_mocap = jp.asarray(trajectory.data_vel)\n",
    "\n",
    "data_dict_mocap = trajectory.duration_dict\n",
    "\n",
    "data_xpos_mocap=jp.asarray(trajectory.data_xpos)\n",
    "data_xrot_mocap=jp.asarray(trajectory.data_xrot)"
   ]
  },
  {
   "cell_type": "code",
   "execution_count": 4,
   "metadata": {},
   "outputs": [
    {
     "name": "stdout",
     "output_type": "stream",
     "text": [
      "[1000 1000 1000  100  100  100  400  400  400  300  400  400  400  300\n",
      "  500  500  500  500  400  400  400  500  500  500  500  400  400  400]\n",
      "[100 100 100  10  10  10  40  40  40  30  40  40  40  30  50  50  50  50\n",
      "  40  40  40  50  50  50  50  40  40  40]\n"
     ]
    }
   ],
   "source": [
    "#get th kp and kd for the agent\n",
    "kp,kd = generate_kp_kd_gains()\n",
    "print(kp)\n",
    "print(kd)"
   ]
  },
  {
   "cell_type": "code",
   "execution_count": 5,
   "metadata": {},
   "outputs": [],
   "source": [
    "import yaml\n",
    "from box import Box\n",
    "# Path to your YAML file\n",
    "yaml_file_path = 'config_params/punch.yaml'\n",
    "# Load the YAML file\n",
    "with open(yaml_file_path, 'r') as file:\n",
    "    args = Box(yaml.safe_load(file))"
   ]
  },
  {
   "cell_type": "code",
   "execution_count": 7,
   "metadata": {},
   "outputs": [],
   "source": [
    "envs.register_environment('humanoidEnvMimic',HumanoidEnvTrain)\n",
    "env_name = 'humanoidEnvMimic'\n",
    "env = envs.get_environment(env_name=env_name,\n",
    "                           reference_trajectory_qpos=data_pos_mocap,\n",
    "                           reference_trajectory_qvel = data_vel_mocap,\n",
    "                            duration_trajectory=trajectory.total_time,\n",
    "                            dict_duration= data_dict_mocap,\n",
    "                           model_path=model_path,\n",
    "                           kp_gains = kp,\n",
    "                           kd_gains = kd,\n",
    "                           reference_x_pos=data_xpos_mocap,\n",
    "                           reference_x_rot=data_xrot_mocap,\n",
    "                           args=args)\n",
    "jit_reset = jax.jit(env.reset)\n",
    "jit_step = jax.jit(env.step_custom)\n",
    "\n",
    "\n",
    "#select the pd_control\n",
    "from agents_env.pds_controllers_agents import stable_pd_controller_custom_trajectory, stable_pd_controller_trajectory,stable_pd_controller_action,feedback_pd_controller\n",
    "#env.set_pd_callback(stable_pd_controller_custom_trajectory)\n",
    "env.set_pd_callback(feedback_pd_controller)\n",
    "#env.set_pd_callback(feedback_pd_controller)"
   ]
  },
  {
   "cell_type": "code",
   "execution_count": 8,
   "metadata": {},
   "outputs": [
    {
     "data": {
      "text/plain": [
       "65"
      ]
     },
     "execution_count": 8,
     "metadata": {},
     "output_type": "execute_result"
    }
   ],
   "source": [
    "env.rollout_lenght"
   ]
  },
  {
   "cell_type": "code",
   "execution_count": 9,
   "metadata": {},
   "outputs": [
    {
     "name": "stdout",
     "output_type": "stream",
     "text": [
      "rot(array(13, dtype=int32), array(4, dtype=int32))\n",
      "vel[[-2.8818053e-01  8.7779284e-02  8.1000075e-02]\n",
      " [-3.4689954e-01  7.7036172e-02  8.1654593e-02]\n",
      " [-4.1608381e-01  5.1521216e-02  8.6229317e-02]\n",
      " [-4.4027799e-01  1.7190793e-01  1.0165399e-01]\n",
      " [-4.9120674e-01  3.4506398e-01  1.5201633e-01]\n",
      " [-3.7631401e-01 -6.6355929e-02  6.9428891e-02]\n",
      " [-2.1253726e-01 -1.1931123e-01 -1.3627857e-04]\n",
      " [-3.0948627e-01  1.5163174e-01  1.0134506e-01]\n",
      " [-4.1612828e-01  2.4467927e-01  1.4186221e-01]\n",
      " [-3.4511092e-01  4.5810035e-01  3.3873204e-02]\n",
      " [-2.6687473e-01  2.3926817e-02  6.0655080e-02]\n",
      " [-2.9612988e-01  3.8792977e-01  4.8879310e-02]\n",
      " [-6.9739127e-01  7.6306152e-01 -1.9804212e-01]]\n",
      "ang[[ 0.05192349 -0.23546423  0.79337656]\n",
      " [ 0.07098626 -0.07190083  0.6725171 ]\n",
      " [-0.03619116 -0.12164814  0.4629038 ]\n",
      " [ 0.3912696  -0.09505065  0.72247386]\n",
      " [ 0.39010382 -0.10333263  0.74169236]\n",
      " [ 0.15336552 -0.30837145  0.5958098 ]\n",
      " [ 0.13275181 -0.29521644  0.59468627]\n",
      " [ 0.19098729  0.08959711  0.2969229 ]\n",
      " [ 0.57609093 -0.01014164  0.3588143 ]\n",
      " [ 0.7943405   0.0639869   0.4532653 ]\n",
      " [ 0.594105    0.02483436 -0.70830613]\n",
      " [ 1.0913913   0.49260446 -1.0251906 ]\n",
      " [ 0.841925    0.76071876 -0.8260411 ]]\n",
      "obs shape(array(193, dtype=int32),)\n"
     ]
    }
   ],
   "source": [
    "# initialize the state\n",
    "state = jit_reset(jax.random.PRNGKey(0))\n",
    "rollout = [state.pipeline_state]\n",
    "# grab a 500 steps\n",
    "n_steps = 500"
   ]
  },
  {
   "cell_type": "code",
   "execution_count": null,
   "metadata": {},
   "outputs": [],
   "source": [
    "\n",
    "for i in range(env.rollout_lenght):\n",
    "    \n",
    "    print(i)\n",
    "    ctrl = -0.1 * jp.ones(env.sys.nu)\n",
    "    #time\n",
    "    time = state.pipeline_state.time\n",
    "    \n",
    "    #print('time: ',state.pipeline_state.time)    \n",
    "         \n",
    "    state = jit_step(state, ctrl)\n",
    "    \n",
    "    print(\"Is done\", state.done)\n",
    "    print(\"Is rewards\", state.reward)\n",
    "    \n",
    "    rollout.append(state.pipeline_state)"
   ]
  },
  {
   "cell_type": "code",
   "execution_count": null,
   "metadata": {},
   "outputs": [],
   "source": [
    "HTML(html.render(env.sys.replace(dt=env.dt), rollout))"
   ]
  }
 ],
 "metadata": {
  "kernelspec": {
   "display_name": "jaxMujoco",
   "language": "python",
   "name": "python3"
  },
  "language_info": {
   "codemirror_mode": {
    "name": "ipython",
    "version": 3
   },
   "file_extension": ".py",
   "mimetype": "text/x-python",
   "name": "python",
   "nbconvert_exporter": "python",
   "pygments_lexer": "ipython3",
   "version": "3.11.9"
  }
 },
 "nbformat": 4,
 "nbformat_minor": 2
}
