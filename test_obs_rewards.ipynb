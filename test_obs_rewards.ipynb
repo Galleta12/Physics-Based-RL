{
 "cells": [
  {
   "cell_type": "code",
   "execution_count": 1,
   "metadata": {},
   "outputs": [],
   "source": [
    "import agents_env\n",
    "from agents_env.agent_mimic_train import HumanoidEnvTrain\n",
    "from utils.SimpleConverter import SimpleConverter\n",
    "from utils.util_data import *\n",
    "from copy import deepcopy"
   ]
  },
  {
   "cell_type": "code",
   "execution_count": 2,
   "metadata": {},
   "outputs": [],
   "source": [
    "from datetime import datetime\n",
    "import functools\n",
    "from IPython.display import HTML\n",
    "import jax\n",
    "from jax import numpy as jp\n",
    "import numpy as np\n",
    "from typing import Any, Dict, Sequence, Tuple, Union\n",
    "from brax import base\n",
    "from brax import envs\n",
    "from brax import math\n",
    "from brax.base import Base, Motion, Transform\n",
    "from brax.envs.base import Env, PipelineEnv, State\n",
    "from brax.mjx.base import State as MjxState\n",
    "from brax.training.agents.ppo import train as ppo\n",
    "from brax.training.agents.ppo import networks as ppo_networks\n",
    "from brax.io import html, mjcf, model\n",
    "from etils import epath\n",
    "from flax import struct\n",
    "from matplotlib import pyplot as plt\n",
    "import mediapy as media\n",
    "from ml_collections import config_dict\n",
    "import mujoco\n",
    "from mujoco import mjx\n",
    "from jax import vmap\n",
    "import jax.random\n",
    "from jax import lax"
   ]
  },
  {
   "cell_type": "code",
   "execution_count": 3,
   "metadata": {},
   "outputs": [],
   "source": [
    "#this is just dummy data to initialize the agent\n",
    "trajectory = SimpleConverter('motions/humanoid3d_punch.txt')\n",
    "trajectory.load_mocap()\n",
    "model_path = 'models/final_humanoid.xml'\n",
    "\n",
    "data_mocap_matrix = jp.asarray(trajectory.data)\n",
    "data_pos_mocap = jp.asarray(trajectory.data_pos)\n",
    "data_vel_mocap = jp.asarray(trajectory.data_vel)\n",
    "\n",
    "data_dict_mocap = trajectory.duration_dict\n",
    "\n",
    "data_xpos_mocap=jp.asarray(trajectory.data_xpos)\n",
    "data_xrot_mocap=jp.asarray(trajectory.data_xrot)"
   ]
  },
  {
   "cell_type": "code",
   "execution_count": 4,
   "metadata": {},
   "outputs": [
    {
     "name": "stdout",
     "output_type": "stream",
     "text": [
      "[1000 1000 1000  100  100  100  400  400  400  300  400  400  400  300\n",
      "  500  500  500  500  400  400  400  500  500  500  500  400  400  400]\n",
      "[100 100 100  10  10  10  40  40  40  30  40  40  40  30  50  50  50  50\n",
      "  40  40  40  50  50  50  50  40  40  40]\n"
     ]
    }
   ],
   "source": [
    "#get th kp and kd for the agent\n",
    "kp,kd = generate_kp_kd_gains()\n",
    "print(kp)\n",
    "print(kd)"
   ]
  },
  {
   "cell_type": "code",
   "execution_count": 5,
   "metadata": {},
   "outputs": [],
   "source": [
    "import yaml\n",
    "from box import Box\n",
    "# Path to your YAML file\n",
    "yaml_file_path = 'config_params/punch.yaml'\n",
    "# Load the YAML file\n",
    "with open(yaml_file_path, 'r') as file:\n",
    "    args = Box(yaml.safe_load(file))"
   ]
  },
  {
   "cell_type": "code",
   "execution_count": 6,
   "metadata": {},
   "outputs": [],
   "source": [
    "envs.register_environment('humanoidEnvMimic',HumanoidEnvTrain)\n",
    "env_name = 'humanoidEnvMimic'\n",
    "env = envs.get_environment(env_name=env_name,\n",
    "                           reference_trajectory_qpos=data_pos_mocap,\n",
    "                           reference_trajectory_qvel = data_vel_mocap,\n",
    "                            duration_trajectory=trajectory.total_time,\n",
    "                            dict_duration= data_dict_mocap,\n",
    "                           model_path=model_path,\n",
    "                           kp_gains = kp,\n",
    "                           kd_gains = kd,\n",
    "                           reference_x_pos=data_xpos_mocap,\n",
    "                           reference_x_rot=data_xrot_mocap,\n",
    "                           args=args)\n",
    "jit_reset = jax.jit(env.reset)\n",
    "jit_step = jax.jit(env.step_custom)\n",
    "\n",
    "\n",
    "#select the pd_control\n",
    "from agents_env.pds_controllers_agents import stable_pd_controller_custom_trajectory, stable_pd_controller_trajectory,stable_pd_controller_action,feedback_pd_controller\n",
    "#env.set_pd_callback(stable_pd_controller_custom_trajectory)\n",
    "env.set_pd_callback(feedback_pd_controller)\n",
    "#env.set_pd_callback(feedback_pd_controller)"
   ]
  },
  {
   "cell_type": "code",
   "execution_count": 7,
   "metadata": {},
   "outputs": [
    {
     "data": {
      "text/plain": [
       "Box({'num_envs': 256, 'num_eval_envs': 32, 'lr': 0.0003, 'max_it': 1000, 'max_grad_norm': 0.4, 'seed': 0, 'system_config': 'humanoid', 'demo_replay_mode': 'threshold', 'threshold': 0.4, 'normalize_observations': True, 'cycle_len': 0, 'ep_len': 30, 'ep_len_eval': 54, 'use_lr_scheduler': True, 'reward_scaling': 0.02, 'rot_weight': 0.5, 'vel_weight': 0.01, 'ang_weight': 0.01, 'ref': 'motions/humanoid3d_punch.txt'})"
      ]
     },
     "execution_count": 7,
     "metadata": {},
     "output_type": "execute_result"
    }
   ],
   "source": [
    "args"
   ]
  },
  {
   "cell_type": "code",
   "execution_count": 8,
   "metadata": {},
   "outputs": [
    {
     "name": "stdout",
     "output_type": "stream",
     "text": [
      "65\n",
      "65\n",
      "0.5\n",
      "0.01\n",
      "0.01\n",
      "0.02\n"
     ]
    }
   ],
   "source": [
    "print(env.rollout_lenght)\n",
    "print(env.cycle_len)\n",
    "print(env.rot_weight)\n",
    "print(env.vel_weight)\n",
    "print(env.ang_weight)\n",
    "print(env.reward_scaling)\n",
    "#print(env.dict_duration)"
   ]
  },
  {
   "cell_type": "code",
   "execution_count": 9,
   "metadata": {},
   "outputs": [],
   "source": [
    "# initialize the state\n",
    "state = jit_reset(jax.random.PRNGKey(0))\n",
    "rollout = [state.pipeline_state]\n",
    "# grab a 500 steps\n",
    "n_steps = 500"
   ]
  },
  {
   "cell_type": "code",
   "execution_count": 10,
   "metadata": {},
   "outputs": [
    {
     "name": "stdout",
     "output_type": "stream",
     "text": [
      "0.015384615384615385\n",
      "64\n"
     ]
    }
   ],
   "source": [
    "idx = ( 64 % env.rollout_lenght) \n",
    "\n",
    "phi = ( 66 % env.rollout_lenght) / env.rollout_lenght\n",
    "\n",
    "print(phi)\n",
    "print(idx)"
   ]
  },
  {
   "cell_type": "code",
   "execution_count": 11,
   "metadata": {},
   "outputs": [
    {
     "name": "stdout",
     "output_type": "stream",
     "text": [
      "0.0\n"
     ]
    }
   ],
   "source": [
    "\n",
    "mask = jp.where(65 <= env.rollout_lenght-1, jp.float32(54), 0)\n",
    "print(mask)\n"
   ]
  },
  {
   "cell_type": "code",
   "execution_count": 12,
   "metadata": {},
   "outputs": [
    {
     "name": "stdout",
     "output_type": "stream",
     "text": [
      "0\n",
      "pose_error: 0.0\n",
      "1\n",
      "pose_error: 0.0\n",
      "2\n",
      "pose_error: 0.0\n",
      "3\n",
      "pose_error: 0.0\n",
      "4\n",
      "pose_error: 0.0\n",
      "5\n",
      "pose_error: 0.0\n",
      "6\n",
      "pose_error: 0.0\n",
      "7\n",
      "pose_error: 0.0\n",
      "8\n",
      "pose_error: 0.0\n",
      "9\n",
      "pose_error: 0.0\n",
      "10\n",
      "pose_error: 0.0\n",
      "11\n",
      "pose_error: 0.0\n",
      "12\n",
      "pose_error: 0.0\n",
      "13\n",
      "pose_error: 0.0\n",
      "14\n",
      "pose_error: 0.0\n",
      "15\n",
      "pose_error: 0.0\n",
      "16\n",
      "pose_error: 0.0\n",
      "17\n",
      "pose_error: 0.0\n",
      "18\n",
      "pose_error: 0.0\n",
      "19\n",
      "pose_error: 7.143896141315054e-08\n",
      "20\n",
      "pose_error: 0.0\n",
      "21\n",
      "pose_error: 0.0\n",
      "22\n",
      "pose_error: 0.0\n",
      "23\n",
      "pose_error: 0.0\n",
      "24\n",
      "pose_error: 0.0\n",
      "25\n",
      "pose_error: 0.0\n",
      "26\n",
      "pose_error: 1.2902424373351096e-07\n",
      "27\n",
      "pose_error: 0.0\n",
      "28\n",
      "pose_error: 0.0\n",
      "29\n",
      "pose_error: 0.0\n",
      "30\n",
      "pose_error: 0.0\n",
      "31\n",
      "pose_error: 0.0\n",
      "32\n",
      "pose_error: 0.0\n",
      "33\n",
      "pose_error: 0.0\n",
      "34\n",
      "pose_error: 0.0\n",
      "35\n",
      "pose_error: 0.0\n",
      "36\n",
      "pose_error: 0.0\n",
      "37\n",
      "pose_error: 0.0\n",
      "38\n",
      "pose_error: 0.0\n",
      "39\n",
      "pose_error: 1.0072823641849027e-07\n",
      "40\n",
      "pose_error: 0.0\n",
      "41\n",
      "pose_error: 0.0\n",
      "42\n",
      "pose_error: 1.3671008503024495e-07\n",
      "43\n",
      "pose_error: 0.0\n",
      "44\n",
      "pose_error: 0.0\n",
      "45\n",
      "pose_error: 1.0542213857434035e-07\n",
      "46\n",
      "pose_error: 0.0\n",
      "47\n",
      "pose_error: 0.0\n",
      "48\n",
      "pose_error: 0.0\n",
      "49\n",
      "pose_error: 0.0\n",
      "50\n",
      "pose_error: 0.0\n",
      "51\n",
      "pose_error: 0.0\n",
      "52\n",
      "pose_error: 1.50746444660399e-07\n",
      "53\n",
      "pose_error: 0.0\n",
      "54\n",
      "pose_error: 0.0\n",
      "55\n",
      "pose_error: 1.1561508017621236e-07\n",
      "56\n",
      "pose_error: 0.0\n",
      "57\n",
      "pose_error: 0.0\n",
      "58\n",
      "pose_error: 0.0\n",
      "59\n",
      "pose_error: 1.775411249127501e-07\n",
      "60\n",
      "pose_error: 1.53979186734432e-07\n",
      "61\n",
      "pose_error: 1.4057042108106543e-07\n",
      "62\n",
      "pose_error: 0.0\n",
      "63\n",
      "pose_error: 0.0\n",
      "64\n",
      "pose_error: 0.0\n"
     ]
    }
   ],
   "source": [
    "\n",
    "for i in range(env.rollout_lenght):\n",
    "    \n",
    "    print(i)\n",
    "    ctrl = -0.1 * jp.ones(env.sys.nu)\n",
    "    #time\n",
    "    time = state.pipeline_state.time\n",
    "    \n",
    "    #print('time: ',state.pipeline_state.time)    \n",
    "         \n",
    "    state = jit_step(state, ctrl)\n",
    "   \n",
    "    \n",
    "    #print(\"Is done\", state.done)\n",
    "    #print(\"Is rewards\", state.reward)\n",
    "    \n",
    "    rollout.append(state.pipeline_state)"
   ]
  },
  {
   "cell_type": "code",
   "execution_count": 13,
   "metadata": {},
   "outputs": [],
   "source": [
    "#HTML(html.render(env.sys.replace(dt=env.dt), rollout))"
   ]
  },
  {
   "cell_type": "markdown",
   "metadata": {},
   "source": [
    "Now testing pose error\n"
   ]
  },
  {
   "cell_type": "code",
   "execution_count": 14,
   "metadata": {},
   "outputs": [
    {
     "data": {
      "text/plain": [
       "Array([[1.2526495 , 1.4705337 , 0.814083  ],\n",
       "       [1.2422284 , 1.4458387 , 1.0487078 ],\n",
       "       [1.3098793 , 1.4600848 , 1.2616607 ],\n",
       "       [1.2978325 , 1.2784042 , 1.2982551 ],\n",
       "       [1.1778704 , 1.147309  , 1.0886564 ],\n",
       "       [1.2879409 , 1.6438701 , 1.2769486 ],\n",
       "       [1.1056708 , 1.7849404 , 1.1273315 ],\n",
       "       [1.2513347 , 1.3861293 , 0.80514073],\n",
       "       [1.4441509 , 1.3474301 , 0.4322797 ],\n",
       "       [1.2118335 , 1.2725887 , 0.10300654],\n",
       "       [1.2539644 , 1.5549382 , 0.8230252 ],\n",
       "       [1.3402779 , 1.723362  , 0.44634968],\n",
       "       [1.2488658 , 1.8731027 , 0.07592425]], dtype=float32)"
      ]
     },
     "execution_count": 14,
     "metadata": {},
     "output_type": "execute_result"
    }
   ],
   "source": [
    "state.pipeline_state.x.pos"
   ]
  },
  {
   "cell_type": "code",
   "execution_count": 15,
   "metadata": {},
   "outputs": [],
   "source": [
    "def loss_l2_relpos(pos, ref_pos):\n",
    "    relpos, ref_relpos = (pos - pos[0])[1:], (ref_pos - ref_pos[0])[1:]\n",
    "    relpos_loss = (((relpos - ref_relpos) ** 2).sum(-1) ** 0.5).mean()\n",
    "    return relpos_loss\n",
    "\n"
   ]
  },
  {
   "cell_type": "code",
   "execution_count": 16,
   "metadata": {},
   "outputs": [
    {
     "name": "stdout",
     "output_type": "stream",
     "text": [
      "0.0\n"
     ]
    }
   ],
   "source": [
    "#using the same since, I am testing with fw kinematics when is the same movement\n",
    "\n",
    "pose_err = loss_l2_relpos(state.pipeline_state.x.pos,state.pipeline_state.x.pos)\n",
    "print(pose_err)"
   ]
  },
  {
   "cell_type": "markdown",
   "metadata": {},
   "source": [
    "Error in the punch it should be 0 when montion the same. However\n",
    "I am not getting zero not sure why"
   ]
  },
  {
   "cell_type": "code",
   "execution_count": 17,
   "metadata": {},
   "outputs": [
    {
     "name": "stdout",
     "output_type": "stream",
     "text": [
      "Are the two matrices the same? True\n"
     ]
    }
   ],
   "source": [
    "# Define the matrices\n",
    "global_pos = jp.array([\n",
    "    [0.40274766, 0.36927953, 0.752072],\n",
    "    [0.4418757, 0.38021225, 0.9847021],\n",
    "    [0.52255535, 0.4276182, 1.1881032],\n",
    "    [0.6083375, 0.26487905, 1.2135879],\n",
    "    [0.44772425, 0.08161816, 1.0865946],\n",
    "    [0.41400197, 0.57524705, 1.2183353],\n",
    "    [0.38929832, 0.7546403, 1.0116562],\n",
    "    [0.45658457, 0.30392218, 0.7460882],\n",
    "    [0.6134719, 0.4203004, 0.37253296],\n",
    "    [0.2707621, 0.23714691, 0.24215575],\n",
    "    [0.34891075, 0.4346369, 0.75805575],\n",
    "    [0.41676688, 0.5241024, 0.35173994],\n",
    "    [0.2569707, 0.24560517, 0.09698921]\n",
    "])\n",
    "\n",
    "ref_pos = jp.array([\n",
    "    [0.40274766, 0.36927953, 0.752072],\n",
    "    [0.44187573, 0.38021225, 0.9847021],\n",
    "    [0.52255535, 0.4276182, 1.1881032],\n",
    "    [0.6083376, 0.26487902, 1.2135879],\n",
    "    [0.4477243, 0.0816181, 1.0865946],\n",
    "    [0.414002, 0.57524705, 1.2183353],\n",
    "    [0.38929835, 0.75464034, 1.0116562],\n",
    "    [0.45658457, 0.30392215, 0.7460882],\n",
    "    [0.613472, 0.42030036, 0.3725328],\n",
    "    [0.270762, 0.23714684, 0.24215555],\n",
    "    [0.34891075, 0.43463692, 0.75805575],\n",
    "    [0.41676688, 0.52410245, 0.35173988],\n",
    "    [0.2569707, 0.24560517, 0.09698913]\n",
    "])\n",
    "\n",
    "# Check if they are close enough to be considered the same\n",
    "are_same = jp.allclose(global_pos, ref_pos)\n",
    "\n",
    "print(\"Are the two matrices the same?\", are_same)"
   ]
  },
  {
   "cell_type": "code",
   "execution_count": 18,
   "metadata": {},
   "outputs": [
    {
     "name": "stdout",
     "output_type": "stream",
     "text": [
      "7.143896e-08\n"
     ]
    }
   ],
   "source": [
    "pose_err = loss_l2_relpos(global_pos,ref_pos)\n",
    "print(pose_err)"
   ]
  },
  {
   "cell_type": "code",
   "execution_count": 19,
   "metadata": {},
   "outputs": [
    {
     "name": "stdout",
     "output_type": "stream",
     "text": [
      "The error is effectively zero.\n"
     ]
    }
   ],
   "source": [
    "#idea to deal with this weird errors\n",
    "\n",
    "tolerance = 1e-6  # This tolerance can be adjusted as needed.\n",
    "if pose_err < tolerance:\n",
    "    print(\"The error is effectively zero.\")\n",
    "else:\n",
    "    print(\"The error is significant.\")"
   ]
  }
 ],
 "metadata": {
  "kernelspec": {
   "display_name": "Python 3 (ipykernel)",
   "language": "python",
   "name": "python3"
  },
  "language_info": {
   "codemirror_mode": {
    "name": "ipython",
    "version": 3
   },
   "file_extension": ".py",
   "mimetype": "text/x-python",
   "name": "python",
   "nbconvert_exporter": "python",
   "pygments_lexer": "ipython3",
   "version": "3.11.9"
  }
 },
 "nbformat": 4,
 "nbformat_minor": 4
}
