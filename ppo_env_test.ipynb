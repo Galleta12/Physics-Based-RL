{
 "cells": [
  {
   "cell_type": "code",
   "execution_count": 1,
   "metadata": {},
   "outputs": [],
   "source": [
    "from datetime import datetime\n",
    "import functools\n",
    "from IPython.display import HTML\n",
    "import jax\n",
    "from jax import numpy as jp\n",
    "import numpy as np\n",
    "from typing import Any, Dict, Sequence, Tuple, Union\n",
    "from brax import base\n",
    "from brax import envs\n",
    "from brax import math\n",
    "from brax.base import Base, Motion, Transform\n",
    "from brax.envs.base import Env, PipelineEnv, State\n",
    "from brax.mjx.base import State as MjxState\n",
    "# from brax.training.agents.apg import train as apg\n",
    "# from brax.training.agents.apg import networks as apg_networks\n",
    "from brax.io import html, mjcf, model\n",
    "from etils import epath\n",
    "from flax import struct\n",
    "from matplotlib import pyplot as plt\n",
    "import mediapy as media\n",
    "from ml_collections import config_dict\n",
    "import mujoco\n",
    "from mujoco import mjx\n",
    "from jax import vmap\n",
    "import jax.random\n",
    "from jax import lax"
   ]
  },
  {
   "cell_type": "code",
   "execution_count": 2,
   "metadata": {},
   "outputs": [
    {
     "name": "stdout",
     "output_type": "stream",
     "text": [
      "Setting environment variable to use GPU rendering:\n",
      "env: MUJOCO_GL=egl\n"
     ]
    }
   ],
   "source": [
    "import distutils.util\n",
    "import os\n",
    "xla_flags = os.environ.get('XLA_FLAGS', '')\n",
    "xla_flags += ' --xla_gpu_triton_gemm_any=True'\n",
    "os.environ['XLA_FLAGS'] = xla_flags\n",
    "print('Setting environment variable to use GPU rendering:')\n",
    "%env MUJOCO_GL=egl"
   ]
  },
  {
   "cell_type": "code",
   "execution_count": 3,
   "metadata": {},
   "outputs": [],
   "source": [
    "import os\n",
    "os.environ[\"XLA_PYTHON_CLIENT_MEM_FRACTION\"] = \"0.8\" # 0.9 causes too much lag. \n",
    "from datetime import datetime\n",
    "import functools\n",
    "\n",
    "# Math\n",
    "import jax.numpy as jp\n",
    "import numpy as np\n",
    "import jax\n",
    "from jax import config # Analytical gradients work much better with double precision.\n",
    "config.update(\"jax_debug_nans\", True)\n",
    "config.update(\"jax_enable_x64\", True)\n",
    "config.update('jax_default_matmul_precision', jax.lax.Precision.HIGH)\n",
    "from brax import math\n",
    "\n",
    "# Sim\n",
    "import mujoco\n",
    "import mujoco.mjx as mjx\n",
    "\n",
    "# Brax\n",
    "from brax import envs\n",
    "from brax.base import Motion, Transform\n",
    "from brax.io import mjcf\n",
    "from brax.envs.base import PipelineEnv, State\n",
    "from brax.mjx.pipeline import _reformat_contact\n",
    "from brax.training.acme import running_statistics\n",
    "from brax.io import model\n",
    "\n",
    "# Algorithms\n",
    "# from brax.training.agents.apg import train as apg\n",
    "# from brax.training.agents.apg import networks as apg_networks\n",
    "from brax.training.agents.ppo import train as ppo\n",
    "\n",
    "# Supporting\n",
    "from etils import epath\n",
    "import mediapy as media\n",
    "import matplotlib.pyplot as plt\n",
    "from ml_collections import config_dict\n",
    "from typing import Any, Dict\n"
   ]
  },
  {
   "cell_type": "code",
   "execution_count": 4,
   "metadata": {},
   "outputs": [
    {
     "name": "stdout",
     "output_type": "stream",
     "text": [
      "gpu\n"
     ]
    }
   ],
   "source": [
    "from jax.lib import xla_bridge\n",
    "print(xla_bridge.get_backend().platform)"
   ]
  },
  {
   "cell_type": "code",
   "execution_count": 5,
   "metadata": {},
   "outputs": [],
   "source": [
    "import agent_mimic_env\n",
    "from agent_mimic_env import register_mimic_env, register_ppo_env"
   ]
  },
  {
   "cell_type": "code",
   "execution_count": 6,
   "metadata": {},
   "outputs": [],
   "source": [
    "from agent_mimic_env.pds_controllers_agents import feedback_pd_controller, stable_pd_controller_action\n"
   ]
  },
  {
   "cell_type": "code",
   "execution_count": 7,
   "metadata": {},
   "outputs": [],
   "source": [
    "import yaml\n",
    "from box import Box\n",
    "# Path to your YAML file\n",
    "yaml_file_path = 'config_params/punch.yaml'\n",
    "# Load the YAML file\n",
    "with open(yaml_file_path, 'r') as file:\n",
    "    args = Box(yaml.safe_load(file))\n",
    "\n"
   ]
  },
  {
   "cell_type": "code",
   "execution_count": 8,
   "metadata": {},
   "outputs": [
    {
     "name": "stdout",
     "output_type": "stream",
     "text": [
      "{'0.0num_envs': 256, 'num_eval_envs': 32, 'lr': 0.0003, 'max_it': 1000, 'max_grad_norm': 0.4, 'seed': 0, 'system_config': 'humanoid', 'demo_replay_mode': 'threshold', 'threshold': 0.4, 'normalize_observations': True, 'cycle_len': 130, 'ep_len': 65, 'ep_len_eval': 54, 'use_lr_scheduler': True, 'reward_scaling': 0.02, 'rot_weight': 0.5, 'vel_weight': 0.3, 'ang_weight': 0.01, 'deep_mimic_reward_weights': {'w_p': 0.65, 'w_v': 0.1, 'w_e': 0.15, 'w_c': 0.1}, 'deep_mimic_weights_factors': {'w_pose': 2, 'w_angular': 0.1, 'w_efector': 40, 'w_com': 10}, 'model': 'models/final_humanoid.xml', 'ref': 'motions/humanoid3d_punch_duplicated.txt'}\n"
     ]
    }
   ],
   "source": [
    "print(args)"
   ]
  },
  {
   "cell_type": "code",
   "execution_count": 9,
   "metadata": {},
   "outputs": [
    {
     "name": "stdout",
     "output_type": "stream",
     "text": [
      "this is the model:  models/final_humanoid.xml\n"
     ]
    }
   ],
   "source": [
    "env_ppo = register_ppo_env(args)\n",
    "env_ppo.set_pd_callback(stable_pd_controller_action)\n",
    "jit_reset = jax.jit(env_ppo.reset)\n",
    "#jit_step= jax.jit(env_ppo.step)\n",
    "jit_step= jax.jit(env_ppo.step_custom)\n",
    "\n"
   ]
  },
  {
   "cell_type": "code",
   "execution_count": 10,
   "metadata": {},
   "outputs": [
    {
     "data": {
      "text/plain": [
       "Array(59874.1417152, dtype=float64, weak_type=True)"
      ]
     },
     "execution_count": 10,
     "metadata": {},
     "output_type": "execute_result"
    }
   ],
   "source": [
    "#checking if doible point precision is activate\n",
    "xd = jp.exp(11)\n",
    "xd\n"
   ]
  },
  {
   "cell_type": "code",
   "execution_count": 11,
   "metadata": {},
   "outputs": [
    {
     "data": {
      "text/plain": [
       "'f333131313313'"
      ]
     },
     "execution_count": 11,
     "metadata": {},
     "output_type": "execute_result"
    }
   ],
   "source": [
    "env_ppo.sys.link_types"
   ]
  },
  {
   "cell_type": "code",
   "execution_count": 12,
   "metadata": {},
   "outputs": [
    {
     "name": "stdout",
     "output_type": "stream",
     "text": [
      "[ 6  9 12 15]\n"
     ]
    },
    {
     "data": {
      "text/plain": [
       "Array([[ 0.      ,  0.      , -0.258947],\n",
       "       [ 0.      ,  0.      , -0.258947],\n",
       "       [ 0.045   ,  0.      , -0.0225  ],\n",
       "       [ 0.045   ,  0.      , -0.0225  ]], dtype=float64)"
      ]
     },
     "execution_count": 12,
     "metadata": {},
     "output_type": "execute_result"
    }
   ],
   "source": [
    "\n",
    "s = env_ppo.dict_ee\n",
    "print(s)\n",
    "\n",
    "xd= env_ppo.sys.geom_pos[env_ppo.dict_ee]\n",
    "\n",
    "xd\n",
    "\n",
    "\n",
    "#right wrist idex 6 initial pos on mjx pos=\"0 0 -0.258947\"\n",
    "#left wrist inital 9 pos on mjx pos=\"0 0 -0.258947\"\n",
    "#right ankle index 12 pos [0.045   ,  0.      , -0.0225  ],\n",
    "#left ankle  index 15\"0.045   ,  0.      , -0.0225\""
   ]
  },
  {
   "cell_type": "code",
   "execution_count": 13,
   "metadata": {},
   "outputs": [
    {
     "name": "stdout",
     "output_type": "stream",
     "text": [
      "Option(timestep=0.002, impratio=Array(100., dtype=float64, weak_type=True), tolerance=Array(1.e-08, dtype=float64, weak_type=True), ls_tolerance=Array(0.01, dtype=float64, weak_type=True), gravity=Array([ 0.  ,  0.  , -9.81], dtype=float64), wind=Array([0., 0., 0.], dtype=float64), density=Array(0., dtype=float64, weak_type=True), viscosity=Array(0., dtype=float64, weak_type=True), has_fluid_params=False, integrator=<IntegratorType.EULER: 0>, cone=<ConeType.PYRAMIDAL: 0>, jacobian=<JacobianType.AUTO: 2>, solver=<SolverType.NEWTON: 2>, iterations=1, ls_iterations=4, disableflags=<DisableBit.EULERDAMP: 16384>)\n",
      "0.02\n"
     ]
    }
   ],
   "source": [
    "print(env_ppo.sys.opt)\n",
    "print(env_ppo.dt)"
   ]
  },
  {
   "cell_type": "code",
   "execution_count": 14,
   "metadata": {},
   "outputs": [],
   "source": [
    "state = jit_reset(jax.random.PRNGKey(0))\n",
    "rollout = [state.pipeline_state]\n",
    "\n",
    "n_steps = 500"
   ]
  },
  {
   "cell_type": "code",
   "execution_count": 15,
   "metadata": {},
   "outputs": [
    {
     "data": {
      "text/plain": [
       "Array([ 1.00952578,  0.96560349,  0.763598  ,  0.69266161,  0.00396145,\n",
       "        0.0290793 ,  0.72066538,  0.0344528 ,  0.38038578, -0.03930848,\n",
       "        0.25575706, -0.27285779, -1.17071799, -1.60473499,  0.07730953,\n",
       "       -1.0934958 ,  0.82069482,  0.59607216,  0.09617058, -0.84933419,\n",
       "        1.92958378, -0.723898  , -0.63271327, -1.08916748, -1.27049323,\n",
       "       -0.16462933, -0.02070159, -0.17030865,  0.37251784,  0.20128708,\n",
       "        0.66214301, -0.50385212, -0.0529365 , -0.12219402, -0.05907235],      dtype=float64)"
      ]
     },
     "execution_count": 15,
     "metadata": {},
     "output_type": "execute_result"
    }
   ],
   "source": [
    "state.pipeline_state.qpos[:]"
   ]
  },
  {
   "cell_type": "code",
   "execution_count": 16,
   "metadata": {},
   "outputs": [
    {
     "data": {
      "text/plain": [
       "Array([[1.67751076, 1.1740035 , 1.33588565],\n",
       "       [0.87219029, 1.07226696, 0.94031171],\n",
       "       [1.18705463, 1.14263128, 0.07462683],\n",
       "       [0.71621663, 0.63931363, 0.02716332]], dtype=float64)"
      ]
     },
     "execution_count": 16,
     "metadata": {},
     "output_type": "execute_result"
    }
   ],
   "source": [
    "state.pipeline_state.geom_xpos[env_ppo.dict_ee]"
   ]
  },
  {
   "cell_type": "code",
   "execution_count": 17,
   "metadata": {},
   "outputs": [
    {
     "name": "stdout",
     "output_type": "stream",
     "text": [
      "{'fall': Array(0., dtype=float64), 'pose_error': Array(0., dtype=float64), 'reference_angular': Array(0., dtype=float64, weak_type=True), 'reference_com': Array(0., dtype=float64, weak_type=True), 'reference_end_effector': Array(0., dtype=float64, weak_type=True), 'reference_quaternions': Array(0., dtype=float64, weak_type=True), 'step_index': Array(48., dtype=float64)}\n",
      "{'default_pos': Array([ 1.00952578,  0.96560349,  0.763598  ,  0.69266161,  0.00396145,\n",
      "        0.0290793 ,  0.72066538,  0.0344528 ,  0.38038578, -0.03930848,\n",
      "        0.25575706, -0.27285779, -1.17071799, -1.60473499,  0.07730953,\n",
      "       -1.0934958 ,  0.82069482,  0.59607216,  0.09617058, -0.84933419,\n",
      "        1.92958378, -0.723898  , -0.63271327, -1.08916748, -1.27049323,\n",
      "       -0.16462933, -0.02070159, -0.17030865,  0.37251784,  0.20128708,\n",
      "        0.66214301, -0.50385212, -0.0529365 , -0.12219402, -0.05907235],      dtype=float64), 'kinematic_ref': Array([ 1.00952578,  0.96560349,  0.763598  ,  0.69266161,  0.00396145,\n",
      "        0.0290793 ,  0.72066538,  0.0344528 ,  0.38038578, -0.03930848,\n",
      "        0.25575706, -0.27285779, -1.17071799, -1.60473499,  0.07730953,\n",
      "       -1.0934958 ,  0.82069482,  0.59607216,  0.09617058, -0.84933419,\n",
      "        1.92958378, -0.723898  , -0.63271327, -1.08916748, -1.27049323,\n",
      "       -0.16462933, -0.02070159, -0.17030865,  0.37251784,  0.20128708,\n",
      "        0.66214301, -0.50385212, -0.0529365 , -0.12219402, -0.05907235],      dtype=float64), 'last_action': Array([0., 0., 0., 0., 0., 0., 0., 0., 0., 0., 0., 0., 0., 0., 0., 0., 0.,\n",
      "       0., 0., 0., 0., 0., 0., 0., 0., 0., 0., 0.], dtype=float64), 'reward_tuple': {'reference_angular': Array(0., dtype=float64, weak_type=True), 'reference_com': Array(0., dtype=float64, weak_type=True), 'reference_end_effector': Array(0., dtype=float64, weak_type=True), 'reference_quaternions': Array(0., dtype=float64, weak_type=True)}, 'rng': Array([0, 0], dtype=uint32), 'steps': Array(0., dtype=float64, weak_type=True)}\n"
     ]
    }
   ],
   "source": [
    "print(state.metrics)\n",
    "print(state.info)"
   ]
  },
  {
   "cell_type": "code",
   "execution_count": 18,
   "metadata": {},
   "outputs": [
    {
     "data": {
      "text/plain": [
       "Array([1.03295954, 1.00265482, 0.82999913], dtype=float64)"
      ]
     },
     "execution_count": 18,
     "metadata": {},
     "output_type": "execute_result"
    }
   ],
   "source": [
    "state.pipeline_state.subtree_com[1]"
   ]
  },
  {
   "cell_type": "code",
   "execution_count": 19,
   "metadata": {},
   "outputs": [
    {
     "data": {
      "text/plain": [
       "65"
      ]
     },
     "execution_count": 19,
     "metadata": {},
     "output_type": "execute_result"
    }
   ],
   "source": [
    "env_ppo.rollout_lenght"
   ]
  },
  {
   "cell_type": "code",
   "execution_count": 20,
   "metadata": {},
   "outputs": [
    {
     "name": "stdout",
     "output_type": "stream",
     "text": [
      "Is rewards 0.5795624472757559\n",
      "Is rewards 0.27693716264841983\n",
      "Is rewards 0.1217690837799752\n",
      "Is rewards 0.06694138900997532\n",
      "Is rewards 0.049133108861193785\n",
      "Is rewards 0.0379649880506597\n",
      "Is rewards 0.02979395816237004\n",
      "Is rewards 0.022580854397952446\n",
      "Is rewards 0.016875418515695045\n",
      "Is rewards 0.01292788113433149\n",
      "Is rewards 0.00977349656024731\n",
      "Is rewards 0.007270909305261544\n",
      "Is rewards 0.005375145348535982\n",
      "Is rewards 0.003938136897546784\n",
      "Is rewards 0.002856391218605816\n",
      "Is rewards 0.002191426916286615\n",
      "Is rewards 0.001619649495899163\n",
      "Is rewards 0.001529105789418736\n",
      "Is rewards 0.001431930520742411\n",
      "Is rewards 0.0013349792589252318\n",
      "Is rewards 0.0012492148652927862\n",
      "Is rewards 0.0011861521557215847\n",
      "Is rewards 0.0011059897374720703\n",
      "Is rewards 0.0010039517898455955\n",
      "Is rewards 0.000892915344486049\n",
      "Is rewards 0.0007783895805671861\n",
      "Is rewards 0.0006512634980970096\n",
      "Is rewards 0.0005163808194914071\n",
      "Is rewards 0.000388557865842425\n",
      "Is rewards 0.00027565392034268514\n",
      "Is rewards 0.0001825721359005117\n",
      "Is rewards 0.0001124290277058689\n",
      "Is rewards 6.611334921248821e-05\n",
      "Is rewards 3.7609242967579357e-05\n",
      "Is rewards 2.109820282835538e-05\n",
      "Is rewards 1.1181954675348622e-05\n",
      "Is rewards 5.822471362772139e-06\n",
      "Is rewards 2.9176115551623096e-06\n",
      "Is rewards 1.408732458214566e-06\n",
      "Is rewards 6.616525870415434e-07\n",
      "Is rewards 3.125951988085454e-07\n",
      "Is rewards 1.5315799229192927e-07\n",
      "Is rewards 8.181738762015686e-08\n",
      "Is rewards 4.21898802170285e-08\n",
      "Is rewards 2.6838013690705535e-08\n",
      "0.9200000000000007\n"
     ]
    }
   ],
   "source": [
    "for i in range(env_ppo.rollout_lenght-1):\n",
    "    \n",
    "    #print(i)\n",
    "    ctrl = -0.1 * jp.ones(env_ppo.sys.nu)\n",
    "    #time\n",
    "    #time = state.pipeline_state.time\n",
    "    \n",
    "    #print('time: ',state.pipeline_state.time)    \n",
    "         \n",
    "    \n",
    "    state = jit_step(state,ctrl)\n",
    "    \n",
    "    #print(state.pipeline_state.geom_xpos)\n",
    "    #print(\"Is done\", state.done)\n",
    "    if state.done:\n",
    "        print(state.pipeline_state.time)\n",
    "        break\n",
    "    \n",
    "    print(\"Is rewards\", state.reward)\n",
    "    # print(\"Is quat\", state.metrics['reference_quaternions'])\n",
    "    # print(\"Is ang\",state.metrics['reference_angular'])\n",
    "    # print(\"Is ee\", state.metrics['reference_end_effector'])\n",
    "    # print(\"Is com\", state.metrics['reference_com'])\n",
    "\n",
    "    #print(\"reward tuple\", state.info['reward_tuple'])\n",
    "    #print(\"Is \", state.metrics['pose_error'])\n",
    "    #print(\"Is \", state.metrics['step_index'])\n",
    "    \n",
    "    rollout.append(state.pipeline_state)"
   ]
  },
  {
   "cell_type": "code",
   "execution_count": 21,
   "metadata": {},
   "outputs": [],
   "source": [
    "from some_math.rotation6D import quaternion_to_rotation_6d"
   ]
  },
  {
   "cell_type": "code",
   "execution_count": 61,
   "metadata": {},
   "outputs": [],
   "source": [
    "#coputing the formulas.\n",
    "def com_reward(com_current, ref_com):\n",
    "    \n",
    "    print(com_current.shape)\n",
    "    #compute over the rows\n",
    "    com_dist = jp.sum(jp.linalg.norm(com_current - ref_com, axis=-1))         \n",
    "    print(com_dist)\n",
    "    \n",
    "    com_reward = jp.exp(-100 * (com_dist))\n",
    "    \n",
    "    return com_reward\n",
    "\n",
    "def end_effector_diff(current_ee,current_ref_ee):\n",
    "    # jax.debug.print(\"end diff result local:{}\",current_ee)\n",
    "    # jax.debug.print(\"end diff result ref:{}\",current_ref_ee)        \n",
    "    ee_dist = jp.linalg.norm(current_ee - current_ref_ee,axis=1)   \n",
    "    \n",
    "    print(ee_dist.shape)\n",
    "    \n",
    "    ee_dist = jp.sum(ee_dist)     \n",
    "    print(ee_dist)\n",
    "    \n",
    "    #jax.debug.print(\"end dis:{}\",ee_dist)\n",
    "    ee_reward = jp.exp(- 5 * (ee_dist))\n",
    "    #jax.debug.print(\"ee_reward:{}\",ee_reward)\n",
    "    \n",
    "    return ee_reward\n",
    "    \n",
    "def angular_diff(local_ang,ref_local_ang):\n",
    "        \n",
    "        # jax.debug.print(\"ang diff result local:{}\",local_ang)\n",
    "        # jax.debug.print(\"ang diff result ref:{}\",ref_local_ang)\n",
    "        \n",
    "        ang_norm = jp.linalg.norm(ref_local_ang - local_ang,ord=2,axis=-1)\n",
    "        print(ang_norm)\n",
    "        ang_dist = jp.sum(ang_norm**2)\n",
    "        #ang_reward = jp.exp(-0.1* ang_dist)\n",
    "        \n",
    "        return ang_dist\n",
    "        \n",
    "\n",
    "\n",
    "\n"
   ]
  },
  {
   "cell_type": "code",
   "execution_count": 64,
   "metadata": {},
   "outputs": [
    {
     "name": "stdout",
     "output_type": "stream",
     "text": [
      "42.42640687119285\n"
     ]
    }
   ],
   "source": [
    "xd = jp.array([2,3,4,5])\n",
    "xd1 = jp.array([12,33,24,25])\n",
    "\n",
    "\n",
    "diff = angular_diff(xd,xd1)\n"
   ]
  },
  {
   "cell_type": "code",
   "execution_count": 23,
   "metadata": {},
   "outputs": [],
   "source": [
    "def quat_mul(u: jax.Array, v: jax.Array) -> jax.Array:\n",
    "  \"\"\"Multiplies two quaternions.\n",
    "\n",
    "  Args:\n",
    "    u: (4,) quaternion (w,x,y,z)\n",
    "    v: (4,) quaternion (w,x,y,z)\n",
    "\n",
    "  Returns:\n",
    "    A quaternion u * v.\n",
    "  \"\"\"\n",
    "  return jp.array([\n",
    "      u[0] * v[0] - u[1] * v[1] - u[2] * v[2] - u[3] * v[3],\n",
    "      u[0] * v[1] + u[1] * v[0] + u[2] * v[3] - u[3] * v[2],\n",
    "      u[0] * v[2] - u[1] * v[3] + u[2] * v[0] + u[3] * v[1],\n",
    "      u[0] * v[3] + u[1] * v[2] - u[2] * v[1] + u[3] * v[0],\n",
    "  ])\n",
    "\n",
    "\n",
    "\n",
    "\n"
   ]
  },
  {
   "cell_type": "code",
   "execution_count": 24,
   "metadata": {},
   "outputs": [
    {
     "name": "stdout",
     "output_type": "stream",
     "text": [
      "[ 0.59340802 -0.333563   -0.65243899  0.33305558]\n"
     ]
    }
   ],
   "source": [
    "ref_rotation = jp.array([\n",
    "    [ 0.66902921,  0.00306604,  0.02550548,  0.74279202],\n",
    "    [ 0.98153105,  0.01574312,  0.18995663, -0.0162921 ],\n",
    "    [ 0.80401407,  0.18448749, -0.0462765,  -0.56336865],\n",
    "    [ 0.56897937, -0.66876529, -0.33338603, -0.34332088],\n",
    "    [ 0.95711128,  0.        , -0.28972054,  0.        ],\n",
    "    [ 0.8763031 ,  0.25212639,  0.20668992, -0.3546892 ],\n",
    "    [ 0.5970678 ,  0.        , -0.80219078,  0.        ],\n",
    "    [ 0.83085447, -0.16544382, -0.42532115, -0.31845112],\n",
    "    [ 0.79358915, -0.        ,  0.60845399, -0.        ],\n",
    "    [ 0.99900294, -0.03151216,  0.0052796,  -0.03118084],\n",
    "    [ 0.9268976 ,  0.21245762, -0.00543069,  0.30934302],\n",
    "    [ 0.95786436, -0.        ,  0.28722093, -0.        ],\n",
    "    [ 0.99531659, -0.02673809, -0.0872572,  -0.03187685]\n",
    "])\n",
    "\n",
    "# Global rotation matrix\n",
    "global_rotation = jp.array([\n",
    "    [ 1.        ,  0.        ,  0.        ,  0.        ],\n",
    "    [ 0.66902921,  0.00306604,  0.02550548,  0.74279202],\n",
    "    [ 0.66388138, -0.12797178,  0.16386477,  0.71835442],\n",
    "    [ 0.96966061, -0.03948665,  0.16145958,  0.17924818],\n",
    "    [ 0.59340802, -0.333563  , -0.65243899,  0.33305558],\n",
    "    [ 0.37893253, -0.22276386, -0.79637921,  0.4154113 ],\n",
    "    [ 0.83494974, -0.15135773,  0.4165387 ,  0.32625954],\n",
    "    [ 0.8326651 ,  0.17135156, -0.42108714,  0.31621684],\n",
    "    [ 0.80376414,  0.19966359, -0.38527489,  0.40701463],\n",
    "    [ 0.87228055, -0.08919882,  0.18330353,  0.44448851],\n",
    "    [ 0.88149174, -0.1246596 ,  0.17093797,  0.42215223],\n",
    "    [ 0.38983116,  0.15690608,  0.17687105,  0.89001617],\n",
    "    [ 0.32260431, -0.10533653,  0.28138614,  0.89758148],\n",
    "    [ 0.37144196, -0.04411828,  0.22456133,  0.89980923]\n",
    "])\n",
    "\n",
    "\n",
    "#it works well my local joints in joint space\n",
    "chest = ref_rotation[1]\n",
    "root = global_rotation[1]\n",
    "right_shoulder = ref_rotation[3]\n",
    "\n",
    "global_chest = quat_mul(root,chest)\n",
    "global_right = quat_mul(global_chest,right_shoulder)\n",
    "\n",
    "print(global_right)\n",
    "\n"
   ]
  },
  {
   "cell_type": "code",
   "execution_count": 25,
   "metadata": {},
   "outputs": [
    {
     "name": "stdout",
     "output_type": "stream",
     "text": [
      "[ 0.37893253 -0.22276387 -0.79637921  0.41541131]\n"
     ]
    }
   ],
   "source": [
    "#test the one dofs joints\n",
    "joint_right_elbow = ref_rotation[4]\n",
    "global_right_elbow = quat_mul(global_right,joint_right_elbow)\n",
    "print(global_right_elbow)"
   ]
  },
  {
   "cell_type": "markdown",
   "metadata": {},
   "source": [
    "Testing rewards"
   ]
  },
  {
   "cell_type": "code",
   "execution_count": null,
   "metadata": {},
   "outputs": [],
   "source": [
    "\n",
    "\n"
   ]
  },
  {
   "cell_type": "code",
   "execution_count": 26,
   "metadata": {},
   "outputs": [
    {
     "data": {
      "text/html": [
       "<!DOCTYPE html>\n",
       "<html>\n",
       "\n",
       "  <head>\n",
       "    <title>Brax visualizer</title>\n",
       "    <link rel=\"shortcut icon\" type=\"image/x-icon\" href=\"/favicon.ico\">\n",
       "  </head>\n",
       "\n",
       "  <style>\n",
       "    body {\n",
       "      margin: 0;\n",
       "      padding: 0;\n",
       "    }\n",
       "\n",
       "    #brax-viewer {\n",
       "      height: 480px;\n",
       "      margin: 0;\n",
       "      padding: 0;\n",
       "    }\n",
       "  </style>\n",
       "  <script async src=\"https://unpkg.com/es-module-shims@1.6.3/dist/es-module-shims.js\"></script>\n",
       "\n",
       "  <script type=\"importmap\">\n",
       "    {\n",
       "      \"imports\": {\n",
       "        \"three\": \"https://unpkg.com/three@0.150.1/build/three.module.js\",\n",
       "        \"three/addons/\": \"https://unpkg.com/three@0.150.1/examples/jsm/\",\n",
       "        \"lilgui\": \"https://cdn.jsdelivr.net/npm/lil-gui@0.18.0/+esm\",\n",
       "        \"viewer\": \"https://cdn.jsdelivr.net/gh/google/brax@v0.10.5/brax/visualizer/js/viewer.js\"\n",
       "      }\n",
       "    }\n",
       "  </script>\n",
       "\n",
       "  <script src=\"https://unpkg.com/pako@2.1.0/dist/pako.min.js\"></script>\n",
       "\n",
       "  <script type=\"application/javascript\">\n",
       "  var system = \"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\";\n",
       "  // decode base64 (convert ascii to binary)\n",
       "  system = atob(system);\n",
       "  // convert binary string to character-number array\n",
       "  system = system.split('').map(function(x){return x.charCodeAt(0);});\n",
       "  // decompress\n",
       "  system = pako.inflate(system);\n",
       "  // convert gunzipped byteArray back to ascii string\n",
       "  system = new TextDecoder(\"utf-8\").decode(system);\n",
       "  // and load json\n",
       "  system = JSON.parse(system);\n",
       "  </script>\n",
       "\n",
       "  <body>\n",
       "\n",
       "    <div id=\"brax-viewer\"></div>\n",
       "\n",
       "    <script type=\"module\">\n",
       "      import {Viewer} from 'viewer';\n",
       "      const domElement = document.getElementById(\"brax-viewer\");\n",
       "      var viewer = new Viewer(domElement, system);\n",
       "    </script>\n",
       "\n",
       "  </body>\n",
       "\n",
       "</html>"
      ],
      "text/plain": [
       "<IPython.core.display.HTML object>"
      ]
     },
     "execution_count": 26,
     "metadata": {},
     "output_type": "execute_result"
    }
   ],
   "source": [
    "HTML(html.render(env_ppo.sys.tree_replace({'opt.timestep': env_ppo.dt}), rollout))"
   ]
  },
  {
   "cell_type": "code",
   "execution_count": null,
   "metadata": {},
   "outputs": [],
   "source": []
  }
 ],
 "metadata": {
  "kernelspec": {
   "display_name": "Python 3 (ipykernel)",
   "language": "python",
   "name": "python3"
  },
  "language_info": {
   "codemirror_mode": {
    "name": "ipython",
    "version": 3
   },
   "file_extension": ".py",
   "mimetype": "text/x-python",
   "name": "python",
   "nbconvert_exporter": "python",
   "pygments_lexer": "ipython3",
   "version": "3.11.9"
  }
 },
 "nbformat": 4,
 "nbformat_minor": 4
}
