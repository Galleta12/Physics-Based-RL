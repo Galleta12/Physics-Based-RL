{
 "cells": [
  {
   "cell_type": "code",
   "execution_count": 1,
   "metadata": {},
   "outputs": [],
   "source": [
    "from datetime import datetime\n",
    "import functools\n",
    "from IPython.display import HTML\n",
    "import jax\n",
    "from jax import numpy as jp\n",
    "import numpy as np\n",
    "from typing import Any, Dict, Sequence, Tuple, Union\n",
    "from brax import base\n",
    "from brax import envs\n",
    "from brax import math\n",
    "from brax.base import Base, Motion, Transform\n",
    "from brax.envs.base import Env, PipelineEnv, State\n",
    "from brax.mjx.base import State as MjxState\n",
    "# from brax.training.agents.apg import train as apg\n",
    "# from brax.training.agents.apg import networks as apg_networks\n",
    "from brax.io import html, mjcf, model\n",
    "from etils import epath\n",
    "from flax import struct\n",
    "from matplotlib import pyplot as plt\n",
    "import mediapy as media\n",
    "from ml_collections import config_dict\n",
    "import mujoco\n",
    "from mujoco import mjx\n",
    "from jax import vmap\n",
    "import jax.random\n",
    "from jax import lax"
   ]
  },
  {
   "cell_type": "code",
   "execution_count": 2,
   "metadata": {},
   "outputs": [
    {
     "name": "stdout",
     "output_type": "stream",
     "text": [
      "Setting environment variable to use GPU rendering:\n",
      "env: MUJOCO_GL=egl\n"
     ]
    }
   ],
   "source": [
    "import distutils.util\n",
    "import os\n",
    "xla_flags = os.environ.get('XLA_FLAGS', '')\n",
    "xla_flags += ' --xla_gpu_triton_gemm_any=True'\n",
    "os.environ['XLA_FLAGS'] = xla_flags\n",
    "print('Setting environment variable to use GPU rendering:')\n",
    "%env MUJOCO_GL=egl"
   ]
  },
  {
   "cell_type": "code",
   "execution_count": 3,
   "metadata": {},
   "outputs": [],
   "source": [
    "import os\n",
    "os.environ[\"XLA_PYTHON_CLIENT_MEM_FRACTION\"] = \"0.8\" # 0.9 causes too much lag. \n",
    "from datetime import datetime\n",
    "import functools\n",
    "\n",
    "# Math\n",
    "import jax.numpy as jp\n",
    "import numpy as np\n",
    "import jax\n",
    "from jax import config # Analytical gradients work much better with double precision.\n",
    "config.update(\"jax_debug_nans\", True)\n",
    "config.update(\"jax_enable_x64\", True)\n",
    "config.update('jax_default_matmul_precision', jax.lax.Precision.HIGH)\n",
    "from brax import math\n",
    "\n",
    "# Sim\n",
    "import mujoco\n",
    "import mujoco.mjx as mjx\n",
    "\n",
    "# Brax\n",
    "from brax import envs\n",
    "from brax.base import Motion, Transform\n",
    "from brax.io import mjcf\n",
    "from brax.envs.base import PipelineEnv, State\n",
    "from brax.mjx.pipeline import _reformat_contact\n",
    "from brax.training.acme import running_statistics\n",
    "from brax.io import model\n",
    "\n",
    "# Algorithms\n",
    "# from brax.training.agents.apg import train as apg\n",
    "# from brax.training.agents.apg import networks as apg_networks\n",
    "from brax.training.agents.ppo import train as ppo\n",
    "\n",
    "# Supporting\n",
    "from etils import epath\n",
    "import mediapy as media\n",
    "import matplotlib.pyplot as plt\n",
    "from ml_collections import config_dict\n",
    "from typing import Any, Dict\n"
   ]
  },
  {
   "cell_type": "code",
   "execution_count": 4,
   "metadata": {},
   "outputs": [
    {
     "name": "stdout",
     "output_type": "stream",
     "text": [
      "gpu\n"
     ]
    }
   ],
   "source": [
    "from jax.lib import xla_bridge\n",
    "print(xla_bridge.get_backend().platform)"
   ]
  },
  {
   "cell_type": "code",
   "execution_count": 7,
   "metadata": {},
   "outputs": [],
   "source": [
    "import agent_mimic_env\n",
    "from agent_mimic_env import register_mimic_env, register_ppo_env"
   ]
  },
  {
   "cell_type": "code",
   "execution_count": 8,
   "metadata": {},
   "outputs": [],
   "source": [
    "from agent_mimic_env.pds_controllers_agents import feedback_pd_controller, stable_pd_controller_action\n"
   ]
  },
  {
   "cell_type": "code",
   "execution_count": 9,
   "metadata": {},
   "outputs": [
    {
     "name": "stdout",
     "output_type": "stream",
     "text": [
      "{'num_envs': 256, 'num_eval_envs': 32, 'lr': 0.0003, 'max_it': 1000, 'max_grad_norm': 0.4, 'seed': 0, 'system_config': 'humanoid', 'demo_replay_mode': 'threshold', 'threshold': 0.4, 'normalize_observations': True, 'cycle_len': 0, 'ep_len': 30, 'ep_len_eval': 54, 'use_lr_scheduler': True, 'reward_scaling': 0.02, 'rot_weight': 0.5, 'vel_weight': 0.01, 'ang_weight': 0.01, 'deep_mimic_reward_weights': {'w_p': 0.3, 'w_v': 0.1, 'w_e': 0.5, 'w_c': 0.1}, 'deep_mimic_weights_factors': {'w_pose': 2, 'w_angular': 0.005, 'w_efector': 5, 'w_com': 100}, 'ref': 'motions/humanoid3d_punch.txt'}\n"
     ]
    }
   ],
   "source": [
    "import yaml\n",
    "from box import Box\n",
    "# Path to your YAML file\n",
    "yaml_file_path = 'config_params/punch.yaml'\n",
    "# Load the YAML file\n",
    "with open(yaml_file_path, 'r') as file:\n",
    "    args = Box(yaml.safe_load(file))\n",
    "\n",
    "print(args)"
   ]
  },
  {
   "cell_type": "code",
   "execution_count": 10,
   "metadata": {},
   "outputs": [],
   "source": [
    "env_ppo = register_ppo_env(args)\n",
    "env_ppo.set_pd_callback(stable_pd_controller_action)\n",
    "jit_reset = jax.jit(env_ppo.reset)\n",
    "jit_step= jax.jit(env_ppo.step)\n",
    "\n"
   ]
  },
  {
   "cell_type": "code",
   "execution_count": 11,
   "metadata": {},
   "outputs": [
    {
     "name": "stdout",
     "output_type": "stream",
     "text": [
      "Option(timestep=0.002, impratio=Array(100., dtype=float64, weak_type=True), tolerance=Array(1.e-08, dtype=float64, weak_type=True), ls_tolerance=Array(0.01, dtype=float64, weak_type=True), gravity=Array([ 0.  ,  0.  , -9.81], dtype=float64), wind=Array([0., 0., 0.], dtype=float64), density=Array(0., dtype=float64, weak_type=True), viscosity=Array(0., dtype=float64, weak_type=True), has_fluid_params=False, integrator=<IntegratorType.EULER: 0>, cone=<ConeType.PYRAMIDAL: 0>, jacobian=<JacobianType.AUTO: 2>, solver=<SolverType.NEWTON: 2>, iterations=1, ls_iterations=6, disableflags=<DisableBit.EULERDAMP: 16384>)\n",
      "0.016\n"
     ]
    }
   ],
   "source": [
    "print(env_ppo.sys.opt)\n",
    "print(env_ppo.dt)"
   ]
  },
  {
   "cell_type": "code",
   "execution_count": 12,
   "metadata": {},
   "outputs": [],
   "source": [
    "state = jit_reset(jax.random.PRNGKey(0))\n",
    "rollout = [state.pipeline_state]\n",
    "\n",
    "n_steps = 500"
   ]
  },
  {
   "cell_type": "code",
   "execution_count": 13,
   "metadata": {},
   "outputs": [
    {
     "name": "stdout",
     "output_type": "stream",
     "text": [
      "{'fall': Array(0., dtype=float64), 'pose_error': Array(0., dtype=float64), 'reference_angular': Array(0., dtype=float64, weak_type=True), 'reference_com': Array(0., dtype=float64, weak_type=True), 'reference_end_effector': Array(0., dtype=float64, weak_type=True), 'reference_quaternions': Array(0., dtype=float64, weak_type=True), 'step_index': Array(0, dtype=int64, weak_type=True)}\n",
      "{'reward_tuple': {'reference_angular': Array(0., dtype=float64, weak_type=True), 'reference_com': Array(0., dtype=float64, weak_type=True), 'reference_end_effector': Array(0., dtype=float64, weak_type=True), 'reference_quaternions': Array(0., dtype=float64, weak_type=True)}, 'rng': Array([0, 0], dtype=uint32), 'steps': Array(0., dtype=float64, weak_type=True)}\n"
     ]
    }
   ],
   "source": [
    "print(state.metrics)\n",
    "print(state.info)"
   ]
  },
  {
   "cell_type": "code",
   "execution_count": 14,
   "metadata": {},
   "outputs": [
    {
     "data": {
      "text/plain": [
       "Array([0.08595606, 0.01209264, 0.80377791], dtype=float64)"
      ]
     },
     "execution_count": 14,
     "metadata": {},
     "output_type": "execute_result"
    }
   ],
   "source": [
    "state.pipeline_state.subtree_com[1]"
   ]
  },
  {
   "cell_type": "code",
   "execution_count": 15,
   "metadata": {},
   "outputs": [
    {
     "data": {
      "text/plain": [
       "65"
      ]
     },
     "execution_count": 15,
     "metadata": {},
     "output_type": "execute_result"
    }
   ],
   "source": [
    "env_ppo.rollout_lenght"
   ]
  },
  {
   "cell_type": "code",
   "execution_count": 21,
   "metadata": {},
   "outputs": [
    {
     "data": {
      "text/plain": [
       "(28,)"
      ]
     },
     "execution_count": 21,
     "metadata": {},
     "output_type": "execute_result"
    }
   ],
   "source": [
    "state.pipeline_state.qpos[:28]\n",
    "\n"
   ]
  },
  {
   "cell_type": "code",
   "execution_count": 20,
   "metadata": {},
   "outputs": [
    {
     "name": "stdout",
     "output_type": "stream",
     "text": [
      "time:  0.0\n",
      "Is done 0.0\n",
      "time:  0.016\n",
      "Is done 0.0\n",
      "time:  0.032000000000000015\n",
      "Is done 0.0\n",
      "time:  0.04800000000000003\n",
      "Is done 0.0\n",
      "time:  0.06400000000000004\n",
      "Is done 0.0\n",
      "time:  0.08000000000000006\n",
      "Is done 0.0\n",
      "time:  0.09600000000000007\n",
      "Is done 0.0\n",
      "time:  0.11200000000000009\n",
      "Is done 0.0\n",
      "time:  0.12800000000000009\n",
      "Is done 0.0\n",
      "time:  0.1440000000000001\n",
      "Is done 0.0\n",
      "time:  0.16000000000000011\n",
      "Is done 0.0\n",
      "time:  0.17600000000000013\n",
      "Is done 0.0\n",
      "time:  0.19200000000000014\n",
      "Is done 0.0\n",
      "time:  0.20800000000000016\n",
      "Is done 0.0\n",
      "time:  0.22400000000000017\n",
      "Is done 0.0\n",
      "time:  0.24000000000000019\n",
      "Is done 0.0\n",
      "time:  0.25600000000000017\n",
      "Is done 0.0\n",
      "time:  0.2720000000000002\n",
      "Is done 0.0\n",
      "time:  0.2880000000000002\n",
      "Is done 0.0\n",
      "time:  0.3040000000000002\n",
      "Is done 0.0\n",
      "time:  0.32000000000000023\n",
      "Is done 0.0\n",
      "time:  0.33600000000000024\n",
      "Is done 0.0\n",
      "time:  0.35200000000000026\n",
      "Is done 0.0\n",
      "time:  0.36800000000000027\n",
      "Is done 0.0\n",
      "time:  0.3840000000000003\n",
      "Is done 0.0\n",
      "time:  0.4000000000000003\n",
      "Is done 0.0\n",
      "time:  0.4160000000000003\n",
      "Is done 0.0\n",
      "time:  0.43200000000000033\n",
      "Is done 0.0\n",
      "time:  0.44800000000000034\n",
      "Is done 0.0\n",
      "time:  0.46400000000000036\n",
      "Is done 0.0\n",
      "time:  0.48000000000000037\n",
      "Is done 0.0\n",
      "time:  0.4960000000000004\n",
      "Is done 0.0\n",
      "time:  0.5120000000000003\n",
      "Is done 0.0\n",
      "time:  0.5280000000000004\n",
      "Is done 0.0\n",
      "time:  0.5440000000000004\n",
      "Is done 0.0\n",
      "time:  0.5600000000000004\n",
      "Is done 0.0\n",
      "time:  0.5760000000000004\n",
      "Is done 0.0\n",
      "time:  0.5920000000000004\n",
      "Is done 0.0\n",
      "time:  0.6080000000000004\n",
      "Is done 0.0\n",
      "time:  0.6240000000000004\n",
      "Is done 0.0\n",
      "time:  0.6400000000000005\n",
      "Is done 0.0\n",
      "time:  0.6560000000000005\n",
      "Is done 0.0\n",
      "time:  0.6720000000000005\n",
      "Is done 0.0\n",
      "time:  0.6880000000000005\n",
      "Is done 0.0\n",
      "time:  0.7040000000000005\n",
      "Is done 0.0\n",
      "time:  0.7200000000000005\n",
      "Is done 0.0\n",
      "time:  0.7360000000000005\n",
      "Is done 0.0\n",
      "time:  0.7520000000000006\n",
      "Is done 0.0\n",
      "time:  0.7680000000000006\n",
      "Is done 0.0\n",
      "time:  0.7840000000000006\n",
      "Is done 0.0\n",
      "time:  0.8000000000000006\n",
      "Is done 0.0\n",
      "time:  0.8160000000000006\n",
      "Is done 0.0\n",
      "time:  0.8320000000000006\n",
      "Is done 0.0\n",
      "time:  0.8480000000000006\n",
      "Is done 0.0\n",
      "time:  0.8640000000000007\n",
      "Is done 0.0\n",
      "time:  0.8800000000000007\n",
      "Is done 0.0\n",
      "time:  0.8960000000000007\n",
      "Is done 0.0\n",
      "time:  0.9120000000000007\n",
      "Is done 0.0\n",
      "time:  0.9280000000000007\n",
      "Is done 0.0\n",
      "time:  0.9440000000000007\n",
      "Is done 0.0\n",
      "time:  0.9600000000000007\n",
      "Is done 0.0\n",
      "time:  0.9760000000000008\n",
      "Is done 0.0\n",
      "time:  0.9920000000000008\n",
      "Is done 0.0\n",
      "time:  1.0080000000000007\n",
      "Is done 0.0\n",
      "time:  1.0240000000000007\n",
      "Is done 0.0\n",
      "time:  1.0400000000000007\n",
      "Is done 0.0\n",
      "time:  1.0560000000000007\n",
      "Is done 0.0\n",
      "time:  1.0720000000000007\n",
      "Is done 0.0\n",
      "time:  1.0880000000000007\n",
      "Is done 0.0\n",
      "time:  1.1040000000000008\n",
      "Is done 0.0\n",
      "time:  1.1200000000000008\n",
      "Is done 0.0\n",
      "time:  1.1360000000000008\n",
      "Is done 0.0\n",
      "time:  1.1520000000000008\n",
      "Is done 0.0\n",
      "time:  1.1680000000000008\n",
      "Is done 0.0\n",
      "time:  1.1840000000000008\n",
      "Is done 0.0\n",
      "time:  1.2000000000000008\n",
      "Is done 0.0\n",
      "time:  1.2160000000000009\n",
      "Is done 0.0\n",
      "time:  1.2320000000000009\n",
      "Is done 0.0\n",
      "time:  1.2480000000000009\n",
      "Is done 0.0\n",
      "time:  1.264000000000001\n",
      "Is done 0.0\n",
      "time:  1.280000000000001\n",
      "Is done 0.0\n",
      "time:  1.296000000000001\n",
      "Is done 0.0\n",
      "time:  1.312000000000001\n",
      "Is done 0.0\n",
      "time:  1.328000000000001\n",
      "Is done 0.0\n",
      "time:  1.344000000000001\n",
      "Is done 0.0\n",
      "time:  1.360000000000001\n",
      "Is done 0.0\n",
      "time:  1.376000000000001\n",
      "Is done 1.0\n",
      "1.392000000000001\n"
     ]
    }
   ],
   "source": [
    "for i in range(200):\n",
    "    \n",
    "    #print(i)\n",
    "    ctrl = -0.1 * jp.ones(env_ppo.sys.nu)\n",
    "    #time\n",
    "    #time = state.pipeline_state.time\n",
    "    \n",
    "    print('time: ',state.pipeline_state.time)    \n",
    "         \n",
    "    \n",
    "    state = jit_step(state,ctrl)\n",
    "    \n",
    "    #print(state.pipeline_state.geom_xpos)\n",
    "    print(\"Is done\", state.done)\n",
    "    if state.done:\n",
    "        print(state.pipeline_state.time)\n",
    "        break\n",
    "    \n",
    "    #print(\"Is rewards\", state.reward)\n",
    "    # print(\"Is quat\", state.metrics['reference_quaternions'])\n",
    "    # print(\"Is ang\",state.metrics['reference_angular'])\n",
    "    # print(\"Is ee\", state.metrics['reference_end_effector'])\n",
    "    # print(\"Is com\", state.metrics['reference_com'])\n",
    "\n",
    "    #print(\"reward tuple\", state.info['reward_tuple'])\n",
    "    #print(\"Is \", state.metrics['pose_error'])\n",
    "    #print(\"Is \", state.metrics['step_index'])\n",
    "    \n",
    "    rollout.append(state.pipeline_state)"
   ]
  },
  {
   "cell_type": "code",
   "execution_count": 18,
   "metadata": {},
   "outputs": [
    {
     "data": {
      "text/html": [
       "<!DOCTYPE html>\n",
       "<html>\n",
       "\n",
       "  <head>\n",
       "    <title>Brax visualizer</title>\n",
       "    <link rel=\"shortcut icon\" type=\"image/x-icon\" href=\"/favicon.ico\">\n",
       "  </head>\n",
       "\n",
       "  <style>\n",
       "    body {\n",
       "      margin: 0;\n",
       "      padding: 0;\n",
       "    }\n",
       "\n",
       "    #brax-viewer {\n",
       "      height: 480px;\n",
       "      margin: 0;\n",
       "      padding: 0;\n",
       "    }\n",
       "  </style>\n",
       "  <script async src=\"https://unpkg.com/es-module-shims@1.6.3/dist/es-module-shims.js\"></script>\n",
       "\n",
       "  <script type=\"importmap\">\n",
       "    {\n",
       "      \"imports\": {\n",
       "        \"three\": \"https://unpkg.com/three@0.150.1/build/three.module.js\",\n",
       "        \"three/addons/\": \"https://unpkg.com/three@0.150.1/examples/jsm/\",\n",
       "        \"lilgui\": \"https://cdn.jsdelivr.net/npm/lil-gui@0.18.0/+esm\",\n",
       "        \"viewer\": \"https://cdn.jsdelivr.net/gh/google/brax@v0.10.4/brax/visualizer/js/viewer.js\"\n",
       "      }\n",
       "    }\n",
       "  </script>\n",
       "\n",
       "  <script src=\"https://unpkg.com/pako@2.1.0/dist/pako.min.js\"></script>\n",
       "\n",
       "  <script type=\"application/javascript\">\n",
       "  var system = \"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\";\n",
       "  // decode base64 (convert ascii to binary)\n",
       "  system = atob(system);\n",
       "  // convert binary string to character-number array\n",
       "  system = system.split('').map(function(x){return x.charCodeAt(0);});\n",
       "  // decompress\n",
       "  system = pako.inflate(system);\n",
       "  // convert gunzipped byteArray back to ascii string\n",
       "  system = new TextDecoder(\"utf-8\").decode(system);\n",
       "  // and load json\n",
       "  system = JSON.parse(system);\n",
       "  </script>\n",
       "\n",
       "  <body>\n",
       "\n",
       "    <div id=\"brax-viewer\"></div>\n",
       "\n",
       "    <script type=\"module\">\n",
       "      import {Viewer} from 'viewer';\n",
       "      const domElement = document.getElementById(\"brax-viewer\");\n",
       "      var viewer = new Viewer(domElement, system);\n",
       "    </script>\n",
       "\n",
       "  </body>\n",
       "\n",
       "</html>"
      ],
      "text/plain": [
       "<IPython.core.display.HTML object>"
      ]
     },
     "execution_count": 18,
     "metadata": {},
     "output_type": "execute_result"
    }
   ],
   "source": [
    "HTML(html.render(env_ppo.sys.tree_replace({'opt.timestep': env_ppo.dt}), rollout))"
   ]
  },
  {
   "cell_type": "code",
   "execution_count": null,
   "metadata": {},
   "outputs": [],
   "source": []
  }
 ],
 "metadata": {
  "kernelspec": {
   "display_name": "Python 3 (ipykernel)",
   "language": "python",
   "name": "python3"
  },
  "language_info": {
   "codemirror_mode": {
    "name": "ipython",
    "version": 3
   },
   "file_extension": ".py",
   "mimetype": "text/x-python",
   "name": "python",
   "nbconvert_exporter": "python",
   "pygments_lexer": "ipython3",
   "version": "3.11.9"
  }
 },
 "nbformat": 4,
 "nbformat_minor": 4
}
