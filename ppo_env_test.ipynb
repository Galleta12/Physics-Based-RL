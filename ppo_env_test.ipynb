{
 "cells": [
  {
   "cell_type": "code",
   "execution_count": 24,
   "metadata": {},
   "outputs": [],
   "source": [
    "from datetime import datetime\n",
    "import functools\n",
    "from IPython.display import HTML\n",
    "import jax\n",
    "from jax import numpy as jp\n",
    "import numpy as np\n",
    "from typing import Any, Dict, Sequence, Tuple, Union\n",
    "from brax import base\n",
    "from brax import envs\n",
    "from brax import math\n",
    "from brax.base import Base, Motion, Transform\n",
    "from brax.envs.base import Env, PipelineEnv, State\n",
    "from brax.mjx.base import State as MjxState\n",
    "# from brax.training.agents.apg import train as apg\n",
    "# from brax.training.agents.apg import networks as apg_networks\n",
    "from brax.io import html, mjcf, model\n",
    "from etils import epath\n",
    "from flax import struct\n",
    "from matplotlib import pyplot as plt\n",
    "import mediapy as media\n",
    "from ml_collections import config_dict\n",
    "import mujoco\n",
    "from mujoco import mjx\n",
    "from jax import vmap\n",
    "import jax.random\n",
    "from jax import lax"
   ]
  },
  {
   "cell_type": "code",
   "execution_count": 2,
   "metadata": {},
   "outputs": [
    {
     "name": "stdout",
     "output_type": "stream",
     "text": [
      "Setting environment variable to use GPU rendering:\n",
      "env: MUJOCO_GL=egl\n"
     ]
    }
   ],
   "source": [
    "import distutils.util\n",
    "import os\n",
    "xla_flags = os.environ.get('XLA_FLAGS', '')\n",
    "xla_flags += ' --xla_gpu_triton_gemm_any=True'\n",
    "os.environ['XLA_FLAGS'] = xla_flags\n",
    "print('Setting environment variable to use GPU rendering:')\n",
    "%env MUJOCO_GL=egl"
   ]
  },
  {
   "cell_type": "code",
   "execution_count": 3,
   "metadata": {},
   "outputs": [],
   "source": [
    "import os\n",
    "os.environ[\"XLA_PYTHON_CLIENT_MEM_FRACTION\"] = \"0.8\" # 0.9 causes too much lag. \n",
    "from datetime import datetime\n",
    "import functools\n",
    "\n",
    "# Math\n",
    "import jax.numpy as jp\n",
    "import numpy as np\n",
    "import jax\n",
    "from jax import config # Analytical gradients work much better with double precision.\n",
    "config.update(\"jax_debug_nans\", True)\n",
    "config.update(\"jax_enable_x64\", True)\n",
    "config.update('jax_default_matmul_precision', jax.lax.Precision.HIGH)\n",
    "from brax import math\n",
    "\n",
    "# Sim\n",
    "import mujoco\n",
    "import mujoco.mjx as mjx\n",
    "\n",
    "# Brax\n",
    "from brax import envs\n",
    "from brax.base import Motion, Transform\n",
    "from brax.io import mjcf\n",
    "from brax.envs.base import PipelineEnv, State\n",
    "from brax.mjx.pipeline import _reformat_contact\n",
    "from brax.training.acme import running_statistics\n",
    "from brax.io import model\n",
    "\n",
    "# Algorithms\n",
    "# from brax.training.agents.apg import train as apg\n",
    "# from brax.training.agents.apg import networks as apg_networks\n",
    "from brax.training.agents.ppo import train as ppo\n",
    "\n",
    "# Supporting\n",
    "from etils import epath\n",
    "import mediapy as media\n",
    "import matplotlib.pyplot as plt\n",
    "from ml_collections import config_dict\n",
    "from typing import Any, Dict\n"
   ]
  },
  {
   "cell_type": "code",
   "execution_count": 4,
   "metadata": {},
   "outputs": [
    {
     "name": "stdout",
     "output_type": "stream",
     "text": [
      "gpu\n"
     ]
    }
   ],
   "source": [
    "from jax.lib import xla_bridge\n",
    "print(xla_bridge.get_backend().platform)"
   ]
  },
  {
   "cell_type": "code",
   "execution_count": 5,
   "metadata": {},
   "outputs": [],
   "source": [
    "import agent_mimic_env\n",
    "from agent_mimic_env import register_mimic_env, register_ppo_env"
   ]
  },
  {
   "cell_type": "code",
   "execution_count": 6,
   "metadata": {},
   "outputs": [],
   "source": [
    "from agent_mimic_env.pds_controllers_agents import feedback_pd_controller, stable_pd_controller_action\n"
   ]
  },
  {
   "cell_type": "code",
   "execution_count": 7,
   "metadata": {},
   "outputs": [],
   "source": [
    "import yaml\n",
    "from box import Box\n",
    "# Path to your YAML file\n",
    "yaml_file_path = 'config_params/punch.yaml'\n",
    "# Load the YAML file\n",
    "with open(yaml_file_path, 'r') as file:\n",
    "    args = Box(yaml.safe_load(file))\n",
    "\n"
   ]
  },
  {
   "cell_type": "code",
   "execution_count": 8,
   "metadata": {},
   "outputs": [
    {
     "name": "stdout",
     "output_type": "stream",
     "text": [
      "{'num_envs': 256, 'num_eval_envs': 32, 'lr': 0.0003, 'max_it': 1000, 'max_grad_norm': 0.4, 'seed': 0, 'system_config': 'humanoid', 'demo_replay_mode': 'threshold', 'threshold': 0.4, 'normalize_observations': True, 'cycle_len': 130, 'ep_len': 65, 'ep_len_eval': 54, 'use_lr_scheduler': True, 'reward_scaling': 0.02, 'rot_weight': 0.5, 'vel_weight': 0.3, 'ang_weight': 0.01, 'deep_mimic_reward_weights': {'w_p': 0.65, 'w_v': 0.1, 'w_e': 0.15, 'w_c': 0.1}, 'deep_mimic_weights_factors': {'w_pose': 2, 'w_angular': 0.1, 'w_efector': 40, 'w_com': 10}, 'model': 'models/final_humanoid.xml', 'ref': 'motions/humanoid3d_punch_duplicated.txt'}\n"
     ]
    }
   ],
   "source": [
    "print(args)"
   ]
  },
  {
   "cell_type": "code",
   "execution_count": 9,
   "metadata": {},
   "outputs": [
    {
     "name": "stdout",
     "output_type": "stream",
     "text": [
      "this is the model:  models/final_humanoid.xml\n"
     ]
    }
   ],
   "source": [
    "env_ppo = register_ppo_env(args)\n",
    "env_ppo.set_pd_callback(stable_pd_controller_action)\n",
    "jit_reset = jax.jit(env_ppo.reset)\n",
    "#jit_step= jax.jit(env_ppo.step)\n",
    "jit_step= jax.jit(env_ppo.step_custom)\n",
    "\n"
   ]
  },
  {
   "cell_type": "code",
   "execution_count": 10,
   "metadata": {},
   "outputs": [
    {
     "data": {
      "text/plain": [
       "Array(59874.1417152, dtype=float64, weak_type=True)"
      ]
     },
     "execution_count": 10,
     "metadata": {},
     "output_type": "execute_result"
    }
   ],
   "source": [
    "#checking if doible point precision is activate\n",
    "xd = jp.exp(11)\n",
    "xd\n"
   ]
  },
  {
   "cell_type": "code",
   "execution_count": 11,
   "metadata": {},
   "outputs": [
    {
     "name": "stdout",
     "output_type": "stream",
     "text": [
      "[ 6  9 12 15]\n"
     ]
    },
    {
     "data": {
      "text/plain": [
       "Array([[ 0.      ,  0.      , -0.258947],\n",
       "       [ 0.      ,  0.      , -0.258947],\n",
       "       [ 0.045   ,  0.      , -0.0225  ],\n",
       "       [ 0.045   ,  0.      , -0.0225  ]], dtype=float64)"
      ]
     },
     "execution_count": 11,
     "metadata": {},
     "output_type": "execute_result"
    }
   ],
   "source": [
    "\n",
    "s = env_ppo.dict_ee\n",
    "print(s)\n",
    "\n",
    "xd= env_ppo.sys.geom_pos[env_ppo.dict_ee]\n",
    "\n",
    "xd\n",
    "\n",
    "\n",
    "#right wrist idex 6 initial pos on mjx pos=\"0 0 -0.258947\"\n",
    "#left wrist inital 9 pos on mjx pos=\"0 0 -0.258947\"\n",
    "#right ankle index 12 pos [0.045   ,  0.      , -0.0225  ],\n",
    "#left ankle  index 15\"0.045   ,  0.      , -0.0225\""
   ]
  },
  {
   "cell_type": "code",
   "execution_count": 12,
   "metadata": {},
   "outputs": [
    {
     "name": "stdout",
     "output_type": "stream",
     "text": [
      "Option(timestep=0.002, impratio=Array(100., dtype=float64, weak_type=True), tolerance=Array(1.e-08, dtype=float64, weak_type=True), ls_tolerance=Array(0.01, dtype=float64, weak_type=True), gravity=Array([ 0.  ,  0.  , -9.81], dtype=float64), wind=Array([0., 0., 0.], dtype=float64), density=Array(0., dtype=float64, weak_type=True), viscosity=Array(0., dtype=float64, weak_type=True), has_fluid_params=False, integrator=<IntegratorType.EULER: 0>, cone=<ConeType.PYRAMIDAL: 0>, jacobian=<JacobianType.AUTO: 2>, solver=<SolverType.NEWTON: 2>, iterations=1, ls_iterations=4, disableflags=<DisableBit.EULERDAMP: 16384>)\n",
      "0.02\n"
     ]
    }
   ],
   "source": [
    "print(env_ppo.sys.opt)\n",
    "print(env_ppo.dt)"
   ]
  },
  {
   "cell_type": "code",
   "execution_count": 13,
   "metadata": {},
   "outputs": [],
   "source": [
    "state = jit_reset(jax.random.PRNGKey(0))\n",
    "rollout = [state.pipeline_state]\n",
    "\n",
    "n_steps = 500"
   ]
  },
  {
   "cell_type": "code",
   "execution_count": 14,
   "metadata": {},
   "outputs": [],
   "source": [
    "# pos = state.pipeline_state.qpos\n",
    "# vel = state.pipeline_state.qvel\n",
    "\n",
    "# xd = np.concatenate([pos,vel])\n",
    "\n",
    "# xd.shape"
   ]
  },
  {
   "cell_type": "code",
   "execution_count": 15,
   "metadata": {},
   "outputs": [
    {
     "data": {
      "text/plain": [
       "Array([ 1.00952578,  0.96560349,  0.763598  ,  0.69266161,  0.00396145,\n",
       "        0.0290793 ,  0.72066538,  0.0344528 ,  0.38038578, -0.03930848,\n",
       "        0.25575706, -0.27285779, -1.17071799, -1.60473499,  0.07730953,\n",
       "       -1.0934958 ,  0.82069482,  0.59607216,  0.09617058, -0.84933419,\n",
       "        1.92958378, -0.723898  , -0.63271327, -1.08916748, -1.27049323,\n",
       "       -0.16462933, -0.02070159, -0.17030865,  0.37251784,  0.20128708,\n",
       "        0.66214301, -0.50385212, -0.0529365 , -0.12219402, -0.05907235],      dtype=float64)"
      ]
     },
     "execution_count": 15,
     "metadata": {},
     "output_type": "execute_result"
    }
   ],
   "source": [
    "state.pipeline_state.qpos[:]"
   ]
  },
  {
   "cell_type": "code",
   "execution_count": 16,
   "metadata": {},
   "outputs": [
    {
     "data": {
      "text/plain": [
       "Array([[1.67751076, 1.1740035 , 1.33588565],\n",
       "       [0.87219029, 1.07226696, 0.94031171],\n",
       "       [1.18705463, 1.14263128, 0.07462683],\n",
       "       [0.71621663, 0.63931363, 0.02716332]], dtype=float64)"
      ]
     },
     "execution_count": 16,
     "metadata": {},
     "output_type": "execute_result"
    }
   ],
   "source": [
    "state.pipeline_state.geom_xpos[env_ppo.dict_ee]"
   ]
  },
  {
   "cell_type": "code",
   "execution_count": 17,
   "metadata": {},
   "outputs": [
    {
     "name": "stdout",
     "output_type": "stream",
     "text": [
      "{'fall': Array(0., dtype=float64), 'pose_error': Array(0., dtype=float64), 'reference_angular': Array(0., dtype=float64, weak_type=True), 'reference_com': Array(0., dtype=float64, weak_type=True), 'reference_end_effector': Array(0., dtype=float64, weak_type=True), 'reference_quaternions': Array(0., dtype=float64, weak_type=True), 'step_index': Array(48., dtype=float64)}\n",
      "{'default_pos': Array([ 1.00952578,  0.96560349,  0.763598  ,  0.69266161,  0.00396145,\n",
      "        0.0290793 ,  0.72066538,  0.0344528 ,  0.38038578, -0.03930848,\n",
      "        0.25575706, -0.27285779, -1.17071799, -1.60473499,  0.07730953,\n",
      "       -1.0934958 ,  0.82069482,  0.59607216,  0.09617058, -0.84933419,\n",
      "        1.92958378, -0.723898  , -0.63271327, -1.08916748, -1.27049323,\n",
      "       -0.16462933, -0.02070159, -0.17030865,  0.37251784,  0.20128708,\n",
      "        0.66214301, -0.50385212, -0.0529365 , -0.12219402, -0.05907235],      dtype=float64), 'kinematic_ref': Array([ 1.00952578,  0.96560349,  0.763598  ,  0.69266161,  0.00396145,\n",
      "        0.0290793 ,  0.72066538,  0.0344528 ,  0.38038578, -0.03930848,\n",
      "        0.25575706, -0.27285779, -1.17071799, -1.60473499,  0.07730953,\n",
      "       -1.0934958 ,  0.82069482,  0.59607216,  0.09617058, -0.84933419,\n",
      "        1.92958378, -0.723898  , -0.63271327, -1.08916748, -1.27049323,\n",
      "       -0.16462933, -0.02070159, -0.17030865,  0.37251784,  0.20128708,\n",
      "        0.66214301, -0.50385212, -0.0529365 , -0.12219402, -0.05907235],      dtype=float64), 'last_action': Array([0., 0., 0., 0., 0., 0., 0., 0., 0., 0., 0., 0., 0., 0., 0., 0., 0.,\n",
      "       0., 0., 0., 0., 0., 0., 0., 0., 0., 0., 0.], dtype=float64), 'reward_tuple': {'reference_angular': Array(0., dtype=float64, weak_type=True), 'reference_com': Array(0., dtype=float64, weak_type=True), 'reference_end_effector': Array(0., dtype=float64, weak_type=True), 'reference_quaternions': Array(0., dtype=float64, weak_type=True)}, 'rng': Array([0, 0], dtype=uint32), 'steps': Array(0., dtype=float64, weak_type=True)}\n"
     ]
    }
   ],
   "source": [
    "print(state.metrics)\n",
    "print(state.info)"
   ]
  },
  {
   "cell_type": "code",
   "execution_count": 18,
   "metadata": {},
   "outputs": [
    {
     "data": {
      "text/plain": [
       "Array([1.03295954, 1.00265482, 0.82999913], dtype=float64)"
      ]
     },
     "execution_count": 18,
     "metadata": {},
     "output_type": "execute_result"
    }
   ],
   "source": [
    "state.pipeline_state.subtree_com[1]"
   ]
  },
  {
   "cell_type": "code",
   "execution_count": 19,
   "metadata": {},
   "outputs": [
    {
     "data": {
      "text/plain": [
       "65"
      ]
     },
     "execution_count": 19,
     "metadata": {},
     "output_type": "execute_result"
    }
   ],
   "source": [
    "env_ppo.rollout_lenght"
   ]
  },
  {
   "cell_type": "code",
   "execution_count": 20,
   "metadata": {},
   "outputs": [
    {
     "name": "stdout",
     "output_type": "stream",
     "text": [
      "reward1.0:\n",
      "reward1.0:\n",
      "reward1.0:\n",
      "reward1.0:\n",
      "reward1.0:\n",
      "reward1.0:\n",
      "reward1.0:\n",
      "reward0.9999999999999862:\n",
      "reward1.0:\n",
      "reward1.0:\n",
      "reward0.9999999999999913:\n",
      "reward1.0:\n",
      "reward0.9999999999999925:\n",
      "reward0.9999999999999911:\n",
      "reward1.0:\n",
      "reward1.0:\n",
      "reward1.0:\n",
      "reward1.0:\n",
      "reward1.0:\n",
      "reward1.0:\n",
      "reward1.0:\n",
      "reward1.0:\n",
      "reward1.0:\n",
      "reward1.0:\n",
      "reward1.0:\n",
      "reward1.0:\n",
      "reward1.0:\n",
      "reward1.0:\n",
      "reward1.0:\n",
      "reward1.0:\n",
      "reward1.0:\n",
      "reward1.0:\n",
      "reward1.0:\n",
      "reward1.0:\n",
      "reward1.0:\n",
      "reward0.9999999999999873:\n",
      "reward1.0:\n",
      "reward0.9999999999999825:\n",
      "reward1.0:\n",
      "reward1.0:\n",
      "reward1.0:\n",
      "reward1.0:\n",
      "reward1.0:\n",
      "reward1.0:\n",
      "reward1.0:\n",
      "reward1.0:\n",
      "reward1.0:\n",
      "reward1.0:\n",
      "reward1.0:\n",
      "reward1.0:\n",
      "reward1.0:\n",
      "reward1.0:\n",
      "reward1.0:\n",
      "reward1.0:\n",
      "reward0.9999999999999827:\n",
      "reward1.0:\n",
      "reward1.0:\n",
      "reward1.0:\n",
      "reward1.0:\n",
      "reward1.0:\n",
      "reward1.0:\n",
      "reward0.9999999999999869:\n",
      "reward1.0:\n",
      "reward1.0:\n"
     ]
    }
   ],
   "source": [
    "for i in range(env_ppo.rollout_lenght-1):\n",
    "    \n",
    "    #print(i)\n",
    "    ctrl = -0.1 * jp.ones(env_ppo.sys.nu)\n",
    "    #time\n",
    "    #time = state.pipeline_state.time\n",
    "    \n",
    "    #print('time: ',state.pipeline_state.time)    \n",
    "         \n",
    "    \n",
    "    state = jit_step(state,ctrl)\n",
    "    \n",
    "    #print(state.pipeline_state.geom_xpos)\n",
    "    #print(\"Is done\", state.done)\n",
    "    if state.done:\n",
    "        print(state.pipeline_state.time)\n",
    "        break\n",
    "    \n",
    "    #print(\"Is rewards\", state.reward)\n",
    "    # print(\"Is quat\", state.metrics['reference_quaternions'])\n",
    "    # print(\"Is ang\",state.metrics['reference_angular'])\n",
    "    # print(\"Is ee\", state.metrics['reference_end_effector'])\n",
    "    # print(\"Is com\", state.metrics['reference_com'])\n",
    "\n",
    "    #print(\"reward tuple\", state.info['reward_tuple'])\n",
    "    #print(\"Is \", state.metrics['pose_error'])\n",
    "    #print(\"Is \", state.metrics['step_index'])\n",
    "    \n",
    "    rollout.append(state.pipeline_state)"
   ]
  },
  {
   "cell_type": "code",
   "execution_count": 21,
   "metadata": {},
   "outputs": [],
   "source": [
    "from some_math.rotation6D import quaternion_to_rotation_6d"
   ]
  },
  {
   "cell_type": "code",
   "execution_count": 22,
   "metadata": {},
   "outputs": [],
   "source": [
    "#coputing the formulas.\n",
    "def com_reward(com_current, ref_com):\n",
    "    \n",
    "    print(com_current.shape)\n",
    "    #compute over the rows\n",
    "    com_dist = jp.sum(jp.linalg.norm(com_current - ref_com, axis=-1))         \n",
    "    print(com_dist)\n",
    "    \n",
    "    com_reward = jp.exp(-100 * (com_dist))\n",
    "    \n",
    "    return com_reward\n",
    "\n",
    "def end_effector_diff(current_ee,current_ref_ee):\n",
    "    # jax.debug.print(\"end diff result local:{}\",current_ee)\n",
    "    # jax.debug.print(\"end diff result ref:{}\",current_ref_ee)        \n",
    "    ee_dist = jp.linalg.norm(current_ee - current_ref_ee,axis=1)   \n",
    "    \n",
    "    print(ee_dist.shape)\n",
    "    \n",
    "    ee_dist = jp.sum(ee_dist)     \n",
    "    print(ee_dist)\n",
    "    \n",
    "    #jax.debug.print(\"end dis:{}\",ee_dist)\n",
    "    ee_reward = jp.exp(- 5 * (ee_dist))\n",
    "    #jax.debug.print(\"ee_reward:{}\",ee_reward)\n",
    "    \n",
    "    return ee_reward\n",
    "    \n",
    "\n",
    "\n",
    "\n"
   ]
  },
  {
   "cell_type": "markdown",
   "metadata": {},
   "source": [
    "Testing rewards"
   ]
  },
  {
   "cell_type": "code",
   "execution_count": null,
   "metadata": {},
   "outputs": [],
   "source": [
    "\n",
    "\n"
   ]
  },
  {
   "cell_type": "code",
   "execution_count": 23,
   "metadata": {},
   "outputs": [
    {
     "data": {
      "text/html": [
       "<!DOCTYPE html>\n",
       "<html>\n",
       "\n",
       "  <head>\n",
       "    <title>Brax visualizer</title>\n",
       "    <link rel=\"shortcut icon\" type=\"image/x-icon\" href=\"/favicon.ico\">\n",
       "  </head>\n",
       "\n",
       "  <style>\n",
       "    body {\n",
       "      margin: 0;\n",
       "      padding: 0;\n",
       "    }\n",
       "\n",
       "    #brax-viewer {\n",
       "      height: 480px;\n",
       "      margin: 0;\n",
       "      padding: 0;\n",
       "    }\n",
       "  </style>\n",
       "  <script async src=\"https://unpkg.com/es-module-shims@1.6.3/dist/es-module-shims.js\"></script>\n",
       "\n",
       "  <script type=\"importmap\">\n",
       "    {\n",
       "      \"imports\": {\n",
       "        \"three\": \"https://unpkg.com/three@0.150.1/build/three.module.js\",\n",
       "        \"three/addons/\": \"https://unpkg.com/three@0.150.1/examples/jsm/\",\n",
       "        \"lilgui\": \"https://cdn.jsdelivr.net/npm/lil-gui@0.18.0/+esm\",\n",
       "        \"viewer\": \"https://cdn.jsdelivr.net/gh/google/brax@v0.10.5/brax/visualizer/js/viewer.js\"\n",
       "      }\n",
       "    }\n",
       "  </script>\n",
       "\n",
       "  <script src=\"https://unpkg.com/pako@2.1.0/dist/pako.min.js\"></script>\n",
       "\n",
       "  <script type=\"application/javascript\">\n",
       "  var system = \"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\";\n",
       "  // decode base64 (convert ascii to binary)\n",
       "  system = atob(system);\n",
       "  // convert binary string to character-number array\n",
       "  system = system.split('').map(function(x){return x.charCodeAt(0);});\n",
       "  // decompress\n",
       "  system = pako.inflate(system);\n",
       "  // convert gunzipped byteArray back to ascii string\n",
       "  system = new TextDecoder(\"utf-8\").decode(system);\n",
       "  // and load json\n",
       "  system = JSON.parse(system);\n",
       "  </script>\n",
       "\n",
       "  <body>\n",
       "\n",
       "    <div id=\"brax-viewer\"></div>\n",
       "\n",
       "    <script type=\"module\">\n",
       "      import {Viewer} from 'viewer';\n",
       "      const domElement = document.getElementById(\"brax-viewer\");\n",
       "      var viewer = new Viewer(domElement, system);\n",
       "    </script>\n",
       "\n",
       "  </body>\n",
       "\n",
       "</html>"
      ],
      "text/plain": [
       "<IPython.core.display.HTML object>"
      ]
     },
     "execution_count": 23,
     "metadata": {},
     "output_type": "execute_result"
    }
   ],
   "source": [
    "HTML(html.render(env_ppo.sys.tree_replace({'opt.timestep': env_ppo.dt}), rollout))"
   ]
  },
  {
   "cell_type": "code",
   "execution_count": null,
   "metadata": {},
   "outputs": [],
   "source": []
  }
 ],
 "metadata": {
  "kernelspec": {
   "display_name": "Python 3 (ipykernel)",
   "language": "python",
   "name": "python3"
  },
  "language_info": {
   "codemirror_mode": {
    "name": "ipython",
    "version": 3
   },
   "file_extension": ".py",
   "mimetype": "text/x-python",
   "name": "python",
   "nbconvert_exporter": "python",
   "pygments_lexer": "ipython3",
   "version": "3.1.-1"
  }
 },
 "nbformat": 4,
 "nbformat_minor": 4
}
