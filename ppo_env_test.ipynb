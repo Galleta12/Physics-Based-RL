{
 "cells": [
  {
   "cell_type": "code",
   "execution_count": 1,
   "metadata": {},
   "outputs": [],
   "source": [
    "from datetime import datetime\n",
    "import functools\n",
    "from IPython.display import HTML\n",
    "import jax\n",
    "from jax import numpy as jp\n",
    "import numpy as np\n",
    "from typing import Any, Dict, Sequence, Tuple, Union\n",
    "from brax import base\n",
    "from brax import envs\n",
    "from brax import math\n",
    "from brax.base import Base, Motion, Transform\n",
    "from brax.envs.base import Env, PipelineEnv, State\n",
    "from brax.mjx.base import State as MjxState\n",
    "# from brax.training.agents.apg import train as apg\n",
    "# from brax.training.agents.apg import networks as apg_networks\n",
    "from brax.io import html, mjcf, model\n",
    "from etils import epath\n",
    "from flax import struct\n",
    "from matplotlib import pyplot as plt\n",
    "import mediapy as media\n",
    "from ml_collections import config_dict\n",
    "import mujoco\n",
    "from mujoco import mjx\n",
    "from jax import vmap\n",
    "import jax.random\n",
    "from jax import lax"
   ]
  },
  {
   "cell_type": "code",
   "execution_count": 2,
   "metadata": {},
   "outputs": [
    {
     "name": "stdout",
     "output_type": "stream",
     "text": [
      "Setting environment variable to use GPU rendering:\n",
      "env: MUJOCO_GL=egl\n"
     ]
    }
   ],
   "source": [
    "import distutils.util\n",
    "import os\n",
    "xla_flags = os.environ.get('XLA_FLAGS', '')\n",
    "xla_flags += ' --xla_gpu_triton_gemm_any=True'\n",
    "os.environ['XLA_FLAGS'] = xla_flags\n",
    "print('Setting environment variable to use GPU rendering:')\n",
    "%env MUJOCO_GL=egl"
   ]
  },
  {
   "cell_type": "code",
   "execution_count": 3,
   "metadata": {},
   "outputs": [],
   "source": [
    "import os\n",
    "os.environ[\"XLA_PYTHON_CLIENT_MEM_FRACTION\"] = \"0.8\" # 0.9 causes too much lag. \n",
    "from datetime import datetime\n",
    "import functools\n",
    "\n",
    "# Math\n",
    "import jax.numpy as jp\n",
    "import numpy as np\n",
    "import jax\n",
    "from jax import config # Analytical gradients work much better with double precision.\n",
    "config.update(\"jax_debug_nans\", True)\n",
    "config.update(\"jax_enable_x64\", True)\n",
    "config.update('jax_default_matmul_precision', jax.lax.Precision.HIGH)\n",
    "from brax import math\n",
    "\n",
    "# Sim\n",
    "import mujoco\n",
    "import mujoco.mjx as mjx\n",
    "\n",
    "# Brax\n",
    "from brax import envs\n",
    "from brax.base import Motion, Transform\n",
    "from brax.io import mjcf\n",
    "from brax.envs.base import PipelineEnv, State\n",
    "from brax.mjx.pipeline import _reformat_contact\n",
    "from brax.training.acme import running_statistics\n",
    "from brax.io import model\n",
    "\n",
    "# Algorithms\n",
    "# from brax.training.agents.apg import train as apg\n",
    "# from brax.training.agents.apg import networks as apg_networks\n",
    "from brax.training.agents.ppo import train as ppo\n",
    "\n",
    "# Supporting\n",
    "from etils import epath\n",
    "import mediapy as media\n",
    "import matplotlib.pyplot as plt\n",
    "from ml_collections import config_dict\n",
    "from typing import Any, Dict\n"
   ]
  },
  {
   "cell_type": "code",
   "execution_count": 4,
   "metadata": {},
   "outputs": [
    {
     "name": "stdout",
     "output_type": "stream",
     "text": [
      "gpu\n"
     ]
    }
   ],
   "source": [
    "from jax.lib import xla_bridge\n",
    "print(xla_bridge.get_backend().platform)"
   ]
  },
  {
   "cell_type": "code",
   "execution_count": 5,
   "metadata": {},
   "outputs": [],
   "source": [
    "import agent_mimic_env\n",
    "from agent_mimic_env import register_mimic_env, register_ppo_env"
   ]
  },
  {
   "cell_type": "code",
   "execution_count": 6,
   "metadata": {},
   "outputs": [],
   "source": [
    "from agent_mimic_env.pds_controllers_agents import feedback_pd_controller, stable_pd_controller_action\n"
   ]
  },
  {
   "cell_type": "code",
   "execution_count": 7,
   "metadata": {},
   "outputs": [
    {
     "name": "stdout",
     "output_type": "stream",
     "text": [
      "{'num_envs': 256, 'num_eval_envs': 32, 'lr': 0.0003, 'max_it': 1000, 'max_grad_norm': 0.4, 'seed': 0, 'system_config': 'humanoid', 'demo_replay_mode': 'threshold', 'threshold': 0.4, 'normalize_observations': True, 'cycle_len': 130, 'ep_len': 65, 'ep_len_eval': 54, 'use_lr_scheduler': True, 'reward_scaling': 0.02, 'rot_weight': 0.5, 'vel_weight': 0.01, 'ang_weight': 0.01, 'deep_mimic_reward_weights': {'w_p': 0.3, 'w_v': 0.1, 'w_e': 0.5, 'w_c': 0.1}, 'deep_mimic_weights_factors': {'w_pose': 2, 'w_angular': 0.005, 'w_efector': 5, 'w_com': 100}, 'ref': 'motions/humanoid3d_punch_duplicated.txt'}\n"
     ]
    }
   ],
   "source": [
    "import yaml\n",
    "from box import Box\n",
    "# Path to your YAML file\n",
    "yaml_file_path = 'config_params/punch.yaml'\n",
    "# Load the YAML file\n",
    "with open(yaml_file_path, 'r') as file:\n",
    "    args = Box(yaml.safe_load(file))\n",
    "\n",
    "print(args)"
   ]
  },
  {
   "cell_type": "code",
   "execution_count": 8,
   "metadata": {},
   "outputs": [
    {
     "ename": "KeyboardInterrupt",
     "evalue": "",
     "output_type": "error",
     "traceback": [
      "\u001b[0;31m---------------------------------------------------------------------------\u001b[0m",
      "\u001b[0;31mKeyboardInterrupt\u001b[0m                         Traceback (most recent call last)",
      "Cell \u001b[0;32mIn[8], line 1\u001b[0m\n\u001b[0;32m----> 1\u001b[0m env_ppo \u001b[38;5;241m=\u001b[39m \u001b[43mregister_ppo_env\u001b[49m\u001b[43m(\u001b[49m\u001b[43margs\u001b[49m\u001b[43m)\u001b[49m\n\u001b[1;32m      2\u001b[0m env_ppo\u001b[38;5;241m.\u001b[39mset_pd_callback(stable_pd_controller_action)\n\u001b[1;32m      3\u001b[0m jit_reset \u001b[38;5;241m=\u001b[39m jax\u001b[38;5;241m.\u001b[39mjit(env_ppo\u001b[38;5;241m.\u001b[39mreset)\n",
      "File \u001b[0;32m~/workspace/RLPhysics/Physics-Based-RL/agent_mimic_env/__init__.py:27\u001b[0m, in \u001b[0;36mregister_ppo_env\u001b[0;34m(args)\u001b[0m\n\u001b[1;32m     24\u001b[0m \u001b[38;5;28;01mdef\u001b[39;00m \u001b[38;5;21mregister_ppo_env\u001b[39m(args) \u001b[38;5;241m-\u001b[39m\u001b[38;5;241m>\u001b[39m HumanoidPPOENV:\n\u001b[1;32m     26\u001b[0m     trajectory \u001b[38;5;241m=\u001b[39m SimpleConverter(args\u001b[38;5;241m.\u001b[39mref)\n\u001b[0;32m---> 27\u001b[0m     \u001b[43mtrajectory\u001b[49m\u001b[38;5;241;43m.\u001b[39;49m\u001b[43mload_mocap\u001b[49m\u001b[43m(\u001b[49m\u001b[43m)\u001b[49m\n\u001b[1;32m     28\u001b[0m     model_path \u001b[38;5;241m=\u001b[39m \u001b[38;5;124m'\u001b[39m\u001b[38;5;124mmodels/final_humanoid.xml\u001b[39m\u001b[38;5;124m'\u001b[39m\n\u001b[1;32m     30\u001b[0m     envs\u001b[38;5;241m.\u001b[39mregister_environment(\u001b[38;5;124m'\u001b[39m\u001b[38;5;124mhumanoidPPOEnv\u001b[39m\u001b[38;5;124m'\u001b[39m,HumanoidPPOENV)\n",
      "File \u001b[0;32m~/workspace/RLPhysics/Physics-Based-RL/utils/SimpleConverter.py:56\u001b[0m, in \u001b[0;36mSimpleConverter.load_mocap\u001b[0;34m(self)\u001b[0m\n\u001b[1;32m     54\u001b[0m \u001b[38;5;28mself\u001b[39m\u001b[38;5;241m.\u001b[39mread_raw_data()\n\u001b[1;32m     55\u001b[0m \u001b[38;5;28mself\u001b[39m\u001b[38;5;241m.\u001b[39mconvert_to_mujoco_data()\n\u001b[0;32m---> 56\u001b[0m \u001b[38;5;28;43mself\u001b[39;49m\u001b[38;5;241;43m.\u001b[39;49m\u001b[43mcreate_dict_duration\u001b[49m\u001b[43m(\u001b[49m\u001b[43m)\u001b[49m\n",
      "File \u001b[0;32m~/workspace/RLPhysics/Physics-Based-RL/utils/SimpleConverter.py:341\u001b[0m, in \u001b[0;36mSimpleConverter.create_dict_duration\u001b[0;34m(self)\u001b[0m\n\u001b[1;32m    336\u001b[0m \u001b[38;5;28;01mdef\u001b[39;00m \u001b[38;5;21mcreate_dict_duration\u001b[39m(\u001b[38;5;28mself\u001b[39m):\n\u001b[1;32m    337\u001b[0m     \u001b[38;5;66;03m#create a list, where the first two values are the start time of the frame\u001b[39;00m\n\u001b[1;32m    338\u001b[0m     \u001b[38;5;66;03m#and the second value is the duration the delta time\u001b[39;00m\n\u001b[1;32m    339\u001b[0m \n\u001b[1;32m    340\u001b[0m     \u001b[38;5;66;03m#comulative sum list\u001b[39;00m\n\u001b[0;32m--> 341\u001b[0m     cummulative_durations \u001b[38;5;241m=\u001b[39m \u001b[43mjp\u001b[49m\u001b[38;5;241;43m.\u001b[39;49m\u001b[43mcumsum\u001b[49m\u001b[43m(\u001b[49m\u001b[38;5;28;43mself\u001b[39;49m\u001b[38;5;241;43m.\u001b[39;49m\u001b[43mdurations\u001b[49m\u001b[43m)\u001b[49m\n\u001b[1;32m    342\u001b[0m     \u001b[38;5;66;03m#re format it since, the first index starts at time 0 so we can get rid of the last index\u001b[39;00m\n\u001b[1;32m    343\u001b[0m     cummulative_durations \u001b[38;5;241m=\u001b[39m jp\u001b[38;5;241m.\u001b[39mconcatenate([jp\u001b[38;5;241m.\u001b[39marray([\u001b[38;5;241m0.0\u001b[39m]), cummulative_durations[:\u001b[38;5;241m-\u001b[39m\u001b[38;5;241m1\u001b[39m]])\n",
      "File \u001b[0;32m~/anaconda3/envs/newBrax/lib/python3.11/site-packages/jax/_src/numpy/reductions.py:677\u001b[0m, in \u001b[0;36m_make_cumulative_reduction.<locals>.cumulative_reduction\u001b[0;34m(a, axis, dtype, out)\u001b[0m\n\u001b[1;32m    673\u001b[0m \u001b[38;5;129m@implements\u001b[39m(np_reduction, skip_params\u001b[38;5;241m=\u001b[39m[\u001b[38;5;124m'\u001b[39m\u001b[38;5;124mout\u001b[39m\u001b[38;5;124m'\u001b[39m],\n\u001b[1;32m    674\u001b[0m         lax_description\u001b[38;5;241m=\u001b[39mCUML_REDUCTION_LAX_DESCRIPTION)\n\u001b[1;32m    675\u001b[0m \u001b[38;5;28;01mdef\u001b[39;00m \u001b[38;5;21mcumulative_reduction\u001b[39m(a: ArrayLike, axis: Axis \u001b[38;5;241m=\u001b[39m \u001b[38;5;28;01mNone\u001b[39;00m,\n\u001b[1;32m    676\u001b[0m                          dtype: DTypeLike \u001b[38;5;241m|\u001b[39m \u001b[38;5;28;01mNone\u001b[39;00m \u001b[38;5;241m=\u001b[39m \u001b[38;5;28;01mNone\u001b[39;00m, out: \u001b[38;5;28;01mNone\u001b[39;00m \u001b[38;5;241m=\u001b[39m \u001b[38;5;28;01mNone\u001b[39;00m) \u001b[38;5;241m-\u001b[39m\u001b[38;5;241m>\u001b[39m Array:\n\u001b[0;32m--> 677\u001b[0m   \u001b[38;5;28;01mreturn\u001b[39;00m \u001b[43m_cumulative_reduction\u001b[49m\u001b[43m(\u001b[49m\u001b[43ma\u001b[49m\u001b[43m,\u001b[49m\u001b[43m \u001b[49m\u001b[43m_ensure_optional_axes\u001b[49m\u001b[43m(\u001b[49m\u001b[43maxis\u001b[49m\u001b[43m)\u001b[49m\u001b[43m,\u001b[49m\u001b[43m \u001b[49m\u001b[43mdtype\u001b[49m\u001b[43m,\u001b[49m\u001b[43m \u001b[49m\u001b[43mout\u001b[49m\u001b[43m)\u001b[49m\n",
      "    \u001b[0;31m[... skipping hidden 1 frame]\u001b[0m\n",
      "File \u001b[0;32m~/anaconda3/envs/newBrax/lib/python3.11/site-packages/jax/_src/pjit.py:304\u001b[0m, in \u001b[0;36m_cpp_pjit.<locals>.cache_miss\u001b[0;34m(*args, **kwargs)\u001b[0m\n\u001b[1;32m    302\u001b[0m \u001b[38;5;129m@api_boundary\u001b[39m\n\u001b[1;32m    303\u001b[0m \u001b[38;5;28;01mdef\u001b[39;00m \u001b[38;5;21mcache_miss\u001b[39m(\u001b[38;5;241m*\u001b[39margs, \u001b[38;5;241m*\u001b[39m\u001b[38;5;241m*\u001b[39mkwargs):\n\u001b[0;32m--> 304\u001b[0m   outs, out_flat, out_tree, args_flat, jaxpr, attrs_tracked \u001b[38;5;241m=\u001b[39m \u001b[43m_python_pjit_helper\u001b[49m\u001b[43m(\u001b[49m\n\u001b[1;32m    305\u001b[0m \u001b[43m      \u001b[49m\u001b[43mjit_info\u001b[49m\u001b[43m,\u001b[49m\u001b[43m \u001b[49m\u001b[38;5;241;43m*\u001b[39;49m\u001b[43margs\u001b[49m\u001b[43m,\u001b[49m\u001b[43m \u001b[49m\u001b[38;5;241;43m*\u001b[39;49m\u001b[38;5;241;43m*\u001b[39;49m\u001b[43mkwargs\u001b[49m\u001b[43m)\u001b[49m\n\u001b[1;32m    306\u001b[0m   executable \u001b[38;5;241m=\u001b[39m _read_most_recent_pjit_call_executable(jaxpr)\n\u001b[1;32m    307\u001b[0m   maybe_fastpath_data \u001b[38;5;241m=\u001b[39m _get_fastpath_data(\n\u001b[1;32m    308\u001b[0m       executable, out_tree, args_flat, out_flat, attrs_tracked, jaxpr\u001b[38;5;241m.\u001b[39meffects,\n\u001b[1;32m    309\u001b[0m       jaxpr\u001b[38;5;241m.\u001b[39mconsts, jit_info\u001b[38;5;241m.\u001b[39mabstracted_axes)\n",
      "File \u001b[0;32m~/anaconda3/envs/newBrax/lib/python3.11/site-packages/jax/_src/pjit.py:181\u001b[0m, in \u001b[0;36m_python_pjit_helper\u001b[0;34m(jit_info, *args, **kwargs)\u001b[0m\n\u001b[1;32m    178\u001b[0m   args_flat \u001b[38;5;241m=\u001b[39m [\u001b[38;5;241m*\u001b[39minit_states, \u001b[38;5;241m*\u001b[39margs_flat]\n\u001b[1;32m    180\u001b[0m \u001b[38;5;28;01mtry\u001b[39;00m:\n\u001b[0;32m--> 181\u001b[0m   out_flat \u001b[38;5;241m=\u001b[39m \u001b[43mpjit_p\u001b[49m\u001b[38;5;241;43m.\u001b[39;49m\u001b[43mbind\u001b[49m\u001b[43m(\u001b[49m\u001b[38;5;241;43m*\u001b[39;49m\u001b[43margs_flat\u001b[49m\u001b[43m,\u001b[49m\u001b[43m \u001b[49m\u001b[38;5;241;43m*\u001b[39;49m\u001b[38;5;241;43m*\u001b[39;49m\u001b[43mparams\u001b[49m\u001b[43m)\u001b[49m\n\u001b[1;32m    182\u001b[0m \u001b[38;5;28;01mexcept\u001b[39;00m pxla\u001b[38;5;241m.\u001b[39mDeviceAssignmentMismatchError \u001b[38;5;28;01mas\u001b[39;00m e:\n\u001b[1;32m    183\u001b[0m   fails, \u001b[38;5;241m=\u001b[39m e\u001b[38;5;241m.\u001b[39margs\n",
      "File \u001b[0;32m~/anaconda3/envs/newBrax/lib/python3.11/site-packages/jax/_src/core.py:2789\u001b[0m, in \u001b[0;36mAxisPrimitive.bind\u001b[0;34m(self, *args, **params)\u001b[0m\n\u001b[1;32m   2785\u001b[0m axis_main \u001b[38;5;241m=\u001b[39m \u001b[38;5;28mmax\u001b[39m((axis_frame(a)\u001b[38;5;241m.\u001b[39mmain_trace \u001b[38;5;28;01mfor\u001b[39;00m a \u001b[38;5;129;01min\u001b[39;00m used_axis_names(\u001b[38;5;28mself\u001b[39m, params)),\n\u001b[1;32m   2786\u001b[0m                 default\u001b[38;5;241m=\u001b[39m\u001b[38;5;28;01mNone\u001b[39;00m, key\u001b[38;5;241m=\u001b[39m\u001b[38;5;28;01mlambda\u001b[39;00m t: \u001b[38;5;28mgetattr\u001b[39m(t, \u001b[38;5;124m'\u001b[39m\u001b[38;5;124mlevel\u001b[39m\u001b[38;5;124m'\u001b[39m, \u001b[38;5;241m-\u001b[39m\u001b[38;5;241m1\u001b[39m))\n\u001b[1;32m   2787\u001b[0m top_trace \u001b[38;5;241m=\u001b[39m (top_trace \u001b[38;5;28;01mif\u001b[39;00m \u001b[38;5;129;01mnot\u001b[39;00m axis_main \u001b[38;5;129;01mor\u001b[39;00m axis_main\u001b[38;5;241m.\u001b[39mlevel \u001b[38;5;241m<\u001b[39m top_trace\u001b[38;5;241m.\u001b[39mlevel\n\u001b[1;32m   2788\u001b[0m              \u001b[38;5;28;01melse\u001b[39;00m axis_main\u001b[38;5;241m.\u001b[39mwith_cur_sublevel())\n\u001b[0;32m-> 2789\u001b[0m \u001b[38;5;28;01mreturn\u001b[39;00m \u001b[38;5;28;43mself\u001b[39;49m\u001b[38;5;241;43m.\u001b[39;49m\u001b[43mbind_with_trace\u001b[49m\u001b[43m(\u001b[49m\u001b[43mtop_trace\u001b[49m\u001b[43m,\u001b[49m\u001b[43m \u001b[49m\u001b[43margs\u001b[49m\u001b[43m,\u001b[49m\u001b[43m \u001b[49m\u001b[43mparams\u001b[49m\u001b[43m)\u001b[49m\n",
      "File \u001b[0;32m~/anaconda3/envs/newBrax/lib/python3.11/site-packages/jax/_src/core.py:391\u001b[0m, in \u001b[0;36mPrimitive.bind_with_trace\u001b[0;34m(self, trace, args, params)\u001b[0m\n\u001b[1;32m    389\u001b[0m \u001b[38;5;28;01mdef\u001b[39;00m \u001b[38;5;21mbind_with_trace\u001b[39m(\u001b[38;5;28mself\u001b[39m, trace, args, params):\n\u001b[1;32m    390\u001b[0m   \u001b[38;5;28;01mwith\u001b[39;00m pop_level(trace\u001b[38;5;241m.\u001b[39mlevel):\n\u001b[0;32m--> 391\u001b[0m     out \u001b[38;5;241m=\u001b[39m \u001b[43mtrace\u001b[49m\u001b[38;5;241;43m.\u001b[39;49m\u001b[43mprocess_primitive\u001b[49m\u001b[43m(\u001b[49m\u001b[38;5;28;43mself\u001b[39;49m\u001b[43m,\u001b[49m\u001b[43m \u001b[49m\u001b[38;5;28;43mmap\u001b[39;49m\u001b[43m(\u001b[49m\u001b[43mtrace\u001b[49m\u001b[38;5;241;43m.\u001b[39;49m\u001b[43mfull_raise\u001b[49m\u001b[43m,\u001b[49m\u001b[43m \u001b[49m\u001b[43margs\u001b[49m\u001b[43m)\u001b[49m\u001b[43m,\u001b[49m\u001b[43m \u001b[49m\u001b[43mparams\u001b[49m\u001b[43m)\u001b[49m\n\u001b[1;32m    392\u001b[0m   \u001b[38;5;28;01mreturn\u001b[39;00m \u001b[38;5;28mmap\u001b[39m(full_lower, out) \u001b[38;5;28;01mif\u001b[39;00m \u001b[38;5;28mself\u001b[39m\u001b[38;5;241m.\u001b[39mmultiple_results \u001b[38;5;28;01melse\u001b[39;00m full_lower(out)\n",
      "File \u001b[0;32m~/anaconda3/envs/newBrax/lib/python3.11/site-packages/jax/_src/core.py:879\u001b[0m, in \u001b[0;36mEvalTrace.process_primitive\u001b[0;34m(self, primitive, tracers, params)\u001b[0m\n\u001b[1;32m    877\u001b[0m   \u001b[38;5;28;01mreturn\u001b[39;00m call_impl_with_key_reuse_checks(primitive, primitive\u001b[38;5;241m.\u001b[39mimpl, \u001b[38;5;241m*\u001b[39mtracers, \u001b[38;5;241m*\u001b[39m\u001b[38;5;241m*\u001b[39mparams)\n\u001b[1;32m    878\u001b[0m \u001b[38;5;28;01melse\u001b[39;00m:\n\u001b[0;32m--> 879\u001b[0m   \u001b[38;5;28;01mreturn\u001b[39;00m \u001b[43mprimitive\u001b[49m\u001b[38;5;241;43m.\u001b[39;49m\u001b[43mimpl\u001b[49m\u001b[43m(\u001b[49m\u001b[38;5;241;43m*\u001b[39;49m\u001b[43mtracers\u001b[49m\u001b[43m,\u001b[49m\u001b[43m \u001b[49m\u001b[38;5;241;43m*\u001b[39;49m\u001b[38;5;241;43m*\u001b[39;49m\u001b[43mparams\u001b[49m\u001b[43m)\u001b[49m\n",
      "File \u001b[0;32m~/anaconda3/envs/newBrax/lib/python3.11/site-packages/jax/_src/pjit.py:1525\u001b[0m, in \u001b[0;36m_pjit_call_impl\u001b[0;34m(jaxpr, in_shardings, out_shardings, in_layouts, out_layouts, resource_env, donated_invars, name, keep_unused, inline, *args)\u001b[0m\n\u001b[1;32m   1522\u001b[0m donated_argnums \u001b[38;5;241m=\u001b[39m [i \u001b[38;5;28;01mfor\u001b[39;00m i, d \u001b[38;5;129;01min\u001b[39;00m \u001b[38;5;28menumerate\u001b[39m(donated_invars) \u001b[38;5;28;01mif\u001b[39;00m d]\n\u001b[1;32m   1523\u001b[0m has_explicit_sharding \u001b[38;5;241m=\u001b[39m _pjit_explicit_sharding(\n\u001b[1;32m   1524\u001b[0m     in_shardings, out_shardings, \u001b[38;5;28;01mNone\u001b[39;00m, \u001b[38;5;28;01mNone\u001b[39;00m)\n\u001b[0;32m-> 1525\u001b[0m \u001b[38;5;28;01mreturn\u001b[39;00m \u001b[43mxc\u001b[49m\u001b[38;5;241;43m.\u001b[39;49m\u001b[43m_xla\u001b[49m\u001b[38;5;241;43m.\u001b[39;49m\u001b[43mpjit\u001b[49m\u001b[43m(\u001b[49m\n\u001b[1;32m   1526\u001b[0m \u001b[43m    \u001b[49m\u001b[43mname\u001b[49m\u001b[43m,\u001b[49m\u001b[43m \u001b[49m\u001b[43mf\u001b[49m\u001b[43m,\u001b[49m\u001b[43m \u001b[49m\u001b[43mcall_impl_cache_miss\u001b[49m\u001b[43m,\u001b[49m\u001b[43m \u001b[49m\u001b[43m[\u001b[49m\u001b[43m]\u001b[49m\u001b[43m,\u001b[49m\u001b[43m \u001b[49m\u001b[43m[\u001b[49m\u001b[43m]\u001b[49m\u001b[43m,\u001b[49m\u001b[43m \u001b[49m\u001b[43mdonated_argnums\u001b[49m\u001b[43m,\u001b[49m\n\u001b[1;32m   1527\u001b[0m \u001b[43m    \u001b[49m\u001b[43mtree_util\u001b[49m\u001b[38;5;241;43m.\u001b[39;49m\u001b[43mdispatch_registry\u001b[49m\u001b[43m,\u001b[49m\n\u001b[1;32m   1528\u001b[0m \u001b[43m    \u001b[49m\u001b[43mpxla\u001b[49m\u001b[38;5;241;43m.\u001b[39;49m\u001b[43mshard_arg\u001b[49m\u001b[43m,\u001b[49m\u001b[43m  \u001b[49m\u001b[38;5;66;43;03m# type: ignore\u001b[39;49;00m\n\u001b[1;32m   1529\u001b[0m \u001b[43m    \u001b[49m\u001b[43m_get_cpp_global_cache\u001b[49m\u001b[43m(\u001b[49m\u001b[43mhas_explicit_sharding\u001b[49m\u001b[43m)\u001b[49m\u001b[43m)\u001b[49m\u001b[43m(\u001b[49m\u001b[38;5;241;43m*\u001b[39;49m\u001b[43margs\u001b[49m\u001b[43m)\u001b[49m\n",
      "File \u001b[0;32m~/anaconda3/envs/newBrax/lib/python3.11/site-packages/jax/_src/pjit.py:1508\u001b[0m, in \u001b[0;36m_pjit_call_impl.<locals>.call_impl_cache_miss\u001b[0;34m(*args_, **kwargs_)\u001b[0m\n\u001b[1;32m   1507\u001b[0m \u001b[38;5;28;01mdef\u001b[39;00m \u001b[38;5;21mcall_impl_cache_miss\u001b[39m(\u001b[38;5;241m*\u001b[39margs_, \u001b[38;5;241m*\u001b[39m\u001b[38;5;241m*\u001b[39mkwargs_):\n\u001b[0;32m-> 1508\u001b[0m   out_flat, compiled \u001b[38;5;241m=\u001b[39m \u001b[43m_pjit_call_impl_python\u001b[49m\u001b[43m(\u001b[49m\n\u001b[1;32m   1509\u001b[0m \u001b[43m      \u001b[49m\u001b[38;5;241;43m*\u001b[39;49m\u001b[43margs\u001b[49m\u001b[43m,\u001b[49m\u001b[43m \u001b[49m\u001b[43mjaxpr\u001b[49m\u001b[38;5;241;43m=\u001b[39;49m\u001b[43mjaxpr\u001b[49m\u001b[43m,\u001b[49m\u001b[43m \u001b[49m\u001b[43min_shardings\u001b[49m\u001b[38;5;241;43m=\u001b[39;49m\u001b[43min_shardings\u001b[49m\u001b[43m,\u001b[49m\n\u001b[1;32m   1510\u001b[0m \u001b[43m      \u001b[49m\u001b[43mout_shardings\u001b[49m\u001b[38;5;241;43m=\u001b[39;49m\u001b[43mout_shardings\u001b[49m\u001b[43m,\u001b[49m\u001b[43m \u001b[49m\u001b[43min_layouts\u001b[49m\u001b[38;5;241;43m=\u001b[39;49m\u001b[43min_layouts\u001b[49m\u001b[43m,\u001b[49m\n\u001b[1;32m   1511\u001b[0m \u001b[43m      \u001b[49m\u001b[43mout_layouts\u001b[49m\u001b[38;5;241;43m=\u001b[39;49m\u001b[43mout_layouts\u001b[49m\u001b[43m,\u001b[49m\u001b[43m \u001b[49m\u001b[43mresource_env\u001b[49m\u001b[38;5;241;43m=\u001b[39;49m\u001b[43mresource_env\u001b[49m\u001b[43m,\u001b[49m\n\u001b[1;32m   1512\u001b[0m \u001b[43m      \u001b[49m\u001b[43mdonated_invars\u001b[49m\u001b[38;5;241;43m=\u001b[39;49m\u001b[43mdonated_invars\u001b[49m\u001b[43m,\u001b[49m\u001b[43m \u001b[49m\u001b[43mname\u001b[49m\u001b[38;5;241;43m=\u001b[39;49m\u001b[43mname\u001b[49m\u001b[43m,\u001b[49m\u001b[43m \u001b[49m\u001b[43mkeep_unused\u001b[49m\u001b[38;5;241;43m=\u001b[39;49m\u001b[43mkeep_unused\u001b[49m\u001b[43m,\u001b[49m\n\u001b[1;32m   1513\u001b[0m \u001b[43m      \u001b[49m\u001b[43minline\u001b[49m\u001b[38;5;241;43m=\u001b[39;49m\u001b[43minline\u001b[49m\u001b[43m)\u001b[49m\n\u001b[1;32m   1514\u001b[0m   fastpath_data \u001b[38;5;241m=\u001b[39m _get_fastpath_data(\n\u001b[1;32m   1515\u001b[0m       compiled, tree_structure(out_flat), args, out_flat, [], jaxpr\u001b[38;5;241m.\u001b[39meffects,\n\u001b[1;32m   1516\u001b[0m       jaxpr\u001b[38;5;241m.\u001b[39mconsts, \u001b[38;5;28;01mNone\u001b[39;00m)\n\u001b[1;32m   1517\u001b[0m   \u001b[38;5;28;01mreturn\u001b[39;00m out_flat, fastpath_data\n",
      "File \u001b[0;32m~/anaconda3/envs/newBrax/lib/python3.11/site-packages/jax/_src/pjit.py:1462\u001b[0m, in \u001b[0;36m_pjit_call_impl_python\u001b[0;34m(jaxpr, in_shardings, out_shardings, in_layouts, out_layouts, resource_env, donated_invars, name, keep_unused, inline, *args)\u001b[0m\n\u001b[1;32m   1454\u001b[0m   distributed_debug_log((\u001b[38;5;124m\"\u001b[39m\u001b[38;5;124mRunning pjit\u001b[39m\u001b[38;5;124m'\u001b[39m\u001b[38;5;124md function\u001b[39m\u001b[38;5;124m\"\u001b[39m, name),\n\u001b[1;32m   1455\u001b[0m                         (\u001b[38;5;124m\"\u001b[39m\u001b[38;5;124min_shardings\u001b[39m\u001b[38;5;124m\"\u001b[39m, in_shardings),\n\u001b[1;32m   1456\u001b[0m                         (\u001b[38;5;124m\"\u001b[39m\u001b[38;5;124mout_shardings\u001b[39m\u001b[38;5;124m\"\u001b[39m, out_shardings),\n\u001b[0;32m   (...)\u001b[0m\n\u001b[1;32m   1459\u001b[0m                         (\u001b[38;5;124m\"\u001b[39m\u001b[38;5;124mabstract args\u001b[39m\u001b[38;5;124m\"\u001b[39m, \u001b[38;5;28mmap\u001b[39m(xla\u001b[38;5;241m.\u001b[39mabstractify, args)),\n\u001b[1;32m   1460\u001b[0m                         (\u001b[38;5;124m\"\u001b[39m\u001b[38;5;124mfingerprint\u001b[39m\u001b[38;5;124m\"\u001b[39m, fingerprint))\n\u001b[1;32m   1461\u001b[0m \u001b[38;5;28;01mtry\u001b[39;00m:\n\u001b[0;32m-> 1462\u001b[0m   \u001b[38;5;28;01mreturn\u001b[39;00m \u001b[43mcompiled\u001b[49m\u001b[38;5;241;43m.\u001b[39;49m\u001b[43munsafe_call\u001b[49m\u001b[43m(\u001b[49m\u001b[38;5;241;43m*\u001b[39;49m\u001b[43margs\u001b[49m\u001b[43m)\u001b[49m, compiled\n\u001b[1;32m   1463\u001b[0m \u001b[38;5;28;01mexcept\u001b[39;00m \u001b[38;5;167;01mFloatingPointError\u001b[39;00m \u001b[38;5;28;01mas\u001b[39;00m e:\n\u001b[1;32m   1464\u001b[0m   \u001b[38;5;28;01massert\u001b[39;00m config\u001b[38;5;241m.\u001b[39mdebug_nans\u001b[38;5;241m.\u001b[39mvalue \u001b[38;5;129;01mor\u001b[39;00m config\u001b[38;5;241m.\u001b[39mdebug_infs\u001b[38;5;241m.\u001b[39mvalue  \u001b[38;5;66;03m# compiled_fun can only raise in this case\u001b[39;00m\n",
      "File \u001b[0;32m~/anaconda3/envs/newBrax/lib/python3.11/site-packages/jax/_src/profiler.py:335\u001b[0m, in \u001b[0;36mannotate_function.<locals>.wrapper\u001b[0;34m(*args, **kwargs)\u001b[0m\n\u001b[1;32m    332\u001b[0m \u001b[38;5;129m@wraps\u001b[39m(func)\n\u001b[1;32m    333\u001b[0m \u001b[38;5;28;01mdef\u001b[39;00m \u001b[38;5;21mwrapper\u001b[39m(\u001b[38;5;241m*\u001b[39margs, \u001b[38;5;241m*\u001b[39m\u001b[38;5;241m*\u001b[39mkwargs):\n\u001b[1;32m    334\u001b[0m   \u001b[38;5;28;01mwith\u001b[39;00m TraceAnnotation(name, \u001b[38;5;241m*\u001b[39m\u001b[38;5;241m*\u001b[39mdecorator_kwargs):\n\u001b[0;32m--> 335\u001b[0m     \u001b[38;5;28;01mreturn\u001b[39;00m \u001b[43mfunc\u001b[49m\u001b[43m(\u001b[49m\u001b[38;5;241;43m*\u001b[39;49m\u001b[43margs\u001b[49m\u001b[43m,\u001b[49m\u001b[43m \u001b[49m\u001b[38;5;241;43m*\u001b[39;49m\u001b[38;5;241;43m*\u001b[39;49m\u001b[43mkwargs\u001b[49m\u001b[43m)\u001b[49m\n\u001b[1;32m    336\u001b[0m   \u001b[38;5;28;01mreturn\u001b[39;00m wrapper\n",
      "File \u001b[0;32m~/anaconda3/envs/newBrax/lib/python3.11/site-packages/jax/_src/interpreters/pxla.py:1185\u001b[0m, in \u001b[0;36mExecuteReplicated.__call__\u001b[0;34m(self, *args)\u001b[0m\n\u001b[1;32m   1183\u001b[0m   \u001b[38;5;28mself\u001b[39m\u001b[38;5;241m.\u001b[39m_handle_token_bufs(result_token_bufs, sharded_runtime_token)\n\u001b[1;32m   1184\u001b[0m \u001b[38;5;28;01melse\u001b[39;00m:\n\u001b[0;32m-> 1185\u001b[0m   results \u001b[38;5;241m=\u001b[39m \u001b[38;5;28;43mself\u001b[39;49m\u001b[38;5;241;43m.\u001b[39;49m\u001b[43mxla_executable\u001b[49m\u001b[38;5;241;43m.\u001b[39;49m\u001b[43mexecute_sharded\u001b[49m\u001b[43m(\u001b[49m\u001b[43minput_bufs\u001b[49m\u001b[43m)\u001b[49m\n\u001b[1;32m   1186\u001b[0m \u001b[38;5;28;01mif\u001b[39;00m dispatch\u001b[38;5;241m.\u001b[39mneeds_check_special():\n\u001b[1;32m   1187\u001b[0m   out_arrays \u001b[38;5;241m=\u001b[39m results\u001b[38;5;241m.\u001b[39mdisassemble_into_single_device_arrays()\n",
      "\u001b[0;31mKeyboardInterrupt\u001b[0m: "
     ]
    }
   ],
   "source": [
    "env_ppo = register_ppo_env(args)\n",
    "env_ppo.set_pd_callback(stable_pd_controller_action)\n",
    "jit_reset = jax.jit(env_ppo.reset)\n",
    "jit_step= jax.jit(env_ppo.step)\n",
    "\n"
   ]
  },
  {
   "cell_type": "code",
   "execution_count": null,
   "metadata": {},
   "outputs": [
    {
     "name": "stdout",
     "output_type": "stream",
     "text": [
      "Option(timestep=0.002, impratio=Array(100., dtype=float64, weak_type=True), tolerance=Array(1.e-08, dtype=float64, weak_type=True), ls_tolerance=Array(0.01, dtype=float64, weak_type=True), gravity=Array([ 0.  ,  0.  , -9.81], dtype=float64), wind=Array([0., 0., 0.], dtype=float64), density=Array(0., dtype=float64, weak_type=True), viscosity=Array(0., dtype=float64, weak_type=True), has_fluid_params=False, integrator=<IntegratorType.EULER: 0>, cone=<ConeType.PYRAMIDAL: 0>, jacobian=<JacobianType.AUTO: 2>, solver=<SolverType.NEWTON: 2>, iterations=1, ls_iterations=6, disableflags=<DisableBit.EULERDAMP: 16384>)\n",
      "0.016\n"
     ]
    }
   ],
   "source": [
    "print(env_ppo.sys.opt)\n",
    "print(env_ppo.dt)"
   ]
  },
  {
   "cell_type": "code",
   "execution_count": null,
   "metadata": {},
   "outputs": [],
   "source": [
    "state = jit_reset(jax.random.PRNGKey(0))\n",
    "rollout = [state.pipeline_state]\n",
    "\n",
    "n_steps = 500"
   ]
  },
  {
   "cell_type": "code",
   "execution_count": null,
   "metadata": {},
   "outputs": [
    {
     "name": "stdout",
     "output_type": "stream",
     "text": [
      "{'fall': Array(0., dtype=float64), 'pose_error': Array(0., dtype=float64), 'reference_angular': Array(0., dtype=float64, weak_type=True), 'reference_com': Array(0., dtype=float64, weak_type=True), 'reference_end_effector': Array(0., dtype=float64, weak_type=True), 'reference_quaternions': Array(0., dtype=float64, weak_type=True), 'step_index': Array(0, dtype=int64, weak_type=True)}\n",
      "{'reward_tuple': {'reference_angular': Array(0., dtype=float64, weak_type=True), 'reference_com': Array(0., dtype=float64, weak_type=True), 'reference_end_effector': Array(0., dtype=float64, weak_type=True), 'reference_quaternions': Array(0., dtype=float64, weak_type=True)}, 'rng': Array([0, 0], dtype=uint32), 'steps': Array(0., dtype=float64, weak_type=True)}\n"
     ]
    }
   ],
   "source": [
    "print(state.metrics)\n",
    "print(state.info)"
   ]
  },
  {
   "cell_type": "code",
   "execution_count": null,
   "metadata": {},
   "outputs": [
    {
     "data": {
      "text/plain": [
       "Array([ 0.00000000e+00,  0.00000000e+00,  7.55213000e-01, -9.98753896e-01,\n",
       "       -1.56329212e-02, -4.73889973e-02,  7.41752800e-04, -4.27445096e-02,\n",
       "        3.45760197e-01, -3.68065505e-02, -8.77808113e-02, -4.45097357e-01,\n",
       "        5.87292821e-01, -6.20093130e-01,  5.01614525e-01,  7.95526112e-01,\n",
       "        1.76083421e+00,  7.17412330e-01, -4.33856011e-01, -9.74882088e-02,\n",
       "        9.90518623e-01, -2.96245206e-01, -4.99436438e-01, -5.57845626e-01,\n",
       "       -1.23311177e+00, -2.89100204e-01, -2.75415560e-01, -3.70020645e-01],      dtype=float64)"
      ]
     },
     "execution_count": 12,
     "metadata": {},
     "output_type": "execute_result"
    }
   ],
   "source": [
    "state.pipeline_state.qpos[:28]\n",
    "\n"
   ]
  },
  {
   "cell_type": "code",
   "execution_count": null,
   "metadata": {},
   "outputs": [
    {
     "data": {
      "text/plain": [
       "Array([0.08595606, 0.01209264, 0.80377791], dtype=float64)"
      ]
     },
     "execution_count": 13,
     "metadata": {},
     "output_type": "execute_result"
    }
   ],
   "source": [
    "state.pipeline_state.subtree_com[1]"
   ]
  },
  {
   "cell_type": "code",
   "execution_count": null,
   "metadata": {},
   "outputs": [
    {
     "data": {
      "text/plain": [
       "65"
      ]
     },
     "execution_count": 14,
     "metadata": {},
     "output_type": "execute_result"
    }
   ],
   "source": [
    "env_ppo.rollout_lenght"
   ]
  },
  {
   "cell_type": "code",
   "execution_count": null,
   "metadata": {},
   "outputs": [
    {
     "name": "stdout",
     "output_type": "stream",
     "text": [
      "time:  0.0\n",
      "Is rewards 0.9805423232932339\n",
      "time:  0.016\n",
      "Is rewards 0.9074530088893251\n",
      "time:  0.032000000000000015\n",
      "Is rewards 0.7533962709639589\n",
      "time:  0.04800000000000003\n",
      "Is rewards 0.6137754401926182\n",
      "time:  0.06400000000000004\n",
      "Is rewards 0.5328793881831122\n",
      "time:  0.08000000000000006\n",
      "Is rewards 0.4817678614451952\n",
      "time:  0.09600000000000007\n",
      "Is rewards 0.43205544674740237\n",
      "time:  0.11200000000000009\n",
      "Is rewards 0.38129860019396794\n",
      "time:  0.12800000000000009\n",
      "Is rewards 0.3211716635435505\n",
      "time:  0.1440000000000001\n",
      "Is rewards 0.27410996255239356\n",
      "time:  0.16000000000000011\n",
      "Is rewards 0.23600827828156504\n",
      "time:  0.17600000000000013\n",
      "Is rewards 0.18883418138216437\n",
      "time:  0.19200000000000014\n",
      "Is rewards 0.13963527025834427\n",
      "time:  0.20800000000000016\n",
      "Is rewards 0.08589304699171431\n",
      "time:  0.22400000000000017\n",
      "Is rewards 0.04081750195557517\n",
      "time:  0.24000000000000019\n",
      "Is rewards 0.016609606013763503\n",
      "time:  0.25600000000000017\n",
      "Is rewards 0.0060110245213699735\n",
      "time:  0.2720000000000002\n",
      "Is rewards 0.007052082906718633\n",
      "time:  0.2880000000000002\n",
      "Is rewards 0.004953467745865821\n",
      "time:  0.3040000000000002\n",
      "Is rewards 0.01077493545491995\n",
      "time:  0.32000000000000023\n",
      "Is rewards 0.01145133016707563\n",
      "time:  0.33600000000000024\n",
      "Is rewards 0.0019124854381602598\n",
      "time:  0.35200000000000026\n",
      "Is rewards 1.9152546289425923e-05\n",
      "time:  0.36800000000000027\n",
      "Is rewards 1.9038388676822392e-07\n",
      "time:  0.3840000000000003\n",
      "Is rewards 3.738483930997437e-09\n",
      "time:  0.4000000000000003\n",
      "Is rewards 0.001140255832198518\n",
      "time:  0.4160000000000003\n",
      "Is rewards 0.016863168781725044\n",
      "time:  0.43200000000000033\n",
      "Is rewards 0.036239204962967536\n",
      "time:  0.44800000000000034\n",
      "Is rewards 0.033975028742099775\n",
      "time:  0.46400000000000036\n",
      "Is rewards 0.049726982655290436\n",
      "time:  0.48000000000000037\n",
      "Is rewards 0.08008157441039215\n",
      "time:  0.4960000000000004\n",
      "Is rewards 0.07021274355554337\n",
      "time:  0.5120000000000003\n",
      "Is rewards 0.08095972436827577\n",
      "time:  0.5280000000000004\n",
      "Is rewards 0.08202935997259693\n",
      "time:  0.5440000000000004\n",
      "Is rewards 0.06892240103785434\n",
      "time:  0.5600000000000004\n",
      "Is rewards 0.0741516294322821\n",
      "time:  0.5760000000000004\n",
      "Is rewards 0.08605918465587536\n",
      "time:  0.5920000000000004\n",
      "Is rewards 0.07865985277700834\n",
      "time:  0.6080000000000004\n",
      "Is rewards 0.08213013016171813\n",
      "time:  0.6240000000000004\n",
      "Is rewards 0.07473388565251103\n",
      "time:  0.6400000000000005\n",
      "Is rewards 0.07894292517568705\n",
      "time:  0.6560000000000005\n",
      "Is rewards 0.07336108520673769\n",
      "time:  0.6720000000000005\n",
      "Is rewards 0.07106047276514238\n",
      "time:  0.6880000000000005\n",
      "Is rewards 0.0683539222812118\n",
      "time:  0.7040000000000005\n",
      "Is rewards 0.042947323998749114\n",
      "time:  0.7200000000000005\n",
      "Is rewards 0.0348574150696626\n",
      "time:  0.7360000000000005\n",
      "Is rewards 0.02198119832520967\n",
      "time:  0.7520000000000006\n",
      "Is rewards 0.01047228109871579\n",
      "time:  0.7680000000000006\n",
      "Is rewards 0.00391856686084976\n",
      "time:  0.7840000000000006\n",
      "Is rewards 0.0031988587740347167\n",
      "time:  0.8000000000000006\n",
      "Is rewards 0.0022997762272034144\n",
      "time:  0.8160000000000006\n",
      "Is rewards 0.0014192686418652981\n",
      "time:  0.8320000000000006\n",
      "Is rewards 0.0019280923861039738\n",
      "time:  0.8480000000000006\n",
      "Is rewards 0.0012636561683928105\n",
      "time:  0.8640000000000007\n",
      "Is rewards 0.00493972598716771\n",
      "time:  0.8800000000000007\n",
      "Is rewards 0.005935579905073225\n",
      "time:  0.8960000000000007\n",
      "Is rewards 0.009802627024660995\n",
      "time:  0.9120000000000007\n",
      "Is rewards 0.010338280624094169\n",
      "time:  0.9280000000000007\n",
      "Is rewards 0.012267490198151033\n",
      "time:  0.9440000000000007\n",
      "Is rewards 0.010051881747760102\n",
      "time:  0.9600000000000007\n",
      "0.9760000000000008\n"
     ]
    }
   ],
   "source": [
    "for i in range(env_ppo.rollout_lenght-1):\n",
    "    \n",
    "    #print(i)\n",
    "    ctrl = -0.1 * jp.ones(env_ppo.sys.nu)\n",
    "    #time\n",
    "    #time = state.pipeline_state.time\n",
    "    \n",
    "    print('time: ',state.pipeline_state.time)    \n",
    "         \n",
    "    \n",
    "    state = jit_step(state,ctrl)\n",
    "    \n",
    "    #print(state.pipeline_state.geom_xpos)\n",
    "    #print(\"Is done\", state.done)\n",
    "    if state.done:\n",
    "        print(state.pipeline_state.time)\n",
    "        break\n",
    "    \n",
    "    print(\"Is rewards\", state.reward)\n",
    "    # print(\"Is quat\", state.metrics['reference_quaternions'])\n",
    "    # print(\"Is ang\",state.metrics['reference_angular'])\n",
    "    # print(\"Is ee\", state.metrics['reference_end_effector'])\n",
    "    # print(\"Is com\", state.metrics['reference_com'])\n",
    "\n",
    "    #print(\"reward tuple\", state.info['reward_tuple'])\n",
    "    #print(\"Is \", state.metrics['pose_error'])\n",
    "    #print(\"Is \", state.metrics['step_index'])\n",
    "    \n",
    "    rollout.append(state.pipeline_state)"
   ]
  },
  {
   "cell_type": "code",
   "execution_count": null,
   "metadata": {},
   "outputs": [
    {
     "data": {
      "text/html": [
       "<!DOCTYPE html>\n",
       "<html>\n",
       "\n",
       "  <head>\n",
       "    <title>Brax visualizer</title>\n",
       "    <link rel=\"shortcut icon\" type=\"image/x-icon\" href=\"/favicon.ico\">\n",
       "  </head>\n",
       "\n",
       "  <style>\n",
       "    body {\n",
       "      margin: 0;\n",
       "      padding: 0;\n",
       "    }\n",
       "\n",
       "    #brax-viewer {\n",
       "      height: 480px;\n",
       "      margin: 0;\n",
       "      padding: 0;\n",
       "    }\n",
       "  </style>\n",
       "  <script async src=\"https://unpkg.com/es-module-shims@1.6.3/dist/es-module-shims.js\"></script>\n",
       "\n",
       "  <script type=\"importmap\">\n",
       "    {\n",
       "      \"imports\": {\n",
       "        \"three\": \"https://unpkg.com/three@0.150.1/build/three.module.js\",\n",
       "        \"three/addons/\": \"https://unpkg.com/three@0.150.1/examples/jsm/\",\n",
       "        \"lilgui\": \"https://cdn.jsdelivr.net/npm/lil-gui@0.18.0/+esm\",\n",
       "        \"viewer\": \"https://cdn.jsdelivr.net/gh/google/brax@v0.10.4/brax/visualizer/js/viewer.js\"\n",
       "      }\n",
       "    }\n",
       "  </script>\n",
       "\n",
       "  <script src=\"https://unpkg.com/pako@2.1.0/dist/pako.min.js\"></script>\n",
       "\n",
       "  <script type=\"application/javascript\">\n",
       "  var system = \"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\";\n",
       "  // decode base64 (convert ascii to binary)\n",
       "  system = atob(system);\n",
       "  // convert binary string to character-number array\n",
       "  system = system.split('').map(function(x){return x.charCodeAt(0);});\n",
       "  // decompress\n",
       "  system = pako.inflate(system);\n",
       "  // convert gunzipped byteArray back to ascii string\n",
       "  system = new TextDecoder(\"utf-8\").decode(system);\n",
       "  // and load json\n",
       "  system = JSON.parse(system);\n",
       "  </script>\n",
       "\n",
       "  <body>\n",
       "\n",
       "    <div id=\"brax-viewer\"></div>\n",
       "\n",
       "    <script type=\"module\">\n",
       "      import {Viewer} from 'viewer';\n",
       "      const domElement = document.getElementById(\"brax-viewer\");\n",
       "      var viewer = new Viewer(domElement, system);\n",
       "    </script>\n",
       "\n",
       "  </body>\n",
       "\n",
       "</html>"
      ],
      "text/plain": [
       "<IPython.core.display.HTML object>"
      ]
     },
     "execution_count": 19,
     "metadata": {},
     "output_type": "execute_result"
    }
   ],
   "source": [
    "HTML(html.render(env_ppo.sys.tree_replace({'opt.timestep': env_ppo.dt}), rollout))"
   ]
  },
  {
   "cell_type": "code",
   "execution_count": null,
   "metadata": {},
   "outputs": [],
   "source": []
  }
 ],
 "metadata": {
  "kernelspec": {
   "display_name": "Python 3 (ipykernel)",
   "language": "python",
   "name": "python3"
  },
  "language_info": {
   "codemirror_mode": {
    "name": "ipython",
    "version": 3
   },
   "file_extension": ".py",
   "mimetype": "text/x-python",
   "name": "python",
   "nbconvert_exporter": "python",
   "pygments_lexer": "ipython3",
   "version": "3.11.9"
  }
 },
 "nbformat": 4,
 "nbformat_minor": 4
}
