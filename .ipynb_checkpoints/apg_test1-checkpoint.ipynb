{
 "cells": [
  {
   "cell_type": "code",
   "execution_count": 1,
   "metadata": {},
   "outputs": [],
   "source": [
    "from datetime import datetime\n",
    "import functools\n",
    "from IPython.display import HTML\n",
    "import jax\n",
    "from jax import numpy as jp\n",
    "import numpy as np\n",
    "from typing import Any, Dict, Sequence, Tuple, Union\n",
    "from brax import base\n",
    "from brax import envs\n",
    "from brax import math\n",
    "from brax.base import Base, Motion, Transform\n",
    "from brax.envs.base import Env, PipelineEnv, State\n",
    "from brax.mjx.base import State as MjxState\n",
    "# from brax.training.agents.apg import train as apg\n",
    "# from brax.training.agents.apg import networks as apg_networks\n",
    "from brax.io import html, mjcf, model\n",
    "from etils import epath\n",
    "from flax import struct\n",
    "from matplotlib import pyplot as plt\n",
    "import mediapy as media\n",
    "from ml_collections import config_dict\n",
    "import mujoco\n",
    "from mujoco import mjx\n",
    "from jax import vmap\n",
    "import jax.random\n",
    "from jax import lax"
   ]
  },
  {
   "cell_type": "code",
   "execution_count": 2,
   "metadata": {},
   "outputs": [
    {
     "name": "stdout",
     "output_type": "stream",
     "text": [
      "Setting environment variable to use GPU rendering:\n",
      "env: MUJOCO_GL=egl\n"
     ]
    }
   ],
   "source": [
    "import distutils.util\n",
    "import os\n",
    "xla_flags = os.environ.get('XLA_FLAGS', '')\n",
    "xla_flags += ' --xla_gpu_triton_gemm_any=True'\n",
    "os.environ['XLA_FLAGS'] = xla_flags\n",
    "print('Setting environment variable to use GPU rendering:')\n",
    "%env MUJOCO_GL=egl"
   ]
  },
  {
   "cell_type": "code",
   "execution_count": 3,
   "metadata": {},
   "outputs": [],
   "source": [
    "import os\n",
    "os.environ[\"XLA_PYTHON_CLIENT_MEM_FRACTION\"] = \"0.8\" # 0.9 causes too much lag. \n",
    "from datetime import datetime\n",
    "import functools\n",
    "\n",
    "# Math\n",
    "import jax.numpy as jp\n",
    "import numpy as np\n",
    "import jax\n",
    "from jax import config # Analytical gradients work much better with double precision.\n",
    "config.update(\"jax_debug_nans\", True)\n",
    "config.update(\"jax_enable_x64\", True)\n",
    "config.update('jax_default_matmul_precision', jax.lax.Precision.HIGH)\n",
    "from brax import math\n",
    "\n",
    "# Sim\n",
    "import mujoco\n",
    "import mujoco.mjx as mjx\n",
    "\n",
    "# Brax\n",
    "from brax import envs\n",
    "from brax.base import Motion, Transform\n",
    "from brax.io import mjcf\n",
    "from brax.envs.base import PipelineEnv, State\n",
    "from brax.mjx.pipeline import _reformat_contact\n",
    "from brax.training.acme import running_statistics\n",
    "from brax.io import model\n",
    "\n",
    "# Algorithms\n",
    "# from brax.training.agents.apg import train as apg\n",
    "# from brax.training.agents.apg import networks as apg_networks\n",
    "from brax.training.agents.ppo import train as ppo\n",
    "\n",
    "# Supporting\n",
    "from etils import epath\n",
    "import mediapy as media\n",
    "import matplotlib.pyplot as plt\n",
    "from ml_collections import config_dict\n",
    "from typing import Any, Dict\n",
    "\n"
   ]
  },
  {
   "cell_type": "code",
   "execution_count": 4,
   "metadata": {},
   "outputs": [],
   "source": [
    "from utils.SimpleConverter import SimpleConverter\n",
    "from agent_mimic_env.agent_template import HumanoidTemplate\n",
    "from agent_mimic_env.agent_eval_template import HumanoidEvalTemplate\n",
    "from agent_mimic_env.agent_training_template import HumanoidTrainTemplate\n",
    "from agent_mimic_env.agent_test_apg import HumanoidAPGTest\n",
    "from utils.util_data import *\n",
    "from copy import deepcopy"
   ]
  },
  {
   "cell_type": "code",
   "execution_count": 5,
   "metadata": {},
   "outputs": [],
   "source": [
    "import agent_mimic_env\n",
    "from agent_mimic_env import register_mimic_env"
   ]
  },
  {
   "cell_type": "code",
   "execution_count": 6,
   "metadata": {},
   "outputs": [
    {
     "name": "stdout",
     "output_type": "stream",
     "text": [
      "gpu\n"
     ]
    }
   ],
   "source": [
    "from jax.lib import xla_bridge\n",
    "print(xla_bridge.get_backend().platform)"
   ]
  },
  {
   "cell_type": "code",
   "execution_count": 7,
   "metadata": {},
   "outputs": [],
   "source": [
    "import yaml\n",
    "from box import Box\n",
    "# Path to your YAML file\n",
    "yaml_file_path = 'config_params/punch.yaml'\n",
    "# Load the YAML file\n",
    "with open(yaml_file_path, 'r') as file:\n",
    "    args = Box(yaml.safe_load(file))"
   ]
  },
  {
   "cell_type": "code",
   "execution_count": 8,
   "metadata": {},
   "outputs": [],
   "source": [
    "from agent_mimic_env.pds_controllers_agents import feedback_pd_controller, stable_pd_controller_action"
   ]
  },
  {
   "cell_type": "code",
   "execution_count": 9,
   "metadata": {},
   "outputs": [
    {
     "name": "stdout",
     "output_type": "stream",
     "text": [
      "qpos init (65, 35)\n",
      "qvel init (65, 34)\n"
     ]
    }
   ],
   "source": [
    "\n",
    "env_replay,env_eval, env,env_apg=register_mimic_env(args)\n",
    "\n",
    "#for the eval here we run the trained policy\n",
    "jit_reset = jax.jit(env_eval.reset)\n",
    "jit_step = jax.jit(env_eval.step)\n",
    "\n",
    "env_eval.set_pd_callback(stable_pd_controller_action)\n",
    "\n",
    "env.set_pd_callback(stable_pd_controller_action)\n",
    "#env_apg.set_pd_callback(stable_pd_controller_action)"
   ]
  },
  {
   "cell_type": "code",
   "execution_count": 10,
   "metadata": {},
   "outputs": [
    {
     "name": "stdout",
     "output_type": "stream",
     "text": [
      "65\n",
      "0.4\n"
     ]
    }
   ],
   "source": [
    "episode_len = env_eval.rollout_lenght\n",
    "print(episode_len)\n",
    "print(env.err_threshold)"
   ]
  },
  {
   "cell_type": "code",
   "execution_count": 11,
   "metadata": {},
   "outputs": [],
   "source": [
    "from APGBRAX import train as apg\n",
    "from APGBRAX import networks as apg_networks\n",
    "\n",
    "# from brax.training.agents.apg import train as apg\n",
    "# from brax.training.agents.apg import networks as apg_networks"
   ]
  },
  {
   "cell_type": "code",
   "execution_count": 12,
   "metadata": {},
   "outputs": [],
   "source": [
    "# make_networks_factory = functools.partial(\n",
    "#     apg_networks.make_apg_networks,\n",
    "#     hidden_layer_sizes=(512,256)\n",
    "# )\n",
    "# make_networks_factory \n",
    "\n",
    "make_networks_factory = functools.partial(\n",
    "    apg_networks.make_apg_networks,\n",
    "    hidden_layer_sizes=(512, 256)\n",
    ")\n"
   ]
  },
  {
   "cell_type": "code",
   "execution_count": 13,
   "metadata": {},
   "outputs": [],
   "source": [
    "# epochs = 1000\n",
    "\n",
    "# train_fn = functools.partial(apg.train,\n",
    "#                              episode_length=episode_len-1,\n",
    "#                              policy_updates=epochs,\n",
    "#                              horizon_length=32,\n",
    "#                              num_envs=args.num_envs,\n",
    "#                              learning_rate=args.lr,\n",
    "#                              schedule_decay=0.995,\n",
    "#                              num_eval_envs=args.num_eval_envs,\n",
    "#                              num_evals=10 + 1,\n",
    "#                              use_schedule=args.use_lr_scheduler,\n",
    "#                              use_float64=True,\n",
    "#                              normalize_observations=args.normalize_observations,\n",
    "#                              max_gradient_norm=args.max_grad_norm,\n",
    "#                              network_factory=make_networks_factory,\n",
    "#                              seed=args.seed)\n",
    "\n",
    "\n",
    "epochs = 499\n",
    "\n",
    "\n",
    "train_fn = functools.partial(apg.train,\n",
    "                             episode_length=episode_len-1,\n",
    "                             policy_updates=epochs,\n",
    "                             horizon_length=32,\n",
    "                             num_envs=264,\n",
    "                             learning_rate=1.5e-4,\n",
    "                             schedule_decay=0.995,\n",
    "                             num_eval_envs=64,\n",
    "                             num_evals=10 + 1,\n",
    "                             use_float64=True,\n",
    "                             normalize_observations=True,\n",
    "                             network_factory=make_networks_factory)\n",
    "\n",
    "\n",
    "\n"
   ]
  },
  {
   "cell_type": "code",
   "execution_count": 14,
   "metadata": {},
   "outputs": [
    {
     "name": "stdout",
     "output_type": "stream",
     "text": [
      "ref_qp(Array(35, dtype=int64, weak_type=True),)\n",
      "ref_qv(Array(34, dtype=int64, weak_type=True),)\n",
      "ref_qp(Array(35, dtype=int64, weak_type=True),)\n",
      "ref_qv(Array(34, dtype=int64, weak_type=True),)\n",
      "before metrics\n",
      "ref_qp(Array(35, dtype=int64),)\n",
      "ref_qv(Array(34, dtype=int64),)\n"
     ]
    },
    {
     "name": "stderr",
     "output_type": "stream",
     "text": [
      "/tmp/ipykernel_13803/3149255722.py:18: UserWarning: Attempting to set identical low and high xlims makes transformation singular; automatically expanding.\n",
      "  plt.xlim([0, num_steps* 1.25])\n"
     ]
    },
    {
     "data": {
      "image/png": "[encoded data removed]",
      "text/plain": [
       "<Figure size 1000x500 with 1 Axes>"
      ]
     },
     "metadata": {},
     "output_type": "display_data"
    },
    {
     "name": "stdout",
     "output_type": "stream",
     "text": [
      "after metrics\n",
      "ref_qv(Array(34, dtype=int64),)\n",
      "ref_qp(Array(35, dtype=int64),)\n",
      "after scramble time\n",
      "it 0\n",
      "before epoch\n",
      "reached the minibatch step:{} 1\n",
      "loss\n",
      "after f\n",
      "env step\n",
      "Actions: {} Traced<ShapedArray(float64[264,28])>with<DynamicJaxprTrace(level=4/1)>\n",
      "New state obs: {} Traced<ShapedArray(float64[264,193])>with<DynamicJaxprTrace(level=4/1)>\n"
     ]
    },
    {
     "ename": "ValueError",
     "evalue": "safe_zip() argument 2 is longer than argument 1",
     "output_type": "error",
     "traceback": [
      "\u001b[0;31m---------------------------------------------------------------------------\u001b[0m",
      "\u001b[0;31mJaxStackTraceBeforeTransformation\u001b[0m         Traceback (most recent call last)",
      "File \u001b[0;32m<frozen runpy>:198\u001b[0m, in \u001b[0;36m_run_module_as_main\u001b[0;34m()\u001b[0m\n",
      "File \u001b[0;32m<frozen runpy>:88\u001b[0m, in \u001b[0;36m_run_code\u001b[0;34m()\u001b[0m\n",
      "File \u001b[0;32m~/anaconda3/envs/newBrax/lib/python3.11/site-packages/ipykernel_launcher.py:18\u001b[0m\n\u001b[1;32m     16\u001b[0m \u001b[38;5;28;01mfrom\u001b[39;00m \u001b[38;5;21;01mipykernel\u001b[39;00m \u001b[38;5;28;01mimport\u001b[39;00m kernelapp \u001b[38;5;28;01mas\u001b[39;00m app\n\u001b[0;32m---> 18\u001b[0m app\u001b[38;5;241m.\u001b[39mlaunch_new_instance()\n",
      "File \u001b[0;32m~/anaconda3/envs/newBrax/lib/python3.11/site-packages/traitlets/config/application.py:1075\u001b[0m, in \u001b[0;36mlaunch_instance\u001b[0;34m()\u001b[0m\n\u001b[1;32m   1074\u001b[0m app\u001b[38;5;241m.\u001b[39minitialize(argv)\n\u001b[0;32m-> 1075\u001b[0m app\u001b[38;5;241m.\u001b[39mstart()\n",
      "File \u001b[0;32m~/anaconda3/envs/newBrax/lib/python3.11/site-packages/ipykernel/kernelapp.py:739\u001b[0m, in \u001b[0;36mstart\u001b[0;34m()\u001b[0m\n\u001b[1;32m    738\u001b[0m \u001b[38;5;28;01mtry\u001b[39;00m:\n\u001b[0;32m--> 739\u001b[0m     \u001b[38;5;28mself\u001b[39m\u001b[38;5;241m.\u001b[39mio_loop\u001b[38;5;241m.\u001b[39mstart()\n\u001b[1;32m    740\u001b[0m \u001b[38;5;28;01mexcept\u001b[39;00m \u001b[38;5;167;01mKeyboardInterrupt\u001b[39;00m:\n",
      "File \u001b[0;32m~/anaconda3/envs/newBrax/lib/python3.11/site-packages/tornado/platform/asyncio.py:205\u001b[0m, in \u001b[0;36mstart\u001b[0;34m()\u001b[0m\n\u001b[1;32m    204\u001b[0m \u001b[38;5;28;01mdef\u001b[39;00m \u001b[38;5;21mstart\u001b[39m(\u001b[38;5;28mself\u001b[39m) \u001b[38;5;241m-\u001b[39m\u001b[38;5;241m>\u001b[39m \u001b[38;5;28;01mNone\u001b[39;00m:\n\u001b[0;32m--> 205\u001b[0m     \u001b[38;5;28mself\u001b[39m\u001b[38;5;241m.\u001b[39masyncio_loop\u001b[38;5;241m.\u001b[39mrun_forever()\n",
      "File \u001b[0;32m~/anaconda3/envs/newBrax/lib/python3.11/asyncio/base_events.py:608\u001b[0m, in \u001b[0;36mrun_forever\u001b[0;34m()\u001b[0m\n\u001b[1;32m    607\u001b[0m \u001b[38;5;28;01mwhile\u001b[39;00m \u001b[38;5;28;01mTrue\u001b[39;00m:\n\u001b[0;32m--> 608\u001b[0m     \u001b[38;5;28mself\u001b[39m\u001b[38;5;241m.\u001b[39m_run_once()\n\u001b[1;32m    609\u001b[0m     \u001b[38;5;28;01mif\u001b[39;00m \u001b[38;5;28mself\u001b[39m\u001b[38;5;241m.\u001b[39m_stopping:\n",
      "File \u001b[0;32m~/anaconda3/envs/newBrax/lib/python3.11/asyncio/base_events.py:1936\u001b[0m, in \u001b[0;36m_run_once\u001b[0;34m()\u001b[0m\n\u001b[1;32m   1935\u001b[0m     \u001b[38;5;28;01melse\u001b[39;00m:\n\u001b[0;32m-> 1936\u001b[0m         handle\u001b[38;5;241m.\u001b[39m_run()\n\u001b[1;32m   1937\u001b[0m handle \u001b[38;5;241m=\u001b[39m \u001b[38;5;28;01mNone\u001b[39;00m\n",
      "File \u001b[0;32m~/anaconda3/envs/newBrax/lib/python3.11/asyncio/events.py:84\u001b[0m, in \u001b[0;36m_run\u001b[0;34m()\u001b[0m\n\u001b[1;32m     83\u001b[0m \u001b[38;5;28;01mtry\u001b[39;00m:\n\u001b[0;32m---> 84\u001b[0m     \u001b[38;5;28mself\u001b[39m\u001b[38;5;241m.\u001b[39m_context\u001b[38;5;241m.\u001b[39mrun(\u001b[38;5;28mself\u001b[39m\u001b[38;5;241m.\u001b[39m_callback, \u001b[38;5;241m*\u001b[39m\u001b[38;5;28mself\u001b[39m\u001b[38;5;241m.\u001b[39m_args)\n\u001b[1;32m     85\u001b[0m \u001b[38;5;28;01mexcept\u001b[39;00m (\u001b[38;5;167;01mSystemExit\u001b[39;00m, \u001b[38;5;167;01mKeyboardInterrupt\u001b[39;00m):\n",
      "File \u001b[0;32m~/anaconda3/envs/newBrax/lib/python3.11/site-packages/ipykernel/kernelbase.py:545\u001b[0m, in \u001b[0;36mdispatch_queue\u001b[0;34m()\u001b[0m\n\u001b[1;32m    544\u001b[0m \u001b[38;5;28;01mtry\u001b[39;00m:\n\u001b[0;32m--> 545\u001b[0m     \u001b[38;5;28;01mawait\u001b[39;00m \u001b[38;5;28mself\u001b[39m\u001b[38;5;241m.\u001b[39mprocess_one()\n\u001b[1;32m    546\u001b[0m \u001b[38;5;28;01mexcept\u001b[39;00m \u001b[38;5;167;01mException\u001b[39;00m:\n",
      "File \u001b[0;32m~/anaconda3/envs/newBrax/lib/python3.11/site-packages/ipykernel/kernelbase.py:534\u001b[0m, in \u001b[0;36mprocess_one\u001b[0;34m()\u001b[0m\n\u001b[1;32m    533\u001b[0m         \u001b[38;5;28;01mreturn\u001b[39;00m\n\u001b[0;32m--> 534\u001b[0m \u001b[38;5;28;01mawait\u001b[39;00m dispatch(\u001b[38;5;241m*\u001b[39margs)\n",
      "File \u001b[0;32m~/anaconda3/envs/newBrax/lib/python3.11/site-packages/ipykernel/kernelbase.py:437\u001b[0m, in \u001b[0;36mdispatch_shell\u001b[0;34m()\u001b[0m\n\u001b[1;32m    436\u001b[0m     \u001b[38;5;28;01mif\u001b[39;00m inspect\u001b[38;5;241m.\u001b[39misawaitable(result):\n\u001b[0;32m--> 437\u001b[0m         \u001b[38;5;28;01mawait\u001b[39;00m result\n\u001b[1;32m    438\u001b[0m \u001b[38;5;28;01mexcept\u001b[39;00m \u001b[38;5;167;01mException\u001b[39;00m:\n",
      "File \u001b[0;32m~/anaconda3/envs/newBrax/lib/python3.11/site-packages/ipykernel/ipkernel.py:359\u001b[0m, in \u001b[0;36mexecute_request\u001b[0;34m()\u001b[0m\n\u001b[1;32m    358\u001b[0m \u001b[38;5;28mself\u001b[39m\u001b[38;5;241m.\u001b[39m_associate_new_top_level_threads_with(parent_header)\n\u001b[0;32m--> 359\u001b[0m \u001b[38;5;28;01mawait\u001b[39;00m \u001b[38;5;28msuper\u001b[39m()\u001b[38;5;241m.\u001b[39mexecute_request(stream, ident, parent)\n",
      "File \u001b[0;32m~/anaconda3/envs/newBrax/lib/python3.11/site-packages/ipykernel/kernelbase.py:778\u001b[0m, in \u001b[0;36mexecute_request\u001b[0;34m()\u001b[0m\n\u001b[1;32m    777\u001b[0m \u001b[38;5;28;01mif\u001b[39;00m inspect\u001b[38;5;241m.\u001b[39misawaitable(reply_content):\n\u001b[0;32m--> 778\u001b[0m     reply_content \u001b[38;5;241m=\u001b[39m \u001b[38;5;28;01mawait\u001b[39;00m reply_content\n\u001b[1;32m    780\u001b[0m \u001b[38;5;66;03m# Flush output before sending the reply.\u001b[39;00m\n",
      "File \u001b[0;32m~/anaconda3/envs/newBrax/lib/python3.11/site-packages/ipykernel/ipkernel.py:446\u001b[0m, in \u001b[0;36mdo_execute\u001b[0;34m()\u001b[0m\n\u001b[1;32m    445\u001b[0m \u001b[38;5;28;01mif\u001b[39;00m accepts_params[\u001b[38;5;124m\"\u001b[39m\u001b[38;5;124mcell_id\u001b[39m\u001b[38;5;124m\"\u001b[39m]:\n\u001b[0;32m--> 446\u001b[0m     res \u001b[38;5;241m=\u001b[39m shell\u001b[38;5;241m.\u001b[39mrun_cell(\n\u001b[1;32m    447\u001b[0m         code,\n\u001b[1;32m    448\u001b[0m         store_history\u001b[38;5;241m=\u001b[39mstore_history,\n\u001b[1;32m    449\u001b[0m         silent\u001b[38;5;241m=\u001b[39msilent,\n\u001b[1;32m    450\u001b[0m         cell_id\u001b[38;5;241m=\u001b[39mcell_id,\n\u001b[1;32m    451\u001b[0m     )\n\u001b[1;32m    452\u001b[0m \u001b[38;5;28;01melse\u001b[39;00m:\n",
      "File \u001b[0;32m~/anaconda3/envs/newBrax/lib/python3.11/site-packages/ipykernel/zmqshell.py:549\u001b[0m, in \u001b[0;36mrun_cell\u001b[0;34m()\u001b[0m\n\u001b[1;32m    548\u001b[0m \u001b[38;5;28mself\u001b[39m\u001b[38;5;241m.\u001b[39m_last_traceback \u001b[38;5;241m=\u001b[39m \u001b[38;5;28;01mNone\u001b[39;00m\n\u001b[0;32m--> 549\u001b[0m \u001b[38;5;28;01mreturn\u001b[39;00m \u001b[38;5;28msuper\u001b[39m()\u001b[38;5;241m.\u001b[39mrun_cell(\u001b[38;5;241m*\u001b[39margs, \u001b[38;5;241m*\u001b[39m\u001b[38;5;241m*\u001b[39mkwargs)\n",
      "File \u001b[0;32m~/anaconda3/envs/newBrax/lib/python3.11/site-packages/IPython/core/interactiveshell.py:3075\u001b[0m, in \u001b[0;36mrun_cell\u001b[0;34m()\u001b[0m\n\u001b[1;32m   3074\u001b[0m \u001b[38;5;28;01mtry\u001b[39;00m:\n\u001b[0;32m-> 3075\u001b[0m     result \u001b[38;5;241m=\u001b[39m \u001b[38;5;28mself\u001b[39m\u001b[38;5;241m.\u001b[39m_run_cell(\n\u001b[1;32m   3076\u001b[0m         raw_cell, store_history, silent, shell_futures, cell_id\n\u001b[1;32m   3077\u001b[0m     )\n\u001b[1;32m   3078\u001b[0m \u001b[38;5;28;01mfinally\u001b[39;00m:\n",
      "File \u001b[0;32m~/anaconda3/envs/newBrax/lib/python3.11/site-packages/IPython/core/interactiveshell.py:3130\u001b[0m, in \u001b[0;36m_run_cell\u001b[0;34m()\u001b[0m\n\u001b[1;32m   3129\u001b[0m \u001b[38;5;28;01mtry\u001b[39;00m:\n\u001b[0;32m-> 3130\u001b[0m     result \u001b[38;5;241m=\u001b[39m runner(coro)\n\u001b[1;32m   3131\u001b[0m \u001b[38;5;28;01mexcept\u001b[39;00m \u001b[38;5;167;01mBaseException\u001b[39;00m \u001b[38;5;28;01mas\u001b[39;00m e:\n",
      "File \u001b[0;32m~/anaconda3/envs/newBrax/lib/python3.11/site-packages/IPython/core/async_helpers.py:129\u001b[0m, in \u001b[0;36m_pseudo_sync_runner\u001b[0;34m()\u001b[0m\n\u001b[1;32m    128\u001b[0m \u001b[38;5;28;01mtry\u001b[39;00m:\n\u001b[0;32m--> 129\u001b[0m     coro\u001b[38;5;241m.\u001b[39msend(\u001b[38;5;28;01mNone\u001b[39;00m)\n\u001b[1;32m    130\u001b[0m \u001b[38;5;28;01mexcept\u001b[39;00m \u001b[38;5;167;01mStopIteration\u001b[39;00m \u001b[38;5;28;01mas\u001b[39;00m exc:\n",
      "File \u001b[0;32m~/anaconda3/envs/newBrax/lib/python3.11/site-packages/IPython/core/interactiveshell.py:3334\u001b[0m, in \u001b[0;36mrun_cell_async\u001b[0;34m()\u001b[0m\n\u001b[1;32m   3331\u001b[0m interactivity \u001b[38;5;241m=\u001b[39m \u001b[38;5;124m\"\u001b[39m\u001b[38;5;124mnone\u001b[39m\u001b[38;5;124m\"\u001b[39m \u001b[38;5;28;01mif\u001b[39;00m silent \u001b[38;5;28;01melse\u001b[39;00m \u001b[38;5;28mself\u001b[39m\u001b[38;5;241m.\u001b[39mast_node_interactivity\n\u001b[0;32m-> 3334\u001b[0m has_raised \u001b[38;5;241m=\u001b[39m \u001b[38;5;28;01mawait\u001b[39;00m \u001b[38;5;28mself\u001b[39m\u001b[38;5;241m.\u001b[39mrun_ast_nodes(code_ast\u001b[38;5;241m.\u001b[39mbody, cell_name,\n\u001b[1;32m   3335\u001b[0m        interactivity\u001b[38;5;241m=\u001b[39minteractivity, compiler\u001b[38;5;241m=\u001b[39mcompiler, result\u001b[38;5;241m=\u001b[39mresult)\n\u001b[1;32m   3337\u001b[0m \u001b[38;5;28mself\u001b[39m\u001b[38;5;241m.\u001b[39mlast_execution_succeeded \u001b[38;5;241m=\u001b[39m \u001b[38;5;129;01mnot\u001b[39;00m has_raised\n",
      "File \u001b[0;32m~/anaconda3/envs/newBrax/lib/python3.11/site-packages/IPython/core/interactiveshell.py:3517\u001b[0m, in \u001b[0;36mrun_ast_nodes\u001b[0;34m()\u001b[0m\n\u001b[1;32m   3516\u001b[0m     asy \u001b[38;5;241m=\u001b[39m compare(code)\n\u001b[0;32m-> 3517\u001b[0m \u001b[38;5;28;01mif\u001b[39;00m \u001b[38;5;28;01mawait\u001b[39;00m \u001b[38;5;28mself\u001b[39m\u001b[38;5;241m.\u001b[39mrun_code(code, result, async_\u001b[38;5;241m=\u001b[39masy):\n\u001b[1;32m   3518\u001b[0m     \u001b[38;5;28;01mreturn\u001b[39;00m \u001b[38;5;28;01mTrue\u001b[39;00m\n",
      "File \u001b[0;32m~/anaconda3/envs/newBrax/lib/python3.11/site-packages/IPython/core/interactiveshell.py:3577\u001b[0m, in \u001b[0;36mrun_code\u001b[0;34m()\u001b[0m\n\u001b[1;32m   3576\u001b[0m     \u001b[38;5;28;01melse\u001b[39;00m:\n\u001b[0;32m-> 3577\u001b[0m         exec(code_obj, \u001b[38;5;28mself\u001b[39m\u001b[38;5;241m.\u001b[39muser_global_ns, \u001b[38;5;28mself\u001b[39m\u001b[38;5;241m.\u001b[39muser_ns)\n\u001b[1;32m   3578\u001b[0m \u001b[38;5;28;01mfinally\u001b[39;00m:\n\u001b[1;32m   3579\u001b[0m     \u001b[38;5;66;03m# Reset our crash handler in place\u001b[39;00m\n",
      "Cell \u001b[0;32mIn[14], line 39\u001b[0m\n\u001b[1;32m     36\u001b[0m   plt\u001b[38;5;241m.\u001b[39mshow()\n\u001b[0;32m---> 39\u001b[0m make_inference_fn, params, _\u001b[38;5;241m=\u001b[39m train_fn(environment\u001b[38;5;241m=\u001b[39menv_apg,\n\u001b[1;32m     40\u001b[0m                                        progress_fn\u001b[38;5;241m=\u001b[39mprogress,\n\u001b[1;32m     41\u001b[0m                                        eval_env\u001b[38;5;241m=\u001b[39menv_apg)\n\u001b[1;32m     43\u001b[0m \u001b[38;5;28mprint\u001b[39m(\u001b[38;5;124mf\u001b[39m\u001b[38;5;124m'\u001b[39m\u001b[38;5;124mtime to jit: \u001b[39m\u001b[38;5;132;01m{\u001b[39;00mtimes[\u001b[38;5;241m1\u001b[39m]\u001b[38;5;250m \u001b[39m\u001b[38;5;241m-\u001b[39m\u001b[38;5;250m \u001b[39mtimes[\u001b[38;5;241m0\u001b[39m]\u001b[38;5;132;01m}\u001b[39;00m\u001b[38;5;124m'\u001b[39m)\n",
      "File \u001b[0;32m~/workspace/RLPhysics/Physics-Based-RL/APGBRAX/train.py:396\u001b[0m, in \u001b[0;36mtrain\u001b[0;34m()\u001b[0m\n\u001b[1;32m    394\u001b[0m \u001b[38;5;28mprint\u001b[39m(\u001b[38;5;124m'\u001b[39m\u001b[38;5;124mit\u001b[39m\u001b[38;5;124m'\u001b[39m, it)\n\u001b[1;32m    395\u001b[0m (training_state, env_state, training_metrics, epoch_key) \u001b[38;5;241m=\u001b[39m (\n\u001b[0;32m--> 396\u001b[0m     training_epoch_with_timing(training_state, env_state, epoch_key)\n\u001b[1;32m    397\u001b[0m )\n\u001b[1;32m    398\u001b[0m \u001b[38;5;28mprint\u001b[39m(\u001b[38;5;124m'\u001b[39m\u001b[38;5;124mafter training_epoch_with\u001b[39m\u001b[38;5;124m'\u001b[39m)\n",
      "File \u001b[0;32m~/workspace/RLPhysics/Physics-Based-RL/APGBRAX/train.py:308\u001b[0m, in \u001b[0;36mtraining_epoch_with_timing\u001b[0;34m()\u001b[0m\n\u001b[1;32m    304\u001b[0m \u001b[38;5;66;03m#print('trainstate', training_state)\u001b[39;00m\n\u001b[1;32m    305\u001b[0m \u001b[38;5;66;03m# print('env_state', env_state)\u001b[39;00m\n\u001b[1;32m    306\u001b[0m \u001b[38;5;66;03m# print('key', key)\u001b[39;00m\n\u001b[0;32m--> 308\u001b[0m (training_state, env_state, metrics, key) \u001b[38;5;241m=\u001b[39m training_epoch(\n\u001b[1;32m    309\u001b[0m     training_state, env_state, key\n\u001b[1;32m    310\u001b[0m )\n\u001b[1;32m    311\u001b[0m \u001b[38;5;28mprint\u001b[39m(\u001b[38;5;124m'\u001b[39m\u001b[38;5;124mafter epoch\u001b[39m\u001b[38;5;124m'\u001b[39m)\n",
      "File \u001b[0;32m~/workspace/RLPhysics/Physics-Based-RL/APGBRAX/train.py:266\u001b[0m, in \u001b[0;36mtraining_epoch\u001b[0;34m()\u001b[0m\n\u001b[1;32m    259\u001b[0m jax\u001b[38;5;241m.\u001b[39mdebug\u001b[38;5;241m.\u001b[39mprint(\u001b[38;5;124m\"\u001b[39m\u001b[38;5;124mjax trainng epoch step:\u001b[39m\u001b[38;5;132;01m{}\u001b[39;00m\u001b[38;5;124m\"\u001b[39m,\u001b[38;5;241m1\u001b[39m)\n\u001b[1;32m    260\u001b[0m (\n\u001b[1;32m    261\u001b[0m     optimizer_state,\n\u001b[1;32m    262\u001b[0m     normalizer_params,\n\u001b[1;32m    263\u001b[0m     policy_params,\n\u001b[1;32m    264\u001b[0m     key,\n\u001b[1;32m    265\u001b[0m     state_h,\n\u001b[0;32m--> 266\u001b[0m ), metrics \u001b[38;5;241m=\u001b[39m jax\u001b[38;5;241m.\u001b[39mlax\u001b[38;5;241m.\u001b[39mscan(\n\u001b[1;32m    267\u001b[0m     minibatch_step,\n\u001b[1;32m    268\u001b[0m     (\n\u001b[1;32m    269\u001b[0m         training_state\u001b[38;5;241m.\u001b[39moptimizer_state,\n\u001b[1;32m    270\u001b[0m         training_state\u001b[38;5;241m.\u001b[39mnormalizer_params,\n\u001b[1;32m    271\u001b[0m         training_state\u001b[38;5;241m.\u001b[39mpolicy_params,\n\u001b[1;32m    272\u001b[0m         key,\n\u001b[1;32m    273\u001b[0m         env_state,\n\u001b[1;32m    274\u001b[0m     ),\n\u001b[1;32m    275\u001b[0m     jnp\u001b[38;5;241m.\u001b[39marange(updates_per_epoch),\n\u001b[1;32m    276\u001b[0m )\n\u001b[1;32m    278\u001b[0m \u001b[38;5;28;01mreturn\u001b[39;00m (\n\u001b[1;32m    279\u001b[0m     TrainingState(\n\u001b[1;32m    280\u001b[0m         optimizer_state\u001b[38;5;241m=\u001b[39moptimizer_state,\n\u001b[0;32m   (...)\u001b[0m\n\u001b[1;32m    286\u001b[0m     key,\n\u001b[1;32m    287\u001b[0m )\n",
      "File \u001b[0;32m~/workspace/RLPhysics/Physics-Based-RL/APGBRAX/train.py:223\u001b[0m, in \u001b[0;36mminibatch_step\u001b[0;34m()\u001b[0m\n\u001b[1;32m    222\u001b[0m key, key_grad \u001b[38;5;241m=\u001b[39m jax\u001b[38;5;241m.\u001b[39mrandom\u001b[38;5;241m.\u001b[39msplit(key)\n\u001b[0;32m--> 223\u001b[0m grad, (obs, state_h) \u001b[38;5;241m=\u001b[39m loss_grad(\n\u001b[1;32m    224\u001b[0m     policy_params, normalizer_params, state, key_grad\n\u001b[1;32m    225\u001b[0m )\n\u001b[1;32m    226\u001b[0m \u001b[38;5;28mprint\u001b[39m(\u001b[38;5;124m'\u001b[39m\u001b[38;5;124mafter the minibatch_step\u001b[39m\u001b[38;5;124m'\u001b[39m)\n",
      "File \u001b[0;32m~/workspace/RLPhysics/Physics-Based-RL/APGBRAX/train.py:194\u001b[0m, in \u001b[0;36mloss\u001b[0;34m()\u001b[0m\n\u001b[1;32m    192\u001b[0m jax\u001b[38;5;241m.\u001b[39mdebug\u001b[38;5;241m.\u001b[39mprint(\u001b[38;5;124m'\u001b[39m\u001b[38;5;124msssf\u001b[39m\u001b[38;5;132;01m{}\u001b[39;00m\u001b[38;5;124m'\u001b[39m,\u001b[38;5;241m3\u001b[39m)\n\u001b[0;32m--> 194\u001b[0m (state_h, _), (rewards, obs) \u001b[38;5;241m=\u001b[39m jax\u001b[38;5;241m.\u001b[39mlax\u001b[38;5;241m.\u001b[39mscan(\n\u001b[1;32m    195\u001b[0m     f, (env_state, key), (jnp\u001b[38;5;241m.\u001b[39marange(horizon_length \u001b[38;5;241m/\u001b[39m\u001b[38;5;241m/\u001b[39m action_repeat))\n\u001b[1;32m    196\u001b[0m )\n\u001b[1;32m    197\u001b[0m \u001b[38;5;28mprint\u001b[39m(\u001b[38;5;124m'\u001b[39m\u001b[38;5;124mafter loss\u001b[39m\u001b[38;5;124m'\u001b[39m)\n",
      "File \u001b[0;32m~/workspace/RLPhysics/Physics-Based-RL/APGBRAX/train.py:177\u001b[0m, in \u001b[0;36menv_step\u001b[0;34m()\u001b[0m\n\u001b[1;32m    176\u001b[0m \u001b[38;5;28mprint\u001b[39m(\u001b[38;5;124m\"\u001b[39m\u001b[38;5;124mActions: \u001b[39m\u001b[38;5;132;01m{}\u001b[39;00m\u001b[38;5;124m\"\u001b[39m, actions)\n\u001b[0;32m--> 177\u001b[0m nstate \u001b[38;5;241m=\u001b[39m env\u001b[38;5;241m.\u001b[39mstep(env_state, actions)\n\u001b[1;32m    178\u001b[0m jax\u001b[38;5;241m.\u001b[39mdebug\u001b[38;5;241m.\u001b[39mprint(\u001b[38;5;124m\"\u001b[39m\u001b[38;5;124mNew state obs: \u001b[39m\u001b[38;5;132;01m{}\u001b[39;00m\u001b[38;5;124m\"\u001b[39m, nstate\u001b[38;5;241m.\u001b[39mobs)\n",
      "File \u001b[0;32m~/anaconda3/envs/newBrax/lib/python3.11/site-packages/brax/envs/wrappers/training.py:122\u001b[0m, in \u001b[0;36mstep\u001b[0;34m()\u001b[0m\n\u001b[1;32m    121\u001b[0m state \u001b[38;5;241m=\u001b[39m state\u001b[38;5;241m.\u001b[39mreplace(done\u001b[38;5;241m=\u001b[39mjp\u001b[38;5;241m.\u001b[39mzeros_like(state\u001b[38;5;241m.\u001b[39mdone))\n\u001b[0;32m--> 122\u001b[0m state \u001b[38;5;241m=\u001b[39m \u001b[38;5;28mself\u001b[39m\u001b[38;5;241m.\u001b[39menv\u001b[38;5;241m.\u001b[39mstep(state, action)\n\u001b[1;32m    124\u001b[0m \u001b[38;5;28;01mdef\u001b[39;00m \u001b[38;5;21mwhere_done\u001b[39m(x, y):\n",
      "File \u001b[0;32m~/anaconda3/envs/newBrax/lib/python3.11/site-packages/brax/envs/wrappers/training.py:71\u001b[0m, in \u001b[0;36mstep\u001b[0;34m()\u001b[0m\n\u001b[1;32m     70\u001b[0m \u001b[38;5;28;01mdef\u001b[39;00m \u001b[38;5;21mstep\u001b[39m(\u001b[38;5;28mself\u001b[39m, state: State, action: jax\u001b[38;5;241m.\u001b[39mArray) \u001b[38;5;241m-\u001b[39m\u001b[38;5;241m>\u001b[39m State:\n\u001b[0;32m---> 71\u001b[0m   \u001b[38;5;28;01mreturn\u001b[39;00m jax\u001b[38;5;241m.\u001b[39mvmap(\u001b[38;5;28mself\u001b[39m\u001b[38;5;241m.\u001b[39menv\u001b[38;5;241m.\u001b[39mstep)(state, action)\n",
      "File \u001b[0;32m~/anaconda3/envs/newBrax/lib/python3.11/site-packages/brax/envs/wrappers/training.py:93\u001b[0m, in \u001b[0;36mstep\u001b[0;34m()\u001b[0m\n\u001b[1;32m     91\u001b[0m   \u001b[38;5;28;01mreturn\u001b[39;00m nstate, nstate\u001b[38;5;241m.\u001b[39mreward\n\u001b[0;32m---> 93\u001b[0m state, rewards \u001b[38;5;241m=\u001b[39m jax\u001b[38;5;241m.\u001b[39mlax\u001b[38;5;241m.\u001b[39mscan(f, state, (), \u001b[38;5;28mself\u001b[39m\u001b[38;5;241m.\u001b[39maction_repeat)\n\u001b[1;32m     94\u001b[0m state \u001b[38;5;241m=\u001b[39m state\u001b[38;5;241m.\u001b[39mreplace(reward\u001b[38;5;241m=\u001b[39mjp\u001b[38;5;241m.\u001b[39msum(rewards, axis\u001b[38;5;241m=\u001b[39m\u001b[38;5;241m0\u001b[39m))\n",
      "File \u001b[0;32m~/anaconda3/envs/newBrax/lib/python3.11/site-packages/brax/envs/wrappers/training.py:90\u001b[0m, in \u001b[0;36mf\u001b[0;34m()\u001b[0m\n\u001b[1;32m     89\u001b[0m \u001b[38;5;28;01mdef\u001b[39;00m \u001b[38;5;21mf\u001b[39m(state, _):\n\u001b[0;32m---> 90\u001b[0m   nstate \u001b[38;5;241m=\u001b[39m \u001b[38;5;28mself\u001b[39m\u001b[38;5;241m.\u001b[39menv\u001b[38;5;241m.\u001b[39mstep(state, action)\n\u001b[1;32m     91\u001b[0m   \u001b[38;5;28;01mreturn\u001b[39;00m nstate, nstate\u001b[38;5;241m.\u001b[39mreward\n",
      "File \u001b[0;32m~/workspace/RLPhysics/Physics-Based-RL/agent_mimic_env/agent_test_apg.py:247\u001b[0m, in \u001b[0;36mstep\u001b[0;34m()\u001b[0m\n\u001b[1;32m    244\u001b[0m \u001b[38;5;66;03m#jax.debug.print(\"action shape:{}\",action.shape)\u001b[39;00m\n\u001b[0;32m--> 247\u001b[0m data \u001b[38;5;241m=\u001b[39m \u001b[38;5;28mself\u001b[39m\u001b[38;5;241m.\u001b[39mpipeline_step(state\u001b[38;5;241m.\u001b[39mpipeline_state, action)\n\u001b[1;32m    250\u001b[0m \u001b[38;5;66;03m# jax.debug.print('steps cycle: {}',state.info['steps']%self.l_cycle)\u001b[39;00m\n\u001b[1;32m    251\u001b[0m \u001b[38;5;66;03m# jax.debug.print('steps info: {}',state.info['steps'])\u001b[39;00m\n",
      "File \u001b[0;32m~/anaconda3/envs/newBrax/lib/python3.11/site-packages/brax/envs/base.py:130\u001b[0m, in \u001b[0;36mpipeline_step\u001b[0;34m()\u001b[0m\n\u001b[1;32m    125\u001b[0m   \u001b[38;5;28;01mreturn\u001b[39;00m (\n\u001b[1;32m    126\u001b[0m       \u001b[38;5;28mself\u001b[39m\u001b[38;5;241m.\u001b[39m_pipeline\u001b[38;5;241m.\u001b[39mstep(\u001b[38;5;28mself\u001b[39m\u001b[38;5;241m.\u001b[39msys, state, action, \u001b[38;5;28mself\u001b[39m\u001b[38;5;241m.\u001b[39m_debug),\n\u001b[1;32m    127\u001b[0m       \u001b[38;5;28;01mNone\u001b[39;00m,\n\u001b[1;32m    128\u001b[0m   )\n\u001b[0;32m--> 130\u001b[0m \u001b[38;5;28;01mreturn\u001b[39;00m jax\u001b[38;5;241m.\u001b[39mlax\u001b[38;5;241m.\u001b[39mscan(f, pipeline_state, (), \u001b[38;5;28mself\u001b[39m\u001b[38;5;241m.\u001b[39m_n_frames)[\u001b[38;5;241m0\u001b[39m]\n",
      "File \u001b[0;32m~/anaconda3/envs/newBrax/lib/python3.11/site-packages/brax/envs/base.py:126\u001b[0m, in \u001b[0;36mf\u001b[0;34m()\u001b[0m\n\u001b[1;32m    124\u001b[0m \u001b[38;5;28;01mdef\u001b[39;00m \u001b[38;5;21mf\u001b[39m(state, _):\n\u001b[1;32m    125\u001b[0m   \u001b[38;5;28;01mreturn\u001b[39;00m (\n\u001b[0;32m--> 126\u001b[0m       \u001b[38;5;28mself\u001b[39m\u001b[38;5;241m.\u001b[39m_pipeline\u001b[38;5;241m.\u001b[39mstep(\u001b[38;5;28mself\u001b[39m\u001b[38;5;241m.\u001b[39msys, state, action, \u001b[38;5;28mself\u001b[39m\u001b[38;5;241m.\u001b[39m_debug),\n\u001b[1;32m    127\u001b[0m       \u001b[38;5;28;01mNone\u001b[39;00m,\n\u001b[1;32m    128\u001b[0m   )\n",
      "File \u001b[0;32m~/anaconda3/envs/newBrax/lib/python3.11/site-packages/brax/mjx/pipeline.py:100\u001b[0m, in \u001b[0;36mstep\u001b[0;34m()\u001b[0m\n\u001b[1;32m     99\u001b[0m data \u001b[38;5;241m=\u001b[39m state\u001b[38;5;241m.\u001b[39mreplace(ctrl\u001b[38;5;241m=\u001b[39mact)\n\u001b[0;32m--> 100\u001b[0m data \u001b[38;5;241m=\u001b[39m mjx\u001b[38;5;241m.\u001b[39mstep(sys, data)\n\u001b[1;32m    102\u001b[0m q, qd \u001b[38;5;241m=\u001b[39m data\u001b[38;5;241m.\u001b[39mqpos, data\u001b[38;5;241m.\u001b[39mqvel\n",
      "File \u001b[0;32m~/anaconda3/envs/newBrax/lib/python3.11/site-packages/mujoco/mjx/_src/forward.py:56\u001b[0m, in \u001b[0;36mwrapper\u001b[0;34m()\u001b[0m\n\u001b[1;32m     55\u001b[0m \u001b[38;5;28;01mwith\u001b[39;00m jax\u001b[38;5;241m.\u001b[39mnamed_scope(name \u001b[38;5;129;01mor\u001b[39;00m \u001b[38;5;28mgetattr\u001b[39m(fn, \u001b[38;5;124m'\u001b[39m\u001b[38;5;124m__name__\u001b[39m\u001b[38;5;124m'\u001b[39m)):\n\u001b[0;32m---> 56\u001b[0m   res \u001b[38;5;241m=\u001b[39m fn(\u001b[38;5;241m*\u001b[39margs, \u001b[38;5;241m*\u001b[39m\u001b[38;5;241m*\u001b[39mkwargs)\n\u001b[1;32m     57\u001b[0m \u001b[38;5;28;01mreturn\u001b[39;00m res\n",
      "File \u001b[0;32m~/anaconda3/envs/newBrax/lib/python3.11/site-packages/mujoco/mjx/_src/forward.py:366\u001b[0m, in \u001b[0;36mstep\u001b[0;34m()\u001b[0m\n\u001b[1;32m    365\u001b[0m \u001b[38;5;250m\u001b[39m\u001b[38;5;124;03m\"\"\"Advance simulation.\"\"\"\u001b[39;00m\n\u001b[0;32m--> 366\u001b[0m d \u001b[38;5;241m=\u001b[39m forward(m, d)\n\u001b[1;32m    368\u001b[0m \u001b[38;5;28;01mif\u001b[39;00m m\u001b[38;5;241m.\u001b[39mopt\u001b[38;5;241m.\u001b[39mintegrator \u001b[38;5;241m==\u001b[39m IntegratorType\u001b[38;5;241m.\u001b[39mEULER:\n",
      "File \u001b[0;32m~/anaconda3/envs/newBrax/lib/python3.11/site-packages/mujoco/mjx/_src/forward.py:56\u001b[0m, in \u001b[0;36mwrapper\u001b[0;34m()\u001b[0m\n\u001b[1;32m     55\u001b[0m \u001b[38;5;28;01mwith\u001b[39;00m jax\u001b[38;5;241m.\u001b[39mnamed_scope(name \u001b[38;5;129;01mor\u001b[39;00m \u001b[38;5;28mgetattr\u001b[39m(fn, \u001b[38;5;124m'\u001b[39m\u001b[38;5;124m__name__\u001b[39m\u001b[38;5;124m'\u001b[39m)):\n\u001b[0;32m---> 56\u001b[0m   res \u001b[38;5;241m=\u001b[39m fn(\u001b[38;5;241m*\u001b[39margs, \u001b[38;5;241m*\u001b[39m\u001b[38;5;241m*\u001b[39mkwargs)\n\u001b[1;32m     57\u001b[0m \u001b[38;5;28;01mreturn\u001b[39;00m res\n",
      "File \u001b[0;32m~/anaconda3/envs/newBrax/lib/python3.11/site-packages/mujoco/mjx/_src/forward.py:358\u001b[0m, in \u001b[0;36mforward\u001b[0;34m()\u001b[0m\n\u001b[1;32m    356\u001b[0m   \u001b[38;5;28;01mreturn\u001b[39;00m d\n\u001b[0;32m--> 358\u001b[0m d \u001b[38;5;241m=\u001b[39m named_scope(solver\u001b[38;5;241m.\u001b[39msolve)(m, d)\n\u001b[1;32m    360\u001b[0m \u001b[38;5;28;01mreturn\u001b[39;00m d\n",
      "File \u001b[0;32m~/anaconda3/envs/newBrax/lib/python3.11/site-packages/mujoco/mjx/_src/forward.py:56\u001b[0m, in \u001b[0;36mwrapper\u001b[0;34m()\u001b[0m\n\u001b[1;32m     55\u001b[0m \u001b[38;5;28;01mwith\u001b[39;00m jax\u001b[38;5;241m.\u001b[39mnamed_scope(name \u001b[38;5;129;01mor\u001b[39;00m \u001b[38;5;28mgetattr\u001b[39m(fn, \u001b[38;5;124m'\u001b[39m\u001b[38;5;124m__name__\u001b[39m\u001b[38;5;124m'\u001b[39m)):\n\u001b[0;32m---> 56\u001b[0m   res \u001b[38;5;241m=\u001b[39m fn(\u001b[38;5;241m*\u001b[39margs, \u001b[38;5;241m*\u001b[39m\u001b[38;5;241m*\u001b[39mkwargs)\n\u001b[1;32m     57\u001b[0m \u001b[38;5;28;01mreturn\u001b[39;00m res\n",
      "File \u001b[0;32m~/anaconda3/envs/newBrax/lib/python3.11/site-packages/mujoco/mjx/_src/solver.py:358\u001b[0m, in \u001b[0;36msolve\u001b[0;34m()\u001b[0m\n\u001b[1;32m    357\u001b[0m \u001b[38;5;28;01melse\u001b[39;00m:\n\u001b[0;32m--> 358\u001b[0m   ctx \u001b[38;5;241m=\u001b[39m jax\u001b[38;5;241m.\u001b[39mlax\u001b[38;5;241m.\u001b[39mwhile_loop(cond, body, ctx)\n\u001b[1;32m    360\u001b[0m d \u001b[38;5;241m=\u001b[39m d\u001b[38;5;241m.\u001b[39mreplace(\n\u001b[1;32m    361\u001b[0m     qacc_warmstart\u001b[38;5;241m=\u001b[39mctx\u001b[38;5;241m.\u001b[39mqacc,\n\u001b[1;32m    362\u001b[0m     qacc\u001b[38;5;241m=\u001b[39mctx\u001b[38;5;241m.\u001b[39mqacc,\n\u001b[1;32m    363\u001b[0m     qfrc_constraint\u001b[38;5;241m=\u001b[39mctx\u001b[38;5;241m.\u001b[39mqfrc_constraint,\n\u001b[1;32m    364\u001b[0m     efc_force\u001b[38;5;241m=\u001b[39mctx\u001b[38;5;241m.\u001b[39mefc_force,\n\u001b[1;32m    365\u001b[0m )\n",
      "\u001b[0;31mJaxStackTraceBeforeTransformation\u001b[0m: ValueError: safe_zip() argument 2 is longer than argument 1\n\nThe preceding stack trace is the source of the JAX operation that, once transformed by JAX, triggered the following exception.\n\n--------------------",
      "\nThe above exception was the direct cause of the following exception:\n",
      "\u001b[0;31mValueError\u001b[0m                                Traceback (most recent call last)",
      "Cell \u001b[0;32mIn[14], line 39\u001b[0m\n\u001b[1;32m     35\u001b[0m   plt\u001b[38;5;241m.\u001b[39mtight_layout()\n\u001b[1;32m     36\u001b[0m   plt\u001b[38;5;241m.\u001b[39mshow()\n\u001b[0;32m---> 39\u001b[0m make_inference_fn, params, _\u001b[38;5;241m=\u001b[39m \u001b[43mtrain_fn\u001b[49m\u001b[43m(\u001b[49m\u001b[43menvironment\u001b[49m\u001b[38;5;241;43m=\u001b[39;49m\u001b[43menv_apg\u001b[49m\u001b[43m,\u001b[49m\n\u001b[1;32m     40\u001b[0m \u001b[43m                                       \u001b[49m\u001b[43mprogress_fn\u001b[49m\u001b[38;5;241;43m=\u001b[39;49m\u001b[43mprogress\u001b[49m\u001b[43m,\u001b[49m\n\u001b[1;32m     41\u001b[0m \u001b[43m                                       \u001b[49m\u001b[43meval_env\u001b[49m\u001b[38;5;241;43m=\u001b[39;49m\u001b[43menv_apg\u001b[49m\u001b[43m)\u001b[49m\n\u001b[1;32m     43\u001b[0m \u001b[38;5;28mprint\u001b[39m(\u001b[38;5;124mf\u001b[39m\u001b[38;5;124m'\u001b[39m\u001b[38;5;124mtime to jit: \u001b[39m\u001b[38;5;132;01m{\u001b[39;00mtimes[\u001b[38;5;241m1\u001b[39m]\u001b[38;5;250m \u001b[39m\u001b[38;5;241m-\u001b[39m\u001b[38;5;250m \u001b[39mtimes[\u001b[38;5;241m0\u001b[39m]\u001b[38;5;132;01m}\u001b[39;00m\u001b[38;5;124m'\u001b[39m)\n\u001b[1;32m     44\u001b[0m \u001b[38;5;28mprint\u001b[39m(\u001b[38;5;124mf\u001b[39m\u001b[38;5;124m'\u001b[39m\u001b[38;5;124mtime to train: \u001b[39m\u001b[38;5;132;01m{\u001b[39;00mtimes[\u001b[38;5;241m-\u001b[39m\u001b[38;5;241m1\u001b[39m]\u001b[38;5;250m \u001b[39m\u001b[38;5;241m-\u001b[39m\u001b[38;5;250m \u001b[39mtimes[\u001b[38;5;241m1\u001b[39m]\u001b[38;5;132;01m}\u001b[39;00m\u001b[38;5;124m'\u001b[39m)\n",
      "File \u001b[0;32m~/workspace/RLPhysics/Physics-Based-RL/APGBRAX/train.py:396\u001b[0m, in \u001b[0;36mtrain\u001b[0;34m(environment, episode_length, policy_updates, horizon_length, num_envs, num_evals, action_repeat, max_devices_per_host, num_eval_envs, learning_rate, adam_b, use_schedule, use_float64, schedule_decay, seed, max_gradient_norm, normalize_observations, deterministic_eval, network_factory, progress_fn, eval_env, randomization_fn)\u001b[0m\n\u001b[1;32m    393\u001b[0m logging\u001b[38;5;241m.\u001b[39minfo(\u001b[38;5;124m'\u001b[39m\u001b[38;5;124mstarting iteration \u001b[39m\u001b[38;5;132;01m%s\u001b[39;00m\u001b[38;5;124m \u001b[39m\u001b[38;5;132;01m%s\u001b[39;00m\u001b[38;5;124m'\u001b[39m, it, time\u001b[38;5;241m.\u001b[39mtime() \u001b[38;5;241m-\u001b[39m xt)\n\u001b[1;32m    394\u001b[0m \u001b[38;5;28mprint\u001b[39m(\u001b[38;5;124m'\u001b[39m\u001b[38;5;124mit\u001b[39m\u001b[38;5;124m'\u001b[39m, it)\n\u001b[1;32m    395\u001b[0m (training_state, env_state, training_metrics, epoch_key) \u001b[38;5;241m=\u001b[39m (\n\u001b[0;32m--> 396\u001b[0m     \u001b[43mtraining_epoch_with_timing\u001b[49m\u001b[43m(\u001b[49m\u001b[43mtraining_state\u001b[49m\u001b[43m,\u001b[49m\u001b[43m \u001b[49m\u001b[43menv_state\u001b[49m\u001b[43m,\u001b[49m\u001b[43m \u001b[49m\u001b[43mepoch_key\u001b[49m\u001b[43m)\u001b[49m\n\u001b[1;32m    397\u001b[0m )\n\u001b[1;32m    398\u001b[0m \u001b[38;5;28mprint\u001b[39m(\u001b[38;5;124m'\u001b[39m\u001b[38;5;124mafter training_epoch_with\u001b[39m\u001b[38;5;124m'\u001b[39m)\n\u001b[1;32m    399\u001b[0m \u001b[38;5;28;01mif\u001b[39;00m process_id \u001b[38;5;241m==\u001b[39m \u001b[38;5;241m0\u001b[39m:\n\u001b[1;32m    400\u001b[0m   \u001b[38;5;66;03m# Run evals.\u001b[39;00m\n",
      "File \u001b[0;32m~/workspace/RLPhysics/Physics-Based-RL/APGBRAX/train.py:308\u001b[0m, in \u001b[0;36mtrain.<locals>.training_epoch_with_timing\u001b[0;34m(training_state, env_state, key)\u001b[0m\n\u001b[1;32m    301\u001b[0m \u001b[38;5;28mprint\u001b[39m(\u001b[38;5;124m'\u001b[39m\u001b[38;5;124mbefore epoch\u001b[39m\u001b[38;5;124m'\u001b[39m)\n\u001b[1;32m    304\u001b[0m \u001b[38;5;66;03m#print('trainstate', training_state)\u001b[39;00m\n\u001b[1;32m    305\u001b[0m \u001b[38;5;66;03m# print('env_state', env_state)\u001b[39;00m\n\u001b[1;32m    306\u001b[0m \u001b[38;5;66;03m# print('key', key)\u001b[39;00m\n\u001b[0;32m--> 308\u001b[0m (training_state, env_state, metrics, key) \u001b[38;5;241m=\u001b[39m \u001b[43mtraining_epoch\u001b[49m\u001b[43m(\u001b[49m\n\u001b[1;32m    309\u001b[0m \u001b[43m    \u001b[49m\u001b[43mtraining_state\u001b[49m\u001b[43m,\u001b[49m\u001b[43m \u001b[49m\u001b[43menv_state\u001b[49m\u001b[43m,\u001b[49m\u001b[43m \u001b[49m\u001b[43mkey\u001b[49m\n\u001b[1;32m    310\u001b[0m \u001b[43m\u001b[49m\u001b[43m)\u001b[49m\n\u001b[1;32m    311\u001b[0m \u001b[38;5;28mprint\u001b[39m(\u001b[38;5;124m'\u001b[39m\u001b[38;5;124mafter epoch\u001b[39m\u001b[38;5;124m'\u001b[39m)\n\u001b[1;32m    312\u001b[0m metrics \u001b[38;5;241m=\u001b[39m jax\u001b[38;5;241m.\u001b[39mtree_util\u001b[38;5;241m.\u001b[39mtree_map(jnp\u001b[38;5;241m.\u001b[39mmean, metrics)\n",
      "    \u001b[0;31m[... skipping hidden 12 frame]\u001b[0m\n",
      "File \u001b[0;32m~/workspace/RLPhysics/Physics-Based-RL/APGBRAX/train.py:266\u001b[0m, in \u001b[0;36mtrain.<locals>.training_epoch\u001b[0;34m(training_state, env_state, key)\u001b[0m\n\u001b[1;32m    253\u001b[0m \u001b[38;5;28;01mdef\u001b[39;00m \u001b[38;5;21mtraining_epoch\u001b[39m(\n\u001b[1;32m    254\u001b[0m     training_state: TrainingState,\n\u001b[1;32m    255\u001b[0m     env_state: Union[envs\u001b[38;5;241m.\u001b[39mState, envs_v1\u001b[38;5;241m.\u001b[39mState],\n\u001b[1;32m    256\u001b[0m     key: PRNGKey,\n\u001b[1;32m    257\u001b[0m ):\n\u001b[1;32m    259\u001b[0m   jax\u001b[38;5;241m.\u001b[39mdebug\u001b[38;5;241m.\u001b[39mprint(\u001b[38;5;124m\"\u001b[39m\u001b[38;5;124mjax trainng epoch step:\u001b[39m\u001b[38;5;132;01m{}\u001b[39;00m\u001b[38;5;124m\"\u001b[39m,\u001b[38;5;241m1\u001b[39m)\n\u001b[1;32m    260\u001b[0m   (\n\u001b[1;32m    261\u001b[0m       optimizer_state,\n\u001b[1;32m    262\u001b[0m       normalizer_params,\n\u001b[1;32m    263\u001b[0m       policy_params,\n\u001b[1;32m    264\u001b[0m       key,\n\u001b[1;32m    265\u001b[0m       state_h,\n\u001b[0;32m--> 266\u001b[0m   ), metrics \u001b[38;5;241m=\u001b[39m \u001b[43mjax\u001b[49m\u001b[38;5;241;43m.\u001b[39;49m\u001b[43mlax\u001b[49m\u001b[38;5;241;43m.\u001b[39;49m\u001b[43mscan\u001b[49m\u001b[43m(\u001b[49m\n\u001b[1;32m    267\u001b[0m \u001b[43m      \u001b[49m\u001b[43mminibatch_step\u001b[49m\u001b[43m,\u001b[49m\n\u001b[1;32m    268\u001b[0m \u001b[43m      \u001b[49m\u001b[43m(\u001b[49m\n\u001b[1;32m    269\u001b[0m \u001b[43m          \u001b[49m\u001b[43mtraining_state\u001b[49m\u001b[38;5;241;43m.\u001b[39;49m\u001b[43moptimizer_state\u001b[49m\u001b[43m,\u001b[49m\n\u001b[1;32m    270\u001b[0m \u001b[43m          \u001b[49m\u001b[43mtraining_state\u001b[49m\u001b[38;5;241;43m.\u001b[39;49m\u001b[43mnormalizer_params\u001b[49m\u001b[43m,\u001b[49m\n\u001b[1;32m    271\u001b[0m \u001b[43m          \u001b[49m\u001b[43mtraining_state\u001b[49m\u001b[38;5;241;43m.\u001b[39;49m\u001b[43mpolicy_params\u001b[49m\u001b[43m,\u001b[49m\n\u001b[1;32m    272\u001b[0m \u001b[43m          \u001b[49m\u001b[43mkey\u001b[49m\u001b[43m,\u001b[49m\n\u001b[1;32m    273\u001b[0m \u001b[43m          \u001b[49m\u001b[43menv_state\u001b[49m\u001b[43m,\u001b[49m\n\u001b[1;32m    274\u001b[0m \u001b[43m      \u001b[49m\u001b[43m)\u001b[49m\u001b[43m,\u001b[49m\n\u001b[1;32m    275\u001b[0m \u001b[43m      \u001b[49m\u001b[43mjnp\u001b[49m\u001b[38;5;241;43m.\u001b[39;49m\u001b[43marange\u001b[49m\u001b[43m(\u001b[49m\u001b[43mupdates_per_epoch\u001b[49m\u001b[43m)\u001b[49m\u001b[43m,\u001b[49m\n\u001b[1;32m    276\u001b[0m \u001b[43m  \u001b[49m\u001b[43m)\u001b[49m\n\u001b[1;32m    278\u001b[0m   \u001b[38;5;28;01mreturn\u001b[39;00m (\n\u001b[1;32m    279\u001b[0m       TrainingState(\n\u001b[1;32m    280\u001b[0m           optimizer_state\u001b[38;5;241m=\u001b[39moptimizer_state,\n\u001b[0;32m   (...)\u001b[0m\n\u001b[1;32m    286\u001b[0m       key,\n\u001b[1;32m    287\u001b[0m   )\n",
      "    \u001b[0;31m[... skipping hidden 9 frame]\u001b[0m\n",
      "File \u001b[0;32m~/workspace/RLPhysics/Physics-Based-RL/APGBRAX/train.py:223\u001b[0m, in \u001b[0;36mtrain.<locals>.minibatch_step\u001b[0;34m(carry, epoch_step_index)\u001b[0m\n\u001b[1;32m    221\u001b[0m \u001b[38;5;28mprint\u001b[39m(\u001b[38;5;124m\"\u001b[39m\u001b[38;5;124mreached the minibatch step:\u001b[39m\u001b[38;5;132;01m{}\u001b[39;00m\u001b[38;5;124m\"\u001b[39m,\u001b[38;5;241m1\u001b[39m)\n\u001b[1;32m    222\u001b[0m key, key_grad \u001b[38;5;241m=\u001b[39m jax\u001b[38;5;241m.\u001b[39mrandom\u001b[38;5;241m.\u001b[39msplit(key)\n\u001b[0;32m--> 223\u001b[0m grad, (obs, state_h) \u001b[38;5;241m=\u001b[39m \u001b[43mloss_grad\u001b[49m\u001b[43m(\u001b[49m\n\u001b[1;32m    224\u001b[0m \u001b[43m    \u001b[49m\u001b[43mpolicy_params\u001b[49m\u001b[43m,\u001b[49m\u001b[43m \u001b[49m\u001b[43mnormalizer_params\u001b[49m\u001b[43m,\u001b[49m\u001b[43m \u001b[49m\u001b[43mstate\u001b[49m\u001b[43m,\u001b[49m\u001b[43m \u001b[49m\u001b[43mkey_grad\u001b[49m\n\u001b[1;32m    225\u001b[0m \u001b[43m\u001b[49m\u001b[43m)\u001b[49m\n\u001b[1;32m    226\u001b[0m \u001b[38;5;28mprint\u001b[39m(\u001b[38;5;124m'\u001b[39m\u001b[38;5;124mafter the minibatch_step\u001b[39m\u001b[38;5;124m'\u001b[39m)\n\u001b[1;32m    228\u001b[0m jax\u001b[38;5;241m.\u001b[39mdebug\u001b[38;5;241m.\u001b[39mprint(\u001b[38;5;124m\"\u001b[39m\u001b[38;5;124mafter the minibatch step:\u001b[39m\u001b[38;5;132;01m{}\u001b[39;00m\u001b[38;5;124m\"\u001b[39m,\u001b[38;5;241m1\u001b[39m)\n",
      "    \u001b[0;31m[... skipping hidden 10 frame]\u001b[0m\n",
      "File \u001b[0;32m~/workspace/RLPhysics/Physics-Based-RL/APGBRAX/train.py:194\u001b[0m, in \u001b[0;36mtrain.<locals>.loss\u001b[0;34m(policy_params, normalizer_params, env_state, key)\u001b[0m\n\u001b[1;32m    191\u001b[0m \u001b[38;5;28mprint\u001b[39m(\u001b[38;5;124m'\u001b[39m\u001b[38;5;124mafter f\u001b[39m\u001b[38;5;124m'\u001b[39m)\n\u001b[1;32m    192\u001b[0m jax\u001b[38;5;241m.\u001b[39mdebug\u001b[38;5;241m.\u001b[39mprint(\u001b[38;5;124m'\u001b[39m\u001b[38;5;124msssf\u001b[39m\u001b[38;5;132;01m{}\u001b[39;00m\u001b[38;5;124m'\u001b[39m,\u001b[38;5;241m3\u001b[39m)\n\u001b[0;32m--> 194\u001b[0m (state_h, _), (rewards, obs) \u001b[38;5;241m=\u001b[39m \u001b[43mjax\u001b[49m\u001b[38;5;241;43m.\u001b[39;49m\u001b[43mlax\u001b[49m\u001b[38;5;241;43m.\u001b[39;49m\u001b[43mscan\u001b[49m\u001b[43m(\u001b[49m\n\u001b[1;32m    195\u001b[0m \u001b[43m    \u001b[49m\u001b[43mf\u001b[49m\u001b[43m,\u001b[49m\u001b[43m \u001b[49m\u001b[43m(\u001b[49m\u001b[43menv_state\u001b[49m\u001b[43m,\u001b[49m\u001b[43m \u001b[49m\u001b[43mkey\u001b[49m\u001b[43m)\u001b[49m\u001b[43m,\u001b[49m\u001b[43m \u001b[49m\u001b[43m(\u001b[49m\u001b[43mjnp\u001b[49m\u001b[38;5;241;43m.\u001b[39;49m\u001b[43marange\u001b[49m\u001b[43m(\u001b[49m\u001b[43mhorizon_length\u001b[49m\u001b[43m \u001b[49m\u001b[38;5;241;43m/\u001b[39;49m\u001b[38;5;241;43m/\u001b[39;49m\u001b[43m \u001b[49m\u001b[43maction_repeat\u001b[49m\u001b[43m)\u001b[49m\u001b[43m)\u001b[49m\n\u001b[1;32m    196\u001b[0m \u001b[43m\u001b[49m\u001b[43m)\u001b[49m\n\u001b[1;32m    197\u001b[0m \u001b[38;5;28mprint\u001b[39m(\u001b[38;5;124m'\u001b[39m\u001b[38;5;124mafter loss\u001b[39m\u001b[38;5;124m'\u001b[39m)\n\u001b[1;32m    198\u001b[0m jax\u001b[38;5;241m.\u001b[39mdebug\u001b[38;5;241m.\u001b[39mprint(\u001b[38;5;124m'\u001b[39m\u001b[38;5;124msssloss\u001b[39m\u001b[38;5;132;01m{}\u001b[39;00m\u001b[38;5;124m'\u001b[39m,\u001b[38;5;241m3\u001b[39m)\n",
      "    \u001b[0;31m[... skipping hidden 65 frame]\u001b[0m\n",
      "File \u001b[0;32m~/anaconda3/envs/newBrax/lib/python3.11/site-packages/jax/_src/interpreters/partial_eval.py:1115\u001b[0m, in \u001b[0;36m_partial_eval_jaxpr_nounits\u001b[0;34m(jaxpr, in_unknowns, instantiate)\u001b[0m\n\u001b[1;32m   1112\u001b[0m   known_vals_out \u001b[38;5;241m=\u001b[39m [pval\u001b[38;5;241m.\u001b[39mget_known() \u001b[38;5;28;01mfor\u001b[39;00m pval \u001b[38;5;129;01min\u001b[39;00m out_pvals \u001b[38;5;28;01mif\u001b[39;00m pval\u001b[38;5;241m.\u001b[39mis_known()]\n\u001b[1;32m   1113\u001b[0m   \u001b[38;5;28;01mreturn\u001b[39;00m [\u001b[38;5;241m*\u001b[39mknown_vals_out, \u001b[38;5;241m*\u001b[39mresiduals]\n\u001b[0;32m-> 1115\u001b[0m known_avals \u001b[38;5;241m=\u001b[39m [a \u001b[38;5;28;01mfor\u001b[39;00m a, uk \u001b[38;5;129;01min\u001b[39;00m \u001b[38;5;28mzip\u001b[39m(jaxpr\u001b[38;5;241m.\u001b[39min_avals, in_unknowns) \u001b[38;5;28;01mif\u001b[39;00m \u001b[38;5;129;01mnot\u001b[39;00m uk]\n\u001b[1;32m   1116\u001b[0m jaxpr_known, _, consts_known, () \u001b[38;5;241m=\u001b[39m trace_to_jaxpr_dynamic(lu\u001b[38;5;241m.\u001b[39mwrap_init(fun), known_avals)\n\u001b[1;32m   1117\u001b[0m (out_unknowns, jaxpr_unknown, res_avals), \u001b[38;5;241m=\u001b[39m cell  \u001b[38;5;66;03m# pytype: disable=bad-unpacking\u001b[39;00m\n",
      "\u001b[0;31mValueError\u001b[0m: safe_zip() argument 2 is longer than argument 1"
     ]
    }
   ],
   "source": [
    "x_data = []\n",
    "y_data = []\n",
    "ydataerr = []\n",
    "y_pose_error = []  # to store pose error\n",
    "times = [datetime.now()]\n",
    "max_y_rewards, min_y_rewards = 0, -5\n",
    "def progress(num_steps, metrics):\n",
    "  \n",
    "  #print(num_steps)\n",
    "  times.append(datetime.now())\n",
    "  x_data.append(num_steps)\n",
    "  y_data.append(metrics['eval/episode_reward'])\n",
    "  ydataerr.append(metrics['eval/episode_reward_std'])\n",
    "  #y_pose_error.append(metrics['eval/episode_pose_error'])  # capture pose error\n",
    "  \n",
    "  plt.figure(figsize=(10, 5))\n",
    "  plt.subplot(1, 2, 1) \n",
    "  plt.xlim([0, num_steps* 1.25])\n",
    "  plt.ylim([max_y_rewards, min_y_rewards])\n",
    "\n",
    "  plt.xlabel('# environment steps')\n",
    "  plt.ylabel('reward per episode')\n",
    "  plt.title(f'Latest Reward: {y_data[-1]:.3f}')\n",
    "  plt.plot(x_data, y_data, '-o')\n",
    "  \n",
    "  # plt.subplot(1, 2, 2)\n",
    "  # plt.xlim([0, num_steps* 1.25])\n",
    "  # plt.ylim([min(y_pose_error) * 0.9, max(y_pose_error) * 1.1])\n",
    "  # plt.xlabel('# Environment Steps')\n",
    "  # plt.ylabel('Pose Error per Episode')\n",
    "  # plt.title(f'Latest Pose Error: {y_pose_error[-1]:.3f}')\n",
    "  # plt.plot(x_data, y_pose_error, '-o')\n",
    "  \n",
    "\n",
    "  plt.tight_layout()\n",
    "  plt.show()\n",
    "  \n",
    "\n",
    "make_inference_fn, params, _= train_fn(environment=env_apg,\n",
    "                                       progress_fn=progress,\n",
    "                                       eval_env=env_apg)\n",
    "\n",
    "print(f'time to jit: {times[1] - times[0]}')\n",
    "print(f'time to train: {times[-1] - times[1]}')"
   ]
  },
  {
   "cell_type": "code",
   "execution_count": null,
   "metadata": {},
   "outputs": [],
   "source": []
  }
 ],
 "metadata": {
  "kernelspec": {
   "display_name": "Python 3 (ipykernel)",
   "language": "python",
   "name": "python3"
  },
  "language_info": {
   "codemirror_mode": {
    "name": "ipython",
    "version": 3
   },
   "file_extension": ".py",
   "mimetype": "text/x-python",
   "name": "python",
   "nbconvert_exporter": "python",
   "pygments_lexer": "ipython3",
   "version": "3.11.9"
  }
 },
 "nbformat": 4,
 "nbformat_minor": 4
}
