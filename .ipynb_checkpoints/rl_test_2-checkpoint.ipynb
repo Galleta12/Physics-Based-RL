{
 "cells": [
  {
   "cell_type": "code",
   "execution_count": 16,
   "metadata": {},
   "outputs": [],
   "source": [
    "import agents_env\n",
    "from agents_env.agent_mimic_eval import HumanoidEnvTrainEval\n",
    "from agents_env.agent_mimic_train import HumanoidEnvTrain\n",
    "from utils.SimpleConverter import SimpleConverter\n",
    "from utils.util_data import *\n",
    "from copy import deepcopy"
   ]
  },
  {
   "cell_type": "code",
   "execution_count": 17,
   "metadata": {},
   "outputs": [],
   "source": [
    "from datetime import datetime\n",
    "import functools\n",
    "from IPython.display import HTML\n",
    "import jax\n",
    "from jax import numpy as jp\n",
    "import numpy as np\n",
    "from typing import Any, Dict, Sequence, Tuple, Union\n",
    "from brax import base\n",
    "from brax import envs\n",
    "from brax import math\n",
    "from brax.base import Base, Motion, Transform\n",
    "from brax.envs.base import Env, PipelineEnv, State\n",
    "from brax.mjx.base import State as MjxState\n",
    "from brax.training.agents.apg import train as apg\n",
    "from brax.training.agents.apg import networks as apg_networks\n",
    "from brax.io import html, mjcf, model\n",
    "from etils import epath\n",
    "from flax import struct\n",
    "from matplotlib import pyplot as plt\n",
    "import mediapy as media\n",
    "from ml_collections import config_dict\n",
    "import mujoco\n",
    "from mujoco import mjx\n",
    "from jax import vmap\n",
    "import jax.random\n",
    "from jax import lax"
   ]
  },
  {
   "cell_type": "code",
   "execution_count": 18,
   "metadata": {},
   "outputs": [
    {
     "name": "stdout",
     "output_type": "stream",
     "text": [
      "Setting environment variable to use GPU rendering:\n",
      "env: MUJOCO_GL=egl\n"
     ]
    }
   ],
   "source": [
    "\n",
    "import distutils.util\n",
    "import os\n",
    "xla_flags = os.environ.get('XLA_FLAGS', '')\n",
    "xla_flags += ' --xla_gpu_triton_gemm_any=True'\n",
    "os.environ['XLA_FLAGS'] = xla_flags\n",
    "print('Setting environment variable to use GPU rendering:')\n",
    "%env MUJOCO_GL=egl\n"
   ]
  },
  {
   "cell_type": "code",
   "execution_count": 19,
   "metadata": {},
   "outputs": [
    {
     "name": "stdout",
     "output_type": "stream",
     "text": [
      "gpu\n"
     ]
    }
   ],
   "source": [
    "from jax.lib import xla_bridge\n",
    "print(xla_bridge.get_backend().platform)"
   ]
  },
  {
   "cell_type": "code",
   "execution_count": 20,
   "metadata": {},
   "outputs": [],
   "source": [
    "#this is just dummy data to initialize the agent\n",
    "trajectory = SimpleConverter('motions/humanoid3d_walk.txt')\n",
    "trajectory.load_mocap()\n",
    "model_path = 'models/final_humanoid_no_gravity.xml'\n",
    "\n",
    "\n",
    "\n",
    "data_pos_mocap = jp.asarray(trajectory.data_pos)\n",
    "data_vel_mocap = jp.asarray(trajectory.data_vel)\n",
    "\n",
    "data_dict_mocap = trajectory.duration_dict\n",
    "\n",
    "data_xpos_mocap=jp.asarray(trajectory.data_xpos)\n",
    "data_xrot_mocap=jp.asarray(trajectory.data_xrot)\n"
   ]
  },
  {
   "cell_type": "code",
   "execution_count": 21,
   "metadata": {},
   "outputs": [
    {
     "name": "stdout",
     "output_type": "stream",
     "text": [
      "[1000 1000 1000  100  100  100  400  400  400  300  400  400  400  300\n",
      "  500  500  500  500  400  400  400  500  500  500  500  400  400  400]\n",
      "[100 100 100  10  10  10  40  40  40  30  40  40  40  30  50  50  50  50\n",
      "  40  40  40  50  50  50  50  40  40  40]\n"
     ]
    }
   ],
   "source": [
    "#get th kp and kd for the agent\n",
    "kp,kd = generate_kp_kd_gains()\n",
    "print(kp)\n",
    "print(kd)"
   ]
  },
  {
   "cell_type": "code",
   "execution_count": 22,
   "metadata": {},
   "outputs": [],
   "source": [
    "envs.register_environment('humanoidEnvMimicEval',HumanoidEnvTrainEval )\n",
    "env_name_eval = 'humanoidEnvMimicEval'\n",
    "env_eval = envs.get_environment(env_name=env_name_eval,\n",
    "                           reference_trajectory_qpos=data_pos_mocap,\n",
    "                           reference_trajectory_qvel = data_vel_mocap,\n",
    "                            duration_trajectory=trajectory.total_time,\n",
    "                            dict_duration= data_dict_mocap,\n",
    "                           model_path=model_path,\n",
    "                           kp_gains = kp,\n",
    "                           kd_gains = kd,\n",
    "                           reference_x_pos=data_xpos_mocap,\n",
    "                           reference_x_rot=data_xrot_mocap)\n",
    "jit_reset = jax.jit(env_eval.reset)\n",
    "jit_step = jax.jit(env_eval.step)\n",
    "\n",
    "\n",
    "#select the pd_control\n",
    "from agents_env.pds_controllers_agents import stable_pd_controller_action\n",
    "#env.set_pd_callback(stable_pd_controller_custom_trajectory)\n",
    "env_eval.set_pd_callback(stable_pd_controller_action)"
   ]
  },
  {
   "cell_type": "code",
   "execution_count": 23,
   "metadata": {},
   "outputs": [],
   "source": [
    "envs.register_environment('humanoidEnvMimic',HumanoidEnvTrain)\n",
    "env_name = 'humanoidEnvMimic'\n",
    "env = envs.get_environment(env_name=env_name,\n",
    "                           reference_trajectory_qpos=data_pos_mocap,\n",
    "                           reference_trajectory_qvel = data_vel_mocap,\n",
    "                            duration_trajectory=trajectory.total_time,\n",
    "                            dict_duration= data_dict_mocap,\n",
    "                           model_path=model_path,\n",
    "                           kp_gains = kp,\n",
    "                           kd_gains = kd,\n",
    "                           reference_x_pos=data_xpos_mocap,\n",
    "                           reference_x_rot=data_xrot_mocap)\n",
    "#jit_reset = jax.jit(env.reset)\n",
    "#jit_step = jax.jit(env.step)\n",
    "\n",
    "\n",
    "#select the pd_control\n",
    "from agents_env.pds_controllers_agents import stable_pd_controller_action\n",
    "#env.set_pd_callback(stable_pd_controller_custom_trajectory)\n",
    "env.set_pd_callback(stable_pd_controller_action)"
   ]
  },
  {
   "cell_type": "code",
   "execution_count": 24,
   "metadata": {},
   "outputs": [
    {
     "name": "stdout",
     "output_type": "stream",
     "text": [
      "39\n"
     ]
    }
   ],
   "source": [
    "\n",
    "episode_len = env_eval.rollout_lenght\n",
    "print(episode_len)"
   ]
  },
  {
   "cell_type": "code",
   "execution_count": 25,
   "metadata": {},
   "outputs": [],
   "source": [
    "# from brax.training.agents.ppo import train as ppo\n",
    "# from brax.training.agents.ppo import networks as ppo_networks\n",
    "\n",
    "from RLALG import agent_ppo as ppo\n",
    "from RLALG import ppo_angent_networks as ppo_networks\n",
    "\n",
    "\n"
   ]
  },
  {
   "cell_type": "code",
   "execution_count": 26,
   "metadata": {},
   "outputs": [],
   "source": [
    "import yaml\n",
    "\n",
    "# Path to your YAML file\n",
    "yaml_file_path = 'config_params/walk.yaml'\n",
    "\n",
    "# Load the YAML file\n",
    "with open(yaml_file_path, 'r') as file:\n",
    "    args = yaml.safe_load(file)"
   ]
  },
  {
   "cell_type": "code",
   "execution_count": 27,
   "metadata": {},
   "outputs": [],
   "source": [
    "# demo_traj = jp.array(np.load('motion_diffmimic/walk_fps_30_20s.npy'))\n",
    "# demo_len = demo_traj.shape[0]\n",
    "# demo_len"
   ]
  },
  {
   "cell_type": "code",
   "execution_count": 28,
   "metadata": {},
   "outputs": [],
   "source": [
    "rollout_lenght = min(args['ep_len'], episode_len)\n",
    "num_eval_envs = args['num_eval_envs']\n",
    "nums_envs = args['num_envs']\n",
    "lr = args['lr']\n",
    "seed = args['seed']\n",
    "normalize_observations = args['normalize_observations']\n",
    "\n",
    "\n"
   ]
  },
  {
   "cell_type": "code",
   "execution_count": 29,
   "metadata": {},
   "outputs": [
    {
     "data": {
      "text/plain": [
       "functools.partial(<function make_ppo_networks at 0x7ff721550860>, policy_hidden_layer_sizes=(512, 256), value_hidden_layer_sizes=(512, 256))"
      ]
     },
     "execution_count": 29,
     "metadata": {},
     "output_type": "execute_result"
    }
   ],
   "source": [
    "make_networks_factory = functools.partial(\n",
    "    ppo_networks.make_ppo_networks,\n",
    "        policy_hidden_layer_sizes=(512,256),\n",
    "        value_hidden_layer_sizes=(512,256))\n",
    "make_networks_factory"
   ]
  },
  {
   "cell_type": "code",
   "execution_count": 30,
   "metadata": {},
   "outputs": [
    {
     "data": {
      "image/png": "[encoded data removed]",
      "text/plain": [
       "<Figure size 1000x500 with 2 Axes>"
      ]
     },
     "metadata": {},
     "output_type": "display_data"
    },
    {
     "data": {
      "image/png": "[encoded data removed]",
      "text/plain": [
       "<Figure size 1000x500 with 2 Axes>"
      ]
     },
     "metadata": {},
     "output_type": "display_data"
    },
    {
     "ename": "KeyboardInterrupt",
     "evalue": "",
     "output_type": "error",
     "traceback": [
      "\u001b[0;31m---------------------------------------------------------------------------\u001b[0m",
      "\u001b[0;31mKeyboardInterrupt\u001b[0m                         Traceback (most recent call last)",
      "Cell \u001b[0;32mIn[30], line 71\u001b[0m\n\u001b[1;32m     64\u001b[0m   plt\u001b[38;5;241m.\u001b[39mshow()\n\u001b[1;32m     68\u001b[0m \u001b[38;5;66;03m# env = envs.get_environment(env_name)\u001b[39;00m\n\u001b[1;32m     69\u001b[0m \u001b[38;5;66;03m# eval_env = envs.get_environment(env_eval)\u001b[39;00m\n\u001b[0;32m---> 71\u001b[0m make_inference_fn, params, _\u001b[38;5;241m=\u001b[39m \u001b[43mtrain_fn\u001b[49m\u001b[43m(\u001b[49m\u001b[43menvironment\u001b[49m\u001b[38;5;241;43m=\u001b[39;49m\u001b[43menv\u001b[49m\u001b[43m,\u001b[49m\n\u001b[1;32m     72\u001b[0m \u001b[43m                                       \u001b[49m\u001b[43mprogress_fn\u001b[49m\u001b[38;5;241;43m=\u001b[39;49m\u001b[43mprogress\u001b[49m\u001b[43m,\u001b[49m\n\u001b[1;32m     73\u001b[0m \u001b[43m                                       \u001b[49m\u001b[43meval_env\u001b[49m\u001b[38;5;241;43m=\u001b[39;49m\u001b[43menv_eval\u001b[49m\u001b[43m)\u001b[49m\n\u001b[1;32m     75\u001b[0m \u001b[38;5;28mprint\u001b[39m(\u001b[38;5;124mf\u001b[39m\u001b[38;5;124m'\u001b[39m\u001b[38;5;124mtime to jit: \u001b[39m\u001b[38;5;132;01m{\u001b[39;00mtimes[\u001b[38;5;241m1\u001b[39m]\u001b[38;5;250m \u001b[39m\u001b[38;5;241m-\u001b[39m\u001b[38;5;250m \u001b[39mtimes[\u001b[38;5;241m0\u001b[39m]\u001b[38;5;132;01m}\u001b[39;00m\u001b[38;5;124m'\u001b[39m)\n\u001b[1;32m     76\u001b[0m \u001b[38;5;28mprint\u001b[39m(\u001b[38;5;124mf\u001b[39m\u001b[38;5;124m'\u001b[39m\u001b[38;5;124mtime to train: \u001b[39m\u001b[38;5;132;01m{\u001b[39;00mtimes[\u001b[38;5;241m-\u001b[39m\u001b[38;5;241m1\u001b[39m]\u001b[38;5;250m \u001b[39m\u001b[38;5;241m-\u001b[39m\u001b[38;5;250m \u001b[39mtimes[\u001b[38;5;241m1\u001b[39m]\u001b[38;5;132;01m}\u001b[39;00m\u001b[38;5;124m'\u001b[39m)\n",
      "File \u001b[0;32m~/workspace/Physics-Based-RL/RLALG/agent_ppo.py:426\u001b[0m, in \u001b[0;36mtrain\u001b[0;34m(environment, num_timesteps, episode_length, action_repeat, num_envs, max_devices_per_host, num_eval_envs, learning_rate, entropy_cost, discounting, seed, unroll_length, batch_size, num_minibatches, num_updates_per_batch, num_evals, num_resets_per_eval, normalize_observations, reward_scaling, clipping_epsilon, gae_lambda, deterministic_eval, network_factory, progress_fn, normalize_advantage, eval_env, policy_params_fn, randomization_fn)\u001b[0m\n\u001b[1;32m    423\u001b[0m epoch_key, local_key \u001b[38;5;241m=\u001b[39m jax\u001b[38;5;241m.\u001b[39mrandom\u001b[38;5;241m.\u001b[39msplit(local_key)\n\u001b[1;32m    424\u001b[0m epoch_keys \u001b[38;5;241m=\u001b[39m jax\u001b[38;5;241m.\u001b[39mrandom\u001b[38;5;241m.\u001b[39msplit(epoch_key, local_devices_to_use)\n\u001b[1;32m    425\u001b[0m (training_state, env_state, training_metrics) \u001b[38;5;241m=\u001b[39m (\n\u001b[0;32m--> 426\u001b[0m     \u001b[43mtraining_epoch_with_timing\u001b[49m\u001b[43m(\u001b[49m\u001b[43mtraining_state\u001b[49m\u001b[43m,\u001b[49m\u001b[43m \u001b[49m\u001b[43menv_state\u001b[49m\u001b[43m,\u001b[49m\u001b[43m \u001b[49m\u001b[43mepoch_keys\u001b[49m\u001b[43m)\u001b[49m\n\u001b[1;32m    427\u001b[0m )\n\u001b[1;32m    428\u001b[0m current_step \u001b[38;5;241m=\u001b[39m \u001b[38;5;28mint\u001b[39m(_unpmap(training_state\u001b[38;5;241m.\u001b[39menv_steps))\n\u001b[1;32m    430\u001b[0m key_envs \u001b[38;5;241m=\u001b[39m jax\u001b[38;5;241m.\u001b[39mvmap(\n\u001b[1;32m    431\u001b[0m     \u001b[38;5;28;01mlambda\u001b[39;00m x, s: jax\u001b[38;5;241m.\u001b[39mrandom\u001b[38;5;241m.\u001b[39msplit(x[\u001b[38;5;241m0\u001b[39m], s),\n\u001b[1;32m    432\u001b[0m     in_axes\u001b[38;5;241m=\u001b[39m(\u001b[38;5;241m0\u001b[39m, \u001b[38;5;28;01mNone\u001b[39;00m))(key_envs, key_envs\u001b[38;5;241m.\u001b[39mshape[\u001b[38;5;241m1\u001b[39m])\n",
      "File \u001b[0;32m~/workspace/Physics-Based-RL/RLALG/agent_ppo.py:353\u001b[0m, in \u001b[0;36mtrain.<locals>.training_epoch_with_timing\u001b[0;34m(training_state, env_state, key)\u001b[0m\n\u001b[1;32m    351\u001b[0m t \u001b[38;5;241m=\u001b[39m time\u001b[38;5;241m.\u001b[39mtime()\n\u001b[1;32m    352\u001b[0m training_state, env_state \u001b[38;5;241m=\u001b[39m _strip_weak_type((training_state, env_state))\n\u001b[0;32m--> 353\u001b[0m result \u001b[38;5;241m=\u001b[39m \u001b[43mtraining_epoch\u001b[49m\u001b[43m(\u001b[49m\u001b[43mtraining_state\u001b[49m\u001b[43m,\u001b[49m\u001b[43m \u001b[49m\u001b[43menv_state\u001b[49m\u001b[43m,\u001b[49m\u001b[43m \u001b[49m\u001b[43mkey\u001b[49m\u001b[43m)\u001b[49m\n\u001b[1;32m    354\u001b[0m training_state, env_state, metrics \u001b[38;5;241m=\u001b[39m _strip_weak_type(result)\n\u001b[1;32m    356\u001b[0m metrics \u001b[38;5;241m=\u001b[39m jax\u001b[38;5;241m.\u001b[39mtree_util\u001b[38;5;241m.\u001b[39mtree_map(jnp\u001b[38;5;241m.\u001b[39mmean, metrics)\n",
      "File \u001b[0;32m~/anaconda3/envs/jaxMujoco/lib/python3.11/site-packages/flax/struct.py:137\u001b[0m, in \u001b[0;36mdataclass.<locals>.clz_from_iterable\u001b[0;34m(meta, data)\u001b[0m\n\u001b[1;32m    132\u001b[0m   data \u001b[38;5;241m=\u001b[39m \u001b[38;5;28mtuple\u001b[39m(\n\u001b[1;32m    133\u001b[0m     (jax\u001b[38;5;241m.\u001b[39mtree_util\u001b[38;5;241m.\u001b[39mGetAttrKey(name), \u001b[38;5;28mgetattr\u001b[39m(x, name)) \u001b[38;5;28;01mfor\u001b[39;00m name \u001b[38;5;129;01min\u001b[39;00m data_fields\n\u001b[1;32m    134\u001b[0m   )\n\u001b[1;32m    135\u001b[0m   \u001b[38;5;28;01mreturn\u001b[39;00m data, meta\n\u001b[0;32m--> 137\u001b[0m \u001b[38;5;28;01mdef\u001b[39;00m \u001b[38;5;21mclz_from_iterable\u001b[39m(meta, data):\n\u001b[1;32m    138\u001b[0m   meta_args \u001b[38;5;241m=\u001b[39m \u001b[38;5;28mtuple\u001b[39m(\u001b[38;5;28mzip\u001b[39m(meta_fields, meta))\n\u001b[1;32m    139\u001b[0m   data_args \u001b[38;5;241m=\u001b[39m \u001b[38;5;28mtuple\u001b[39m(\u001b[38;5;28mzip\u001b[39m(data_fields, data))\n",
      "\u001b[0;31mKeyboardInterrupt\u001b[0m: "
     ]
    }
   ],
   "source": [
    "\n",
    "\n",
    "\n",
    "\n",
    "# Adjusting parameters to ensure batch_size * num_minibatches is divisible by num_envs\n",
    "train_fn = functools.partial(\n",
    "    ppo.train,\n",
    "    num_timesteps=1000,  # Total timesteps for training\n",
    "    #num_timesteps=100_000_000,  # Total timesteps for training\n",
    "    num_evals=100,\n",
    "    num_eval_envs=num_eval_envs,\n",
    "    reward_scaling=1,\n",
    "    episode_length=episode_len,  # Ensure episode_len is defined\n",
    "    normalize_observations=normalize_observations,\n",
    "    action_repeat=1,\n",
    "    unroll_length=20,\n",
    "    num_minibatches=24,  # Adjusted number of minibatches\n",
    "    num_updates_per_batch=4,\n",
    "    discounting=0.97,  # Discount factor γ\n",
    "    learning_rate=lr,\n",
    "    entropy_cost=1e-2,\n",
    "    num_envs=256,  # Changed number of parallel environments to match batch size\n",
    "    batch_size=256,  # Adjusted batch size\n",
    "    network_factory=make_networks_factory,\n",
    "    seed=0  # Random seed for reproducibility\n",
    ")\n",
    "\n",
    "\n",
    "\n",
    "\n",
    "x_data = []\n",
    "y_data = []\n",
    "ydataerr = []\n",
    "y_pose_error = []  # to store pose error\n",
    "times = [datetime.now()]\n",
    "\n",
    "max_y_rewards, min_y_rewards = 1, -5\n",
    "\n",
    "def progress(num_steps, metrics):\n",
    "  times.append(datetime.now())\n",
    "  x_data.append(num_steps)\n",
    "  y_data.append(metrics['eval/episode_reward'])\n",
    "  ydataerr.append(metrics['eval/episode_reward_std'])\n",
    "  y_pose_error.append(metrics['eval/episode_pose_error'])  # capture pose error\n",
    "  \n",
    "  plt.figure(figsize=(10, 5))\n",
    "  plt.subplot(1, 2, 1) \n",
    "  plt.xlim([0, train_fn.keywords['num_timesteps']])\n",
    "  plt.ylim([max_y_rewards, min_y_rewards])\n",
    "\n",
    "  plt.xlabel('# environment steps')\n",
    "  plt.ylabel('reward per episode')\n",
    "  plt.title(f'Latest Reward: {y_data[-1]:.3f}')\n",
    "  plt.plot(x_data, y_data, '-o')\n",
    "  \n",
    "  plt.subplot(1, 2, 2)\n",
    "  plt.xlim([0, train_fn.keywords['num_timesteps'] * 1.25])\n",
    "  plt.ylim([min(y_pose_error) * 0.9, max(y_pose_error) * 1.1])\n",
    "  plt.xlabel('# Environment Steps')\n",
    "  plt.ylabel('Pose Error per Episode')\n",
    "  plt.title(f'Latest Pose Error: {y_pose_error[-1]:.3f}')\n",
    "  plt.plot(x_data, y_pose_error, '-o')\n",
    "  \n",
    "  \n",
    "  \n",
    "  \n",
    "  plt.tight_layout()\n",
    "  plt.show()\n",
    "  \n",
    "  \n",
    "\n",
    "# env = envs.get_environment(env_name)\n",
    "# eval_env = envs.get_environment(env_eval)\n",
    "\n",
    "make_inference_fn, params, _= train_fn(environment=env,\n",
    "                                       progress_fn=progress,\n",
    "                                       eval_env=env_eval)\n",
    "\n",
    "print(f'time to jit: {times[1] - times[0]}')\n",
    "print(f'time to train: {times[-1] - times[1]}')\n",
    "\n",
    "\n"
   ]
  },
  {
   "cell_type": "code",
   "execution_count": null,
   "metadata": {},
   "outputs": [],
   "source": [
    "import os\n",
    "\n",
    "# Create a directory if it does not exist\n",
    "os.makedirs('model_checkpoints', exist_ok=True)\n",
    "\n",
    "# Save in the subdirectory\n",
    "model_path = 'model_checkpoints/model_walk_policy'\n",
    "model.save_params(model_path, params)"
   ]
  },
  {
   "cell_type": "code",
   "execution_count": null,
   "metadata": {},
   "outputs": [],
   "source": [
    "params = model.load_params(model_path)\n",
    "\n",
    "inference_fn = make_inference_fn(params)\n",
    "jit_inference_fn = jax.jit(inference_fn)"
   ]
  },
  {
   "cell_type": "code",
   "execution_count": null,
   "metadata": {},
   "outputs": [],
   "source": [
    "params"
   ]
  },
  {
   "cell_type": "code",
   "execution_count": null,
   "metadata": {},
   "outputs": [],
   "source": [
    "# initialize the state\n",
    "rng = jax.random.PRNGKey(0)\n",
    "state = jit_reset(rng)\n",
    "rollout = [state.pipeline_state]\n",
    "\n",
    "# grab a trajectory\n",
    "n_steps = 500\n",
    "render_every = 2\n",
    "\n",
    "for i in range(n_steps):\n",
    "  act_rng, rng = jax.random.split(rng)\n",
    "  ctrl, _ = jit_inference_fn(state.obs, act_rng)\n",
    "  state = jit_step(state, ctrl)\n",
    "  rollout.append(state.pipeline_state)\n",
    "\n",
    "  if state.done:\n",
    "    break"
   ]
  },
  {
   "cell_type": "code",
   "execution_count": null,
   "metadata": {},
   "outputs": [],
   "source": [
    "HTML(html.render(env_eval.sys.replace(dt=env_eval.dt), rollout))"
   ]
  },
  {
   "cell_type": "code",
   "execution_count": null,
   "metadata": {},
   "outputs": [],
   "source": [
    "import numpy as np\n",
    "import jax.numpy as jnp\n",
    "\n",
    "# Convert rollout to a numpy array if it's not already (assumes it's convertible directly)\n",
    "rollout_array = np.array(rollout)\n",
    "os.makedirs('rollout_check', exist_ok=True)\n",
    "# Save the numpy array to a .npy file\n",
    "np.save('rollout_check/rollout_please.npy', rollout_array)"
   ]
  }
 ],
 "metadata": {
  "kernelspec": {
   "display_name": "Python 3 (ipykernel)",
   "language": "python",
   "name": "python3"
  },
  "language_info": {
   "codemirror_mode": {
    "name": "ipython",
    "version": 3
   },
   "file_extension": ".py",
   "mimetype": "text/x-python",
   "name": "python",
   "nbconvert_exporter": "python",
   "pygments_lexer": "ipython3",
   "version": "3.11.9"
  }
 },
 "nbformat": 4,
 "nbformat_minor": 4
}
