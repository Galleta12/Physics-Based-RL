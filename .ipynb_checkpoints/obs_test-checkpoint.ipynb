{
 "cells": [
  {
   "cell_type": "code",
   "execution_count": 1,
   "metadata": {},
   "outputs": [],
   "source": [
    "from datetime import datetime\n",
    "import functools\n",
    "from IPython.display import HTML\n",
    "import jax\n",
    "from jax import numpy as jp\n",
    "import numpy as np\n",
    "from typing import Any, Dict, Sequence, Tuple, Union\n",
    "from brax import base\n",
    "from brax import envs\n",
    "from brax import math\n",
    "from brax.base import Base, Motion, Transform\n",
    "from brax.envs.base import Env, PipelineEnv, State\n",
    "from brax.mjx.base import State as MjxState\n",
    "from brax.training.agents.apg import train as apg\n",
    "from brax.training.agents.apg import networks as apg_networks\n",
    "from brax.io import html, mjcf, model\n",
    "from etils import epath\n",
    "from flax import struct\n",
    "from matplotlib import pyplot as plt\n",
    "import mediapy as media\n",
    "from ml_collections import config_dict\n",
    "import mujoco\n",
    "from mujoco import mjx\n",
    "from jax import vmap\n",
    "import jax.random\n",
    "from jax import lax"
   ]
  },
  {
   "cell_type": "code",
   "execution_count": 2,
   "metadata": {},
   "outputs": [],
   "source": [
    "from utils.SimpleConverter import SimpleConverter\n",
    "from agent_mimic_env.agent_template import HumanoidTemplate\n",
    "from agent_mimic_env.agent_eval_template import HumanoidEvalTemplate\n",
    "from agent_mimic_env.agent_test_apg import HumanoidAPGTest\n",
    "from utils.util_data import *\n",
    "from copy import deepcopy"
   ]
  },
  {
   "cell_type": "code",
   "execution_count": 3,
   "metadata": {},
   "outputs": [],
   "source": [
    "import agent_mimic_env\n",
    "from agent_mimic_env import register_mimic_env\n"
   ]
  },
  {
   "cell_type": "code",
   "execution_count": 4,
   "metadata": {},
   "outputs": [
    {
     "name": "stdout",
     "output_type": "stream",
     "text": [
      "Setting environment variable to use GPU rendering:\n",
      "env: MUJOCO_GL=egl\n"
     ]
    }
   ],
   "source": [
    "\n",
    "import distutils.util\n",
    "import os\n",
    "xla_flags = os.environ.get('XLA_FLAGS', '')\n",
    "xla_flags += ' --xla_gpu_triton_gemm_any=True'\n",
    "os.environ['XLA_FLAGS'] = xla_flags\n",
    "print('Setting environment variable to use GPU rendering:')\n",
    "%env MUJOCO_GL=egl"
   ]
  },
  {
   "cell_type": "code",
   "execution_count": 5,
   "metadata": {},
   "outputs": [],
   "source": [
    "import os\n",
    "os.environ[\"XLA_PYTHON_CLIENT_MEM_FRACTION\"] = \"0.8\" # 0.9 causes too much lag. \n",
    "from datetime import datetime\n",
    "import functools\n",
    "\n",
    "# Math\n",
    "import jax.numpy as jp\n",
    "import numpy as np\n",
    "import jax\n",
    "from jax import config # Analytical gradients work much better with double precision.\n",
    "config.update(\"jax_debug_nans\", True)\n",
    "config.update(\"jax_enable_x64\", True)\n",
    "config.update('jax_default_matmul_precision', jax.lax.Precision.HIGH)\n",
    "from brax import math\n",
    "\n",
    "# Sim\n",
    "import mujoco\n",
    "import mujoco.mjx as mjx\n",
    "\n",
    "# Brax\n",
    "from brax import envs\n",
    "from brax.base import Motion, Transform\n",
    "from brax.io import mjcf\n",
    "from brax.envs.base import PipelineEnv, State\n",
    "from brax.mjx.pipeline import _reformat_contact\n",
    "from brax.training.acme import running_statistics\n",
    "from brax.io import model\n",
    "\n",
    "# Algorithms\n",
    "# from brax.training.agents.apg import train as apg\n",
    "# from brax.training.agents.apg import networks as apg_networks\n",
    "from brax.training.agents.ppo import train as ppo\n",
    "\n",
    "# Supporting\n",
    "from etils import epath\n",
    "import mediapy as media\n",
    "import matplotlib.pyplot as plt\n",
    "from ml_collections import config_dict\n",
    "from typing import Any, Dict"
   ]
  },
  {
   "cell_type": "code",
   "execution_count": 6,
   "metadata": {},
   "outputs": [
    {
     "name": "stdout",
     "output_type": "stream",
     "text": [
      "gpu\n"
     ]
    }
   ],
   "source": [
    "from jax.lib import xla_bridge\n",
    "print(xla_bridge.get_backend().platform)"
   ]
  },
  {
   "cell_type": "code",
   "execution_count": 7,
   "metadata": {},
   "outputs": [],
   "source": [
    "import yaml\n",
    "from box import Box\n",
    "# Path to your YAML file\n",
    "yaml_file_path = 'config_params/walk.yaml'\n",
    "# Load the YAML file\n",
    "with open(yaml_file_path, 'r') as file:\n",
    "    args = Box(yaml.safe_load(file))"
   ]
  },
  {
   "cell_type": "code",
   "execution_count": 8,
   "metadata": {},
   "outputs": [
    {
     "name": "stdout",
     "output_type": "stream",
     "text": [
      "{'num_envs': 256, 'num_eval_envs': 32, 'lr': 0.0003, 'max_it': 1000, 'max_grad_norm': 0.4, 'seed': 0, 'system_config': 'humanoid', 'demo_replay_mode': 'threshold', 'threshold': 0.4, 'normalize_observations': True, 'cycle_len': 195, 'ep_len': 39, 'ep_len_eval': 54, 'use_lr_scheduler': True, 'reward_scaling': 0.02, 'rot_weight': 0.5, 'vel_weight': 0.01, 'ang_weight': 0.01, 'deep_mimic_reward_weights': {'w_p': 0.3, 'w_v': 0.1, 'w_e': 0.5, 'w_c': 0.1}, 'deep_mimic_weights_factors': {'w_pose': 2, 'w_angular': 0.005, 'w_efector': 5, 'w_com': 100}, 'ref': 'motions/humanoid3d_walk_duplicated.txt'}\n"
     ]
    }
   ],
   "source": [
    "print(args)"
   ]
  },
  {
   "cell_type": "code",
   "execution_count": 9,
   "metadata": {},
   "outputs": [
    {
     "data": {
      "text/plain": [
       "0.3"
      ]
     },
     "execution_count": 9,
     "metadata": {},
     "output_type": "execute_result"
    }
   ],
   "source": [
    "args.deep_mimic_reward_weights.w_p"
   ]
  },
  {
   "cell_type": "code",
   "execution_count": 10,
   "metadata": {},
   "outputs": [],
   "source": [
    "from agent_mimic_env.pds_controllers_agents import feedback_pd_controller, stable_pd_controller_action\n"
   ]
  },
  {
   "cell_type": "code",
   "execution_count": 11,
   "metadata": {},
   "outputs": [
    {
     "name": "stdout",
     "output_type": "stream",
     "text": [
      "qpos init (195, 35)\n",
      "qvel init (195, 34)\n"
     ]
    }
   ],
   "source": [
    "env_replay,env_eval,env,env_apg=register_mimic_env(args)\n",
    "\n",
    "\n",
    "#for the env\n",
    "jit_reset = jax.jit(env.reset)\n",
    "#jit_step = jax.jit(env.step)\n",
    "jit_step_custom_env = jax.jit(env.step_custom)\n",
    "env.set_pd_callback(stable_pd_controller_action)\n",
    "\n",
    "\n",
    "# #for the eval\n",
    "jit_reset_eval = jax.jit(env_eval.reset)\n",
    "jit_step_custom_eval = jax.jit(env_eval.step_custom)\n",
    "env_eval.set_pd_callback(stable_pd_controller_action)\n",
    "\n",
    "#for the replay\n",
    "jit_reset_replay = jax.jit(env_replay.reset)\n",
    "jit_step_replay= jax.jit(env_replay.step)\n",
    "\n",
    "#for apg\n",
    "# jit_reset_apg = jax.jit(env_apg.reset)\n",
    "# jit_step_custom_apg= jax.jit(env_apg.step_custom)\n",
    "# env_apg.set_pd_callback(stable_pd_controller_action)\n",
    "\n",
    "\n",
    "\n"
   ]
  },
  {
   "cell_type": "code",
   "execution_count": 12,
   "metadata": {},
   "outputs": [
    {
     "name": "stdout",
     "output_type": "stream",
     "text": [
      "0.002\n",
      "0.016\n"
     ]
    }
   ],
   "source": [
    "print(env_eval.sys.opt.timestep)\n",
    "print(env_eval.dt)"
   ]
  },
  {
   "cell_type": "code",
   "execution_count": 13,
   "metadata": {},
   "outputs": [
    {
     "name": "stdout",
     "output_type": "stream",
     "text": [
      "195\n",
      "195\n",
      "0.5\n",
      "0.01\n",
      "0.01\n",
      "0.02\n",
      "0.016\n",
      "195\n",
      "195\n",
      "0.5\n",
      "0.01\n",
      "0.01\n",
      "0.02\n",
      "0.016\n",
      "0.016\n",
      "0.4\n"
     ]
    }
   ],
   "source": [
    "print(env_eval.rollout_lenght)\n",
    "print(env_eval.cycle_len)\n",
    "print(env_eval.rot_weight)\n",
    "print(env_eval.vel_weight)\n",
    "print(env_eval.ang_weight)\n",
    "print(env_eval.reward_scaling)\n",
    "print(env_eval.dt)\n",
    "# print(env_eval.sys.dt)\n",
    "\n",
    "print(env.rollout_lenght)\n",
    "print(env.cycle_len)\n",
    "print(env.rot_weight)\n",
    "print(env.vel_weight)\n",
    "print(env.ang_weight)\n",
    "print(env.reward_scaling)\n",
    "print(env.dt)\n",
    "print(env.dt)\n",
    "print(env.err_threshold)"
   ]
  },
  {
   "cell_type": "code",
   "execution_count": 14,
   "metadata": {},
   "outputs": [],
   "source": [
    "# initialize the state\n",
    "\n",
    "#for the replay\n",
    "state = jit_reset_replay(jax.random.PRNGKey(0))\n",
    "rollout = [state.pipeline_state]\n",
    "\n",
    "#for the eval\n",
    "# state = jit_reset_eval(jax.random.PRNGKey(0))\n",
    "# rollout = [state.pipeline_state]\n",
    "#for env\n",
    "# state = jit_reset(jax.random.PRNGKey(0))\n",
    "# rollout = [state.pipeline_state]\n",
    "\n",
    "#for apg test\n",
    "# state = jit_reset_apg(jax.random.PRNGKey(0))\n",
    "# rollout = [state.pipeline_state]\n",
    "\n",
    "# grab a 500 steps\n",
    "n_steps = 500"
   ]
  },
  {
   "cell_type": "code",
   "execution_count": 15,
   "metadata": {},
   "outputs": [
    {
     "name": "stdout",
     "output_type": "stream",
     "text": [
      "{'fall': Array(0., dtype=float64), 'pose_error': Array(0., dtype=float64), 'reference_angular': Array(0., dtype=float64, weak_type=True), 'reference_position': Array(0., dtype=float64, weak_type=True), 'reference_rotation': Array(0., dtype=float64, weak_type=True), 'reference_velocity': Array(0., dtype=float64, weak_type=True), 'step_index': Array(0, dtype=int64, weak_type=True)}\n",
      "{'reward_tuple': {'reference_angular': Array(0., dtype=float64, weak_type=True), 'reference_position': Array(0., dtype=float64, weak_type=True), 'reference_rotation': Array(0., dtype=float64, weak_type=True), 'reference_velocity': Array(0., dtype=float64, weak_type=True)}, 'rng': Array([0, 0], dtype=uint32), 'steps': Array(0., dtype=float64, weak_type=True)}\n"
     ]
    }
   ],
   "source": [
    "print(state.metrics)\n",
    "print(state.info)"
   ]
  },
  {
   "cell_type": "code",
   "execution_count": 16,
   "metadata": {},
   "outputs": [
    {
     "data": {
      "text/plain": [
       "0"
      ]
     },
     "execution_count": 16,
     "metadata": {},
     "output_type": "execute_result"
    }
   ],
   "source": [
    "id = 64 + 1\n",
    "\n",
    "id =id % 65\n",
    "id\n",
    "# cy = (66%65)\n",
    "# cy"
   ]
  },
  {
   "cell_type": "code",
   "execution_count": 17,
   "metadata": {},
   "outputs": [
    {
     "name": "stdout",
     "output_type": "stream",
     "text": [
      "is step 1\n",
      "is step 2\n",
      "is step 3\n",
      "is step 4\n",
      "is step 5\n",
      "is step 6\n",
      "is step 7\n",
      "is step 8\n",
      "is step 9\n",
      "is step 10\n",
      "is step 11\n",
      "is step 12\n",
      "is step 13\n",
      "is step 14\n",
      "is step 15\n",
      "is step 16\n",
      "is step 17\n",
      "is step 18\n",
      "is step 19\n",
      "is step 20\n",
      "is step 21\n",
      "is step 22\n",
      "is step 23\n",
      "is step 24\n",
      "is step 25\n",
      "is step 26\n",
      "is step 27\n",
      "is step 28\n",
      "is step 29\n",
      "is step 30\n",
      "is step 31\n",
      "is step 32\n",
      "is step 33\n",
      "is step 34\n",
      "is step 35\n",
      "is step 36\n",
      "is step 37\n",
      "is step 38\n",
      "is step 39\n",
      "is step 40\n",
      "is step 41\n",
      "is step 42\n",
      "is step 43\n",
      "is step 44\n",
      "is step 45\n",
      "is step 46\n",
      "is step 47\n",
      "is step 48\n",
      "is step 49\n",
      "is step 50\n",
      "is step 51\n",
      "is step 52\n",
      "is step 53\n",
      "is step 54\n",
      "is step 55\n",
      "is step 56\n",
      "is step 57\n",
      "is step 58\n",
      "is step 59\n",
      "is step 60\n",
      "is step 61\n",
      "is step 62\n",
      "is step 63\n",
      "is step 64\n",
      "is step 65\n",
      "is step 66\n",
      "is step 67\n",
      "is step 68\n",
      "is step 69\n",
      "is step 70\n",
      "is step 71\n",
      "is step 72\n",
      "is step 73\n",
      "is step 74\n",
      "is step 75\n",
      "is step 76\n",
      "is step 77\n",
      "is step 78\n",
      "is step 79\n",
      "is step 80\n",
      "is step 81\n",
      "is step 82\n",
      "is step 83\n",
      "is step 84\n",
      "is step 85\n",
      "is step 86\n",
      "is step 87\n",
      "is step 88\n",
      "is step 89\n",
      "is step 90\n",
      "is step 91\n",
      "is step 92\n",
      "is step 93\n",
      "is step 94\n",
      "is step 95\n",
      "is step 96\n",
      "is step 97\n",
      "is step 98\n",
      "is step 99\n",
      "is step 100\n",
      "is step 101\n",
      "is step 102\n",
      "is step 103\n",
      "is step 104\n",
      "is step 105\n",
      "is step 106\n",
      "is step 107\n",
      "is step 108\n",
      "is step 109\n",
      "is step 110\n",
      "is step 111\n",
      "is step 112\n",
      "is step 113\n",
      "is step 114\n",
      "is step 115\n",
      "is step 116\n",
      "is step 117\n",
      "is step 118\n",
      "is step 119\n",
      "is step 120\n",
      "is step 121\n",
      "is step 122\n",
      "is step 123\n",
      "is step 124\n",
      "is step 125\n",
      "is step 126\n",
      "is step 127\n",
      "is step 128\n",
      "is step 129\n",
      "is step 130\n",
      "is step 131\n",
      "is step 132\n",
      "is step 133\n",
      "is step 134\n",
      "is step 135\n",
      "is step 136\n",
      "is step 137\n",
      "is step 138\n",
      "is step 139\n",
      "is step 140\n",
      "is step 141\n",
      "is step 142\n",
      "is step 143\n",
      "is step 144\n",
      "is step 145\n",
      "is step 146\n",
      "is step 147\n",
      "is step 148\n",
      "is step 149\n",
      "is step 150\n",
      "is step 151\n",
      "is step 152\n",
      "is step 153\n",
      "is step 154\n",
      "is step 155\n",
      "is step 156\n",
      "is step 157\n",
      "is step 158\n",
      "is step 159\n",
      "is step 160\n",
      "is step 161\n",
      "is step 162\n",
      "is step 163\n",
      "is step 164\n",
      "is step 165\n",
      "is step 166\n",
      "is step 167\n",
      "is step 168\n",
      "is step 169\n",
      "is step 170\n",
      "is step 171\n",
      "is step 172\n",
      "is step 173\n",
      "is step 174\n",
      "is step 175\n",
      "is step 176\n",
      "is step 177\n",
      "is step 178\n",
      "is step 179\n",
      "is step 180\n",
      "is step 181\n",
      "is step 182\n",
      "is step 183\n",
      "is step 184\n",
      "is step 185\n",
      "is step 186\n",
      "is step 187\n",
      "is step 188\n",
      "is step 189\n",
      "is step 190\n",
      "is step 191\n",
      "is step 192\n",
      "is step 193\n",
      "is step 194\n"
     ]
    }
   ],
   "source": [
    "for i in range(env_replay.cycle_len-1):\n",
    "    \n",
    "    #print(i)\n",
    "    #ctrl = -0.1 * jp.ones(env_eval.sys.nu)\n",
    "    #ctrl = -0.1 * jp.ones(env.sys.nu)\n",
    "    ctrl = -0.1 * jp.ones(env_replay.sys.nu)\n",
    "    #ctrl = -0.1 * jp.ones(env_apg.sys.nu)\n",
    "    #time\n",
    "    #time = state.pipeline_state.time\n",
    "    \n",
    "    #print('time: ',state.pipeline_state.time)    \n",
    "         \n",
    "    state = jit_step_replay(state, ctrl)\n",
    "    #state = jit_step_custom_eval(state, ctrl)\n",
    "    #state = jit_step(state, ctrl)\n",
    "    #state = jit_step_custom_env(state,ctrl)\n",
    "    #state = jit_step_custom_apg(state,ctrl)\n",
    "    \n",
    "    #print(state.pipeline_state.geom_xpos)\n",
    "    #if state.done:\n",
    "     #   print(time)\n",
    "      #  break\n",
    "    #print(\"Is done\", state.done)\n",
    "    # print(\"Is rewards\", state.reward)\n",
    "    print('is step', state.metrics['step_index'])\n",
    "    #print(\"reward tuple\", state.info['reward_tuple'])\n",
    "    # print(\"Is \", state.metrics['pose_error'])\n",
    "    \n",
    "    rollout.append(state.pipeline_state)"
   ]
  },
  {
   "cell_type": "code",
   "execution_count": 18,
   "metadata": {},
   "outputs": [],
   "source": [
    "from some_math.quaternion_diff import *"
   ]
  },
  {
   "cell_type": "code",
   "execution_count": 19,
   "metadata": {},
   "outputs": [
    {
     "name": "stdout",
     "output_type": "stream",
     "text": [
      "[[ 0.00000000e+00  0.00000000e+00  0.00000000e+00]\n",
      " [ 6.20090570e+00 -1.59753636e-03  9.17060086e-01]\n",
      " [ 6.23262037e+00 -6.46088548e-03  1.20139818e+00]\n",
      " [ 6.26244145e+00 -8.95108268e-03  1.47868209e+00]\n",
      " [ 6.19138362e+00 -2.22853758e-01  1.19757965e+00]\n",
      " [ 6.10929672e+00 -2.82049935e-01  9.64719533e-01]\n",
      " [ 6.07610463e+00 -3.16459124e-01  8.34256659e-01]\n",
      " [ 6.22300922e+00  2.18574503e-01  1.20201332e+00]\n",
      " [ 6.32704048e+00  2.72369877e-01  9.88154886e-01]\n",
      " [ 6.41894919e+00  2.81096666e-01  8.84314135e-01]\n",
      " [ 6.28964892e+00 -9.10024563e-02  6.53397154e-01]\n",
      " [ 6.41492240e+00 -1.02829318e-01  2.64580211e-01]\n",
      " [ 6.50260983e+00 -1.09762609e-01  4.37442467e-02]\n",
      " [ 6.13159279e+00  8.43163728e-02  6.47011893e-01]\n",
      " [ 5.96795246e+00  6.77869378e-02  2.76887902e-01]\n",
      " [ 5.88630560e+00  5.20817792e-02  6.81942568e-02]]\n"
     ]
    }
   ],
   "source": [
    "#6 right writs 9 left writs 12 right ankle, 15 left ankle\n",
    "\n",
    "print(state.pipeline_state.geom_xpos)\n",
    "\n",
    "\n",
    "#index 16"
   ]
  },
  {
   "cell_type": "code",
   "execution_count": 20,
   "metadata": {},
   "outputs": [
    {
     "data": {
      "text/html": [
       "<!DOCTYPE html>\n",
       "<html>\n",
       "\n",
       "  <head>\n",
       "    <title>Brax visualizer</title>\n",
       "    <link rel=\"shortcut icon\" type=\"image/x-icon\" href=\"/favicon.ico\">\n",
       "  </head>\n",
       "\n",
       "  <style>\n",
       "    body {\n",
       "      margin: 0;\n",
       "      padding: 0;\n",
       "    }\n",
       "\n",
       "    #brax-viewer {\n",
       "      height: 480px;\n",
       "      margin: 0;\n",
       "      padding: 0;\n",
       "    }\n",
       "  </style>\n",
       "  <script async src=\"https://unpkg.com/es-module-shims@1.6.3/dist/es-module-shims.js\"></script>\n",
       "\n",
       "  <script type=\"importmap\">\n",
       "    {\n",
       "      \"imports\": {\n",
       "        \"three\": \"https://unpkg.com/three@0.150.1/build/three.module.js\",\n",
       "        \"three/addons/\": \"https://unpkg.com/three@0.150.1/examples/jsm/\",\n",
       "        \"lilgui\": \"https://cdn.jsdelivr.net/npm/lil-gui@0.18.0/+esm\",\n",
       "        \"viewer\": \"https://cdn.jsdelivr.net/gh/google/brax@v0.10.4/brax/visualizer/js/viewer.js\"\n",
       "      }\n",
       "    }\n",
       "  </script>\n",
       "\n",
       "  <script src=\"https://unpkg.com/pako@2.1.0/dist/pako.min.js\"></script>\n",
       "\n",
       "  <script type=\"application/javascript\">\n",
       "  var system = \"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\";\n",
       "  // decode base64 (convert ascii to binary)\n",
       "  system = atob(system);\n",
       "  // convert binary string to character-number array\n",
       "  system = system.split('').map(function(x){return x.charCodeAt(0);});\n",
       "  // decompress\n",
       "  system = pako.inflate(system);\n",
       "  // convert gunzipped byteArray back to ascii string\n",
       "  system = new TextDecoder(\"utf-8\").decode(system);\n",
       "  // and load json\n",
       "  system = JSON.parse(system);\n",
       "  </script>\n",
       "\n",
       "  <body>\n",
       "\n",
       "    <div id=\"brax-viewer\"></div>\n",
       "\n",
       "    <script type=\"module\">\n",
       "      import {Viewer} from 'viewer';\n",
       "      const domElement = document.getElementById(\"brax-viewer\");\n",
       "      var viewer = new Viewer(domElement, system);\n",
       "    </script>\n",
       "\n",
       "  </body>\n",
       "\n",
       "</html>"
      ],
      "text/plain": [
       "<IPython.core.display.HTML object>"
      ]
     },
     "execution_count": 20,
     "metadata": {},
     "output_type": "execute_result"
    }
   ],
   "source": [
    "HTML(html.render(env_replay.sys.tree_replace({'opt.timestep': env_replay.dt}), rollout))\n",
    "#HTML(html.render(env_eval.sys.tree_replace({'opt.timestep': env_eval.dt}), rollout))\n",
    "#HTML(html.render(env.sys.tree_replace({'opt.timestep': env.dt}), rollout))\n",
    "#HTML(html.render(env_apg.sys.tree_replace({'opt.timestep': env_apg.dt}), rollout))\n"
   ]
  },
  {
   "cell_type": "code",
   "execution_count": null,
   "metadata": {},
   "outputs": [],
   "source": []
  }
 ],
 "metadata": {
  "kernelspec": {
   "display_name": "Python 3 (ipykernel)",
   "language": "python",
   "name": "python3"
  },
  "language_info": {
   "codemirror_mode": {
    "name": "ipython",
    "version": 3
   },
   "file_extension": ".py",
   "mimetype": "text/x-python",
   "name": "python",
   "nbconvert_exporter": "python",
   "pygments_lexer": "ipython3",
   "version": "3.11.9"
  }
 },
 "nbformat": 4,
 "nbformat_minor": 4
}
