{
 "cells": [
  {
   "cell_type": "code",
   "execution_count": 1,
   "metadata": {},
   "outputs": [],
   "source": [
    "import agents_env\n",
    "from agents_env.agent_mimic_eval import HumanoidEnvTrainEval\n",
    "from agents_env.agent_mimic_train import HumanoidEnvTrain\n",
    "from utils.SimpleConverter import SimpleConverter\n",
    "from utils.util_data import *\n",
    "from copy import deepcopy"
   ]
  },
  {
   "cell_type": "code",
   "execution_count": 2,
   "metadata": {},
   "outputs": [],
   "source": [
    "from datetime import datetime\n",
    "import functools\n",
    "from IPython.display import HTML\n",
    "import jax\n",
    "from jax import numpy as jp\n",
    "import numpy as np\n",
    "from typing import Any, Dict, Sequence, Tuple, Union\n",
    "from brax import base\n",
    "from brax import envs\n",
    "from brax import math\n",
    "from brax.base import Base, Motion, Transform\n",
    "from brax.envs.base import Env, PipelineEnv, State\n",
    "from brax.mjx.base import State as MjxState\n",
    "from brax.training.agents.apg import train as apg\n",
    "from brax.training.agents.apg import networks as apg_networks\n",
    "from brax.io import html, mjcf, model\n",
    "from etils import epath\n",
    "from flax import struct\n",
    "from matplotlib import pyplot as plt\n",
    "import mediapy as media\n",
    "from ml_collections import config_dict\n",
    "import mujoco\n",
    "from mujoco import mjx\n",
    "from jax import vmap\n",
    "import jax.random\n",
    "from jax import lax"
   ]
  },
  {
   "cell_type": "code",
   "execution_count": 3,
   "metadata": {},
   "outputs": [
    {
     "name": "stdout",
     "output_type": "stream",
     "text": [
      "Setting environment variable to use GPU rendering:\n",
      "env: MUJOCO_GL=egl\n"
     ]
    }
   ],
   "source": [
    "\n",
    "import distutils.util\n",
    "import os\n",
    "xla_flags = os.environ.get('XLA_FLAGS', '')\n",
    "xla_flags += ' --xla_gpu_triton_gemm_any=True'\n",
    "os.environ['XLA_FLAGS'] = xla_flags\n",
    "print('Setting environment variable to use GPU rendering:')\n",
    "%env MUJOCO_GL=egl\n"
   ]
  },
  {
   "cell_type": "code",
   "execution_count": 4,
   "metadata": {},
   "outputs": [],
   "source": [
    "#this is just dummy data to initialize the agent\n",
    "trajectory = SimpleConverter('motions/humanoid3d_punch.txt')\n",
    "trajectory.load_mocap()\n",
    "model_path = 'models/final_humanoid_no_gravity.xml'\n",
    "\n",
    "\n",
    "\n",
    "data_pos_mocap = move_only_arm(jp.asarray(trajectory.data_pos))\n",
    "data_vel_mocap =  move_only_arm_vel(jp.asarray(trajectory.data_vel))\n",
    "\n",
    "data_dict_mocap = trajectory.duration_dict\n",
    "\n",
    "data_xpos_mocap=jp.asarray(trajectory.data_xpos)\n",
    "data_xrot_mocap=jp.asarray(trajectory.data_xrot)"
   ]
  },
  {
   "cell_type": "code",
   "execution_count": 5,
   "metadata": {},
   "outputs": [
    {
     "name": "stdout",
     "output_type": "stream",
     "text": [
      "[1000 1000 1000  100  100  100  400  400  400  300  400  400  400  300\n",
      "  500  500  500  500  400  400  400  500  500  500  500  400  400  400]\n",
      "[100 100 100  10  10  10  40  40  40  30  40  40  40  30  50  50  50  50\n",
      "  40  40  40  50  50  50  50  40  40  40]\n"
     ]
    }
   ],
   "source": [
    "#get th kp and kd for the agent\n",
    "kp,kd = generate_kp_kd_gains()\n",
    "print(kp)\n",
    "print(kd)"
   ]
  },
  {
   "cell_type": "code",
   "execution_count": 6,
   "metadata": {},
   "outputs": [],
   "source": [
    "envs.register_environment('humanoidEnvMimicEval',HumanoidEnvTrainEval)\n",
    "env_name_eval = 'humanoidEnvMimicEval'\n",
    "env = envs.get_environment(env_name=env_name_eval,\n",
    "                           reference_trajectory_qpos=data_pos_mocap,\n",
    "                           reference_trajectory_qvel = data_vel_mocap,\n",
    "                            duration_trajectory=trajectory.total_time,\n",
    "                            dict_duration= data_dict_mocap,\n",
    "                           model_path=model_path,\n",
    "                           kp_gains = kp,\n",
    "                           kd_gains = kd,\n",
    "                           reference_x_pos=data_xpos_mocap,\n",
    "                           reference_x_rot=data_xrot_mocap)\n",
    "jit_reset = jax.jit(env.reset)\n",
    "jit_step = jax.jit(env.step)\n",
    "\n",
    "\n",
    "#select the pd_control\n",
    "from agents_env.pds_controllers_agents import stable_pd_controller_custom_trajectory, stable_pd_controller_trajectory,feedback_pd_controller\n",
    "#env.set_pd_callback(stable_pd_controller_custom_trajectory)\n",
    "env.set_pd_callback(feedback_pd_controller)"
   ]
  }
 ],
 "metadata": {
  "kernelspec": {
   "display_name": "jaxMujoco",
   "language": "python",
   "name": "python3"
  },
  "language_info": {
   "codemirror_mode": {
    "name": "ipython",
    "version": 3
   },
   "file_extension": ".py",
   "mimetype": "text/x-python",
   "name": "python",
   "nbconvert_exporter": "python",
   "pygments_lexer": "ipython3",
   "version": "3.11.9"
  }
 },
 "nbformat": 4,
 "nbformat_minor": 2
}
